{
 "cells": [
  {
   "cell_type": "markdown",
   "id": "999863b8-0611-4f37-a4ff-9bf091487b69",
   "metadata": {},
   "source": [
    "<h3><strong>(F2) Apples: Outliers</strong></h3>\n",
    "<div>\n",
    "  <div>\n",
    "    <p>You are given a dataset of apples - apple_quality.csv - same that was used in F1<span>. The data is already loaded to the console and available as </span><code>apple_quality</code> dataframe. The dataset contains a list of apples characterised by standardized numeric parameters on a variety of qualities - sweetness, ripeness, juiciness etc.</p>\n",
    "    <p>Using the dataset, you are asked to perform the following task:</p>\n",
    "    <p><span>A commonly used rule says that a data point is an outlier if its value is:</span></p>\n",
    "    <ul>\n",
    "      <li><span>Larger than <span class=\"cg-latex\">$$Q3 + 1.5 * IQR$$</span><br></span><span>or </span></li>\n",
    "      <li><span>Smaller than <span class=\"cg-latex\">$$Q1 − 1.5 * IQR$$</span><br></span><span>where:</span></li>\n",
    "      <li><span><span class=\"cg-latex\">$$Q1 $$</span> is the 25th percentile in the data distribution, </span></li>\n",
    "      <li><span><span class=\"cg-latex\">$$Q3 $$</span> is the 75th percentile in the data distribution,</span></li>\n",
    "      <li><span>and IQR is defined as: <span class=\"cg-latex\">$$IQR = Q3 - Q1$$</span> </span><span></span></li>\n",
    "    </ul>\n",
    "    <div>Using the dataset and this definition, you are asked to to find the outliers in the following columns:</div>\n",
    "    <ul>\n",
    "      <li><span>Juiciness</span><span> </span></li>\n",
    "      <li><span>Ripeness</span><span> </span></li>\n",
    "      <li><span>Crunchiness </span><span></span><span></span></li>\n",
    "    </ul>\n",
    "    <div><span><span>For that, you need to write a function </span></span><code><span>find_outlier_apples(apples_df)</span></code><span> which finds the outliers in the above columns and <strong>returns the list of </strong></span><span><strong>IDs</strong> belonging to outliers from the listed columns.</span></div>\n",
    "    <ul>\n",
    "      <li><span>Return <strong>a sorted list of unique </strong><code>Apple_IDs</code> (ascending)</span></li>\n",
    "      <li><span>If an apple is an outlier <strong>in any of the 3 </strong>columns, it's <code>Apple_IDs</code> should be in the list.</span></li>\n",
    "    </ul>\n",
    "    <h5>&nbsp;</h5>\n",
    "    <h5>Reminder: You must select 2 out of 3 questions in programming section: D, E and F, and answer both selected questions as fully as possible (for example, if you choose D and F, you should answer questions D1, D2, D3 and F1, F2, F3).</h5>\n",
    "  </div>\n",
    "</div>"
   ]
  },
  {
   "cell_type": "code",
   "execution_count": null,
   "id": "15bc36a2-b2b4-4cf8-8507-f85eefe4286a",
   "metadata": {},
   "outputs": [],
   "source": [
    "### Initial candidate answer code"
   ]
  },
  {
   "cell_type": "code",
   "execution_count": null,
   "id": "525d8fb8-01a5-459d-9bf9-abf64e7fe531",
   "metadata": {},
   "outputs": [],
   "source": [
    "# Use print(\"messages...\") to debug your solution.\n",
    "import pandas as pd\n",
    "\n",
    "def find_outlier_apples(apple_quality: pd.DataFrame) -> list[int]: \n",
    "     # your code goes here\n",
    "    return []"
   ]
  },
  {
   "cell_type": "code",
   "execution_count": null,
   "id": "7635cd2a-8a28-465e-9b71-60b999c7ab2b",
   "metadata": {},
   "outputs": [],
   "source": [
    "### Initial candidate test code"
   ]
  },
  {
   "cell_type": "code",
   "execution_count": null,
   "id": "31e874a7-4625-4b16-aa94-8400ec25056d",
   "metadata": {},
   "outputs": [],
   "source": [
    "\"\"\"In this section you can explore the data, experiment and test your code.\n",
    "\n",
    "The function \"find_outlier_apples\" is already imported into the environment.\n",
    "\n",
    "The variable PATH_TO_APPLE_QUALITY_CSV store the path of 'apples_quality.csv' file.\n",
    "\"\"\"\n",
    "\n",
    "# imports\n",
    "import pandas as pd\n",
    "\n",
    "PATH_TO_APPLE_QUALITY_CSV = './datasets/F2/apple_quality.csv'\n",
    "\n",
    "# load and print the \"apple_quality\" dataset\n",
    "apples_df = pd.read_csv(PATH_TO_APPLE_QUALITY_CSV, sep=\",\")\n",
    "print(apples_df.head())\n",
    "\n",
    "outliers = find_outlier_apples(apples_df)\n",
    "assert isinstance(outliers, list), 'The returned type should be list'\n",
    "print(outliers)"
   ]
  },
  {
   "cell_type": "code",
   "execution_count": null,
   "id": "1df91cca-0fe4-4bf3-85c4-5117a4a8fbb5",
   "metadata": {},
   "outputs": [],
   "source": [
    "### Autograder part (hidden from the candidate)"
   ]
  },
  {
   "cell_type": "code",
   "execution_count": null,
   "id": "0943b764-879b-4614-b472-772512ac4acb",
   "metadata": {},
   "outputs": [],
   "source": [
    "a = pd.read_csv('./datasets/F2/tests/outliers.csv').squeeze().to_list()\n",
    "assert outliers == a"
   ]
  }
 ],
 "metadata": {
  "kernelspec": {
   "display_name": "Python 3",
   "language": "python",
   "name": "python3"
  },
  "language_info": {
   "codemirror_mode": {
    "name": "ipython",
    "version": 3
   },
   "file_extension": ".py",
   "mimetype": "text/x-python",
   "name": "python",
   "nbconvert_exporter": "python",
   "pygments_lexer": "ipython3",
   "version": "3.8.8"
  }
 },
 "nbformat": 4,
 "nbformat_minor": 5
}
