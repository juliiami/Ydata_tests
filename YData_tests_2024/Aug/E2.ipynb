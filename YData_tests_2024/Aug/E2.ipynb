{
 "cells": [
  {
   "cell_type": "markdown",
   "id": "999863b8-0611-4f37-a4ff-9bf091487b69",
   "metadata": {},
   "source": [
    "<h3><strong>(E2) Books: Calculate Rating</strong></h3>\n",
    "<div>&nbsp;</div>\n",
    "<div><span>You are provided with a dataset of books alongside details on their publication and reviews - <em>books.csv</em> (same as was used for E1)</span><span>. The data is already loaded to the console and available as </span><code>books_df</code></div>\n",
    "<div><span>Perform the following actions on the dataset:</span></div>\n",
    "<div>&nbsp;</div>\n",
    "<div>\n",
    "  <ul>\n",
    "    <li aria-level=\"3\"><span>Calculate a new variable <code>weighted_rating</code>&nbsp;based on the average rating modified by popularity in the following way:</span></li>\n",
    "  </ul>\n",
    "  <ul>\n",
    "    <li style=\"list-style-type: none;\">\n",
    "      <ul>\n",
    "        <li aria-level=\"4\"><span>Rating popularity factor (<strong>RPF</strong>): </span><span><br></span><code><span>if ratings_count &lt; 500 RPF = 0.8</span><span><br></span><span>if ratings_count &gt; 5000 RPF = 1.2</span><span><br></span><span>else RPF = 1</span></code></li>\n",
    "        <li aria-level=\"4\"><span>Text popularity factor (<strong>TPF</strong>):</span><span><br></span><code><span>if text_reviews_count &lt; 20 TPF = 0.75</span><span><br></span><span>if text_reviews_count &gt; 200 TPF = 1.25</span><span><br></span><span>else TPF = 1</span></code></li>\n",
    "        <li aria-level=\"4\"><code><span>weighted_rating = average_rating * RPF * TPF</span></code></li>\n",
    "      </ul>\n",
    "    </li>\n",
    "    <li aria-level=\"4\"><span>Write two functions:</span>\n",
    "      <ul>\n",
    "        <li aria-level=\"4\"><span>Function <code>calculate_weighted_rating(df)</code> that calculates and adds <code>weighted_rating</code> column to the dataset; </span>\n",
    "          <ul>\n",
    "            <li aria-level=\"4\"><span>round the values in <code>weighted_rating</code> column to <strong>4</strong>&nbsp;decimal digits<br></span></li>\n",
    "          </ul>\n",
    "        </li>\n",
    "        <li aria-level=\"4\"><span>Function </span><code>get_book_rating(df, ISBN)</code> that g<span>iven a title’s ISBN number calculates and returns the <code>weighted_rating</code> for that title</span></li>\n",
    "      </ul>\n",
    "    </li>\n",
    "  </ul>\n",
    "</div>\n",
    "<div>\n",
    "  <div>\n",
    "    <div>\n",
    "      <div>\n",
    "        <div>\n",
    "          <h5><span><strong>Reminder</strong>: You must select<strong> 2 out of 3 </strong>questions in programming section: D, E and F, and answer both selected questions as fully as possible (for example, if you choose D and F, you should answer questions D1, D2, D3 and F1, F2, F3).</span></h5>\n",
    "        </div>\n",
    "      </div>\n",
    "    </div>\n",
    "  </div>\n",
    "</div>"
   ]
  },
  {
   "cell_type": "code",
   "execution_count": null,
   "id": "15bc36a2-b2b4-4cf8-8507-f85eefe4286a",
   "metadata": {},
   "outputs": [],
   "source": [
    "### Initial candidate answer code"
   ]
  },
  {
   "cell_type": "code",
   "execution_count": null,
   "id": "525d8fb8-01a5-459d-9bf9-abf64e7fe531",
   "metadata": {},
   "outputs": [],
   "source": [
    "# Use print(\"messages...\") to debug your solution.\n",
    "import pandas as pd\n",
    "\n",
    "def calculate_weighted_rating(books_df: pd.DataFrame) -> pd.DataFrame:\n",
    "    # your code goes here\n",
    "    return books_df\n",
    "\n",
    "def get_book_rating(books_df: pd.DataFrame, isbn_num: str) -> float:\n",
    "    # your code goes here\n",
    "    return 0"
   ]
  },
  {
   "cell_type": "code",
   "execution_count": null,
   "id": "7635cd2a-8a28-465e-9b71-60b999c7ab2b",
   "metadata": {},
   "outputs": [],
   "source": [
    "### Initial candidate test code"
   ]
  },
  {
   "cell_type": "code",
   "execution_count": null,
   "id": "31e874a7-4625-4b16-aa94-8400ec25056d",
   "metadata": {},
   "outputs": [],
   "source": [
    "\"\"\"In this section you can explore the data, experiment and test your code.\n",
    "\n",
    "The functions \"calculate_weighted_rating\" and \"get_book_rating\" \n",
    "are already imported into the environment.\n",
    "\n",
    "The variable PATH_TO_BOOKS_CSV store the path of 'books.csv' file.\n",
    "\"\"\"\n",
    "\n",
    "# imports\n",
    "import pandas as pd\n",
    "\n",
    "PATH_TO_BOOKS_CSV = './datasets/E2/books.csv'\n",
    "\n",
    "# load and print the \"books\" dataset\n",
    "books_df = pd.read_csv(PATH_TO_BOOKS_CSV, sep=\",\")\n",
    "print(books_df.head())\n",
    "\n",
    "# print the outputs of the functions\n",
    "books_df = calculate_weighted_rating(books_df)\n",
    "assert 'weighted_rating' in books_df.columns, \"Column 'weighted_rating' was not added to the DataFrame\"\n",
    "print(books_df.head())\n",
    "\n",
    "print(round(get_book_rating(books_df, '439785960'), 3))  # expected result: 6.855\n",
    "print(round(get_book_rating(books_df, '043965548X'), 3))  # expected result: 6.840\n",
    "print(round(get_book_rating(books_df, '976540606'), 3))  # expected result: 2.244\n",
    "print(round(get_book_rating(books_df, '517226952'), 3))  # expected result: 5.745\n"
   ]
  }
 ],
 "metadata": {
  "kernelspec": {
   "display_name": "Python 3",
   "language": "python",
   "name": "python3"
  },
  "language_info": {
   "codemirror_mode": {
    "name": "ipython",
    "version": 3
   },
   "file_extension": ".py",
   "mimetype": "text/x-python",
   "name": "python",
   "nbconvert_exporter": "python",
   "pygments_lexer": "ipython3",
   "version": "3.8.8"
  }
 },
 "nbformat": 4,
 "nbformat_minor": 5
}
