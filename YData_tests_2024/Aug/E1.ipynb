{
 "cells": [
  {
   "cell_type": "markdown",
   "id": "999863b8-0611-4f37-a4ff-9bf091487b69",
   "metadata": {},
   "source": [
    "<h3>(E1) Books: Publisher</h3>\n",
    "<div><span>You are provided with a dataset of books alongside details on their publication and reviews - <em>books.csv</em></span><span><span>. The data is already loaded to the console and available as </span></span><code>books_df</code></div>\n",
    "<div>&nbsp;</div>\n",
    "<div><span>Here is description of the dataset:</span></div>\n",
    "<div><img height=\"338\" width=\"560\" alt=\"\" src=\"https://d1sxk9v5q9mvr.cloudfront.net/work/servlet/fileservlet?id=69794435583874\"><span></span></div>\n",
    "<div>&nbsp;</div>\n",
    "<div><span>Perform the following actions to clean the dataset:</span></div>\n",
    "<ul>\n",
    "  <li aria-level=\"3\"><span>Clean up the <code>publisher</code> column by performing the following steps</span><strong> in the listed order</strong><span>:</span></li>\n",
    "</ul>\n",
    "<ul>\n",
    "  <li style=\"list-style-type: none;\">\n",
    "    <ul>\n",
    "      <li aria-level=\"4\"><span>Replace all publishers with “Penguin” in the name with “Penguin Books” (e.g. “Penguin Books (NYC)”, “Penguin Audio UK”, and “Arkana/Penguin” should all be renamed “Penguin Books”)</span></li>\n",
    "      <li aria-level=\"4\"><span>Replace all publishers with a total of 10 books or less in the dataset with “Other”</span><span></span></li>\n",
    "    </ul>\n",
    "  </li>\n",
    "</ul>\n",
    "<ul>\n",
    "  <li style=\"list-style-type: none;\">\n",
    "    <ul>\n",
    "      <li>Do not change the order of the columns or the index (<code>isbn</code>).</li>\n",
    "    </ul>\n",
    "  </li>\n",
    "</ul>\n",
    "<div>\n",
    "  <div>&nbsp;</div>\n",
    "  <div>\n",
    "    <h5><span><strong>Reminder</strong>: You must select<strong> 2 out of 3 </strong>questions in programming section: D, E and F, and answer both selected questions as fully as possible (for example, if you choose D and F, you should answer questions D1, D2, D3 and F1, F2, F3).</span></h5>\n",
    "  </div>\n",
    "</div>"
   ]
  },
  {
   "cell_type": "code",
   "execution_count": null,
   "id": "15bc36a2-b2b4-4cf8-8507-f85eefe4286a",
   "metadata": {},
   "outputs": [],
   "source": [
    "### Initial candidate answer code"
   ]
  },
  {
   "cell_type": "code",
   "execution_count": null,
   "id": "525d8fb8-01a5-459d-9bf9-abf64e7fe531",
   "metadata": {},
   "outputs": [],
   "source": [
    "\n",
    "# Use print(\"messages...\") to debug your solution.\n",
    "import pandas as pd \n",
    "\n",
    "def clean_publisher_column(books_df: pd.DataFrame) -> pd.DataFrame:\n",
    "    # your code goes here\n",
    "    return books_df"
   ]
  },
  {
   "cell_type": "code",
   "execution_count": 3,
   "id": "c0b3862a-57c7-4026-9190-78da8b41af49",
   "metadata": {},
   "outputs": [],
   "source": [
    "import pandas as pd\n",
    "\n",
    "def group_rare_publishers(books_df: pd.DataFrame) -> pd.DataFrame:\n",
    "    publisher_counts = books_df[\"publisher\"].value_counts()\n",
    "    rare_publishers = publisher_counts[publisher_counts < 11].index\n",
    "    books_df[\"publisher\"] = books_df[\"publisher\"].replace(rare_publishers, \"Other\")\n",
    "    return books_df\n",
    "\n",
    "\n",
    "def clean_publisher_column(books_df: pd.DataFrame) -> pd.DataFrame:\n",
    "    books_df.loc[\n",
    "        books_df[\"publisher\"].str.contains(\"Penguin\", case=False), \"publisher\"\n",
    "    ] = \"Penguin Books\"\n",
    "    books_df = group_rare_publishers(books_df)\n",
    "\n",
    "    return books_df"
   ]
  },
  {
   "cell_type": "code",
   "execution_count": null,
   "id": "7635cd2a-8a28-465e-9b71-60b999c7ab2b",
   "metadata": {},
   "outputs": [],
   "source": [
    "### Initial candidate test code"
   ]
  },
  {
   "cell_type": "code",
   "execution_count": 5,
   "id": "31e874a7-4625-4b16-aa94-8400ec25056d",
   "metadata": {},
   "outputs": [
    {
     "name": "stdout",
     "output_type": "stream",
     "text": [
      "         isbn language_code  \\\n",
      "0   439785960           eng   \n",
      "1   439358078           eng   \n",
      "2   439554896           eng   \n",
      "3  043965548X           eng   \n",
      "4   439682584           eng   \n",
      "\n",
      "                                               title  \\\n",
      "0  Harry Potter and the Half-Blood Prince (Harry ...   \n",
      "1  Harry Potter and the Order of the Phoenix (Har...   \n",
      "2  Harry Potter and the Chamber of Secrets (Harry...   \n",
      "3  Harry Potter and the Prisoner of Azkaban (Harr...   \n",
      "4  Harry Potter Boxed Set  Books 1-5 (Harry Potte...   \n",
      "\n",
      "                      authors   publisher publication_date  num_pages  \\\n",
      "0  J.K. Rowling/Mary GrandPré  Scholastic        9/16/2006        652   \n",
      "1  J.K. Rowling/Mary GrandPré  Scholastic         9/1/2004        870   \n",
      "2                J.K. Rowling  Scholastic        11/1/2003        352   \n",
      "3  J.K. Rowling/Mary GrandPré  Scholastic         5/1/2004        435   \n",
      "4  J.K. Rowling/Mary GrandPré  Scholastic        9/13/2004       2690   \n",
      "\n",
      "   ratings_count  text_reviews_count  average_rating  \n",
      "0        2095690               27591            4.57  \n",
      "1        2153167               29221            4.49  \n",
      "2           6333                 244            4.42  \n",
      "3        2339585               36325            4.56  \n",
      "4          41428                 164            4.78  \n"
     ]
    }
   ],
   "source": [
    "\"\"\"In this section you can explore the data, experiment and test your code.\n",
    "\n",
    "The function \"clean_publisher_column\" is already imported into the environment.\n",
    "\n",
    "The variable PATH_TO_BOOKS_CSV store the path to 'books.csv' file.\n",
    "\"\"\"\n",
    "\n",
    "# imports\n",
    "import pandas as pd\n",
    "\n",
    "PATH_TO_BOOKS_CSV = './datasets/E1/books.csv'\n",
    "\n",
    "books_df = pd.read_csv(PATH_TO_BOOKS_CSV, sep=\",\")\n",
    "print(books_df.head())\n",
    "\n",
    "# standardize_penguin_publishers\n",
    "example_publishers = {\"Penguin Books (NYC)\", \"Penguin Audio UK\", \"Arkana/Penguin\"} \n",
    "other = 'Other'\n",
    "\n",
    "ans = clean_publisher_column(books_df)\n",
    "\n",
    "assert example_publishers.isdisjoint(ans['publisher']), \\\n",
    "f\"Expected the following publishers to be replaced with 'Penguin Books': {example_publishers}. Found at least one of them in the result.\"\n",
    "assert ans.iloc[4731]['publisher'] == other, f\"Expected publisher at index 4731 to be replaced with '{other}'.\"\n"
   ]
  },
  {
   "cell_type": "code",
   "execution_count": null,
   "id": "b3b92964-c238-4a09-9ceb-d2d1ca3430eb",
   "metadata": {},
   "outputs": [],
   "source": [
    "### Autograder part (hidden from the candidate)"
   ]
  },
  {
   "cell_type": "code",
   "execution_count": 7,
   "id": "87ab4c8d-3e5e-48c4-b6e2-6b9fa3664d66",
   "metadata": {},
   "outputs": [
    {
     "ename": "NameError",
     "evalue": "name 'all_penguins' is not defined",
     "output_type": "error",
     "traceback": [
      "\u001b[1;31m---------------------------------------------------------------------------\u001b[0m",
      "\u001b[1;31mNameError\u001b[0m                                 Traceback (most recent call last)",
      "Cell \u001b[1;32mIn[7], line 1\u001b[0m\n\u001b[1;32m----> 1\u001b[0m res \u001b[38;5;241m=\u001b[39m clean_publisher_column(all_penguins)\n\u001b[0;32m      3\u001b[0m pd\u001b[38;5;241m.\u001b[39mtesting\u001b[38;5;241m.\u001b[39massert_frame_equal(res, all_penguins_result, check_like\u001b[38;5;241m=\u001b[39m\u001b[38;5;28;01mTrue\u001b[39;00m)\n",
      "\u001b[1;31mNameError\u001b[0m: name 'all_penguins' is not defined"
     ]
    }
   ],
   "source": [
    "res = clean_publisher_column(all_penguins)\n",
    "\n",
    "pd.testing.assert_frame_equal(res, all_penguins_result, check_like=True)"
   ]
  },
  {
   "cell_type": "code",
   "execution_count": null,
   "id": "760d884f-ee82-4382-8d0f-f51076e92061",
   "metadata": {},
   "outputs": [],
   "source": []
  }
 ],
 "metadata": {
  "kernelspec": {
   "display_name": "Python 3 (ipykernel)",
   "language": "python",
   "name": "python3"
  },
  "language_info": {
   "codemirror_mode": {
    "name": "ipython",
    "version": 3
   },
   "file_extension": ".py",
   "mimetype": "text/x-python",
   "name": "python",
   "nbconvert_exporter": "python",
   "pygments_lexer": "ipython3",
   "version": "3.12.7"
  }
 },
 "nbformat": 4,
 "nbformat_minor": 5
}
