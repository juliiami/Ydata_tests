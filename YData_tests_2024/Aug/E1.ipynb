{
 "cells": [
  {
   "cell_type": "markdown",
   "id": "999863b8-0611-4f37-a4ff-9bf091487b69",
   "metadata": {},
   "source": [
    "<h3>(E1) Books: Publisher</h3>\n",
    "<div><span>You are provided with a dataset of books alongside details on their publication and reviews - <em>books.csv</em></span><span><span>. The data is already loaded to the console and available as </span></span><code>books_df</code></div>\n",
    "<div>&nbsp;</div>\n",
    "<div><span>Here is description of the dataset:</span></div>\n",
    "<div><img height=\"338\" width=\"560\" alt=\"\" src=\"https://d1sxk9v5q9mvr.cloudfront.net/work/servlet/fileservlet?id=69794435583874\"><span></span></div>\n",
    "<div>&nbsp;</div>\n",
    "<div><span>Perform the following actions to clean the dataset:</span></div>\n",
    "<ul>\n",
    "  <li aria-level=\"3\"><span>Clean up the <code>publisher</code> column by performing the following steps</span><strong> in the listed order</strong><span>:</span></li>\n",
    "</ul>\n",
    "<ul>\n",
    "  <li style=\"list-style-type: none;\">\n",
    "    <ul>\n",
    "      <li aria-level=\"4\"><span>Replace all publishers with “Penguin” in the name with “Penguin Books” (e.g. “Penguin Books (NYC)”, “Penguin Audio UK”, and “Arkana/Penguin” should all be renamed “Penguin Books”)</span></li>\n",
    "      <li aria-level=\"4\"><span>Replace all publishers with a total of 10 books or less in the dataset with “Other”</span><span></span></li>\n",
    "    </ul>\n",
    "  </li>\n",
    "</ul>\n",
    "<ul>\n",
    "  <li style=\"list-style-type: none;\">\n",
    "    <ul>\n",
    "      <li>Do not change the order of the columns or the index (<code>isbn</code>).</li>\n",
    "    </ul>\n",
    "  </li>\n",
    "</ul>\n",
    "<div>\n",
    "  <div>&nbsp;</div>\n",
    "  <div>\n",
    "    <h5><span><strong>Reminder</strong>: You must select<strong> 2 out of 3 </strong>questions in programming section: D, E and F, and answer both selected questions as fully as possible (for example, if you choose D and F, you should answer questions D1, D2, D3 and F1, F2, F3).</span></h5>\n",
    "  </div>\n",
    "</div>"
   ]
  },
  {
   "cell_type": "code",
   "execution_count": null,
   "id": "15bc36a2-b2b4-4cf8-8507-f85eefe4286a",
   "metadata": {},
   "outputs": [],
   "source": [
    "### Initial candidate answer code"
   ]
  },
  {
   "cell_type": "code",
   "execution_count": null,
   "id": "525d8fb8-01a5-459d-9bf9-abf64e7fe531",
   "metadata": {},
   "outputs": [],
   "source": [
    "\n",
    "# Use print(\"messages...\") to debug your solution.\n",
    "import pandas as pd \n",
    "\n",
    "def clean_publisher_column(books_df: pd.DataFrame) -> pd.DataFrame:\n",
    "    # your code goes here\n",
    "    return books_df"
   ]
  },
  {
   "cell_type": "code",
   "execution_count": null,
   "id": "7635cd2a-8a28-465e-9b71-60b999c7ab2b",
   "metadata": {},
   "outputs": [],
   "source": [
    "### Initial candidate test code"
   ]
  },
  {
   "cell_type": "code",
   "execution_count": null,
   "id": "31e874a7-4625-4b16-aa94-8400ec25056d",
   "metadata": {},
   "outputs": [],
   "source": [
    "\"\"\"In this section you can explore the data, experiment and test your code.\n",
    "\n",
    "The function \"clean_publisher_column\" is already imported into the environment.\n",
    "\n",
    "The variable PATH_TO_BOOKS_CSV store the path to 'books.csv' file.\n",
    "\"\"\"\n",
    "\n",
    "# imports\n",
    "import pandas as pd\n",
    "\n",
    "PATH_TO_BOOKS_CSV = './datasets/E1/books.csv'\n",
    "\n",
    "books_df = pd.read_csv(PATH_TO_BOOKS_CSV, sep=\",\")\n",
    "print(books_df.head())\n",
    "\n",
    "# standardize_penguin_publishers\n",
    "example_publishers = {\"Penguin Books (NYC)\", \"Penguin Audio UK\", \"Arkana/Penguin\"} \n",
    "other = 'Other'\n",
    "\n",
    "ans = clean_publisher_column(books_df)\n",
    "\n",
    "assert example_publishers.isdisjoint(ans['publisher']), \\\n",
    "f\"Expected the following publishers to be replaced with 'Penguin Books': {example_publishers}. Found at least one of them in the result.\"\n",
    "assert ans.iloc[4731]['publisher'] == other, f\"Expected publisher at index 4731 to be replaced with '{other}'.\"\n"
   ]
  }
 ],
 "metadata": {
  "kernelspec": {
   "display_name": "Python 3",
   "language": "python",
   "name": "python3"
  },
  "language_info": {
   "codemirror_mode": {
    "name": "ipython",
    "version": 3
   },
   "file_extension": ".py",
   "mimetype": "text/x-python",
   "name": "python",
   "nbconvert_exporter": "python",
   "pygments_lexer": "ipython3",
   "version": "3.8.8"
  }
 },
 "nbformat": 4,
 "nbformat_minor": 5
}
