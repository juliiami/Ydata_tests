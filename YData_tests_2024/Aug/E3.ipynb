{
 "cells": [
  {
   "cell_type": "markdown",
   "id": "999863b8-0611-4f37-a4ff-9bf091487b69",
   "metadata": {},
   "source": [
    "<h3><span><strong>(E3) Books - Recommendation<br></strong></span></h3>\n",
    "<div><span>You are provided with a dataset of books alongside details on their publication and reviews - <em>books.csv</em> (which you already used for E1-E2). The data is already loaded to the console and available as <code>books_df</code>, and contains the correct results of E2 in&nbsp;<code>weighted_rating</code> column.</span></div>\n",
    "<div><span>Using the dataset available, perform the following task:</span></div>\n",
    "<div>&nbsp;</div>\n",
    "<div><span>Recommend a book to a customer based on their preference in the following way:<br>Given a title (represented by ISBN) which serves as a <strong>reference</strong> <strong>book</strong>, return the ISBN of a <strong>recommended</strong> <strong>book</strong>.</span></div>\n",
    "<div>The <strong>recommended book</strong> is the title which answers the following criteria:</div>\n",
    "<ul>\n",
    "  <li>It is the title (other than the <span>reference</span> book) with the highest <code>weighted_rating</code>,</li>\n",
    "  <li>that was published in the same year as the <span>reference</span> book</li>\n",
    "  <li>and has a <code>num_pages</code> within <span class=\"cg-latex\">$$\\pm$$</span>100 of the <span>reference</span> book\n",
    "    <ul>\n",
    "      <li>If no applicable titles found, return the highest rated book published in the same year as the <span>reference</span> (regardless of page count)\n",
    "        <ul>\n",
    "          <li><span>In this case, if the reference book is the highest rated for that year, you should return it as the result</span></li>\n",
    "        </ul>\n",
    "      </li>\n",
    "    </ul>\n",
    "  </li>\n",
    "</ul>\n",
    "<div><span>You need to <strong>write a function</strong> <code>recommend_book(df, ISBN)</code> which returns the ISBN of the recommended title based on the parameters described above. To this end, </span>implement the following set of helper functions:</div>\n",
    "<ul>\n",
    "  <li style=\"list-style-type: none;\">\n",
    "    <ul>\n",
    "      <li><code>find_books_by_year(df, year)</code> - returns books whose publication_date is in the given year<br>\n",
    "        <ul>\n",
    "          <li>Year is represented by 4 digit number, e.g. 2015</li>\n",
    "        </ul>\n",
    "      </li>\n",
    "      <li><code>find_books_by_page_range(df, num_pages)</code> - returns books whose page number falls in the required range</li>\n",
    "    </ul>\n",
    "  </li>\n",
    "</ul>\n",
    "<div>\n",
    "  <div>\n",
    "    <h5><span><strong>Reminder</strong>: You must select<strong> 2 out of 3 </strong>questions in programming section: D, E and F, and answer both selected questions as fully as possible (for example, if you choose D and F, you should answer questions D1, D2, D3 and F1, F2, F3).</span></h5>\n",
    "  </div>\n",
    "</div>"
   ]
  },
  {
   "cell_type": "code",
   "execution_count": null,
   "id": "15bc36a2-b2b4-4cf8-8507-f85eefe4286a",
   "metadata": {},
   "outputs": [],
   "source": [
    "### Initial candidate answer code"
   ]
  },
  {
   "cell_type": "code",
   "execution_count": null,
   "id": "525d8fb8-01a5-459d-9bf9-abf64e7fe531",
   "metadata": {},
   "outputs": [],
   "source": [
    "# Use print(\"messages...\") to debug your solution.\n",
    "import pandas as pd\n",
    "    \n",
    "def find_books_by_year(books_df: pd.DataFrame, year: int) -> pd.DataFrame:\n",
    "    # Your code goes here\n",
    "    return books_df\n",
    "    \n",
    "def find_books_by_page_range(books_df: pd.DataFrame, num_pages: int) -> pd.DataFrame:\n",
    "    # Your code goes here\n",
    "    return books_df\n",
    "    \n",
    "def recommend_book(books_df: pd.DataFrame, isbn_num: str) -> str: \n",
    "    # Your code goes here\n",
    "    return ''"
   ]
  },
  {
   "cell_type": "code",
   "execution_count": null,
   "id": "7635cd2a-8a28-465e-9b71-60b999c7ab2b",
   "metadata": {},
   "outputs": [],
   "source": [
    "### Initial candidate test code"
   ]
  },
  {
   "cell_type": "code",
   "execution_count": null,
   "id": "31e874a7-4625-4b16-aa94-8400ec25056d",
   "metadata": {},
   "outputs": [],
   "source": [
    "\"\"\"In this section you can explore the data, experiment and test your code.\n",
    "\n",
    "The functions \"find_books_by_year\", \"find_books_by_page_range\" \n",
    "and \"recommend_book\" are already imported into the environment.\n",
    "\n",
    "The variable PATH_TO_BOOKS_CSV store the path of 'books.csv' file.\n",
    "\n",
    "If you experience a timeout when testing your code here in the console, \n",
    "you can comment out some of the provided examples.\n",
    "\"\"\"\n",
    "\n",
    "# imports\n",
    "import pandas as pd\n",
    "\n",
    "PATH_TO_BOOKS_CSV = './datasets/E3/books.csv'\n",
    "\n",
    "# load and print the \"books\" dataset\n",
    "books_df = pd.read_csv(PATH_TO_BOOKS_CSV, sep=\",\")\n",
    "print(books_df.head())\n",
    "\n",
    "# print the outputs of the functions\n",
    "\n",
    "print(len(find_books_by_year(books_df, 1000)))  # expected 0\n",
    "print(len(find_books_by_year(books_df, 1929)))  # expected 1\n",
    "print(len(find_books_by_year(books_df, 1998)))  # expected 396\n",
    "\n",
    "print(len(find_books_by_page_range(books_df, 124)))  # expected 3403\n",
    "print(len(find_books_by_page_range(books_df, 437)))  # expected 3080\n",
    "print(len(find_books_by_page_range(books_df, 2000)))  # expected 3\n",
    "\n",
    "print(recommend_book(books_df, '1904271065'))  # expected '1904271065'\n",
    "print(recommend_book(books_df, '822008254'))  # expected '1904271065'\n",
    "print(recommend_book(books_df, '006117758X'))  # expected '61177598'\n",
    "print(recommend_book(books_df, '60598859'))  # expected '006117758X'\n",
    "print(recommend_book(books_df, '345538374'))  # expected '345538374'"
   ]
  },
  {
   "cell_type": "code",
   "execution_count": null,
   "id": "9e3b3752-f12a-4ea2-b501-f3477e86161a",
   "metadata": {},
   "outputs": [],
   "source": [
    "### Autograder part (hidden from the candidate)"
   ]
  },
  {
   "cell_type": "code",
   "execution_count": null,
   "id": "31d518c0-b54c-4630-9a7e-fd5fa7188e93",
   "metadata": {},
   "outputs": [],
   "source": []
  }
 ],
 "metadata": {
  "kernelspec": {
   "display_name": "Python 3 (ipykernel)",
   "language": "python",
   "name": "python3"
  },
  "language_info": {
   "codemirror_mode": {
    "name": "ipython",
    "version": 3
   },
   "file_extension": ".py",
   "mimetype": "text/x-python",
   "name": "python",
   "nbconvert_exporter": "python",
   "pygments_lexer": "ipython3",
   "version": "3.12.7"
  }
 },
 "nbformat": 4,
 "nbformat_minor": 5
}
