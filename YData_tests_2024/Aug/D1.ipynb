{
 "cells": [
  {
   "cell_type": "markdown",
   "id": "999863b8-0611-4f37-a4ff-9bf091487b69",
   "metadata": {},
   "source": [
    "<h3>(D1) Twins - Find Missing</h3>\n",
    "<p><span>Your twin favorite nephews are starting school in a few weeks, and you were put in charge of shopping for school supplies. Unfortunately, they are very jealous, so you must buy exactly the same supplies for both, and as you were unpacking you’ve realised a single item was lost somewhere along the way and doesn’t have a duplicate. Now you must quickly find the item in question and tuck it away before distributing the shopping to your nephews.</span><span></span><span></span></p>\n",
    "<p><span>You are given a <strong>non-empty</strong> list of integers <code>supplies</code> containing </span><code>n</code><span> items. Each item is represented by an integer <code>k</code> in the range <code>[-n,n]</code>. All items appear twice except for one item which appears only once. Find and return the unmatched item.</span></p>\n",
    "<p><strong>Constraints:</strong></p>\n",
    "<ul>\n",
    "  <li aria-level=\"1\"><code><span>len(</span><span>supplies)=n</span></code><span><br></span></li>\n",
    "  <li aria-level=\"1\"><code><span>1 &lt;= n &lt;= 10^3</span></code></li>\n",
    "  <li aria-level=\"1\"><code><span>-n &lt;= k &lt;= n</span></code></li>\n",
    "  <li aria-level=\"1\"><span>Each element in the list appears <strong>twice </strong>except for one element which appears<strong> only once</strong>.</span></li>\n",
    "</ul>\n",
    "<p><strong>Example 1:</strong></p>\n",
    "<ul>\n",
    "  <li aria-level=\"2\"><strong>Input:</strong><span> </span><code><span>supplies </span><span>= [2,2,1]</span></code></li>\n",
    "  <li aria-level=\"2\"><strong>Output:</strong><span> 1</span></li>\n",
    "</ul>\n",
    "<p><strong>Example 2:</strong></p>\n",
    "<ul>\n",
    "  <li aria-level=\"2\"><strong>Input:</strong><span> </span><code><span>supplies </span><span>= [4,1,2,1,2]</span></code></li>\n",
    "  <li aria-level=\"2\"><strong>Output:</strong><span> 4</span></li>\n",
    "</ul>\n",
    "<p><strong>Example 3:</strong></p>\n",
    "<ul>\n",
    "  <li aria-level=\"2\"><strong>Input:</strong><span> </span><code><span>supplies </span><span>= [1]</span></code></li>\n",
    "  <li aria-level=\"2\"><strong>Output:</strong><span> 1</span></li>\n",
    "</ul>\n",
    "<div>\n",
    "  <h5><span><strong>Reminder</strong>: You must select<strong> 2 out of 3 </strong>questions in programming section: D, E and F, and answer both selected questions as fully as possible (for example, if you choose D and F, you should answer questions D1, D2, D3 and F1, F2, F3).</span></h5>\n",
    "</div>"
   ]
  },
  {
   "cell_type": "code",
   "execution_count": null,
   "id": "15bc36a2-b2b4-4cf8-8507-f85eefe4286a",
   "metadata": {},
   "outputs": [],
   "source": [
    "### Initial candidate answer code"
   ]
  },
  {
   "cell_type": "code",
   "execution_count": null,
   "id": "525d8fb8-01a5-459d-9bf9-abf64e7fe531",
   "metadata": {},
   "outputs": [],
   "source": [
    "# Use print(\"messages...\") to debug your solution.\n",
    "\n",
    "def missing_item(supplies: list[int]) -> int:\n",
    "    # Please keep the assert statment\n",
    "    assert len(supplies) <= 10**3\n",
    "\n",
    "    # Your code goes here\n",
    "    return 0"
   ]
  },
  {
   "cell_type": "code",
   "execution_count": null,
   "id": "7635cd2a-8a28-465e-9b71-60b999c7ab2b",
   "metadata": {},
   "outputs": [],
   "source": [
    "### Initial candidate test code"
   ]
  },
  {
   "cell_type": "code",
   "execution_count": null,
   "id": "31e874a7-4625-4b16-aa94-8400ec25056d",
   "metadata": {},
   "outputs": [],
   "source": [
    "\"\"\"\n",
    "In this section you can experiment and test your code.\n",
    "The function \"missing_item\" is already imported into the environment.\n",
    "\"\"\"\n",
    "import numpy as np\n",
    "\n",
    "assert isinstance(res:=missing_item([1, 2, 2]), (int, np.integer)), f\"Expected type int but got {type(res)}\"\n",
    "\n",
    "print(missing_item([1, 2, 2]))  # expected: 1 \n",
    "print(missing_item([4, 1, 2, 1, 2]))  # expected: 4 \n",
    "print(missing_item([1]))  # 1\n"
   ]
  }
 ],
 "metadata": {
  "kernelspec": {
   "display_name": "Python 3",
   "language": "python",
   "name": "python3"
  },
  "language_info": {
   "codemirror_mode": {
    "name": "ipython",
    "version": 3
   },
   "file_extension": ".py",
   "mimetype": "text/x-python",
   "name": "python",
   "nbconvert_exporter": "python",
   "pygments_lexer": "ipython3",
   "version": "3.8.8"
  }
 },
 "nbformat": 4,
 "nbformat_minor": 5
}
