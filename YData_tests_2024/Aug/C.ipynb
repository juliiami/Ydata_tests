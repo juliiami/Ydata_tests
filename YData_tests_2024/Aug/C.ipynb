{
 "cells": [
  {
   "cell_type": "markdown",
   "id": "b1075559-bdde-4760-a649-f8556197be0b",
   "metadata": {},
   "source": [
    "<div><strong>(C) Applications - predict decision</strong></div>\n",
    "<div>You are working again with the same dataset you used in questions B1-B6 - <span> <a rel=\"noopener noreferrer\" href=\"./datasets/C/applications_data.csv\" target=\"_blank\">applications_data.csv </a>-</span> a dataset of highschool students who have applied to a special tech studies program in the university.&nbsp; As stated before, the dataset contains details of individual students, the school they learn in, their matriculation diploma and the university's decision regarding their application.<br>In this question you are asked to <strong>analyse</strong> the students' information, <strong>understand </strong>what influences someone's acceptance status to the program, and&nbsp;<strong>predict</strong> the university's decision for each individual case accordingly.</div>\n",
    "<div>&nbsp;</div>\n",
    "<div>Here is detailed information on the dataset:</div>\n",
    "<ul>\n",
    "  <li><code>Candidate_ID</code> - numeric - index&nbsp;</li>\n",
    "  <li><code>School code</code> - numeric - school identifying code&nbsp;</li>\n",
    "  <li><code>District code</code> - string - school district&nbsp;</li>\n",
    "  <li><code>School zipcode</code> - numeric - zipcode of the school&nbsp;</li>\n",
    "  <li><code>Recent application</code> - datetime - date of the current application by the student</li>\n",
    "  <li><code>Initial application</code> &nbsp;- datetime - date of the first application by the student&nbsp;</li>\n",
    "  <li><code>Program type</code> - string - classification of the type of studies program the student was enrolled in during highschool&nbsp;</li>\n",
    "  <li><code>Qualification exams</code> - text - list of qualifying exams in the student's matriculation diploma&nbsp;</li>\n",
    "  <li><code>Prep registered</code> - numeric - number of preparatory/tutoring hours the student was registerd to in the past year&nbsp;</li>\n",
    "  <li><code>Prep completed</code> - numeric - number of preparatory/tutoring hours the student completed in the past year&nbsp;</li>\n",
    "  <li><strong><code>Decision</code> </strong>- string - the university's decision on the student's admission to the program: \"Immediate approval\", \"Approval\" or \"Waiting list\" (<strong>this is the target variable for the prediction</strong>)</li>\n",
    "</ul>\n",
    "<div>&nbsp;</div>\n",
    "<div>&nbsp;</div>\n",
    "<div>You are provided with<strong> a new file - </strong><code>applications_test.csv</code><strong>,</strong> containg the information of new students for whom the decision is not known.</div>\n",
    "<ul>\n",
    "  <li>Link to download below - \"download starter project\"</li>\n",
    "</ul>\n",
    "<div>Explore and analyze the data using any tools you choose. Predict whether each student in the <code>admissions_test.csv</code> file will be accepted immediately, regularly or assigned to the waiting list, and fill the <code>Decision</code> column according to your prediction.<br>&nbsp;<br><strong>Note</strong>: You are encouraged to explore the dataset and try to find patterns in the data. You can add new columns to the dataset or modify the existing ones in any way that you feel necessary. The problem can be solved without the use of dedicated ML tools or libraries, but you can use such if you prefer.</div>\n",
    "<div><br>The submitted result should be <strong>a .csv file</strong> with any number of rows and columns, but must have the <code>Candidate_ID</code> and <code>Decision</code> columns, with the latter containing your prediction. <strong>Do not submit code</strong>.</div>\n",
    "<div>&nbsp;</div>\n",
    "<div>You can use the \"<strong>comments</strong>\" section to write what was your approach and what were the decision parameters you used (optional but recommended).</div>"
   ]
  }
 ],
 "metadata": {
  "kernelspec": {
   "display_name": "Python 3 (ipykernel)",
   "language": "python",
   "name": "python3"
  },
  "language_info": {
   "codemirror_mode": {
    "name": "ipython",
    "version": 3
   },
   "file_extension": ".py",
   "mimetype": "text/x-python",
   "name": "python",
   "nbconvert_exporter": "python",
   "pygments_lexer": "ipython3",
   "version": "3.12.7"
  }
 },
 "nbformat": 4,
 "nbformat_minor": 5
}
