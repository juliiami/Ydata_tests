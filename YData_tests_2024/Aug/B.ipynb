{
 "cells": [
  {
   "cell_type": "markdown",
   "id": "9992bbb8-ef82-4695-aa91-60d01b2c9d81",
   "metadata": {},
   "source": [
    "<div><strong>(B1) Dataset Analysis - Applications</strong></div>\n",
    "<div><span>In questions B1 - B6 you are provided with the file <a rel=\"noopener noreferrer\" href=\"./datasets/B/applications_data.csv\" target=\"_blank\">applications_data.csv </a>- a dataset of highschool students who have applied to a special tech studies program in the university. The dataset contains details of individual students, the school they learn in, their matriculation diploma and the university's decision regarding their application. </span><span>For full dataset description, <strong>see question C</strong></span></div>\n",
    "<div>&nbsp;</div>\n",
    "<div>Based on the <code>applications_data.csv</code> dataset:\n",
    "  <ul>\n",
    "    <li aria-level=\"1\"><span>What is the </span><strong>most common </strong><span>program type in the dataset?</span></li>\n",
    "  </ul>\n",
    "</div>"
   ]
  },
  {
   "cell_type": "markdown",
   "id": "63dff010-1b1e-4b4f-9ed0-ae543a9cb382",
   "metadata": {},
   "source": [
    "<div><strong>(B2) Dataset Analysis - Applications</strong></div>\n",
    "<div><span>In questions B1 - B6 you are provided with the file  <a rel=\"noopener noreferrer\" href=\"./datasets/B/applications_data.csv\" target=\"_blank\">applications_data.csv </a>- a dataset of highschool students who have applied to a special tech studies program in the university. The dataset contains details of individual students, the school they learn in, their matriculation diploma and the university's decision regarding their application. </span><span>For full dataset description, <strong>see question C</strong>.</span></div>\n",
    "<div>&nbsp;</div>\n",
    "<div>Based on the <code>applications_data.csv</code> dataset:\n",
    "  <ul>\n",
    "    <li aria-level=\"1\"><span>What program type has the </span><strong>highest ratio</strong><span> of candidates with a <code>Decision = Approval</code>? (exact match only)</span></li>\n",
    "  </ul>\n",
    "</div>"
   ]
  },
  {
   "cell_type": "markdown",
   "id": "7e018a98-98b3-40a2-8fb2-c538793c0040",
   "metadata": {},
   "source": [
    "<div><strong>(B3) Dataset Analysis - Applications</strong></div>\n",
    "<div><span>In questions B1 - B6 you are provided with the file  <a rel=\"noopener noreferrer\" href=\"./datasets/B/applications_data.csv\" target=\"_blank\">applications_data.csv </a>- a dataset of highschool students who have applied to a special tech studies program in the university. The dataset contains details of individual students, the school they learn in, their matriculation diploma and the university's decision regarding their application. </span><span>For full dataset description, <strong>see question C</strong>.</span></div>\n",
    "<div>&nbsp;</div>\n",
    "<div>Based on the <code>applications_data.csv</code> dataset:\n",
    "  <ul>\n",
    "    <li aria-level=\"1\"><span>What program type has the <strong>most</strong> candidates with <code>Decision = Approval</code>? (exact match only)</span></li>\n",
    "  </ul>\n",
    "</div>"
   ]
  },
  {
   "cell_type": "markdown",
   "id": "e674a3fa-4e07-4dee-8abf-b117694b26fa",
   "metadata": {},
   "source": [
    "<div><strong>(B4) Dataset Analysis - Applications</strong></div>\n",
    "<div><span>In questions B1 - B6 you are provided with the file  <a rel=\"noopener noreferrer\" href=\"./datasets/B/applications_data.csv\" target=\"_blank\">applications_data.csv </a>- a dataset of highschool students who have applied to a special tech studies program in the university. The dataset contains details of individual students, the school they learn in, their matriculation diploma and the university's decision regarding their application. </span><span>For full dataset description, <strong>see question C</strong>.</span></div>\n",
    "<div>&nbsp;</div>\n",
    "<div>Based on the <code>applications_data.csv</code> dataset:</div>\n",
    "<ul>\n",
    "  <li><span>What is the <strong>ratio</strong> of candidates who received a decision of “Approval” in the whole dataset? (Exactly <code>Decision = Approval</code> only)</span></li>\n",
    "</ul>\n",
    "<div>&nbsp;</div>\n",
    "<ul>\n",
    "  <li>In question B, round your answer to <strong>4</strong> decimal digits: 8.719999 -&gt;<strong> 8.7200</strong>, 8.1 -&gt; <strong>8.1000</strong></li>\n",
    "</ul>"
   ]
  },
  {
   "cell_type": "markdown",
   "id": "1ab33da9-4f24-451d-94a5-ecad00b8eddd",
   "metadata": {},
   "source": [
    "<div><strong>(B5) Dataset Analysis - Applications</strong></div>\n",
    "<div><span>In questions B1 - B6 you are provided with the file  <a rel=\"noopener noreferrer\" href=\"./datasets/B/applications_data.csv\" target=\"_blank\">applications_data.csv </a>- a dataset of highschool students who have applied to a special tech studies program in the university. The dataset contains details of individual students, the school they learn in, their matriculation diploma and the university's decision regarding their application. For full dataset description, <strong>see question C.</strong><br></span></div>\n",
    "<div>&nbsp;</div>\n",
    "<div>Based on the <code>applications_data.csv</code> dataset, How <strong>many </strong>candidates from district code <code>AL</code> applied for the first time during the year 2017?</div>\n",
    "<div>&nbsp;</div>\n",
    "<ul>\n",
    "  <li>In question B, round your answer to <strong>4</strong> decimal digits: 8.719999 -&gt;<strong> 8.7200</strong>, 8.1 -&gt; <strong>8.1000</strong></li>\n",
    "</ul>"
   ]
  },
  {
   "cell_type": "markdown",
   "id": "efbc74f6-5e07-41f8-9a7f-d06954f71c47",
   "metadata": {},
   "source": [
    "<div><strong>(B6) Dataset Analysis - Applications</strong></div>\n",
    "<div><span>In questions B1 - B6 you are provided with the file  <a rel=\"noopener noreferrer\" href=\"./datasets/B/applications_data.csv\" target=\"_blank\">applications_data.csv </a>- a dataset of highschool students who have applied to a special tech studies program in the university. The dataset contains details of individual students, the school they learn in, their matriculation diploma and the university's decision regarding their application. For full dataset description, <strong>see question C.</strong><br></span></div>\n",
    "<div>&nbsp;</div>\n",
    "<div>Based on the <code>applications_data.csv</code> dataset:\n",
    "  <ul>\n",
    "    <li aria-level=\"1\"><span>What is the average </span><strong>number </strong><span>of preparatory hours registered (<code>Prep registered</code>) for a student from \"Regional\" program type that was put on the waiting list?</span><span></span></li>\n",
    "  </ul>\n",
    "</div>"
   ]
  }
 ],
 "metadata": {
  "kernelspec": {
   "display_name": "Python 3 (ipykernel)",
   "language": "python",
   "name": "python3"
  },
  "language_info": {
   "codemirror_mode": {
    "name": "ipython",
    "version": 3
   },
   "file_extension": ".py",
   "mimetype": "text/x-python",
   "name": "python",
   "nbconvert_exporter": "python",
   "pygments_lexer": "ipython3",
   "version": "3.12.7"
  }
 },
 "nbformat": 4,
 "nbformat_minor": 5
}
