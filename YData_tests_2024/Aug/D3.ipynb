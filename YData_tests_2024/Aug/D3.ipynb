{
 "cells": [
  {
   "cell_type": "markdown",
   "id": "999863b8-0611-4f37-a4ff-9bf091487b69",
   "metadata": {},
   "source": [
    "<div>\n",
    "  <h3><span>(D3) Twins - Missing Two</span></h3>\n",
    "  <p><span>Your twin favorite nephews are starting school in a few weeks, and you were put in charge of shopping for school supplies. Unfortunately, they are very jealous, so you must buy exactly the same supplies for both.</span></p>\n",
    "  <p><span>As you were unpacking you’ve realised that<strong> you’ve miscounted earlier</strong> (in D1-D2), and in fact </span><strong>two</strong><span> distinct items were lost somewhere along the way and don’t have a duplicate. Now you must quickly find the </span><strong>two items </strong><span>in question and tuck them away before distributing the shopping to your nephews.</span></p>\n",
    "  <p><span>You are given a <strong>non-empty</strong> list of integers <code>supplies</code> containing </span><code>n</code><span> items. Each item is represented by an integer <code>k</code> in the range <code>[-n,n]</code>. All items appear <strong>exactly</strong> twice except for <strong>two</strong> items which appear only once. Find and return these <strong>two</strong> unmatched items. You can return the answer in any order.</span></p>\n",
    "  <p><strong><span>As in D2, your solution here needs to handle large input sizes, so your solution must have a linear runtime complexity and constant space.</span></strong></p>\n",
    "  <p><strong>Constraints:</strong></p>\n",
    "  <ul>\n",
    "    <li aria-level=\"1\"><code><span>len(</span><span>supplies)=n</span></code><span><br></span></li>\n",
    "    <li aria-level=\"1\"><code><span>1 &lt;= n &lt;= 10^7</span></code></li>\n",
    "    <li aria-level=\"1\"><code><span>-n &lt;= k &lt;= n<br></span></code></li>\n",
    "    <li aria-level=\"1\"><span>Each element in the array appears <strong>twice </strong>except for two elements which appear<strong> only once</strong>.</span></li>\n",
    "  </ul>\n",
    "</div>\n",
    "<div>\n",
    "  <p><strong>Example 1:</strong></p>\n",
    "  <ul>\n",
    "    <li aria-level=\"2\"><strong>Input:</strong><span> </span><code><span>supplies </span><span>= [4,1,5,1]</span></code></li>\n",
    "    <li aria-level=\"2\"><strong>Output:</strong><span> <code>[4,5]</code></span>\n",
    "      <ul>\n",
    "        <li aria-level=\"2\"><span>Note: <code>[5,4]</code> is also a valid answer</span></li>\n",
    "      </ul>\n",
    "    </li>\n",
    "  </ul>\n",
    "  <p><strong>Example 2:</strong></p>\n",
    "  <ul>\n",
    "    <li aria-level=\"2\"><strong>Input:</strong><span> </span><code><span>supplies </span><span>= [1,2,1,3,2,5]</span></code></li>\n",
    "    <li aria-level=\"2\"><strong>Output:</strong><span> <code>[3,5]</code></span></li>\n",
    "  </ul>\n",
    "  <p><strong>Example 3:</strong></p>\n",
    "  <ul>\n",
    "    <li aria-level=\"2\"><strong>Input:</strong><span> </span><code><span>supplies </span><span>= [-1,0]</span></code></li>\n",
    "    <li aria-level=\"2\"><strong>Output:</strong><span> <code>[-1,0]</code></span></li>\n",
    "  </ul>\n",
    "  <h5><span><strong>Reminder</strong>: You must select<strong> 2 out of 3 </strong>questions in programming section: D, E and F, and answer both selected questions as fully as possible (for example, if you choose D and F, you should answer questions D1, D2, D3 and F1, F2, F3).</span></h5>\n",
    "</div>"
   ]
  },
  {
   "cell_type": "code",
   "execution_count": null,
   "id": "15bc36a2-b2b4-4cf8-8507-f85eefe4286a",
   "metadata": {},
   "outputs": [],
   "source": [
    "### Initial candidate answer code"
   ]
  },
  {
   "cell_type": "code",
   "execution_count": null,
   "id": "525d8fb8-01a5-459d-9bf9-abf64e7fe531",
   "metadata": {},
   "outputs": [],
   "source": [
    "# Use print(\"messages...\") to debug your solution.\n",
    "\n",
    "def missing_items(supplies: list[int]) -> list[int]:\n",
    "    # Your code goes here\n",
    "    return []"
   ]
  },
  {
   "cell_type": "code",
   "execution_count": null,
   "id": "7635cd2a-8a28-465e-9b71-60b999c7ab2b",
   "metadata": {},
   "outputs": [],
   "source": [
    "### Initial candidate test code"
   ]
  },
  {
   "cell_type": "code",
   "execution_count": null,
   "id": "31e874a7-4625-4b16-aa94-8400ec25056d",
   "metadata": {},
   "outputs": [],
   "source": [
    "\"\"\"\n",
    "In this section you can experiment and test your code.\n",
    "The function \"missing_items\" is already imported into the environment.\n",
    "\"\"\"\n",
    "\n",
    "ans = missing_items([4, 1, 5, 1])\n",
    "assert isinstance(ans, list), f\"Expected type list but got {type(ans)}\"\n",
    "assert len(ans) == 2, f\"Expected len is 2, but got len={len(ans)}\"\n",
    "\n",
    "print(ans) # expected: [4, 5] or [5, 4]\n",
    "print(missing_items([1, 2, 1, 3, 2, 5]))  # expected [3, 5] or [5, 3]\n",
    "print(missing_items([-1, 0]))  # expected: [-1, 0] or [0, -1]\n"
   ]
  }
 ],
 "metadata": {
  "kernelspec": {
   "display_name": "Python 3",
   "language": "python",
   "name": "python3"
  },
  "language_info": {
   "codemirror_mode": {
    "name": "ipython",
    "version": 3
   },
   "file_extension": ".py",
   "mimetype": "text/x-python",
   "name": "python",
   "nbconvert_exporter": "python",
   "pygments_lexer": "ipython3",
   "version": "3.8.8"
  }
 },
 "nbformat": 4,
 "nbformat_minor": 5
}
