{
 "cells": [
  {
   "cell_type": "markdown",
   "id": "6b81ab67-ed6a-482e-9a71-06db115bf911",
   "metadata": {},
   "source": [
    "<p><strong>(A1) Statistics and Probability - Candy</strong></p>\n",
    "<p>Your favorite quirky sweets brand, <strong>What’s This Flavor</strong><span> Candy, are releasing their new “Extreme Flavor” jelly candy superpack. Each EF superpack contains 600 candies in a variety of flavors - some from their regular flavor selection, and some from the new “Extreme Flavor” range: 70 in “Acidic Acorns” flavor, 20 in “Buttered Bugs”, 30 in “Crunchy Crustaceans”, and 40 in “Dusty Denim” flavor.</span></p>\n",
    "<ul>\n",
    "  <li>If you’ve bought a single Superpack, and try a candy at random, what is the probability its in one of the new Extreme Flavors?&nbsp;</li>\n",
    "</ul>\n",
    "<div>&nbsp;</div>\n",
    "<div><strong>Note: </strong>In question A, round your answer to<span>&nbsp;</span><strong>4</strong><span>&nbsp;</span>decimal digits: 8.719999 -&gt;<strong><span>&nbsp;</span>8.7200</strong>, 8.1 -&gt;<span>&nbsp;</span><strong>8.1000</strong></div>\n",
    "<div>No code/text is allowed in submissions.</div>"
   ]
  },
  {
   "cell_type": "markdown",
   "id": "16a2b110-75a5-47f2-92a0-7891dfe745dd",
   "metadata": {},
   "source": [
    "<p><strong>(A2) Statistics and Probability - Candy</strong></p>\n",
    "<p>Your favorite quirky sweets brand, <strong>What’s This Flavor</strong><span> Candy, are releasing their new “Extreme Flavor” jelly candy superpack. Each EF superpack contains 600 candies in a variety of flavors - some from their regular flavor selection, and some from the new “Extreme Flavor” range: 70 in “Acidic Acorns” flavor, 20 in “Buttered Bugs”, 30 in “Crunchy Crustaceans”, and 40 in “Dusty Denim” flavor.</span></p>\n",
    "<ul>\n",
    "  <li>\n",
    "    <p><span>If you’ve bought a single Superpack, and try a candy at random, what is the probability its either “Crunchy Crustaceans” or “Dusty Denim”&nbsp; flavor?</span></p>\n",
    "  </li>\n",
    "</ul>\n",
    "<div>&nbsp;</div>\n",
    "<div><strong>Note: </strong>In question A, round your answer to<span>&nbsp;</span><strong>4</strong><span>&nbsp;</span>decimal digits: 8.719999 -&gt;<strong><span>&nbsp;</span>8.7200</strong>, 8.1 -&gt;<span>&nbsp;</span><strong>8.1000</strong></div>\n",
    "<div>No code/text is allowed in submissions.</div>"
   ]
  },
  {
   "cell_type": "markdown",
   "id": "96697710-1944-4e15-acf8-5d2e17deb147",
   "metadata": {},
   "source": [
    "<p><strong>(A3) Statistics and Probability - Candy</strong></p>\n",
    "<p>Your favorite quirky sweets brand, <strong>What’s This Flavor</strong><span> Candy, are releasing their new “Extreme Flavor” jelly candy superpack. Each EF superpack contains 600 candies in a variety of flavors - some from their regular flavor selection, and some from the new “Extreme Flavor” range: 70 in “Acidic Acorns” flavor, 20 in “Buttered Bugs”, 30 in “Crunchy Crustaceans”, and 40 in “Dusty Denim” flavor.</span></p>\n",
    "<ul>\n",
    "  <li>\n",
    "    <p><span>As a fan of What’s This Flavor, you’re pretty certain you can recognise their old variety on sight, so as soon as you opened the package, you picked a candy that’s definitely one of the new Extreme Flavor ones - what are the odds its “Acidic Acorns” flavored?</span></p>\n",
    "  </li>\n",
    "</ul>\n",
    "<div>&nbsp;</div>\n",
    "<div><strong>Note: </strong>In question A, round your answer to<span>&nbsp;</span><strong>4</strong><span>&nbsp;</span>decimal digits: 8.719999 -&gt;<strong><span>&nbsp;</span>8.7200</strong>, 8.1 -&gt;<span>&nbsp;</span><strong>8.1000</strong></div>\n",
    "<div>No code/text is allowed in submissions.</div>"
   ]
  },
  {
   "cell_type": "markdown",
   "id": "964ac58f-bbf1-42f5-8009-f3034591a80c",
   "metadata": {},
   "source": [
    "<p><strong>(A4) Statistics and Probability - Candy</strong></p>\n",
    "<p>Your favorite quirky sweets brand, <strong>What’s This Flavor</strong><span> Candy, are releasing their new “Extreme Flavor” jelly candy superpack. Each EF superpack contains 600 candies in a variety of flavors - some from their regular flavor selection, and some from the new “Extreme Flavor” range: 70 in “Acidic Acorns” flavor, 20 in “Buttered Bugs”, 30 in “Crunchy Crustaceans”, and 40 in “Dusty Denim” flavor.</span></p>\n",
    "<ul>\n",
    "  <li>\n",
    "    <p><span>You really want to try out the new flavors. If you’ve bought a single Superpack, and start tasting the candy. What is the probability you’ve gone through 7 candies from the pack but all you got so far are the regular flavors?</span></p>\n",
    "  </li>\n",
    "</ul>\n",
    "<div>&nbsp;</div>\n",
    "<div><strong>Note: </strong>In question A, round your answer to<span>&nbsp;</span><strong>4</strong><span>&nbsp;</span>decimal digits: 8.719999 -&gt;<strong><span>&nbsp;</span>8.7200</strong>, 8.1 -&gt;<span>&nbsp;</span><strong>8.1000</strong></div>\n",
    "<div>No code/text is allowed in submissions.</div>"
   ]
  },
  {
   "cell_type": "markdown",
   "id": "9c653d5c-4724-46bd-85c7-ea26cdff6c6d",
   "metadata": {},
   "source": [
    "<p><strong>(A5) Statistics and Probability - Candy</strong></p>\n",
    "<p>Your favorite quirky sweets brand, <strong>What’s This Flavor</strong><span> Candy, are releasing their new “Extreme Flavor” jelly candy superpack. Each EF superpack contains 600 candies in a variety of flavors - some from their regular flavor selection, and some from the new “Extreme Flavor” range: 70 in “Acidic Acorns” flavor, 20 in “Buttered Bugs”, 30 in “Crunchy Crustaceans”, and 40 in “Dusty Denim” flavor.</span></p>\n",
    "<p><span>You’ve finally tried out enough EF candy that you’re pretty sure you can recognise the different flavours by sight. You’re holding a party with some friends and bought 3 EF superpacks, which you poured out into a single bowl. Unfortunately, one of the packs turned out to be from an imitation brand, that produces candy that looks exactly the same as the EF flavors, but is completely tasteless. The imitation pack is the same size but the all the candy in it is equally distributed between two fake flavors only: “Acidic Acorns” and “Dusty Denim”.</span></p>\n",
    "<ul>\n",
    "  <li>\n",
    "    <p><span>If you pick a candy that definitely looks like a “Dusty Denim” one and offer to a friend. What is the probability that it’s a genuine flavor?</span></p>\n",
    "  </li>\n",
    "</ul>\n",
    "<div>&nbsp;</div>\n",
    "<div><strong>Note: </strong>In question A, round your answer to<span>&nbsp;</span><strong>4</strong><span>&nbsp;</span>decimal digits: 8.719999 -&gt;<strong><span>&nbsp;</span>8.7200</strong>, 8.1 -&gt;<span>&nbsp;</span><strong>8.1000</strong></div>\n",
    "<div>No code/text is allowed in submissions.</div>"
   ]
  },
  {
   "cell_type": "markdown",
   "id": "fff0d583-45f2-4ac6-9ab8-2cb5306b5cda",
   "metadata": {},
   "source": [
    "<p><strong>(A6) Statistics and Probability - Candy</strong></p>\n",
    "<p>Your favorite quirky sweets brand, <strong>What’s This Flavor</strong><span> Candy, are releasing their new “Extreme Flavor” jelly candy superpack. Each EF superpack contains 600 candies in a variety of flavors - some from their regular flavor selection, and some from the new “Extreme Flavor” range: 70 in “Acidic Acorns” flavor, 20 in “Buttered Bugs”, 30 in “Crunchy Crustaceans”, and 40 in “Dusty Denim” flavor.</span></p>\n",
    "<p><span>You’ve finally tried out enough EF candy that you’re pretty sure you can recognise the different flavours by sight. You’re holding a party with some friends and bought 3 EF superpacks, which you poured out into a single bowl. Unfortunately, one of the packs turned out to be from an imitation brand, that produces candy that looks exactly the same as the EF flavors, but is completely tasteless. The imitation pack is the same size but the all the candy in it is equally distributed between two fake flavors only: “Acidic Acorns” and “Dusty Denim”.</span></p>\n",
    "<ul>\n",
    "  <li>\n",
    "    <p><span>In light of the presence of fake candy, what are the odds for you to grab a piece of candy that looks like one of the EF flavors only to realize its tasteless?</span></p>\n",
    "  </li>\n",
    "</ul>\n",
    "<div>&nbsp;</div>\n",
    "<div><strong>Note: </strong>In question A, round your answer to<span>&nbsp;</span><strong>4</strong><span>&nbsp;</span>decimal digits: 8.719999 -&gt;<strong><span>&nbsp;</span>8.7200</strong>, 8.1 -&gt;<span>&nbsp;</span><strong>8.1000</strong></div>\n",
    "<div>No code/text is allowed in submissions.</div>"
   ]
  }
 ],
 "metadata": {
  "kernelspec": {
   "display_name": "Python 3",
   "language": "python",
   "name": "python3"
  },
  "language_info": {
   "codemirror_mode": {
    "name": "ipython",
    "version": 3
   },
   "file_extension": ".py",
   "mimetype": "text/x-python",
   "name": "python",
   "nbconvert_exporter": "python",
   "pygments_lexer": "ipython3",
   "version": "3.8.8"
  }
 },
 "nbformat": 4,
 "nbformat_minor": 5
}
