{
 "cells": [
  {
   "cell_type": "markdown",
   "id": "999863b8-0611-4f37-a4ff-9bf091487b69",
   "metadata": {},
   "source": [
    "<h3>(F3) Apples: Recommendation</h3>\n",
    "<div>\n",
    "  <div>\n",
    "    <p>You are given a dataset of apples - <em>apple_quality.csv</em><span>. The data is already loaded to the console and available as </span><code>apple_quality</code> dataframe - same as was used for F1-F2. The dataset contains a list of apples characterised by standardized numeric parameters on a variety of qualities - sweetness, ripeness, juiciness etc.</p>\n",
    "    <p>Using the dataset, you are asked to perform the following task:</p>\n",
    "    <div><span>Given an input from the user for an apple they like (<code>A_id</code>), you should find which criterion (column) is the highest* for that apple and select the recommendation among the <strong>top 10%</strong> of apples for that criterion. Among these, we return the apple where <code>Quality</code> is <em>\"good\" </em>and has the highest average rating across all <strong>other</strong> categories.</span></div>\n",
    "    <ul>\n",
    "      <li><span>Write a function <code>recommend_best(A_id)</code> which returns the <code>A_id</code> of the best apple to recommend based on the initial preference supplied.</span>\n",
    "        <ul>\n",
    "          <li><span>For example for <code>A_id = 0</code>, top criterion is Sweetness, and the result of the recommendation is <code>A_id = 915</code></span></li>\n",
    "          <li><span>So <code>recommend_best(0)</code>=<code>915</code>&nbsp;</span></li>\n",
    "        </ul>\n",
    "      </li>\n",
    "    </ul>\n",
    "    <p>*Note: you can assume that for all parameters, higher ratings are better (i.e., more desirable).</p>\n",
    "    <h5>Reminder: You must select 2 out of 3 questions in programming section: D, E and F, and answer both selected questions as fully as possible (for example, if you choose D and F, you should answer questions D1, D2, D3 and F1, F2, F3).</h5>\n",
    "  </div>\n",
    "</div>"
   ]
  },
  {
   "cell_type": "code",
   "execution_count": null,
   "id": "15bc36a2-b2b4-4cf8-8507-f85eefe4286a",
   "metadata": {},
   "outputs": [],
   "source": [
    "### Initial candidate answer code"
   ]
  },
  {
   "cell_type": "code",
   "execution_count": null,
   "id": "525d8fb8-01a5-459d-9bf9-abf64e7fe531",
   "metadata": {},
   "outputs": [],
   "source": [
    "# Use print(\"messages...\") to debug your solution.\n",
    "\n",
    "import pandas as pd \n",
    "    \n",
    "def recommend_best_apple(apple_quality: pd.DataFrame, apple_id: int) -> int:\n",
    "    return 0"
   ]
  },
  {
   "cell_type": "code",
   "execution_count": null,
   "id": "7635cd2a-8a28-465e-9b71-60b999c7ab2b",
   "metadata": {},
   "outputs": [],
   "source": [
    "### Initial candidate test code"
   ]
  },
  {
   "cell_type": "code",
   "execution_count": null,
   "id": "31e874a7-4625-4b16-aa94-8400ec25056d",
   "metadata": {},
   "outputs": [],
   "source": [
    "\"\"\"In this section you can explore the data, experiment and test your code.\n",
    "\n",
    "The function \"recommend_best_apple\" is already imported into the environment.\n",
    "\n",
    "The variable PATH_TO_APPLE_QUALITY_CSV store the path of 'apples_quality.csv' file.\n",
    "\"\"\"\n",
    "\n",
    "# imports\n",
    "import numpy as np\n",
    "import pandas as pd\n",
    "\n",
    "PATH_TO_APPLE_QUALITY_CSV = './datasets/F3/apple_quality.csv'\n",
    "\n",
    "# load and print the \"books\" dataset\n",
    "apple_quality = pd.read_csv(PATH_TO_APPLE_QUALITY_CSV, sep=\",\")\n",
    "print(apple_quality.head())\n",
    "\n",
    "ans = recommend_best_apple(apple_quality, 0)\n",
    "\n",
    "assert isinstance(ans, (int, np.integer))\n",
    "print(ans)  # 915"
   ]
  },
  {
   "cell_type": "code",
   "execution_count": null,
   "id": "5d599c14-9aa4-4057-9ae8-9f0789207d77",
   "metadata": {},
   "outputs": [],
   "source": [
    "### Autograder part (hidden from the candidate)"
   ]
  },
  {
   "cell_type": "code",
   "execution_count": null,
   "id": "478a73ac-6a44-4dc5-b1ea-93ae298b8b4e",
   "metadata": {},
   "outputs": [],
   "source": [
    "outputs = pd.read_csv(\"./datasets/F3/tests/outputs.csv\")\n",
    "\n",
    "n = 500\n",
    "res = pd.DataFrame([[a_id, recommend_best_apple(apple_quality, a_id)] for a_id in outputs.iloc[:n].A_id], columns=['A_id', 'best_apple'])\n",
    "pd.testing.assert_frame_equal(res, outputs.iloc[:n][['A_id', 'best_apple']], check_like=True)"
   ]
  }
 ],
 "metadata": {
  "kernelspec": {
   "display_name": "Python 3",
   "language": "python",
   "name": "python3"
  },
  "language_info": {
   "codemirror_mode": {
    "name": "ipython",
    "version": 3
   },
   "file_extension": ".py",
   "mimetype": "text/x-python",
   "name": "python",
   "nbconvert_exporter": "python",
   "pygments_lexer": "ipython3",
   "version": "3.8.8"
  }
 },
 "nbformat": 4,
 "nbformat_minor": 5
}
