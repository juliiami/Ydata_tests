{
 "cells": [
  {
   "cell_type": "markdown",
   "id": "dac56231-9505-48bb-b68e-50106ff1daef",
   "metadata": {},
   "source": [
    "<div><span><strong>(E3) Recipes - Best Dish</strong></span></div>\n",
    "<div><span>Using the <em>recipes.csv</em> dataset from questions E1-E2 (which now includes the <code>TotalMakeTime</code> and <code>NumberOfIngredients</code> features calculated in previous questions), perform the following task:</span></div>\n",
    "<div><span>We are interested in discovering what is the <strong>best</strong> dish in the dataset. The <strong>“best”</strong> dish is defined as the dish which has the minimum </span><code>TotalMakeTime</code><span>, as well as the maximum </span><code>Servings</code><span><br></span><span>To perform this calculation do the following:</span></div>\n",
    "<ul>\n",
    "  <li aria-level=\"3\"><span>Define a new column called </span><code>WeightedScore</code><span> which will be calculated based on the following formula:</span>\n",
    "    <ul>\n",
    "      <li aria-level=\"3\"><code><span>0.1 * </span>TotalMakeTime<span> + 0.9 * </span>Servings</code></li>\n",
    "    </ul>\n",
    "  </li>\n",
    "  <li aria-level=\"3\">Write a function <code>Best_in_course(course)</code><em>, </em>which returns the <code>RecipeId</code> of the dish in that course which has the <strong>maximum </strong>value for our new column <code>WeightedScore</code> while having <strong>between 6 and 9 ingredients</strong> (6 and 9 included).</li>\n",
    "  <li aria-level=\"3\">If there is more than one dish meeting these criteria, return the dish with the smallest <code>RecipeId</code>.</li>\n",
    "  <li aria-level=\"3\">Return 0 if no suitable dish is available.</li>\n",
    "</ul>\n",
    "<div>\n",
    "  <h5>Reminder: You must select 2 out of 3 questions in programming section: D, E and F, and answer both selected questions as fully as possible (for example, if you choose D and F, you should answer questions D1, D2, D3 and F1, F2, F3).</h5>\n",
    "</div>"
   ]
  },
  {
   "cell_type": "code",
   "execution_count": null,
   "id": "9feff546-7208-424e-801d-2fe53cf939dc",
   "metadata": {},
   "outputs": [],
   "source": [
    "### Initial candidate answer code"
   ]
  },
  {
   "cell_type": "code",
   "execution_count": null,
   "id": "041b3dd0-5d05-430c-a147-9f7edeeb163a",
   "metadata": {},
   "outputs": [],
   "source": [
    "# Use print(\"messages...\") to debug your solution.\n",
    "import pandas as pd\n",
    "\n",
    "def best_in_course(df: pd.DataFrame, course: str) -> int:\n",
    "    # Your code goes here\n",
    "    return 0"
   ]
  },
  {
   "cell_type": "code",
   "execution_count": null,
   "id": "a13118cd-f89c-4702-a444-549b2b67aa26",
   "metadata": {},
   "outputs": [],
   "source": [
    "### Initial candidate test code"
   ]
  },
  {
   "cell_type": "code",
   "execution_count": null,
   "id": "0abbfe61-f101-40e1-8155-538bd5d2b0f3",
   "metadata": {},
   "outputs": [],
   "source": [
    "\"\"\"\n",
    "In this section you can explore the data, experiment and test your code.\n",
    "\n",
    "The function \"best_in_course\" and \"pandas\" are already imported into the environment.\n",
    "\n",
    "The variable PATH_TO_RECIPES_CSV store the path to 'recipes.csv' file \n",
    "which includes the 'TotalMakeTime' and 'NumberOfIngredients' features.\n",
    "\"\"\"\n",
    "PATH_TO_RECIPES_CSV = './datasets/E3/recipes.csv'\n",
    "df = pd.read_csv(PATH_TO_RECIPES_CSV, sep=\",\")\n",
    "print(df.head())\n",
    "\n",
    "print(best_in_course(df, 'Lunch'))  # expected: 1028\n",
    "print(best_in_course(df, 'Brunch'))  # expected: 0"
   ]
  }
 ],
 "metadata": {
  "kernelspec": {
   "display_name": "Python 3",
   "language": "python",
   "name": "python3"
  },
  "language_info": {
   "codemirror_mode": {
    "name": "ipython",
    "version": 3
   },
   "file_extension": ".py",
   "mimetype": "text/x-python",
   "name": "python",
   "nbconvert_exporter": "python",
   "pygments_lexer": "ipython3",
   "version": "3.8.8"
  }
 },
 "nbformat": 4,
 "nbformat_minor": 5
}
