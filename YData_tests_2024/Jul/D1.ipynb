{
 "cells": [
  {
   "cell_type": "markdown",
   "id": "33651ad3-eb3d-4e60-85db-20ebb83c1856",
   "metadata": {},
   "source": [
    "<h3>(D1) Shopping - Duplicates</h3>\n",
    "<p><span>You were given a shopping list of items to buy in preparation for a family holiday. Unfortunately, in all the haste, you got confused and bought multiples of some items while skipping others. Now you must write an algorithm to quickly check the list and find the <strong>unnecessary</strong> items.</span><span></span></p>\n",
    "<p><span></span><span>The shopping list contains exactly </span><span><code>n</code> </span><span>items, where each item in the list is represented by an integer </span><span><code>k</code> </span><span>in the range </span><code><span>[1,n]</span></code>.</p>\n",
    "<p><span>You are given a list </span><code><span>items</span></code><span> representing the items bought, and are asked to write a function </span><span><code>repeated_items(items)</code> </span><span>which returns an integer </span><code><span>k</span></code><span> corresponding to the lowest item (<code>k</code>) in </span><code><span>items</span></code><span> that appears more than once. Return <code>0</code> if no items are repeated</span></p>\n",
    "<p><strong>&nbsp;Constrains:&nbsp;</strong></p>\n",
    "<ul>\n",
    "  <li aria-level=\"1\"><code><span>1 &lt;= k &lt;= n</span></code></li>\n",
    "  <li aria-level=\"1\"><code><span>len(items) = n</span></code></li>\n",
    "  <li aria-level=\"1\"><code><span>1 &lt;= n &lt;= 10^3</span></code></li>\n",
    "</ul>\n",
    "<p><strong>Example 1:</strong></p>\n",
    "<ul>\n",
    "  <li>Input: <code>items = [6,2,3,3,2,1]</code></li>\n",
    "  <li>Output: <code>2</code></li>\n",
    "</ul>\n",
    "<p><strong>Example 2:</strong></p>\n",
    "<ul>\n",
    "  <li>Input: items = <code>[<span>1,2,3</span>]</code></li>\n",
    "  <li>Output: <code>0</code></li>\n",
    "</ul>\n",
    "<div>\n",
    "  <h5><strong>Reminder:</strong> You must select 2 out of 3 questions in programming section: D, E and F, and answer both selected questions as fully as possible (for example, if you choose D and F, you should answer questions D1, D2, D3 and F1, F2, F3).</h5>\n",
    "</div>"
   ]
  },
  {
   "cell_type": "code",
   "execution_count": null,
   "id": "9b97c4a1-d1fc-4aa1-b567-064ce8793b24",
   "metadata": {},
   "outputs": [],
   "source": [
    "### Initial candidate answer code"
   ]
  },
  {
   "cell_type": "code",
   "execution_count": null,
   "id": "f19d55b2-bb05-4220-97d3-f2a3fa1ecc8d",
   "metadata": {},
   "outputs": [],
   "source": [
    "# Use print(\"messages...\") to debug your solution.\n",
    "\n",
    "def repeated_items(items: list[int]) -> int:\n",
    "    # Your code goes here\n",
    "    return 0"
   ]
  },
  {
   "cell_type": "code",
   "execution_count": null,
   "id": "6c0844c3-371e-41f9-86af-492c02e075a3",
   "metadata": {},
   "outputs": [],
   "source": [
    "### Initial candidate test code"
   ]
  },
  {
   "cell_type": "code",
   "execution_count": null,
   "id": "13b2e6ec-370b-40b6-9d37-a24abc7648b9",
   "metadata": {},
   "outputs": [],
   "source": [
    "\"\"\"\n",
    "In this section you can experiment and test your code.\n",
    "The function \"repeated_items\" is already imported into the environment.\n",
    "\"\"\"\n",
    "\n",
    "print(repeated_items([6, 2, 3, 3, 2, 1]))  # expected: 2\n",
    "print(repeated_items([1, 2, 3]))  # expected: 0"
   ]
  }
 ],
 "metadata": {
  "kernelspec": {
   "display_name": "Python 3",
   "language": "python",
   "name": "python3"
  },
  "language_info": {
   "codemirror_mode": {
    "name": "ipython",
    "version": 3
   },
   "file_extension": ".py",
   "mimetype": "text/x-python",
   "name": "python",
   "nbconvert_exporter": "python",
   "pygments_lexer": "ipython3",
   "version": "3.8.8"
  }
 },
 "nbformat": 4,
 "nbformat_minor": 5
}
