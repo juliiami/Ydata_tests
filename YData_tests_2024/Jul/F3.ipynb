{
 "cells": [
  {
   "cell_type": "markdown",
   "id": "dac56231-9505-48bb-b68e-50106ff1daef",
   "metadata": {},
   "source": [
    "<div><strong>(F3) Netflix: New total</strong></div>\n",
    "<div><span>Using the Netflix titles dataset you used in questions F1 and F2 (which now includes the&nbsp;<code>fixed_duration</code> feature calculated in previous questions), perform the following task:</span></div>\n",
    "<div>&nbsp;</div>\n",
    "<div><span>Given a month and a year, write a function </span><code>monthly_new_content(df, month, year)</code><span> that returns the total </span><code>fixed_duration</code><span> </span><span>of content that was added during that period based on the information in the </span><code>date_added</code><span> and </span><code>fixed_duration</code><span> </span><span>columns.</span></div>\n",
    "<div>&nbsp;</div>\n",
    "<div><span><strong>Notes</strong>:</span></div>\n",
    "<ul>\n",
    "  <li><span>Month is provided in numeric format (e.g. \"4\" for April)</span></li>\n",
    "  <li><span>Year is provided in YYYY format (e.g. \"2012\")</span></li>\n",
    "</ul>\n",
    "<div>\n",
    "  <h5>Reminder: You must select 2 out of 3 questions in programming section: D, E and F, and answer both selected questions as fully as possible (for example, if you choose D and F, you should answer questions D1, D2, D3 and F1, F2, F3).</h5>\n",
    "</div>"
   ]
  },
  {
   "cell_type": "code",
   "execution_count": null,
   "id": "9feff546-7208-424e-801d-2fe53cf939dc",
   "metadata": {},
   "outputs": [],
   "source": [
    "### Initial candidate answer code"
   ]
  },
  {
   "cell_type": "code",
   "execution_count": null,
   "id": "041b3dd0-5d05-430c-a147-9f7edeeb163a",
   "metadata": {},
   "outputs": [],
   "source": [
    "# Use print(\"messages...\") to debug your solution.\n",
    "import pandas as pd\n",
    "def monthly_new_content(df: pd.DataFrame, month: int, year: int) -> int:\n",
    "    # Your code goes here\n",
    "    return 0"
   ]
  },
  {
   "cell_type": "code",
   "execution_count": null,
   "id": "a13118cd-f89c-4702-a444-549b2b67aa26",
   "metadata": {},
   "outputs": [],
   "source": [
    "### Initial candidate test code"
   ]
  },
  {
   "cell_type": "code",
   "execution_count": null,
   "id": "0abbfe61-f101-40e1-8155-538bd5d2b0f3",
   "metadata": {},
   "outputs": [],
   "source": [
    "\"\"\"\n",
    "In this section you can explore the data, experiment and test your code.\n",
    "\n",
    "The function \"monthly_new_content\" and \"pandas\" are already imported into the environment.\n",
    "\n",
    "The variable PATH_TO_NETFLIX_CSV store the path to 'Netflix Titles.csv' file.\n",
    "\"\"\"\n",
    "PATH_TO_NETFLIX_CSV = './datasets/F3/Netflix_titles_with_fixed_duration.csv'\n",
    "df = pd.read_csv(PATH_TO_NETFLIX_CSV, sep=\",\")\n",
    "\n",
    "print(df.head())\n",
    "print(monthly_new_content(df, 9, 2021))  # expected: 98271"
   ]
  }
 ],
 "metadata": {
  "kernelspec": {
   "display_name": "Python 3",
   "language": "python",
   "name": "python3"
  },
  "language_info": {
   "codemirror_mode": {
    "name": "ipython",
    "version": 3
   },
   "file_extension": ".py",
   "mimetype": "text/x-python",
   "name": "python",
   "nbconvert_exporter": "python",
   "pygments_lexer": "ipython3",
   "version": "3.8.8"
  }
 },
 "nbformat": 4,
 "nbformat_minor": 5
}
