{
 "cells": [
  {
   "cell_type": "markdown",
   "id": "4256da04-8711-4e86-b0f4-95f0da20abab",
   "metadata": {},
   "source": [
    "<div><strong>(F2) Netflix: Calculate duration</strong></div>\n",
    "<div>You are provided with the same dataset you used in <strong>F1</strong>:<strong> </strong><em>Netflix_titles.csv</em></div>\n",
    "<div>&nbsp;</div>\n",
    "<div>You are asked to perform the following task:</div>\n",
    "<div>Create a new column called <code>fixed_duration</code>, with integer values. It should have a value in minutes based on the existing <code>duration</code>&nbsp;column, with the added assumption that 1 season has a duration of <strong>600 minutes</strong>.</div>\n",
    "<div>Write the function <code>show_duration(df, show_id)</code>, that given a <code>show_id</code><em> </em>and the new df with the new column, will return the value of the given title's <code>fixed_duration</code></div>\n",
    "<div>&nbsp;</div>\n",
    "<div>\n",
    "  <h5>Reminder: You must select 2 out of 3 questions in programming section: D, E and F, and answer both selected questions as fully as possible (for example, if you choose D and F, you should answer questions D1, D2, D3 and F1, F2, F3).</h5>\n",
    "</div>"
   ]
  },
  {
   "cell_type": "code",
   "execution_count": null,
   "id": "bf4fc1f1-7147-4b9a-89cc-7bb1744c1e16",
   "metadata": {},
   "outputs": [],
   "source": [
    "### Initial candidate answer code"
   ]
  },
  {
   "cell_type": "code",
   "execution_count": null,
   "id": "fca50aef-0acf-4f4b-8e34-cd6771a4facc",
   "metadata": {},
   "outputs": [],
   "source": [
    "# Use print(\"messages...\") to debug your solution.\n",
    "\n",
    "import pandas as pd\n",
    "\n",
    "\n",
    "def add_fixed_duration_column(df: pd.DataFrame) -> pd.DataFrame:\n",
    "    # Your code goes here\n",
    "    return df\n",
    "\n",
    "\n",
    "def show_duration(df: pd.DataFrame, show_id: str) -> int:\n",
    "    # Your code goes here\n",
    "    return 0"
   ]
  },
  {
   "cell_type": "code",
   "execution_count": null,
   "id": "26c490e9-b54d-4b9a-b22c-7c8ecb064fba",
   "metadata": {},
   "outputs": [],
   "source": [
    "### Initial candidate test code"
   ]
  },
  {
   "cell_type": "code",
   "execution_count": null,
   "id": "56a0c388-d381-4137-bf8c-83922093d031",
   "metadata": {},
   "outputs": [],
   "source": [
    "\"\"\"\n",
    "In this section you can explore the data, experiment and test your code.\n",
    "\n",
    "The functions \"add_fixed_duration_column\", \"show_duration\" are already imported into the environment.\n",
    "\"pandas\" is also imported into the environment\n",
    "\n",
    "The variable PATH_TO_NETFLIX_CSV store the path to 'Netflix Titles.csv' file.\n",
    "\"\"\"\n",
    "PATH_TO_NETFLIX_CSV = './datasets/F2/f1_ex1.csv'\n",
    "df = pd.read_csv(PATH_TO_NETFLIX_CSV, sep=\",\")\n",
    "\n",
    "print(df.head())\n",
    "new_df = add_fixed_duration_column(df)\n",
    "print(new_df.head())\n",
    "print(show_duration(new_df, 's1'))  # expected: 90"
   ]
  }
 ],
 "metadata": {
  "kernelspec": {
   "display_name": "Python 3",
   "language": "python",
   "name": "python3"
  },
  "language_info": {
   "codemirror_mode": {
    "name": "ipython",
    "version": 3
   },
   "file_extension": ".py",
   "mimetype": "text/x-python",
   "name": "python",
   "nbconvert_exporter": "python",
   "pygments_lexer": "ipython3",
   "version": "3.8.8"
  }
 },
 "nbformat": 4,
 "nbformat_minor": 5
}
