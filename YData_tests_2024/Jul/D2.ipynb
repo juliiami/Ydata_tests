{
 "cells": [
  {
   "cell_type": "markdown",
   "id": "3d7dc233-7a43-4649-8ebe-2e3e065312ed",
   "metadata": {},
   "source": [
    "<div>\n",
    "  <h3>(D2)<strong> </strong>Shopping<strong> - </strong>Missing</h3>\n",
    "  <p><span>You were given a shopping list of items to buy in preparation for a family holiday. Unfortunately, in all the haste, you got confused and bought multiples of some items while skipping others. Now you must write an algorithm to quickly check the list and find the <strong>missing</strong> items.</span></p>\n",
    "  <p><span></span><span>The shopping list contains exactly </span><span><code>n</code> </span><span>items, where each item in the list is represented by an integer </span><span><code>k</code> </span><span>in the range </span><code><span>[1,n]</span></code>.</p>\n",
    "  <p><span></span><span>You are given a list </span><code><span>items</span></code><span> representing the items bought, and are asked to write a function </span><span><code>missing_items(items)</code> </span><span>which returns a list of all the integers in the range <code>[1,n]</code> that<strong> do not appear</strong> in <code>items</code> <strong>arranged in non-decreasing order</strong>.</span><span> Return <code>[0]</code> if no items are missing</span></p>\n",
    "  <p><strong>&nbsp;Constrains:&nbsp;</strong></p>\n",
    "  <ul>\n",
    "    <li aria-level=\"1\"><code><span>1 &lt;= k &lt;= n</span></code></li>\n",
    "    <li aria-level=\"1\"><code><span>len(items) = n</span></code></li>\n",
    "    <li aria-level=\"1\"><code><span>1 &lt;= n &lt;= 10^3</span></code></li>\n",
    "  </ul>\n",
    "  <p><strong>Example 1:</strong></p>\n",
    "  <ul>\n",
    "    <li>Input: items = <span>[6,3,5,3,1,1]</span></li>\n",
    "    <li>Output: [2,4]</li>\n",
    "  </ul>\n",
    "  <div><strong>Example 2:</strong></div>\n",
    "  <ul>\n",
    "    <li>Input: items = [<span>1,2,3</span>]</li>\n",
    "    <li>Output: [0]</li>\n",
    "  </ul>\n",
    "  <div>\n",
    "    <div><strong>Example 3:</strong></div>\n",
    "    <ul>\n",
    "      <li>Input: items = [2,2]</li>\n",
    "      <li>Output: [1]</li>\n",
    "    </ul>\n",
    "  </div>\n",
    "</div>\n",
    "<div>\n",
    "  <div>\n",
    "    <h5><strong>Reminder:</strong> You must select 2 out of 3 questions in programming section: D, E and F, and answer both selected questions as fully as possible (for example, if you choose D and F, you should answer questions D1, D2, D3 and F1, F2, F3).</h5>\n",
    "  </div>\n",
    "</div>"
   ]
  },
  {
   "cell_type": "code",
   "execution_count": null,
   "id": "b6c5d20b-d649-4d85-923f-a4236a16a033",
   "metadata": {},
   "outputs": [],
   "source": [
    "### Initial candidate answer code"
   ]
  },
  {
   "cell_type": "code",
   "execution_count": null,
   "id": "e1034c0c-e869-4bc1-9748-90c08920ea82",
   "metadata": {},
   "outputs": [],
   "source": [
    "# Use print(\"messages...\") to debug your solution.\n",
    "\n",
    "def missing_items(items: list[int]) -> list[int]:\n",
    "    # Your code goes here\n",
    "    return [0]"
   ]
  },
  {
   "cell_type": "code",
   "execution_count": null,
   "id": "3fc9e1ab-199d-4ec7-b55b-0a90a98470c2",
   "metadata": {},
   "outputs": [],
   "source": [
    "### Initial candidate test code"
   ]
  },
  {
   "cell_type": "code",
   "execution_count": null,
   "id": "be3f47a6-8370-4a4a-8743-37c87dbb2e55",
   "metadata": {},
   "outputs": [],
   "source": [
    "\"\"\"\n",
    "In this section you can experiment and test your code.\n",
    "The function \"missing_items\" is already imported into the environment.\n",
    "\"\"\"\n",
    "\n",
    "print(missing_items([6,3,5,3,1,1]))  # expected: [2, 4]\n",
    "print(missing_items([1, 2, 3]))  # expected: [0]\n",
    "print(missing_items([2, 2]))  # expected: [1]"
   ]
  },
  {
   "cell_type": "code",
   "execution_count": null,
   "id": "b2fbe41e-ebad-4d2d-8db1-f283203a4dab",
   "metadata": {},
   "outputs": [],
   "source": [
    "### Autograder part (hidden from the candidate)"
   ]
  },
  {
   "cell_type": "code",
   "execution_count": null,
   "id": "35ce0aeb-6980-4fc0-83c3-74c7da84ef87",
   "metadata": {},
   "outputs": [],
   "source": [
    "import random\n",
    "\n",
    "random.seed(123)\n",
    "\n",
    "N = 10**3\n",
    "\n",
    "assert missing_items([6, 3, 5, 3, 1, 1]) == [2, 4], \"Basic case failed\"\n",
    "assert missing_items([1, 2, 3]) == [0], \"All items present failed\"\n",
    "assert missing_items([2, 2]) == [1], \"Single missing item failed\"\n",
    "\n",
    "assert missing_items([1]) == [0], \"Minimum valid input failed\"\n",
    "\n",
    "assert missing_items([1, 2]) == [0], \"2 items failed\"\n",
    "assert missing_items(list(range(1, 6))) == [0], \"5 items failed\"\n",
    "\n",
    "assert missing_items([5, 4, 3, 2, 1]) == [0], \"reversed order failed\"\n",
    "\n",
    "assert missing_items([3, 4, 1, 5, 2]) == [0], \"shuffled failed\"\n",
    "\n",
    "assert missing_items([2, 2, 3, 4]) == [1]\n",
    "assert missing_items([2, 3, 3, 4]) == [1]\n",
    "assert missing_items([2, 3, 4, 4]) == [1]\n",
    "\n",
    "assert missing_items([3, 5, 2, 3, 4]) == [1]\n",
    "assert missing_items([3, 4, 5, 2, 4]) == [1]\n",
    "assert missing_items([3, 5, 5, 2, 4]) == [1]\n",
    "\n",
    "assert missing_items([1, 1]) == [2]\n",
    "assert missing_items([1, 1, 2, 3, 4]) == [5]\n",
    "assert missing_items([1, 2, 2, 3, 4]) == [5]\n",
    "assert missing_items([1, 2, 3, 3, 4]) == [5]\n",
    "assert missing_items([1, 2, 3, 4, 4]) == [5]\n",
    "\n",
    "assert missing_items([3, 1, 2, 2, 4]) == [5]\n",
    "assert missing_items([3, 1, 2, 1, 4]) == [5]\n",
    "assert missing_items([3, 1, 3, 2, 4]) == [5]\n",
    "assert missing_items([3, 4, 2, 4, 1]) == [5]\n",
    "\n",
    "assert missing_items([1] * 5) == [2, 3, 4, 5]\n",
    "assert missing_items([2] * 5) == [1, 3, 4, 5]\n",
    "assert missing_items([3] * 5) == [1, 2, 4, 5]\n",
    "assert missing_items([4] * 5) == [1, 2, 3, 5]\n",
    "assert missing_items([5] * 5) == [1, 2, 3, 4]\n",
    "\n",
    "assert missing_items([3, 2, 4, 2, 3]) == [1, 5], 'first and last missing'\n",
    "assert missing_items([1, 2, 3, 4, 10] * 2) == [5, 6, 7, 8, 9]\n",
    "assert missing_items([1, 3, 5, 7] * 2 + [9]) == [2, 4, 6, 8]\n",
    "assert missing_items([2, 4, 6, 8, 10] * 2) == [1, 3, 5, 7, 9]\n",
    "\n",
    "large_input = list(range(1, N + 1))\n",
    "random.shuffle(large_input)\n",
    "assert missing_items(large_input) == [0], \"Large input (10^4 elements, unsorted) failed\"\n",
    "\n",
    "all_numbers = list(range(1, N + 1))\n",
    "\n",
    "# Randomly select 10 numbers to be missing\n",
    "missing_count = 10\n",
    "missing_numbers = set(random.sample(all_numbers, missing_count))\n",
    "\n",
    "# Create the input list with the missing numbers removed\n",
    "large_input = [num for num in all_numbers if num not in missing_numbers]\n",
    "large_input += large_input[:missing_count]\n",
    "\n",
    "# Shuffle the input to ensure it's unsorted\n",
    "random.shuffle(large_input)\n",
    "\n",
    "# Get the result from the function being tested\n",
    "result = missing_items(large_input)\n",
    "\n",
    "# Check if the result matches the expected missing numbers\n",
    "expected_missing = sorted(list(missing_numbers)) if missing_numbers else [0]\n",
    "\n",
    "assert result == expected_missing, f\"Large input (10^5 elements, unsorted) with {missing_count} missing items failed. Expected {expected_missing}, got {result}\"\n"
   ]
  }
 ],
 "metadata": {
  "kernelspec": {
   "display_name": "Python 3",
   "language": "python",
   "name": "python3"
  },
  "language_info": {
   "codemirror_mode": {
    "name": "ipython",
    "version": 3
   },
   "file_extension": ".py",
   "mimetype": "text/x-python",
   "name": "python",
   "nbconvert_exporter": "python",
   "pygments_lexer": "ipython3",
   "version": "3.8.8"
  }
 },
 "nbformat": 4,
 "nbformat_minor": 5
}
