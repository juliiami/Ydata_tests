{
 "cells": [
  {
   "cell_type": "markdown",
   "id": "e731d056-7c0c-4210-9bf4-3e4022172600",
   "metadata": {},
   "source": [
    "<p><strong>(A1) Statistics and Probability - Treasure<br></strong></p>\n",
    "<p>You are the Dread Pirate Lifshitz, and you’ve just captured the king’s treasure ship en route to port. The ship carries 800 crates in its hold, full of all the bounty of the kingdom. Unfortunately, they are all identical, and the ship’s captain threw the cargo manifest into the sea when he saw the battle was lost. Some of the crates contain coins, while others carry unique treasures worthy of your name: you know there are 160 crates with rubies from the Southern hills, 110 crates with sapphires from the Western caves, 95 crates with emeralds from the Eastern valleys, 30 with diamonds from the Southern plains, and 5 with ingots of star iron from the Northern wastes.</p>\n",
    "<ul>\n",
    "  <li>If you grab the first crate you see and open it, what is the probability it contains a gem from the South?</li>\n",
    "</ul>\n",
    "<div>&nbsp;</div>\n",
    "<div>In question A, all answers must be submitted as ﬂoating point numbers rounded to <strong>4 decimal</strong> <strong>digits</strong>. No code/text is allowed in submissions.</div>"
   ]
  },
  {
   "cell_type": "markdown",
   "id": "dde8b815-5eb9-492f-acc7-300dae7b48a6",
   "metadata": {},
   "source": [
    "<p><strong>(A2) Statistics and Probability - Treasure<br></strong></p>\n",
    "<p>You are the Dread Pirate Lifshitz, and you’ve just captured the king’s treasure ship en route to port. The ship carries 800 crates in its hold, full of all the bounty of the kingdom. Unfortunately, they are all identical, and the ship’s captain threw the cargo manifest into the sea when he saw the battle was lost. Some of the crates contain coins, while others carry unique treasures worthy of your name: you know there are 160 crates with rubies from the Southern hills, 110 crates with sapphires from the Western caves, 95 crates with emeralds from the Eastern valleys, 30 with diamonds from the Southern plains, and 5 with ingots of star iron from the Northern wastes.</p>\n",
    "<ul>\n",
    "  <li>If you cracked open a case, and you see it contains something other than coins. What is the probability you found a crate of diamonds?</li>\n",
    "</ul>\n",
    "<div>&nbsp;</div>\n",
    "<div>In question A, all answers must be submitted as ﬂoating point numbers rounded to <strong>4 decimal</strong> <strong>digits</strong>. No code/text is allowed in submissions.</div>"
   ]
  },
  {
   "cell_type": "markdown",
   "id": "10965b37-885b-4b18-a7a6-82f7367c3a9d",
   "metadata": {},
   "source": [
    "<p><strong>(A3) Statistics and Probability - Treasure</strong></p>\n",
    "<p>You are the Dread Pirate Lifshitz, and you’ve just captured the king’s treasure ship en route to port. The ship carries 800 crates in its hold, full of all the bounty of the kingdom. Unfortunately, they are all identical, and the ship’s captain threw the cargo manifest into the sea when he saw the battle was lost. Some of the crates contain coins, while others carry unique treasures worthy of your name: you know there are 160 crates with rubies from the Southern hills, 110 crates with sapphires from the Western caves, 95 crates with emeralds from the Eastern valleys, 30 with diamonds from the Southern plains, and 5 with ingots of star iron from the Northern wastes.</p>\n",
    "<ul>\n",
    "  <li>You start opening crates as fast as possible, trying to grab as many unique treasures before the King’s navy catches you. What is the probability you opened 6 crates and found <strong>nothing but coins</strong>?</li>\n",
    "</ul>\n",
    "<div>&nbsp;</div>\n",
    "<div>In question A, all answers must be submitted as ﬂoating point numbers rounded to <strong>4 decimal</strong> <strong>digits</strong>. No code/text is allowed in submissions.</div>"
   ]
  },
  {
   "cell_type": "markdown",
   "id": "409d0841-4c23-4dfd-82c9-1c817f92b572",
   "metadata": {},
   "source": [
    "<p><strong>(A4) Statistics and Probability - Treasure&nbsp;</strong></p>\n",
    "<p>You are the Dread Pirate Lifshitz, and you’ve just captured the king’s treasure ship en route to port. The ship carries 800 crates in its hold, full of all the bounty of the kingdom. Unfortunately, they are all identical, and the ship’s captain threw the cargo manifest into the sea when he saw the battle was lost. Some of the crates contain coins, while others carry unique treasures worthy of your name: you know there are 160 crates with rubies from the Southern hills, 110 crates with sapphires from the Western caves, 95 crates with emeralds from the Eastern valleys, 30 with diamonds from the Southern plains, and 5 with ingots of star iron from the Northern wastes.</p>\n",
    "<ul>\n",
    "  <li>You start opening crates as fast as possible, trying to grab as many unique treasures before the King’s navy catches you. How many crates must you open before you are <strong>certain</strong> to find something other than coins?</li>\n",
    "</ul>\n",
    "<div>&nbsp;</div>\n",
    "<div>In question A, all answers must be submitted as ﬂoating point numbers rounded to <strong>4 decimal</strong> <strong>digits</strong>. No code/text is allowed in submissions.</div>"
   ]
  },
  {
   "cell_type": "markdown",
   "id": "4440db5c-256c-4732-87f1-dd4b648da63a",
   "metadata": {},
   "source": [
    "<p><strong>(A5) Statistics and Probability - Treasure&nbsp;</strong></p>\n",
    "<p>You are the Dread Pirate Lifshitz, and you’ve just captured the king’s treasure ship en route to port. The ship carries 800 crates in its hold, full of all the bounty of the kingdom. Unfortunately, they are all identical, and the ship’s captain threw the cargo manifest into the sea when he saw the battle was lost. Some of the crates contain coins, while others carry unique treasures worthy of your name: you know there are 160 crates with rubies from the Southern hills, 110 crates with sapphires from the Western caves, 95 crates with emeralds from the Eastern valleys, 30 with diamonds from the Southern plains, and 5 with ingots of star iron from the Northern wastes.</p>\n",
    "<p>Knowing the royal fleet will soon be upon you, you order your sailors to throw all the crates in your ship’s hold, which is already half-full of treasure from your previous journeys, and only once you set sail you realize the crates in your hold look identical to those you’ve just captured. In your hold you already had 1000 crates, equally distributed between the different types of treasure, though you never kept something as common as simple coins.</p>\n",
    "<ul>\n",
    "  <li>You’ve opened a crate that contains rubies, what is the probability it is one that was captured from the king’s ship?</li>\n",
    "</ul>\n",
    "<div>&nbsp;</div>\n",
    "<div>In question A, all answers must be submitted as ﬂoating point numbers rounded to <strong>4 decimal</strong> <strong>digits</strong>. No code/text is allowed in submissions.</div>"
   ]
  },
  {
   "cell_type": "markdown",
   "id": "2c37a482-2484-4d00-992c-42cf4a651c22",
   "metadata": {},
   "source": [
    "<p><strong>(A6) Statistics and Probability&nbsp;- Treasure&nbsp;</strong></p>\n",
    "<p>You are the Dread Pirate Lifshitz, and you’ve just captured the king’s treasure ship en route to port. The ship carries 800 crates in its hold, full of all the bounty of the kingdom. Unfortunately, they are all identical, and the ship’s captain threw the cargo manifest into the sea when he saw the battle was lost. Some of the crates contain coins, while others carry unique treasures worthy of your name: you know there are 160 crates with rubies from the Southern hills, 110 crates with sapphires from the Western caves, 95 crates with emeralds from the Eastern valleys, 30 with diamonds from the Southern plains, and 5 with ingots of star iron from the Northern wastes.</p>\n",
    "<p>Knowing the royal fleet will soon be upon you, you order your sailors to throw all the crates in your ship’s hold, which is already half-full of treasure from your previous journeys, and only once you set sail you realize the crates in your hold look identical to those you’ve just captured. In your hold you already had 1000 crates, equally distributed between the different types of treasure, though you never kept something as common as simple coins.</p>\n",
    "<ul>\n",
    "  <li>You grab a crate, and by the sound and weight you’re certain that it’s not just coins. What are the odds that once you open it, you’ll discover those are some of your old treasures and not part of the new take?</li>\n",
    "</ul>\n",
    "<div>&nbsp;</div>\n",
    "<div>In question A, all answers must be submitted as ﬂoating point numbers rounded to <strong>4 decimal</strong> <strong>digits</strong>. No code/text is allowed in submissions.</div>"
   ]
  }
 ],
 "metadata": {
  "kernelspec": {
   "display_name": "Python 3",
   "language": "python",
   "name": "python3"
  },
  "language_info": {
   "codemirror_mode": {
    "name": "ipython",
    "version": 3
   },
   "file_extension": ".py",
   "mimetype": "text/x-python",
   "name": "python",
   "nbconvert_exporter": "python",
   "pygments_lexer": "ipython3",
   "version": "3.8.8"
  }
 },
 "nbformat": 4,
 "nbformat_minor": 5
}
