{
 "cells": [
  {
   "cell_type": "markdown",
   "id": "4d986960-8404-4d91-9a37-f8165c73ed7c",
   "metadata": {},
   "source": [
    "<p><strong>(E1) Recipes: Total time</strong></p>\n",
    "<div>\n",
    "  <div>\n",
    "    <p>You are provided with the file <em>recipes.csv</em> loaded into the working directory.</p>\n",
    "    <p>The dataset contains multiple recipes, with information including recipe name and unique ID, list of ingredients, preparation and cook time, number of servings and which course and diet does it suit.</p>\n",
    "    <p><span>For each record, we are interested to know the total cook time - <code>TotalMakeTime</code>, combined from </span><code>PrepTimeInMins</code><span>, and </span><code>CookTimeInMins</code>.<span><br></span><span>Calculate this new feature and return the </span><strong>average </strong><code>TotalMakeTime</code><span> rounded to <strong>4 decimal</strong> <strong>digits</strong> </span><span>for dishes that belong to <em>Dinner</em></span><span> </span><code>Course</code>.</p>\n",
    "    <h5><span><strong>Reminder</strong>: You must select<strong> 2 out of 3 </strong>questions in programming section: D, E and F, and answer both selected questions as fully as possible (for example, if you choose D and F, you should answer questions D1, D2, D3 and F1, F2, F3).</span></h5>\n",
    "  </div>\n",
    "</div>"
   ]
  },
  {
   "cell_type": "code",
   "execution_count": null,
   "id": "c1772e43-a789-4de7-9837-51bb064ea3fa",
   "metadata": {},
   "outputs": [],
   "source": [
    "### Initial candidate answer code"
   ]
  },
  {
   "cell_type": "code",
   "execution_count": null,
   "id": "e27a42fe-f2a6-4ea2-9429-d4e4520c94c5",
   "metadata": {},
   "outputs": [],
   "source": [
    "# Use print(\"messages...\") to debug your solution.\n",
    "import pandas as pd \n",
    "\n",
    "def solution(df: pd.DataFrame) -> float:\n",
    "    # Your code goes here\n",
    "    return 0"
   ]
  },
  {
   "cell_type": "code",
   "execution_count": null,
   "id": "1412b56f-b023-4022-a9e9-59eb2d22d549",
   "metadata": {},
   "outputs": [],
   "source": [
    "### Initial candidate test code"
   ]
  },
  {
   "cell_type": "code",
   "execution_count": null,
   "id": "f7070d77-5186-4c63-973b-f144ee545871",
   "metadata": {},
   "outputs": [],
   "source": [
    "\"\"\"\n",
    "In this section you can explore the data, experiment and test your code.\n",
    "\n",
    "The \"solution\" function and \"pandas\" are already imported into the environment.\n",
    "\n",
    "The variable PATH_TO_RECIPES_CSV store the path to 'recipes.csv' file.\n",
    "\"\"\"\n",
    "PATH_TO_RECIPES_CSV = './datasets/E1/recipes.csv'\n",
    "df = pd.read_csv(PATH_TO_RECIPES_CSV, sep=\",\")\n",
    "print(df.head())\n",
    "\n",
    "result = solution(df)\n",
    "print(result)"
   ]
  },
  {
   "cell_type": "code",
   "execution_count": null,
   "id": "85f0647c-a180-45ee-b1c3-d7d447322f07",
   "metadata": {},
   "outputs": [],
   "source": [
    "### Autograder part (hidden from the candidate)"
   ]
  },
  {
   "cell_type": "code",
   "execution_count": null,
   "id": "05da1b49-9b4a-460b-85dd-e3a7137a53a5",
   "metadata": {},
   "outputs": [],
   "source": [
    "np.testing.assert_almost_equal(result, 58.1586, 3)"
   ]
  }
 ],
 "metadata": {
  "kernelspec": {
   "display_name": "Python 3",
   "language": "python",
   "name": "python3"
  },
  "language_info": {
   "codemirror_mode": {
    "name": "ipython",
    "version": 3
   },
   "file_extension": ".py",
   "mimetype": "text/x-python",
   "name": "python",
   "nbconvert_exporter": "python",
   "pygments_lexer": "ipython3",
   "version": "3.8.8"
  }
 },
 "nbformat": 4,
 "nbformat_minor": 5
}
