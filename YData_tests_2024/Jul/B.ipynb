{
 "cells": [
  {
   "cell_type": "markdown",
   "id": "252eab27-47ca-40f4-a301-8a114c850681",
   "metadata": {},
   "source": [
    "<div><strong>(B1) Dataset Analysis - Credit</strong></div>\n",
    "<div><span>In questions B1 - B6 you will be provided with a dataset of credit card customers <code><a rel=\"noopener noreferrer\" href=\"./datasets/B/credit_data.csv\" target=\"_blank\">credit_data.csv</a></code> and asked to answer questions based on it. The dataset includes the clients' personal details and recent history of transactions, as well as whether the client remained (<code>1</code>) or discontinued the credit card (<code>0</code>). <br>F</span><span>or full dataset description, <strong>see question C</strong>.</span></div>\n",
    "<div>&nbsp;</div>\n",
    "<div>Based on the <code>credit_data.csv</code> dataset, <span>What is the </span><strong>median</strong><span> age of a customer in the dataset?</span></div>\n",
    "<div>&nbsp;</div>\n",
    "<ul>\n",
    "  <li>In question B, round your answer to <strong>2</strong> decimal digits: 8.7199 -&gt;<strong> 8.72</strong>, 8.1 -&gt; <strong>8.10</strong></li>\n",
    "</ul>"
   ]
  },
  {
   "cell_type": "markdown",
   "id": "89688e5e-8a32-46d2-aaa3-08401572cc98",
   "metadata": {},
   "source": [
    "<div><strong>(B2) Dataset Analysis - Credit</strong></div>\n",
    "<div><span>In questions B1 - B6 you will be provided with a dataset of credit card customers<a rel=\"noopener noreferrer\" href=\"./datasets/B/credit_data.csv\" target=\"_blank\"> <code>credit_data.csv</code> </a>and asked to answer questions based on it. The dataset includes the clients' personal details and recent </span><span>history of transactions, as well as whether the client remained (<code>1</code>) or discontinued the credit card (<code>0</code>). <br>For full dataset description, <strong>see question C</strong>.</span></div>\n",
    "<div>&nbsp;</div>\n",
    "<div>Based on the <code>credit_data.csv</code> dataset, <span><span>What is the </span></span><strong>average </strong>age of <strong>divorced</strong> customers in the dataset?</div>\n",
    "<div>&nbsp;</div>\n",
    "<ul>\n",
    "  <li>In question B, round your answer to <strong>2</strong> decimal digits: 8.7199 -&gt;<strong> 8.72</strong>, 8.1 -&gt; <strong>8.10<br></strong></li>\n",
    "</ul>"
   ]
  },
  {
   "cell_type": "markdown",
   "id": "878aaa1f-fa09-4190-8291-8f2ac7c1be28",
   "metadata": {},
   "source": [
    "<div><span><strong>(B3) Dataset Analysis - Credit</strong></span></div>\n",
    "<div><span>In questions B1 - B6 you will be provided with a dataset of credit card customers<a rel=\"noopener noreferrer\" href=\"./datasets/B/credit_data.csv\" target=\"_blank\"> <code>credit_data.csv</code> </a>and asked to answer questions based on it. The dataset includes the clients' personal details and recent </span><span>history of transactions, as well as whether the client remained (<code>1</code>) or discontinued the credit card (<code>0</code>). <br>For full dataset description, <strong>see question C</strong>.</span></div>\n",
    "<div>&nbsp;</div>\n",
    "<div>Based on the <code>credit_data.csv</code> dataset, <span>What is the</span><strong> least common </strong><span>level of education in the dataset?</span></div>"
   ]
  },
  {
   "cell_type": "markdown",
   "id": "0924f896-ec26-4ce7-b549-623e9700494a",
   "metadata": {},
   "source": [
    "<div><span><strong>(B4) Dataset Analysis - Credit</strong></span></div>\n",
    "<div><span>In questions B1 - B6 you will be provided with a dataset of credit card customers<a rel=\"noopener noreferrer\" href=\"./datasets/B/credit_data.csv\" target=\"_blank\"> <code>credit_data.csv</code> </a>and asked to answer questions based on it. The dataset includes the clients' personal details and recent history of transactions, as well as whether the client remained (<code>1</code>) or discontinued the credit card (<code>0</code>). <br>For full dataset description, <strong>see question C</strong>.<br></span></div>\n",
    "<div>&nbsp;</div>\n",
    "<div>Based on the <code>credit_data.csv</code> dataset, let’s define a ratio R which is calculated based on <code>Client_remain</code> column as follows: <span class=\"cg-latex\">$$num(leaving)/num(remaining)$$</span>.\n",
    "  <div><span>What is the ratio <strong>R</strong> for all the available data?</span></div>\n",
    "</div>\n",
    "<div>&nbsp;</div>\n",
    "<ul>\n",
    "  <li>In question B, round your answer to <strong>2</strong> decimal digits: 8.7199 -&gt;<strong> 8.72</strong>, 8.1 -&gt; <strong>8.10<br></strong></li>\n",
    "</ul>"
   ]
  },
  {
   "cell_type": "markdown",
   "id": "a50e3d24-eb05-4c52-aeeb-fe91fe6db50a",
   "metadata": {},
   "source": [
    "<div><span><strong>(B5) Dataset Analysis - Credit</strong></span></div>\n",
    "<div><span>In questions B1 - B6 you will be provided with a dataset of credit card customers<a rel=\"noopener noreferrer\" href=\"./datasets/B/credit_data.csv\" target=\"_blank\"> <code>credit_data.csv</code> </a>and asked to answer questions based on it. The dataset includes the clients' personal details and recent history of transactions, as well as whether the client remained (<code>1</code>) or discontinued the credit card (<code>0</code>). <br>For full dataset description, <strong>see question C</strong>.<br></span></div>\n",
    "<div>&nbsp;</div>\n",
    "<div>Based on the <code>credit_data.csv</code> dataset, let’s define a ratio R which is calculated based on <code>Client_remain</code> column as follows: <span class=\"cg-latex\">$$num(leaving)/num(remaining)$$</span>.\n",
    "  <div><span>What is the ratio <strong>R</strong> for customers with an income of 60K or higher?</span></div>\n",
    "</div>\n",
    "<div>&nbsp;</div>\n",
    "<ul>\n",
    "  <li>In question B, round your answer to <strong>2</strong> decimal digits: 8.7199 -&gt;<strong> 8.72</strong>, 8.1 -&gt; <strong>8.10<br></strong></li>\n",
    "</ul>"
   ]
  },
  {
   "cell_type": "markdown",
   "id": "365bd077-686f-47bb-9843-bd5cea7acaf8",
   "metadata": {},
   "source": [
    "<div><span><strong>(B6) Dataset Analysis - Credit</strong></span></div>\n",
    "<div><span>In questions B1 - B6 you will be provided with a dataset of credit card customers<a rel=\"noopener noreferrer\" href=\"./datasets/B/credit_data.csv\" target=\"_blank\"> <code>credit_data.csv</code> </a>and asked to answer questions based on it. The dataset includes the clients' personal details and recent history of transactions, as well as whether the client remained (<code>1</code>) or discontinued the credit card (<code>0</code>).&nbsp; For full dataset description, <strong>see question C</strong>.<br></span></div>\n",
    "<div>&nbsp;</div>\n",
    "<div>Based on the <code>credit_data.csv</code> dataset, let’s define a ratio R which is calculated based on <code>Client_remain</code> column as follows: <span class=\"cg-latex\">$$num(leaving)/num(remaining)$$</span>.\n",
    "  <div>\n",
    "    <div>&nbsp;</div>\n",
    "    <div><span>What decade of ages (20s, 30s, ..., 70s) has the <strong>highest</strong> R ratio?</span></div>\n",
    "  </div>\n",
    "</div>"
   ]
  }
 ],
 "metadata": {
  "kernelspec": {
   "display_name": "Python 3 (ipykernel)",
   "language": "python",
   "name": "python3"
  },
  "language_info": {
   "codemirror_mode": {
    "name": "ipython",
    "version": 3
   },
   "file_extension": ".py",
   "mimetype": "text/x-python",
   "name": "python",
   "nbconvert_exporter": "python",
   "pygments_lexer": "ipython3",
   "version": "3.12.7"
  }
 },
 "nbformat": 4,
 "nbformat_minor": 5
}
