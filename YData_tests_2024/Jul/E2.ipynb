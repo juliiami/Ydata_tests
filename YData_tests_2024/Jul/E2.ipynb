{
 "cells": [
  {
   "cell_type": "markdown",
   "id": "4256da04-8711-4e86-b0f4-95f0da20abab",
   "metadata": {},
   "source": [
    "<div><strong>(E2) Recipes - Ingredients</strong></div>\n",
    "<div>Using the dataset which you've used in E1,&nbsp;<span>&nbsp;</span><em>recipes.csv</em>, perform the following task:\n",
    "  <div>&nbsp;</div>\n",
    "  <div>Calculate a new feature <code>NumberOfIngredients</code> for each dish by parsing the <code>TranslatedIngredients</code> column and separating on <code>,</code>. Return the <code>RecipeId</code> of the dish with the <strong>maximum</strong> amount of ingredients in the dataset. If there is more than one dish meeting these criteria, return the dish with the smallest <code>RecipeId</code>.</div>\n",
    "  <div>\n",
    "    <h5>Reminder: You must select 2 out of 3 questions in programming section: D, E and F, and answer both selected questions as fully as possible (for example, if you choose D and F, you should answer questions D1, D2, D3 and F1, F2, F3).</h5>\n",
    "  </div>\n",
    "</div>"
   ]
  },
  {
   "cell_type": "code",
   "execution_count": null,
   "id": "bf4fc1f1-7147-4b9a-89cc-7bb1744c1e16",
   "metadata": {},
   "outputs": [],
   "source": [
    "### Initial candidate answer code"
   ]
  },
  {
   "cell_type": "code",
   "execution_count": null,
   "id": "fca50aef-0acf-4f4b-8e34-cd6771a4facc",
   "metadata": {},
   "outputs": [],
   "source": [
    "# Use print(\"messages...\") to debug your solution.\n",
    "import pandas as pd\n",
    "\n",
    "def solution(df: pd.DataFrame) -> int:\n",
    "    # Your code goes here\n",
    "    return 0"
   ]
  },
  {
   "cell_type": "code",
   "execution_count": null,
   "id": "26c490e9-b54d-4b9a-b22c-7c8ecb064fba",
   "metadata": {},
   "outputs": [],
   "source": [
    "### Initial candidate test code"
   ]
  },
  {
   "cell_type": "code",
   "execution_count": null,
   "id": "56a0c388-d381-4137-bf8c-83922093d031",
   "metadata": {},
   "outputs": [],
   "source": [
    "\"\"\"\n",
    "In this section you can explore the data, experiment and test your code.\n",
    "\n",
    "The \"solution\" function and \"pandas\" are already imported into the environment.\n",
    "\n",
    "The variable PATH_TO_RECIPES_CSV store the path to 'recipes.csv' file.\n",
    "\"\"\"\n",
    "PATH_TO_RECIPES_CSV = './datasets/E2/recipes.csv'\n",
    "df = pd.read_csv(PATH_TO_RECIPES_CSV, sep=\",\")\n",
    "print(df.head())\n",
    "\n",
    "result = solution(df)\n",
    "print(result)"
   ]
  },
  {
   "cell_type": "code",
   "execution_count": null,
   "id": "8908b2ef-3f27-425b-be15-808ee67ccd27",
   "metadata": {},
   "outputs": [],
   "source": [
    "### Autograder part (hidden from the candidate)"
   ]
  },
  {
   "cell_type": "code",
   "execution_count": null,
   "id": "5c732f8e-f98a-43b2-a55f-400177d857e2",
   "metadata": {},
   "outputs": [],
   "source": [
    "assert result == 6118"
   ]
  }
 ],
 "metadata": {
  "kernelspec": {
   "display_name": "Python 3",
   "language": "python",
   "name": "python3"
  },
  "language_info": {
   "codemirror_mode": {
    "name": "ipython",
    "version": 3
   },
   "file_extension": ".py",
   "mimetype": "text/x-python",
   "name": "python",
   "nbconvert_exporter": "python",
   "pygments_lexer": "ipython3",
   "version": "3.8.8"
  }
 },
 "nbformat": 4,
 "nbformat_minor": 5
}
