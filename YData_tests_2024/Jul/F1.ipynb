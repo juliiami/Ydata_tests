{
 "cells": [
  {
   "cell_type": "markdown",
   "id": "4d986960-8404-4d91-9a37-f8165c73ed7c",
   "metadata": {},
   "source": [
    "<p><strong>(F1) Netflix: Clean the Data</strong></p>\n",
    "<p>You are provided the file <em>Netflix_Titles.csv</em>, uploaded into the working directory.</p>\n",
    "<div><span>The dataset </span><span>contains a list of the TV shows and movies available on Netflix as of 2021.</span></div>\n",
    "<div>\n",
    "  <div><img alt=\"\" src=\"https://d1sxk9v5q9mvr.cloudfront.net/work/servlet/fileservlet?id=67786577511209\"></div>\n",
    "  <div>&nbsp;</div>\n",
    "  <p>You are requested to c<span>lean the dataset by performing the following tasks:</span></p>\n",
    "  <div>\n",
    "    <ul>\n",
    "      <li aria-level=\"3\"><span>Remove rows where the <code>duration</code> is <em>\"0 min\"</em> or has no value</span></li>\n",
    "      <li aria-level=\"3\"><span>For entries with a missing value in the <code>country</code> column, fill with <em>\"unknown\"</em></span></li>\n",
    "      <li aria-level=\"3\">In the <code>rating</code> column, replace with <em>\"unrated\"</em> all values which are <strong>not</strong> one of the following:&nbsp;\n",
    "        <ul>\n",
    "          <li aria-level=\"4\"><span>PG</span></li>\n",
    "          <li aria-level=\"4\"><span>PG-13</span></li>\n",
    "          <li aria-level=\"4\"><span>G</span></li>\n",
    "          <li aria-level=\"4\"><span>NC-17</span></li>\n",
    "          <li aria-level=\"4\"><span>NR</span></li>\n",
    "          <li aria-level=\"4\"><span>R</span></li>\n",
    "          <li aria-level=\"4\"><span>TV-14</span></li>\n",
    "          <li aria-level=\"4\"><span>TV-G</span></li>\n",
    "          <li aria-level=\"4\"><span>TV-MA</span></li>\n",
    "          <li aria-level=\"4\"><span>TV-PG</span></li>\n",
    "          <li aria-level=\"4\"><span>TV-Y</span></li>\n",
    "          <li aria-level=\"4\"><span>TV-Y7&nbsp;</span></li>\n",
    "        </ul>\n",
    "      </li>\n",
    "    </ul>\n",
    "  </div>\n",
    "</div>\n",
    "<h3>Input<span class=\"text-0-2-99\"></span></h3>\n",
    "<div><strong>Data:</strong></div>\n",
    "<p><em>Netflix_Titles.csv</em> as pandas DataFrame object</p>\n",
    "<h3>Output</h3>\n",
    "<p>Clean DataFrame as requested.</p>\n",
    "<div>\n",
    "  <h5>Reminder: You must select 2 out of 3 questions in programming section: D, E and F, and answer both selected questions as fully as possible (for example, if you choose D and F, you should answer questions D1, D2, D3 and F1, F2, F3).</h5>\n",
    "</div>"
   ]
  },
  {
   "cell_type": "code",
   "execution_count": null,
   "id": "c1772e43-a789-4de7-9837-51bb064ea3fa",
   "metadata": {},
   "outputs": [],
   "source": [
    "### Initial candidate answer code"
   ]
  },
  {
   "cell_type": "code",
   "execution_count": null,
   "id": "e27a42fe-f2a6-4ea2-9429-d4e4520c94c5",
   "metadata": {},
   "outputs": [],
   "source": [
    "# Use print(\"Debug messages...\") to debug your solution.\n",
    "import pandas as pd\n",
    "\n",
    "def clean_dataset(df: pd.DataFrame) -> pd.DataFrame:\n",
    "    # Your code goes here\n",
    "    return df"
   ]
  },
  {
   "cell_type": "code",
   "execution_count": null,
   "id": "1412b56f-b023-4022-a9e9-59eb2d22d549",
   "metadata": {},
   "outputs": [],
   "source": [
    "### Initial candidate test code"
   ]
  },
  {
   "cell_type": "code",
   "execution_count": null,
   "id": "f7070d77-5186-4c63-973b-f144ee545871",
   "metadata": {},
   "outputs": [],
   "source": [
    "\"\"\"\n",
    "In this section you can explore the data, experiment and test your code.\n",
    "\n",
    "The function \"clean_dataset\" and \"pandas\" are already imported into the environment.\n",
    "\n",
    "The variable PATH_TO_NETFLIX_CSV store the path to 'Netflix Titles.csv' file.\n",
    "\"\"\"\n",
    "PATH_TO_NETFLIX_CSV = './datasets/F1/Netflix Titles.csv'\n",
    "df = pd.read_csv(PATH_TO_NETFLIX_CSV, sep=\",\")\n",
    "print(df.head())\n",
    "\n",
    "print(clean_dataset(df)[['title', 'duration', 'country']].head(), '\\n')"
   ]
  }
 ],
 "metadata": {
  "kernelspec": {
   "display_name": "Python 3",
   "language": "python",
   "name": "python3"
  },
  "language_info": {
   "codemirror_mode": {
    "name": "ipython",
    "version": 3
   },
   "file_extension": ".py",
   "mimetype": "text/x-python",
   "name": "python",
   "nbconvert_exporter": "python",
   "pygments_lexer": "ipython3",
   "version": "3.8.8"
  }
 },
 "nbformat": 4,
 "nbformat_minor": 5
}
