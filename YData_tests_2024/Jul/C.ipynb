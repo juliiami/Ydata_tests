{
 "cells": [
  {
   "cell_type": "markdown",
   "id": "83c52c49-0f77-4b19-b6c8-ac9030debe01",
   "metadata": {},
   "source": [
    "<div><strong>(C) Credit - Churn prediction</strong></div>\n",
    "<div><span>You are provided again with the dataset you used in questions B1-B6 - <code>credit_data.csv</code>. As stated before, the dataset contains details of credit card clients and whether they remained with the company or churned (discontinued their account and cancelled the credit card).</span></div>\n",
    "<div><span>In this question you are </span>asked to analyse the clients' information and understand what influences whether a client leaves or remains, and fill the missing values in the <code>Client_remain</code> column accordingly.</div>\n",
    "<div>&nbsp;</div>\n",
    "<div><span>Here is detailed information on the dataset:</span></div>\n",
    "<div><span><img height=\"464\" width=\"635\" alt=\"\" src=\"https://d1sxk9v5q9mvr.cloudfront.net/work/servlet/fileservlet?id=67804834395628\"><br></span></div>\n",
    "<div>&nbsp;</div>\n",
    "<div><span>Explore and analyze the dataset using any tools you choose. Predict whether each customer with no value in the <code>Client_remain</code> column will churn or remain by filling in the values 0 or 1 in the column according to your prediction.</span></div>\n",
    "<div>&nbsp;</div>\n",
    "<div><strong>Note:</strong> You are encouraged to explore the dataset and try to find patterns in the data. You can add new columns to the dataset or modify the existing ones in any way that you feel necessary. The problem can be solved without the use of dedicated ML tools or libraries, but you can use such if you would like.</div>\n",
    "<div>The submitted result should be a .csv file with any number of rows and columns, but&nbsp;<strong>must</strong> have the <code>ClientID </code>and <code>Client_remain</code> columns, with the latter containing your prediction. Do not submit code.<br>(Optional) You can add comments explaining your approach in the \"comments\" section.</div>"
   ]
  }
 ],
 "metadata": {
  "kernelspec": {
   "display_name": "Python 3",
   "language": "python",
   "name": "python3"
  },
  "language_info": {
   "codemirror_mode": {
    "name": "ipython",
    "version": 3
   },
   "file_extension": ".py",
   "mimetype": "text/x-python",
   "name": "python",
   "nbconvert_exporter": "python",
   "pygments_lexer": "ipython3",
   "version": "3.8.8"
  }
 },
 "nbformat": 4,
 "nbformat_minor": 5
}
