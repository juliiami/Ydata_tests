{
 "cells": [
  {
   "cell_type": "markdown",
   "id": "3981cf78-b9c1-4eb2-ad12-c485afb525db",
   "metadata": {},
   "source": [
    "<h1 class=\"title\"><span>(E1)&nbsp;</span>Countries: Preprocess</h1>\n",
    "<div><span>To solve this question you are required to <strong>write</strong></span><span><strong>&nbsp;code</strong>, </span><span>processing an input ﬁle.</span></div>\n",
    "<p>You are provided the ﬁle<span>&nbsp;<span style=\"font-family: monospace;\">countries_data.csv</span></span>, uploaded into the working directory.&nbsp;</p>\n",
    "<p>This is a data comparing diﬀerent countries in the world based on several social and economical parameters across the years 2016-2019.</p>\n",
    "<p>Clean the data and prepare it in the following manner:</p>\n",
    "<ul>\n",
    "  <li><span></span>Clean up the <code>Region</code> column: Some countries have their region in incorrect format. e.g. \"WEst euROpe\" instead of \"west europe\". Correct these entries to match standard format. List of regions:\n",
    "    <ul>\n",
    "      <li><span></span>australia and new zealand</li>\n",
    "      <li><span></span>central and east europe</li>\n",
    "      <li><span></span>east asia</li>\n",
    "      <li><span></span>latin america and caribbean</li>\n",
    "      <li><span></span>middle east and north africa</li>\n",
    "      <li><span></span>north america</li>\n",
    "      <li><span></span>southeast africa</li>\n",
    "      <li><span></span>southeast asia</li>\n",
    "      <li><span></span>south asia</li>\n",
    "      <li><span></span>sub-saharan africa</li>\n",
    "      <li><span></span>west europe</li>\n",
    "    </ul>\n",
    "  </li>\n",
    "  <li><span></span>Deal with missing values:\n",
    "    <ul>\n",
    "      <li><span></span>Calculate the average of each column for each region. Round your results to <strong>2 decimal digits</strong></li>\n",
    "      <li><span></span>Fill missing numeric values in each column with the average for that region.</li>\n",
    "    </ul>\n",
    "  </li>\n",
    "</ul>\n",
    "<h2>Input format</h2>\n",
    "<div class=\"input-specification\"><span>A ﬁle <span style=\"font-family: monospace;\">countries_data.csv</span></span><span>, which should be processed.</span></div>\n",
    "<h2>Output format</h2>\n",
    "<div class=\"output-specification\"><span>Write code, processing the input file</span><span>. <strong>Do not add, rename or reorder columns or rows</strong> in the ﬁle. An output should contain <strong>a pandas dataframe</strong>.</span></div>\n",
    "<h2>Notes</h2>\n",
    "<div class=\"notes\">Maximum points for question E1:<strong> 7</strong> points.<!--l. 80--></div>\n",
    "<div class=\"notes\">&nbsp;</div>\n",
    "<div class=\"notes\">\n",
    "  <p style=\"text-indent: 0em;\"><span style=\"font-weight: bold;\">Reminder: </span>You must select 2 out of 3 questions in programming section: Sums (D), Countries (E), Streaming (F), and answer both selected questions as fully as possible (for example, if you choose Sums and Streaming, you should answer questions D1, D2, D3 and F1, F2, F3).</p>\n",
    "</div>"
   ]
  },
  {
   "cell_type": "code",
   "execution_count": null,
   "id": "c28d2f52-388b-4716-a9d2-58478726e3fa",
   "metadata": {},
   "outputs": [],
   "source": [
    "### Initial candidate answer code"
   ]
  },
  {
   "cell_type": "code",
   "execution_count": null,
   "id": "58629c83-ef0d-462f-90b3-6440fb19f78d",
   "metadata": {},
   "outputs": [],
   "source": [
    "# Use print(\"Debug messages...\") to debug your solution.\n",
    "\n",
    "def solution(countries):\n",
    "    # Your code goes here\n",
    "    return 0"
   ]
  },
  {
   "cell_type": "code",
   "execution_count": null,
   "id": "808a70f2-2fbd-4be8-ae51-a1919143c75f",
   "metadata": {},
   "outputs": [],
   "source": [
    "### Initial candidate test code"
   ]
  },
  {
   "cell_type": "code",
   "execution_count": null,
   "id": "32affb6b-e85d-474c-9af7-ad60936baffb",
   "metadata": {},
   "outputs": [],
   "source": [
    "import numpy as np\n",
    "import pandas as pd\n",
    "from datetime import datetime\n",
    "\n",
    "countries = pd.read_csv('./datasets/E1/countries_data.csv', sep=\",\")\n",
    "print(countries.head())\n",
    "\n",
    "result = solution(countries)\n",
    "print(result.head())\n",
    "print(result.Region.unique())"
   ]
  },
  {
   "cell_type": "code",
   "execution_count": null,
   "id": "4c30c1fd-9c97-46a2-9ba2-9c025c1c93c9",
   "metadata": {},
   "outputs": [],
   "source": []
  }
 ],
 "metadata": {
  "kernelspec": {
   "display_name": "Python 3 (ipykernel)",
   "language": "python",
   "name": "python3"
  },
  "language_info": {
   "codemirror_mode": {
    "name": "ipython",
    "version": 3
   },
   "file_extension": ".py",
   "mimetype": "text/x-python",
   "name": "python",
   "nbconvert_exporter": "python",
   "pygments_lexer": "ipython3",
   "version": "3.12.7"
  }
 },
 "nbformat": 4,
 "nbformat_minor": 5
}
