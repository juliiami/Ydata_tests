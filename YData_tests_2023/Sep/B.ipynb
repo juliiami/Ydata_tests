{
 "cells": [
  {
   "cell_type": "markdown",
   "id": "b1945c0a-413c-4ac0-9949-64080a1ddd36",
   "metadata": {},
   "source": [
    "<h2>(B1) Dataset Analysis</h2>\n",
    "<div>You&nbsp;are provided with the dataset <a rel=\"noopener noreferrer\" href=\"./datasets/B/disputes.csv\" target=\"_blank\"> <code>disputes.csv</code> </a>. You will be using it to answer questions B1-B6.</div>\n",
    "<div>&nbsp;</div>\n",
    "<div>\n",
    "  <p><span style=\"font-weight: 400;\">You are provided with data from&nbsp;<strong>iBuy</strong>, an auction-based online marketplace for electronics and gadgets</span><span style=\"font-weight: 400;\">. The data represents information about past disputes between buyers and sellers, where a buyer applied through the platform's resolution center to make a claim against the seller, and was awarded some sort of compensation. The data includes information about the transaction, the seller and the nature of the dispute, as well as the type of compensation the buyer received as part of the dispute resolution.</span><span style=\"font-weight: 400;\"></span></p>\n",
    "  <h4><span style=\"font-weight: 400;\">Dataset description:</span></h4>\n",
    "  <p><span style=\"font-weight: 400;\"><img height=\"424\" width=\"527\" alt=\"\" src=\"https://d1sxk9v5q9mvr.cloudfront.net/work/servlet/fileservlet?id=58654130614135\"><br></span></p>\n",
    "  <div>\n",
    "    <div class=\"legend\">&nbsp;&nbsp;</div>\n",
    "    <div class=\"legend\">Please answer the following question:</div>\n",
    "    <div class=\"legend\">&nbsp;</div>\n",
    "    <ul>\n",
    "      <li class=\"legend\">What is the most common <code>Item Condition</code> in the dataset?</li>\n",
    "    </ul>\n",
    "  </div>\n",
    "</div>"
   ]
  },
  {
   "cell_type": "markdown",
   "id": "4a9a1db4-1cf9-4f37-b48a-af8e1a8d0d56",
   "metadata": {},
   "source": [
    "<h2>(B2) Dataset Analysis</h2>\n",
    "<div>You&nbsp;are provided with the dataset <a rel=\"noopener noreferrer\" href=\"./datasets/B/disputes.csv\" target=\"_blank\"> <code>disputes.csv</code> </a>. You will be using it to answer questions B1-B6.</div>\n",
    "<div>&nbsp;</div>\n",
    "<div>\n",
    "  <p><span style=\"font-weight: 400;\">You are provided with data from&nbsp;<strong>iBuy</strong>, an auction-based online marketplace for electronics and gadgets</span><span style=\"font-weight: 400;\">. The data represents information about past disputes between buyers and sellers, where a buyer applied through the platform's resolution center to make a claim against the seller, and was awarded some sort of compensation. The data includes information about the transaction, the seller and the nature of the dispute, as well as the type of compensation the buyer received as part of the dispute resolution.</span><span style=\"font-weight: 400;\"></span></p>\n",
    "  <h4><span style=\"font-weight: 400;\">Dataset description:</span></h4>\n",
    "  <p><span style=\"font-weight: 400;\"><img height=\"424\" width=\"527\" alt=\"\" src=\"https://d1sxk9v5q9mvr.cloudfront.net/work/servlet/fileservlet?id=58654130614135\"><br></span></p>\n",
    "  <div>\n",
    "    <div class=\"legend\">&nbsp;&nbsp;</div>\n",
    "    <div class=\"legend\">Please answer the following question:</div>\n",
    "    <div class=\"legend\">&nbsp;</div>\n",
    "    <ul>\n",
    "      <li class=\"legend\">Approximately what percentage of disputes for which the <code>Resolution</code> is known receive a <strong>Full refund</strong>?</li>\n",
    "    </ul>\n",
    "  </div>\n",
    "</div>"
   ]
  },
  {
   "cell_type": "markdown",
   "id": "a4eac074-5853-4e62-91dc-5d5c417db49b",
   "metadata": {},
   "source": [
    "<h2>(B3) Dataset Analysis</h2>\n",
    "<div>You&nbsp;are provided with the dataset <a rel=\"noopener noreferrer\" href=\"./datasets/B/disputes.csv\" target=\"_blank\"> <code>disputes.csv</code> </a>. You will be using it to answer questions B1-B6.</div>\n",
    "<div>&nbsp;</div>\n",
    "<div>\n",
    "  <p><span style=\"font-weight: 400;\">You are provided with data from&nbsp;<strong>iBuy</strong>, an auction-based online marketplace for electronics and gadgets</span><span style=\"font-weight: 400;\">. The data represents information about past disputes between buyers and sellers, where a buyer applied through the platform's resolution center to make a claim against the seller, and was awarded some sort of compensation. The data includes information about the transaction, the seller and the nature of the dispute, as well as the type of compensation the buyer received as part of the dispute resolution.</span><span style=\"font-weight: 400;\"></span></p>\n",
    "  <h4><span style=\"font-weight: 400;\">Dataset description:</span></h4>\n",
    "  <p><span style=\"font-weight: 400;\"><img height=\"424\" width=\"527\" alt=\"\" src=\"https://d1sxk9v5q9mvr.cloudfront.net/work/servlet/fileservlet?id=58654130614135\"><br></span></p>\n",
    "  <div>\n",
    "    <div class=\"legend\">&nbsp;&nbsp;</div>\n",
    "    <div class=\"legend\">Please answer the following question:</div>\n",
    "    <div class=\"legend\">&nbsp;</div>\n",
    "    <ul>\n",
    "      <li class=\"legend\">What is the average <code>Winning Bid</code> in disputes involving items of type <strong>accessories</strong>?</li>\n",
    "    </ul>\n",
    "  </div>\n",
    "</div>"
   ]
  },
  {
   "cell_type": "markdown",
   "id": "b3956d9b-1ba4-4976-86d1-3f7cfa405eeb",
   "metadata": {},
   "source": [
    "<h2>(B4) Dataset Analysis</h2>\n",
    "<div>You&nbsp;are provided with the dataset <a rel=\"noopener noreferrer\" href=\"./datasets/B/disputes.csv\" target=\"_blank\"> <code>disputes.csv</code> </a>. You will be using it to answer questions B1-B6.</div>\n",
    "<div>&nbsp;</div>\n",
    "<div>\n",
    "  <p><span style=\"font-weight: 400;\">You are provided with data from&nbsp;<strong>iBuy</strong>, an auction-based online marketplace for electronics and gadgets</span><span style=\"font-weight: 400;\">. The data represents information about past disputes between buyers and sellers, where a buyer applied through the platform's resolution center to make a claim against the seller, and was awarded some sort of compensation. The data includes information about the transaction, the seller and the nature of the dispute, as well as the type of compensation the buyer received as part of the dispute resolution.</span><span style=\"font-weight: 400;\"></span></p>\n",
    "  <h4><span style=\"font-weight: 400;\">Dataset description:</span></h4>\n",
    "  <p><span style=\"font-weight: 400;\"><img height=\"424\" width=\"527\" alt=\"\" src=\"https://d1sxk9v5q9mvr.cloudfront.net/work/servlet/fileservlet?id=58654130614135\"><br></span></p>\n",
    "  <div>\n",
    "    <div class=\"legend\">&nbsp;&nbsp;</div>\n",
    "    <div class=\"legend\">Please answer the following question:</div>\n",
    "    <div class=\"legend\">&nbsp;</div>\n",
    "    <ul>\n",
    "      <li class=\"legend\">What month had the largest number of <strong>purchases made</strong> (that resulted in a dispute)?</li>\n",
    "    </ul>\n",
    "  </div>\n",
    "</div>"
   ]
  },
  {
   "cell_type": "markdown",
   "id": "5aaebb89-5184-4aa5-9f6e-76f084c16df4",
   "metadata": {},
   "source": [
    "<h2>(B5) Dataset Analysis</h2>\n",
    "<div>You&nbsp;are provided with the dataset <a rel=\"noopener noreferrer\" href=\"./datasets/B/disputes.csv\" target=\"_blank\"> <code>disputes.csv</code> </a>. You will be using it to answer questions B1-B6.</div>\n",
    "<div>&nbsp;</div>\n",
    "<div>\n",
    "  <p><span style=\"font-weight: 400;\">You are provided with data from&nbsp;<strong>iBuy</strong>, an auction-based online marketplace for electronics and gadgets</span><span style=\"font-weight: 400;\">. The data represents information about past disputes between buyers and sellers, where a buyer applied through the platform's resolution center to make a claim against the seller, and was awarded some sort of compensation. The data includes information about the transaction, the seller and the nature of the dispute, as well as the type of compensation the buyer received as part of the dispute resolution.</span><span style=\"font-weight: 400;\"></span></p>\n",
    "  <h4><span style=\"font-weight: 400;\">Dataset description:</span></h4>\n",
    "  <p><span style=\"font-weight: 400;\"><img height=\"424\" width=\"527\" alt=\"\" src=\"https://d1sxk9v5q9mvr.cloudfront.net/work/servlet/fileservlet?id=58654130614135\"><br></span></p>\n",
    "  <div>\n",
    "    <div class=\"legend\">&nbsp;&nbsp;</div>\n",
    "    <div class=\"legend\">Please answer the following question:</div>\n",
    "    <div class=\"legend\">&nbsp;</div>\n",
    "    <ul>\n",
    "      <li class=\"legend\">Approximately what percent of the disputes in the database had \"<strong>Free shipment</strong>\" as one of the item tags?</li>\n",
    "    </ul>\n",
    "  </div>\n",
    "</div>"
   ]
  },
  {
   "cell_type": "markdown",
   "id": "c9615796-f589-4d9b-a8e2-b1bdb290704b",
   "metadata": {},
   "source": [
    "<h2>(B6) Dataset Analysis</h2>\n",
    "<div>You&nbsp;are provided with the dataset <a rel=\"noopener noreferrer\" href=\"./datasets/B/disputes.csv\" target=\"_blank\"> <code>disputes.csv</code> </a>. You will be using it to answer questions B1-B6.</div>\n",
    "<div>&nbsp;</div>\n",
    "<div>\n",
    "  <p><span style=\"font-weight: 400;\">You are provided with data from&nbsp;<strong>iBuy</strong>, an auction-based online marketplace for electronics and gadgets</span><span style=\"font-weight: 400;\">. The data represents information about past disputes between buyers and sellers, where a buyer applied through the platform's resolution center to make a claim against the seller, and was awarded some sort of compensation. The data includes information about the transaction, the seller and the nature of the dispute, as well as the type of compensation the buyer received as part of the dispute resolution.</span><span style=\"font-weight: 400;\"></span></p>\n",
    "  <h4><span style=\"font-weight: 400;\">Dataset description:</span></h4>\n",
    "  <p><span style=\"font-weight: 400;\"><img height=\"424\" width=\"527\" alt=\"\" src=\"https://d1sxk9v5q9mvr.cloudfront.net/work/servlet/fileservlet?id=58654130614135\"><br></span></p>\n",
    "  <div>\n",
    "    <div class=\"legend\">&nbsp;&nbsp;</div>\n",
    "    <div class=\"legend\">Please answer the following question:</div>\n",
    "    <div class=\"legend\">&nbsp;</div>\n",
    "    <ul>\n",
    "      <li class=\"legend\">Which <code>Item condition</code> has the largest <strong>percentage </strong>of auctions with a <code>Starting bid</code> of over 1000USD?</li>\n",
    "    </ul>\n",
    "  </div>\n",
    "</div>"
   ]
  }
 ],
 "metadata": {
  "kernelspec": {
   "display_name": "",
   "name": ""
  },
  "language_info": {
   "name": ""
  }
 },
 "nbformat": 4,
 "nbformat_minor": 5
}
