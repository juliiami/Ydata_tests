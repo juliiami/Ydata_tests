{
 "cells": [
  {
   "cell_type": "markdown",
   "id": "277060f3-678d-49c1-ace5-df5c88f4daa6",
   "metadata": {},
   "source": [
    "<h3>(C) Seller Disputes: Predict</h3>\n",
    "<div>&nbsp;</div>\n",
    "<div>This question uses the same dataset as question <strong>B</strong>.</div>\n",
    "<div>You are provided with the dataset <code>disputes.csv</code>. Download the file below (<em>Download starter project</em> button)</div>\n",
    "<div>&nbsp;</div>\n",
    "<div>\n",
    "  <p><span style=\"font-weight: 400;\">You are provided with data from&nbsp;<strong>iBuy</strong>, an auction-based online marketplace for electronics and gadgets</span><span style=\"font-weight: 400;\">. The data represents information about past disputes between buyers and sellers, where a buyer applied through the platform's resolution center to make a claim against the seller, and was awarded some sort of compensation. The data includes information about the transaction, the seller and the nature of the dispute, as well as the type of compensation the buyer received as part of the dispute resolution.</span><span style=\"font-weight: 400;\"></span></p>\n",
    "  <h4><span style=\"font-weight: 400;\">Dataset description:</span></h4>\n",
    "  <p><span style=\"font-weight: 400;\"><img height=\"462\" width=\"590\" alt=\"\" src=\"https://d1sxk9v5q9mvr.cloudfront.net/work/servlet/fileservlet?id=58640956587043\"><br></span></p>\n",
    "  <div>\n",
    "    <div class=\"legend\">\n",
    "      <p>Explore and analyse the data provided, and try to understand the parameters indicating if a given dispute is likely to result in a partial or full refund, or in a replacement item being sent.<br><br>The file contains entries for which the resolution is not listed, and in this question your task is to<strong> predict what is the most likely type of compensation </strong>in each dispute and fill in the missing values in <code>Resolution</code> column according to your predictions.</p>\n",
    "    </div>\n",
    "    <h2>&nbsp;</h2>\n",
    "    <h2>Output format</h2>\n",
    "    <div class=\"output-specification\"><span>Upload the file <code>disputes.csv</code></span>&nbsp;with column <span><code>Resolution</code> </span>ﬁlled with predictions (<code>Send Replacement</code>, <code>Partial refund</code> or <code>Full refund</code>).</div>\n",
    "    <div class=\"output-specification\">Do <strong>NOT</strong> upload code files as your answer - only data file (.csv) with your answer.</div>\n",
    "    <div class=\"output-specification\">&nbsp;</div>\n",
    "    <div class=\"output-specification\">You can reorder rows and columns as you see fit and add new columns, but make sure your solution contains <span><code>Resolution</code> and <code>Dispute num.</code> columns.</span><span></span></div>\n",
    "    <div class=\"output-specification\">&nbsp;</div>\n",
    "    <div class=\"output-specification\">Sample rows in output file:<br><code>20015794,27,TO,19361,16/12/2015, ... ,60,60,<strong>Partial Refund</strong></code><br><code>20036300,95,AR,19460,31/05/2015, ... ,194.91,194.91,<strong>Send Replacement</strong></code><br><code>20059050,95,TO,19658,09/08/2015, ... ,72,72,<strong>Partial Refund</strong></code><br><code>20066296,2,HI,19366,18/12/2015, ... ,225,376.37,<strong>Full Refund</strong></code><br><code>20075815,5,AN,19815,01/02/2016, ... ,570.46,1066.07,<strong>Full Refund</strong></code></div>\n",
    "    <h2>&nbsp;</h2>\n",
    "    <h2>Notes</h2>\n",
    "    <div class=\"notes\">Maximum points for question C: <strong>30&nbsp;</strong>points.</div>\n",
    "    <div class=\"notes\">Use the sample outputs above to validate your answer before submitting.<br>\n",
    "      <p>You are not required to use any dedicated data science tools or resources to solve this question - their use is allowed, but the question can be solved in full without them, and their use does not guarantee a good solution.</p>\n",
    "      <p><span><strong>Hint</strong>: </span>Try to ﬁnd patterns in the provided data (<code>disputes<span>.csv</span></code>), and discover common rules and heuristics to produce your solution. See if you can create new features, combining or transforming the existing ones in order to find hidden indicators and paint a clearer picture.</p>\n",
    "      <p>&nbsp;</p>\n",
    "      <p>&nbsp;</p>\n",
    "    </div>\n",
    "  </div>\n",
    "</div>"
   ]
  }
 ],
 "metadata": {
  "kernelspec": {
   "display_name": "",
   "name": ""
  },
  "language_info": {
   "name": ""
  }
 },
 "nbformat": 4,
 "nbformat_minor": 5
}
