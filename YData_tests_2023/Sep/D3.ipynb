{
 "cells": [
  {
   "cell_type": "markdown",
   "id": "3981cf78-b9c1-4eb2-ad12-c485afb525db",
   "metadata": {},
   "source": [
    "<h1 class=\"title\"><span>(D3) Sums: </span>Closest</h1>\n",
    "<div>\n",
    "  <table style=\"border-collapse: collapse;\">\n",
    "    <tbody>\n",
    "      <tr class=\"time-limit\">\n",
    "        <td class=\"property-title\" style=\"border: 2px solid #fff; padding: 5px;\">Time limit</td>\n",
    "        <td style=\"border: 2px solid #fff; padding: 5px;\">4 seconds</td>\n",
    "      </tr>\n",
    "    </tbody>\n",
    "  </table>\n",
    "</div>\n",
    "<p>In this question you are required to <strong>write</strong> <strong>code</strong>, implementing a solution to the problem described below.</p>\n",
    "<p>You are given an integer value <span class=\"cg-latex\">$$x$$</span> and two unsorted arrays of sizes <span class=\"cg-latex\">$$m$$</span> and <span class=\"cg-latex\">$$n$$</span>, respectively, each comprised of distinct elements (numeric values): <span class=\"cg-latex\">$$A[a_1, \\ldots , a_i, \\dots ,a_m ]$$</span>, <span class=\"cg-latex\">$$B[b_1, \\dots ,b_j , \\dots ,b_n]$$</span>. The task is to find a pair <span class=\"cg-latex\">$$\\{a_i, b_j\\}$$</span> whose sum is closest to <span class=\"cg-latex\">$$x$$</span> and return the two numbers.</p>\n",
    "<p>Note: Each pair must contain one element from each of the arrays <span class=\"cg-latex\">$$A, B$$</span>.</p>\n",
    "<h2>Input format</h2>\n",
    "<div class=\"input-specification\">\n",
    "  <div>Three lines <span>— </span>1st line contains one integer value <span>—</span> <span class=\"cg-latex\">$$x$$</span>, 2nd and 3rd lines each contain a sequence of integers separated with space <span>— </span>arrays <span class=\"cg-latex\">$$A$$</span>&nbsp;and <span class=\"cg-latex\">$$B$$</span>, respectively,</div>\n",
    "  <div><span class=\"cg-latex\">$$1 \\le m,n \\le 100\\,000.$$</span></div>\n",
    "</div>\n",
    "<h2>Output format</h2>\n",
    "<div class=\"output-specification\">\n",
    "  <div>Print a list of two integers <span>—</span> corresponding to pair <span class=\"cg-latex\">$$\\{a_i, b_j\\}$$</span> closest to <span class=\"cg-latex\">$$x$$</span>.&nbsp;</div>\n",
    "  <div>If several such pairs exist, return the one with the lowest value of <span class=\"cg-latex\">$$a_i$$</span>. If several pairs with the lowest value of <span class=\"cg-latex\">$$a_i$$</span> exist, return the one with the lowest value of <span class=\"cg-latex\">$$b_j$$</span>. Return values in order as stated (<span class=\"cg-latex\">$$a_i$$</span> first, <span class=\"cg-latex\">$$b_j$$</span> second).</div>\n",
    "</div>\n",
    "<h3>Sample 1</h3>\n",
    "<table class=\"sample-tests\" style=\"border-collapse: collapse; height: 130px;\" width=\"186\">\n",
    "  <thead>\n",
    "    <tr>\n",
    "      <th style=\"border: 2px solid #fff;\">Input</th>\n",
    "      <th style=\"border: 2px solid #fff;\">Output</th>\n",
    "    </tr>\n",
    "  </thead>\n",
    "  <tbody>\n",
    "    <tr>\n",
    "      <td style=\"border: 2px solid #fff; text-align: center;\">\n",
    "        <pre>50<br>5 1 7 4<br> 20 10 30 40</pre>\n",
    "      </td>\n",
    "      <td style=\"border: 2px solid #fff; text-align: center;\">\n",
    "        <pre>[7, 40]</pre>\n",
    "      </td>\n",
    "    </tr>\n",
    "  </tbody>\n",
    "</table>\n",
    "<h3>Sample 2</h3>\n",
    "<table class=\"sample-tests\" style=\"border-collapse: collapse; height: 130px;\" width=\"186\">\n",
    "  <thead>\n",
    "    <tr>\n",
    "      <th style=\"border: 2px solid #fff;\">Input</th>\n",
    "      <th style=\"border: 2px solid #fff;\">Output</th>\n",
    "    </tr>\n",
    "  </thead>\n",
    "  <tbody>\n",
    "    <tr>\n",
    "      <td style=\"border: 2px solid #fff; text-align: center;\">\n",
    "        <pre>32<br>5 1 7 4<br>32 10 30 40</pre>\n",
    "      </td>\n",
    "      <td style=\"border: 2px solid #fff; text-align: center;\">\n",
    "        <pre>[1, 30]</pre>\n",
    "      </td>\n",
    "    </tr>\n",
    "  </tbody>\n",
    "</table>\n",
    "<h3><br>Notes</h3>\n",
    "<div class=\"notes\">Maximum points for question D3:<strong> 13</strong>&nbsp;points.<br><br><!--l. 80-->\n",
    "  <p style=\"text-indent: 0em;\"><span style=\"font-weight: bold;\">Reminder: </span>You must select 2 out of 3 questions in programming section: Sums (D), Countries (E), Streaming (F), and answer both selected questions as fully as possible (for example, if you choose Sums and Streaming, you should answer questions D1, D2, D3 and F1, F2, F3).</p>\n",
    "</div>"
   ]
  },
  {
   "cell_type": "code",
   "execution_count": null,
   "id": "c28d2f52-388b-4716-a9d2-58478726e3fa",
   "metadata": {},
   "outputs": [],
   "source": [
    "### Initial candidate answer code"
   ]
  },
  {
   "cell_type": "code",
   "execution_count": null,
   "id": "58629c83-ef0d-462f-90b3-6440fb19f78d",
   "metadata": {},
   "outputs": [],
   "source": [
    "# Use print(\"Debug messages...\") to debug your solution.\n",
    "\n",
    "def solution(x, A, B):\n",
    "    # Your code goes here\n",
    "    return 0"
   ]
  },
  {
   "cell_type": "code",
   "execution_count": null,
   "id": "808a70f2-2fbd-4be8-ae51-a1919143c75f",
   "metadata": {},
   "outputs": [],
   "source": [
    "### Initial candidate test code"
   ]
  },
  {
   "cell_type": "code",
   "execution_count": null,
   "id": "32affb6b-e85d-474c-9af7-ad60936baffb",
   "metadata": {},
   "outputs": [],
   "source": [
    "import numpy as np\n",
    "\n",
    "x1, A1, B1 = [50, '5 1 7 4', '20 10 30 40']\n",
    "print(x1, '\\n', A1, '\\n', B1) \n",
    "print(solution(x1, A1, B1), '\\n')\n",
    "\n",
    "x2, A2, B2 = [32, '5 1 7 4', '32 10 30 40']\n",
    "print(x2, '\\n', A2, '\\n', B2) \n",
    "print(solution(x2, A2, B2), '\\n')"
   ]
  },
  {
   "cell_type": "code",
   "execution_count": null,
   "id": "eb3c2138-0307-4779-996e-1862651a0257",
   "metadata": {},
   "outputs": [],
   "source": [
    "### Autograder part (hidden from the candidate)"
   ]
  },
  {
   "cell_type": "code",
   "execution_count": null,
   "id": "6089f9ea-b400-4fb0-99f6-b28c5fc16934",
   "metadata": {},
   "outputs": [],
   "source": [
    "import numpy as np\n",
    "import os\n",
    "import time\n",
    "\n",
    "data_path = './datasets/D3/tests/'\n",
    "\n",
    "for i in range(75):\n",
    "    \n",
    "    input_file = os.path.join(data_path,'{:02}'.format(i+1))\n",
    "    output_file = os.path.join(data_path,'{:02}'.format(i+1)+'.a')\n",
    "    with open(input_file) as f:\n",
    "        data_in = f.read().splitlines()\n",
    "    f.close()\n",
    "    with open(output_file) as f:\n",
    "        data_out = f.read().splitlines()\n",
    "    f.close()\n",
    "\n",
    "    x = int(data_in[0])\n",
    "    A = data_in[1]\n",
    "    B = data_in[2]\n",
    "    \n",
    "    t0 = time.time()\n",
    "    sol = solution(x, A, B)\n",
    "    t1 = time.time()\n",
    "    \n",
    "    ans = [int(i) for i in data_out[0].split()]\n",
    "    \n",
    "    assert(t1-t0 <= 4)\n",
    "    np.testing.assert_array_equal(sol,ans)"
   ]
  }
 ],
 "metadata": {
  "kernelspec": {
   "display_name": "Python 3 (ipykernel)",
   "language": "python",
   "name": "python3"
  },
  "language_info": {
   "codemirror_mode": {
    "name": "ipython",
    "version": 3
   },
   "file_extension": ".py",
   "mimetype": "text/x-python",
   "name": "python",
   "nbconvert_exporter": "python",
   "pygments_lexer": "ipython3",
   "version": "3.12.7"
  }
 },
 "nbformat": 4,
 "nbformat_minor": 5
}
