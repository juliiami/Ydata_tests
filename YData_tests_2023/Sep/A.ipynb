{
 "cells": [
  {
   "cell_type": "markdown",
   "id": "2c9a9d7a-fff7-4eb9-b43f-539461762e13",
   "metadata": {},
   "source": [
    "<h2><strong>(A1) - Probability</strong></h2>\n",
    "<p><span style=\"font-weight: 400;\">You are the Dread Pirate Lifshitz, and you’ve just captured the king’s treasure ship en route to port. The ship carries 6000 crates in its hold, full of all the bounty of the kingdom. Unfortunately, the crates are all identical, and the ship’s captain threw the cargo manifest into the sea when he saw the battle was lost. Most of the crates contain coins, with only a few are carrying unique treasures worthy of your name: you know there are 450 crates with rubies from the northern hills, 300 crates with sapphires&nbsp; from the eastern caves, 200 crates with emeralds from the northern valleys, 40 with diamonds from the southern coasts, and 10 with ingots of iron from a fallen star.</span></p>\n",
    "<div>&nbsp;</div>\n",
    "<p><strong>A1.</strong><span style=\"font-weight: 400;\">&nbsp;</span><span style=\"font-weight: 400;\">If you grab the first crate you see and open it, what is the probability it contains a gem from the north?</span></p>\n",
    "<p>&nbsp;</p>\n",
    "<p><span style=\"font-weight: 400;\">All answers must be submitted as ﬂoating point numbers rounded to </span><strong>4 decimal</strong><span style=\"font-weight: 400;\"> </span><strong>digits&nbsp;</strong>(e.g. 0.5000).<br><span style=\"font-weight: 400;\">No code/text is allowed in submissions.</span></p>"
   ]
  },
  {
   "cell_type": "markdown",
   "id": "5e58a5ad-f3aa-4b70-aa40-a1e1482a06af",
   "metadata": {},
   "source": [
    "<h2><strong>(A2) - Probability</strong></h2>\n",
    "<p><span style=\"font-weight: 400;\">You are the Dread Pirate Lifshitz, and you’ve just captured the king’s treasure ship en route to port. The ship carries 6000 crates in its hold, full of all the bounty of the kingdom. Unfortunately, the crates are all identical, and the ship’s captain threw the cargo manifest into the sea when he saw the battle was lost. Most of the crates contain coins, with only a few are carrying unique treasures worthy of your name: you know there are 450 crates with rubies from the northern hills, 300 crates with sapphires&nbsp; from the eastern caves, 200 crates with emeralds from the northern valleys, 40 with diamonds from the southern coasts, and 10 with ingots of iron from a fallen star.</span></p>\n",
    "<div>&nbsp;</div>\n",
    "<p><strong>A2.</strong><span style=\"font-weight: 400;\">&nbsp;Y</span><span style=\"font-weight: 400;\">ou cracked open a case, and you see it contains something other than coins. What is the probability you found ingots of star iron?</span></p>\n",
    "<p>&nbsp;</p>\n",
    "<p><span style=\"font-weight: 400;\">All answers must be submitted as ﬂoating point numbers rounded to </span><strong>4 decimal</strong><span style=\"font-weight: 400;\"> </span><strong>digits&nbsp;</strong>(e.g. 0.5000).<br><span style=\"font-weight: 400;\">No code/text is allowed in submissions.</span></p>"
   ]
  },
  {
   "cell_type": "markdown",
   "id": "84be54dc-67b7-4c66-86ae-332482bcf9c2",
   "metadata": {},
   "source": [
    "<h2><strong>(A3) - Probability</strong></h2>\n",
    "<p><span style=\"font-weight: 400;\">You are the Dread Pirate Lifshitz, and you’ve just captured the king’s treasure ship en route to port. The ship carries 6000 crates in its hold, full of all the bounty of the kingdom. Unfortunately, the crates are all identical, and the ship’s captain threw the cargo manifest into the sea when he saw the battle was lost. Most of the crates contain coins, with only a few are carrying unique treasures worthy of your name: you know there are 450 crates with rubies from the northern hills, 300 crates with sapphires&nbsp; from the eastern caves, 200 crates with emeralds from the northern valleys, 40 with diamonds from the southern coasts, and 10 with ingots of iron from a fallen star.</span></p>\n",
    "<div>&nbsp;</div>\n",
    "<p><strong>A3.</strong><span style=\"font-weight: 400;\"> You have your sailors grab 12 crates from the hold and crack them open, trying to get as many unique treasures before the King’s navy catches you. What is the probability they opened them all and found <strong>nothing but coins</strong>?</span></p>\n",
    "<p>&nbsp;</p>\n",
    "<p><span style=\"font-weight: 400;\">All answers must be submitted as ﬂoating point numbers rounded to </span><strong>4 decimal</strong><span style=\"font-weight: 400;\"> </span><strong>digits&nbsp;</strong>(e.g. 0.5000).<br><span style=\"font-weight: 400;\">No code/text is allowed in submissions.</span></p>"
   ]
  },
  {
   "cell_type": "markdown",
   "id": "861543b6-3f24-4ea2-b257-306edddd44f9",
   "metadata": {},
   "source": [
    "<h2><strong>(A4) - Probability</strong></h2>\n",
    "<p><span style=\"font-weight: 400;\">You are the Dread Pirate Lifshitz, and you’ve just captured the king’s treasure ship en route to port. The ship carries 6000 crates in its hold, full of all the bounty of the kingdom. Unfortunately, the crates are all identical, and the ship’s captain threw the cargo manifest into the sea when he saw the battle was lost. Most of the crates contain coins, with only a few are carrying unique treasures worthy of your name: you know there are 450 crates with rubies from the northern hills, 300 crates with sapphires&nbsp; from the eastern caves, 200 crates with emeralds from the northern valleys, 40 with diamonds from the southern coasts, and 10 with ingots of iron from a fallen star.</span></p>\n",
    "<div>&nbsp;</div>\n",
    "<p><strong>A4.</strong><span style=\"font-weight: 400;\"> You start opening crates as fast as possible, trying to grab as many unique treasures as possible before the King’s navy catches you. How many crates must you open before you are <strong>certain</strong> to find something other than coins?</span></p>\n",
    "<p>&nbsp;</p>\n",
    "<p><span style=\"font-weight: 400;\">All answers must be submitted as ﬂoating point numbers rounded to </span><strong>4 decimal</strong><span style=\"font-weight: 400;\"> </span><strong>digits&nbsp;</strong>(e.g. 0.5000).<br><span style=\"font-weight: 400;\">No code/text is allowed in submissions.</span></p>"
   ]
  },
  {
   "cell_type": "markdown",
   "id": "12736ddd-216e-42a9-adb2-d22e3be0b84c",
   "metadata": {},
   "source": [
    "<h2><strong>(A5) - Probability</strong></h2>\n",
    "<p><span style=\"font-weight: 400;\">You are the Dread Pirate Lifshitz, and you’ve just captured the king’s treasure ship en route to port. The ship carries 6000 crates in its hold, full of all the bounty of the kingdom. Unfortunately, the crates are all identical, and the ship’s captain threw the cargo manifest into the sea when he saw the battle was lost. Most of the crates contain coins, with only a few are carrying unique treasures worthy of your name: you know there are 450 crates with rubies from the northern hills, 300 crates with sapphires&nbsp; from the eastern caves, 200 crates with emeralds from the northern valleys, 40 with diamonds from the southern coasts, and 10 with ingots of iron from a fallen star.</span></p>\n",
    "<div>&nbsp;</div>\n",
    "<div>\n",
    "  <p><span style=\"font-weight: 400;\">Knowing the royal fleet will soon be upon you, you order your sailors to throw all the crates in your ship’s hold, which is already half-full of treasure from your previous journeys, and only once you set sail you realize the crates in your hold look identical to those you’ve just captured. In your hold you already had 3200 crates of treasure, equally distributed between the different types of gems.&nbsp;</span></p>\n",
    "</div>\n",
    "<p><strong>A5.</strong><span style=\"font-weight: 400;\"> You’ve opened a crate that contains sapphires, what is the probability it is one that was captured from the king’s ship?</span></p>\n",
    "<p>&nbsp;</p>\n",
    "<p><span style=\"font-weight: 400;\">All answers must be submitted as ﬂoating point numbers rounded to </span><strong>4 decimal</strong><span style=\"font-weight: 400;\"> </span><strong>digits&nbsp;</strong>(e.g. 0.5000).<br><span style=\"font-weight: 400;\">No code/text is allowed in submissions.</span></p>"
   ]
  },
  {
   "cell_type": "markdown",
   "id": "3015d766-a2aa-4295-9e3a-03e2df5a0cbf",
   "metadata": {},
   "source": [
    "<h2><strong>(A6) - Probability</strong></h2>\n",
    "<p><span style=\"font-weight: 400;\">You are the Dread Pirate Lifshitz, and you’ve just captured the king’s treasure ship en route to port. The ship carries 6000 crates in its hold, full of all the bounty of the kingdom. Unfortunately, the crates are all identical, and the ship’s captain threw the cargo manifest into the sea when he saw the battle was lost. Most of the crates contain coins, with only a few are carrying unique treasures worthy of your name: you know there are 450 crates with rubies from the northern hills, 300 crates with sapphires&nbsp; from the eastern caves, 200 crates with emeralds from the northern valleys, 40 with diamonds from the southern coasts, and 10 with ingots of iron from a fallen star.</span></p>\n",
    "<div>&nbsp;</div>\n",
    "<div>\n",
    "  <p><span style=\"font-weight: 400;\">Knowing the royal fleet will soon be upon you, you order your sailors to throw all the crates in your ship’s hold, which is already half-full of treasure from your previous journeys, and only once you set sail you realize the crates in your hold look identical to those you’ve just captured. In your hold you already had 3200 crates of treasure, equally distributed between the different types of gems.&nbsp;</span></p>\n",
    "</div>\n",
    "<p>&nbsp;</p>\n",
    "<p><strong>A6.</strong><span style=\"font-weight: 400;\"> You grab a crate, and by the sound and weight you’re certain that it contains gems. What are the odds that you'll find out those are some of your old treasures and not part of the new take?</span></p>\n",
    "<p>&nbsp;</p>\n",
    "<p><span style=\"font-weight: 400;\">All answers must be submitted as ﬂoating point numbers rounded to </span><strong>4 decimal</strong><span style=\"font-weight: 400;\"> </span><strong>digits&nbsp;</strong>(e.g. 0.5000).<br><span style=\"font-weight: 400;\">No code/text is allowed in submissions.</span></p>"
   ]
  },
  {
   "cell_type": "code",
   "execution_count": null,
   "id": "ec150cca-9db3-4f16-be05-dbbf5f4d5caf",
   "metadata": {},
   "outputs": [],
   "source": []
  }
 ],
 "metadata": {
  "kernelspec": {
   "display_name": "",
   "name": ""
  },
  "language_info": {
   "name": ""
  }
 },
 "nbformat": 4,
 "nbformat_minor": 5
}
