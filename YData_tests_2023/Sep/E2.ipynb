{
 "cells": [
  {
   "cell_type": "markdown",
   "id": "3981cf78-b9c1-4eb2-ad12-c485afb525db",
   "metadata": {},
   "source": [
    "<h1 class=\"title\"><span>(E2)&nbsp;</span>Countries: Regions</h1>\n",
    "<div><span>To solve this question you are required to <strong>write</strong></span><span><strong>&nbsp;code</strong>, </span><span>processing an input ﬁle.</span></div>\n",
    "<p><span>Use the dataset from the previous question (<strong>the correct result of E1</strong>),</span>&nbsp;uploaded into the working directory.&nbsp;</p>\n",
    "<div>\n",
    "  <p>Explore the changes over time in countries’ scores. Compare the rankings for the year 2016 to those for 2019 by region and answer the following question: For each <code>Region</code>, which <code>Country</code> had the maximum improvement in <code>Yearly_rank</code> between 2016 and 2019?</p>\n",
    "  <p>If there are several countries with the same maximum improvement in a region, return them all. If any countries are missing scores for one or both of the years, omit them from the calculation.</p>\n",
    "  <p>Print out the top ranking countries from all regions in alphabetic order:</p>\n",
    "  <p>Example (not correct values):</p>\n",
    "  <p><code>['Afghanistan', 'Albania', 'Algeria', 'Angola', 'Argentina', 'Australia', 'Belgium', 'Brazil']</code></p>\n",
    "</div>\n",
    "<h2>Input format</h2>\n",
    "<div class=\"input-specification\"><span><span style=\"font-family: monospace;\">countries.csv</span> (</span>A pre-processed ﬁle as result of E1 which served as the data for this task<span>).</span></div>\n",
    "<h2>Output format</h2>\n",
    "<div class=\"output-specification\">\n",
    "  <p>A list of top countries in alphabetic order.</p>\n",
    "</div>\n",
    "<h2>Notes</h2>\n",
    "<div class=\"notes\">Maximum points for question E2:<strong> 10</strong>&nbsp;points.<!--l. 80--></div>\n",
    "<div class=\"notes\">&nbsp;</div>\n",
    "<div class=\"notes\">\n",
    "  <p style=\"text-indent: 0em;\"><span style=\"font-weight: bold;\">Reminder: </span>You must select 2 out of 3 questions in programming section: Sums (D), Countries (E), Streaming (F), and answer both selected questions as fully as possible (for example, if you choose Sums and Streaming, you should answer questions D1, D2, D3 and F1, F2, F3).</p>\n",
    "</div>"
   ]
  },
  {
   "cell_type": "code",
   "execution_count": null,
   "id": "c28d2f52-388b-4716-a9d2-58478726e3fa",
   "metadata": {},
   "outputs": [],
   "source": [
    "### Initial candidate answer code"
   ]
  },
  {
   "cell_type": "code",
   "execution_count": null,
   "id": "58629c83-ef0d-462f-90b3-6440fb19f78d",
   "metadata": {},
   "outputs": [],
   "source": [
    "# Use print(\"Debug messages...\") to debug your solution.\n",
    "\n",
    "def solution(countries):\n",
    "    # Your code goes here\n",
    "    return 0"
   ]
  },
  {
   "cell_type": "code",
   "execution_count": null,
   "id": "808a70f2-2fbd-4be8-ae51-a1919143c75f",
   "metadata": {},
   "outputs": [],
   "source": [
    "### Initial candidate test code"
   ]
  },
  {
   "cell_type": "code",
   "execution_count": null,
   "id": "32affb6b-e85d-474c-9af7-ad60936baffb",
   "metadata": {},
   "outputs": [],
   "source": [
    "import numpy as np\n",
    "import pandas as pd\n",
    "from datetime import datetime\n",
    "\n",
    "countries = pd.read_csv('./datasets/E2/countries.csv', sep=\",\")\n",
    "print(countries.head())\n",
    "\n",
    "result = solution(countries)\n",
    "print(result)"
   ]
  },
  {
   "cell_type": "code",
   "execution_count": null,
   "id": "2c36d7e5-ed90-4a40-b21b-a3b398f97ced",
   "metadata": {},
   "outputs": [],
   "source": [
    "### Autograder part (hidden from the candidate)"
   ]
  },
  {
   "cell_type": "code",
   "execution_count": null,
   "id": "a49ac822-7a00-40e0-8d67-66be7e5cfd52",
   "metadata": {},
   "outputs": [],
   "source": [
    "import numpy as np\n",
    "import os\n",
    "import pandas as pd\n",
    "\n",
    "data_path = './datasets/E2/tests/'\n",
    "\n",
    "output_file = os.path.join(data_path,'01.a')\n",
    "with open(output_file) as f:\n",
    "    a = f.read().splitlines()\n",
    "f.close()\n",
    "\n",
    "sol = solution(countries)\n",
    "\n",
    "np.testing.assert_array_equal(len(sol),len(a))\n",
    "np.testing.assert_array_equal(sol,a)"
   ]
  }
 ],
 "metadata": {
  "kernelspec": {
   "display_name": "Python 3 (ipykernel)",
   "language": "python",
   "name": "python3"
  },
  "language_info": {
   "codemirror_mode": {
    "name": "ipython",
    "version": 3
   },
   "file_extension": ".py",
   "mimetype": "text/x-python",
   "name": "python",
   "nbconvert_exporter": "python",
   "pygments_lexer": "ipython3",
   "version": "3.12.7"
  }
 },
 "nbformat": 4,
 "nbformat_minor": 5
}
