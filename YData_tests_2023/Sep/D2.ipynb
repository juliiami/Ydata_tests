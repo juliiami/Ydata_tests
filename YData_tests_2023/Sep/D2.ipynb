{
 "cells": [
  {
   "cell_type": "markdown",
   "id": "3981cf78-b9c1-4eb2-ad12-c485afb525db",
   "metadata": {},
   "source": [
    "<h1 class=\"title\"><span>(D2) Sums: Improve</span></h1>\n",
    "<div>\n",
    "  <table style=\"border-collapse: collapse;\">\n",
    "    <tbody>\n",
    "      <tr class=\"time-limit\">\n",
    "        <td class=\"property-title\" style=\"border: 2px solid #fff; padding: 5px;\">Time limit</td>\n",
    "        <td style=\"border: 2px solid #fff; padding: 5px;\">4 seconds</td>\n",
    "      </tr>\n",
    "    </tbody>\n",
    "  </table>\n",
    "</div>\n",
    "<p>In this question you are required to <strong>write</strong> <strong>code</strong>, implementing a solution to the problem described below.</p>\n",
    "<p>You are required to solve the same problem as in D1, but with higher input sizes.</p>\n",
    "<h2>Input format</h2>\n",
    "<div class=\"input-specification\">\n",
    "  <div>Three lines <span>— </span>1st line contains one integer value <span>—</span> <span class=\"cg-latex\">$$x$$</span>, 2nd and 3rd lines each contain a sequence of integers separated with space <span>— </span>arrays <span class=\"cg-latex\">$$A$$</span>&nbsp;and <span class=\"cg-latex\">$$B$$</span>, respectively,</div>\n",
    "  <div><span class=\"cg-latex\">$$1 \\le m,n \\le 100\\,000.$$</span></div>\n",
    "</div>\n",
    "<h2>Output format</h2>\n",
    "<div class=\"output-specification\">Print one integer <span>—</span> total count of sums fulfilling the above condition.</div>\n",
    "<h3>Sample 1</h3>\n",
    "<table class=\"sample-tests\" style=\"border-collapse: collapse; height: 130px;\" width=\"186\">\n",
    "  <thead>\n",
    "    <tr>\n",
    "      <th style=\"border: 2px solid #fff;\">Input</th>\n",
    "      <th style=\"border: 2px solid #fff;\">Output</th>\n",
    "    </tr>\n",
    "  </thead>\n",
    "  <tbody>\n",
    "    <tr>\n",
    "      <td style=\"border: 2px solid #fff; text-align: center;\">\n",
    "        <pre>8\n",
    " 1 2 3 7 5 4\n",
    " 0 7 4 3 2 1</pre>\n",
    "      </td>\n",
    "      <td style=\"border: 2px solid #fff; text-align: center;\">\n",
    "        <pre>4</pre>\n",
    "      </td>\n",
    "    </tr>\n",
    "  </tbody>\n",
    "</table>\n",
    "<h3>Sample 2</h3>\n",
    "<table class=\"sample-tests\" style=\"border-collapse: collapse; height: 130px;\" width=\"186\">\n",
    "  <thead>\n",
    "    <tr>\n",
    "      <th style=\"border: 2px solid #fff;\">Input</th>\n",
    "      <th style=\"border: 2px solid #fff;\">Output</th>\n",
    "    </tr>\n",
    "  </thead>\n",
    "  <tbody>\n",
    "    <tr>\n",
    "      <td style=\"border: 2px solid #fff; text-align: center;\">\n",
    "        <pre>9\n",
    " 1 -4 -2 -5 7\n",
    " 5 6 3 -4 8 11 15</pre>\n",
    "      </td>\n",
    "      <td style=\"border: 2px solid #fff; text-align: center;\">\n",
    "        <pre>2</pre>\n",
    "      </td>\n",
    "    </tr>\n",
    "  </tbody>\n",
    "</table>\n",
    "<h3><br>Notes</h3>\n",
    "<div class=\"notes\">Maximum points for question D2:<strong> 10</strong>&nbsp;points.<br><br><!--l. 80-->\n",
    "  <p style=\"text-indent: 0em;\"><span style=\"font-weight: bold;\">Reminder: </span>You must select 2 out of 3 questions in programming section: Sums (D), Countries (E), Streaming (F), and answer both selected questions as fully as possible (for example, if you choose Sums and Streaming, you should answer questions D1, D2, D3 and F1, F2, F3).</p>\n",
    "</div>"
   ]
  },
  {
   "cell_type": "code",
   "execution_count": null,
   "id": "c28d2f52-388b-4716-a9d2-58478726e3fa",
   "metadata": {},
   "outputs": [],
   "source": [
    "### Initial candidate answer code"
   ]
  },
  {
   "cell_type": "code",
   "execution_count": null,
   "id": "58629c83-ef0d-462f-90b3-6440fb19f78d",
   "metadata": {},
   "outputs": [],
   "source": [
    "# Use print(\"Debug messages...\") to debug your solution.\n",
    "\n",
    "def solution(x, A, B):\n",
    "    # Your code goes here\n",
    "    return 0"
   ]
  },
  {
   "cell_type": "code",
   "execution_count": null,
   "id": "808a70f2-2fbd-4be8-ae51-a1919143c75f",
   "metadata": {},
   "outputs": [],
   "source": [
    "### Initial candidate test code"
   ]
  },
  {
   "cell_type": "code",
   "execution_count": null,
   "id": "32affb6b-e85d-474c-9af7-ad60936baffb",
   "metadata": {},
   "outputs": [],
   "source": [
    "import numpy as np\n",
    "\n",
    "x1, A1, B1 = [8, '1 2 3 7 5 4', '0 7 4 3 2 1']\n",
    "print(x1, '\\n', A1, '\\n', B1) \n",
    "print(solution(x1, A1, B1), '\\n')\n",
    "\n",
    "x2, A2, B2 = [9, '1 -4 -2 -5 7', '5 6 3 -4 8 11 15']\n",
    "print(x2, '\\n', A2, '\\n', B2) \n",
    "print(solution(x2, A2, B2), '\\n')"
   ]
  },
  {
   "cell_type": "code",
   "execution_count": null,
   "id": "4814a05f-401f-4980-8e11-f8891b1f626f",
   "metadata": {},
   "outputs": [],
   "source": [
    "### Autograder part (hidden from the candidate)"
   ]
  },
  {
   "cell_type": "code",
   "execution_count": null,
   "id": "7315e69e-6c06-4112-aaf7-dfa85e7b6346",
   "metadata": {},
   "outputs": [],
   "source": [
    "import numpy as np\n",
    "import os\n",
    "import time\n",
    "\n",
    "data_path = './datasets/D2/tests/'\n",
    "\n",
    "for i in range(69):\n",
    "    \n",
    "    input_file = os.path.join(data_path,'{:02}'.format(i+1))\n",
    "    output_file = os.path.join(data_path,'{:02}'.format(i+1)+'.a')\n",
    "    with open(input_file) as f:\n",
    "        data_in = f.read().splitlines()\n",
    "    f.close()\n",
    "    with open(output_file) as f:\n",
    "        data_out = f.read().splitlines()\n",
    "    f.close()\n",
    "\n",
    "    x = int(data_in[0])\n",
    "    A = data_in[1]\n",
    "    B = data_in[2]\n",
    "    \n",
    "    t0 = time.time()\n",
    "    sol = solution(x, A, B)\n",
    "    t1 = time.time()\n",
    "    \n",
    "    ans = int(data_out[0])\n",
    "    \n",
    "    assert(t1-t0 <= 4)\n",
    "    np.testing.assert_array_equal(sol,ans)"
   ]
  }
 ],
 "metadata": {
  "kernelspec": {
   "display_name": "Python 3 (ipykernel)",
   "language": "python",
   "name": "python3"
  },
  "language_info": {
   "codemirror_mode": {
    "name": "ipython",
    "version": 3
   },
   "file_extension": ".py",
   "mimetype": "text/x-python",
   "name": "python",
   "nbconvert_exporter": "python",
   "pygments_lexer": "ipython3",
   "version": "3.12.7"
  }
 },
 "nbformat": 4,
 "nbformat_minor": 5
}
