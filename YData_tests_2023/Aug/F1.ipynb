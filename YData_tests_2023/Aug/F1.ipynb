{
 "cells": [
  {
   "cell_type": "markdown",
   "id": "3981cf78-b9c1-4eb2-ad12-c485afb525db",
   "metadata": {},
   "source": [
    "<div class=\"problem-statement\">\n",
    "  <div class=\"header\">\n",
    "    <h1 class=\"title\">(F1)&nbsp;Telecom: Calls</h1>\n",
    "  </div>\n",
    "  <div class=\"legend\">In this question you are required to <span style=\"font-weight: bold;\">write code</span>, implementing a solution to the following problem. <!--l. 52-->\n",
    "    <p style=\"text-indent: 0em;\">You are provided with usage data from the telecom operator Megaline. You are going to carry out a preliminary analysis of the usage patterns based on a relatively small client selection. <!--l. 54--></p>\n",
    "    <p style=\"text-indent: 0em;\">In the working directory there is a ﬁle <span style=\"font-family: monospace;\">calls_data.csv</span>. <!--l. 56--></p>\n",
    "    <p style=\"text-indent: 0em;\">Find out how many minutes of calls will a given user be charged for this month. <!--l. 58--></p>\n",
    "    <p style=\"text-indent: 0em;\">You are requested to write code solving the following task: given <span style=\"font-family: monospace;\"><code>user_id</code> </span>and <code><span style=\"font-family: monospace;\">month</span></code>, ﬁnd and return the total amount of minutes they will be charged for that month (based on <span style=\"font-family: monospace;\"><code>duration</code> </span>column&nbsp;– values are in minutes). Return the <span style=\"font-weight: bold;\">total amount</span> they will be charged for, or 0 if there are no calls for this user in the speciﬁed month. <!--l. 63--></p>\n",
    "    <p style=\"text-indent: 0em;\"><span style=\"font-weight: bold;\">Note</span>: When charging for calls, each <span style=\"font-weight: bold;\">individual call </span>is rounded up: even if the call lasted just one second, it will be counted as one minute.</p>\n",
    "  </div>\n",
    "  <h2>Input format</h2>\n",
    "  <div class=\"input-specification\">Two integers – <code><span style=\"font-family: monospace;\">user_id </span></code>and <span style=\"font-family: monospace;\"><code>month</code> </span>(each in separate line) <!--l. 69-->\n",
    "    <p style=\"text-indent: 0em;\"><span style=\"font-weight: bold;\">Data</span>:<br><span style=\"font-family: monospace;\">calls_data.csv</span>&nbsp;</p>\n",
    "  </div>\n",
    "  <h2>Output format</h2>\n",
    "  <div class=\"output-specification\">Print <span style=\"font-weight: bold;\">one integer</span> value, the total amount of minutes to be billed, or 0 if there are no calls for this user.</div>\n",
    "  <h3>Sample 1</h3>\n",
    "  <table style=\"border-collapse: collapse;\" class=\"sample-tests\">\n",
    "    <thead>\n",
    "      <tr>\n",
    "        <th style=\"border: 2px solid #fff;\">Input</th>\n",
    "        <th style=\"border: 2px solid #fff;\">Output</th>\n",
    "      </tr>\n",
    "    </thead>\n",
    "    <tbody>\n",
    "      <tr>\n",
    "        <td style=\"border: 2px solid #fff; text-align: center;\">\n",
    "          <pre>1000\n",
    "  12\n",
    "  </pre>\n",
    "        </td>\n",
    "        <td style=\"border: 2px solid #fff; text-align: center;\">\n",
    "          <pre>124\n",
    "  </pre>\n",
    "        </td>\n",
    "      </tr>\n",
    "    </tbody>\n",
    "  </table>\n",
    "  <h3>Sample 2</h3>\n",
    "  <table style=\"border-collapse: collapse;\" class=\"sample-tests\">\n",
    "    <thead>\n",
    "      <tr>\n",
    "        <th style=\"border: 2px solid #fff; text-align: center;\">Input</th>\n",
    "        <th style=\"border: 2px solid #fff; text-align: center;\">Output</th>\n",
    "      </tr>\n",
    "    </thead>\n",
    "    <tbody>\n",
    "      <tr>\n",
    "        <td style=\"border: 2px solid #fff; text-align: center;\">\n",
    "          <pre>1001\n",
    "  1\n",
    "  </pre>\n",
    "        </td>\n",
    "        <td style=\"border: 2px solid #fff; text-align: center;\">\n",
    "          <pre>0\n",
    "  </pre>\n",
    "        </td>\n",
    "      </tr>\n",
    "    </tbody>\n",
    "  </table>\n",
    "  <h2>Notes</h2>\n",
    "  <div class=\"notes\">Maximum points for question F1: <span style=\"font-weight: bold;\">7 </span>points.</div>\n",
    "  <div class=\"notes\">&nbsp;</div>\n",
    "  <div class=\"notes\"><!--l. 80-->\n",
    "    <p style=\"text-indent: 0em;\"><span style=\"font-weight: bold;\">Reminder: </span>You must select 2 out of 3 questions in programming section: Ski (D), Vehicles (E), Telecom (F), and answer both selected questions as fully as possible (for example, if you choose Ski and Telecom, you should answer questions D1, D2, D3 and F1, F2, F3).</p>\n",
    "  </div>\n",
    "</div>"
   ]
  },
  {
   "cell_type": "code",
   "execution_count": null,
   "id": "c28d2f52-388b-4716-a9d2-58478726e3fa",
   "metadata": {},
   "outputs": [],
   "source": [
    "### Initial candidate answer code"
   ]
  },
  {
   "cell_type": "code",
   "execution_count": null,
   "id": "58629c83-ef0d-462f-90b3-6440fb19f78d",
   "metadata": {},
   "outputs": [],
   "source": [
    "# Use print(\"messages...\") to debug your solution.\n",
    "import numpy as np\n",
    "import pandas as pd\n",
    "\n",
    "calls_data = pd.read_csv('/tmp/deps/calls_data.csv', sep=\",\")\n",
    "\n",
    "def solution(userid, month):\n",
    "    # Your code goes here\n",
    "    return 0"
   ]
  },
  {
   "cell_type": "code",
   "execution_count": null,
   "id": "808a70f2-2fbd-4be8-ae51-a1919143c75f",
   "metadata": {},
   "outputs": [],
   "source": [
    "### Initial candidate test code"
   ]
  },
  {
   "cell_type": "code",
   "execution_count": null,
   "id": "32affb6b-e85d-474c-9af7-ad60936baffb",
   "metadata": {},
   "outputs": [],
   "source": [
    "import numpy as np\n",
    "import pandas as pd\n",
    "from datetime import datetime\n",
    "\n",
    "calls_data = pd.read_csv('/tmp/deps/calls_data.csv', sep=\",\")\n",
    "print(calls_data.head())\n",
    "\n",
    "print(solution(1000,12), '\\n')\n",
    "\n",
    "print(solution(1001,1), '\\n')"
   ]
  }
 ],
 "metadata": {
  "kernelspec": {
   "display_name": "Python 3 (ipykernel)",
   "language": "python",
   "name": "python3"
  },
  "language_info": {
   "codemirror_mode": {
    "name": "ipython",
    "version": 3
   },
   "file_extension": ".py",
   "mimetype": "text/x-python",
   "name": "python",
   "nbconvert_exporter": "python",
   "pygments_lexer": "ipython3",
   "version": "3.12.7"
  }
 },
 "nbformat": 4,
 "nbformat_minor": 5
}
