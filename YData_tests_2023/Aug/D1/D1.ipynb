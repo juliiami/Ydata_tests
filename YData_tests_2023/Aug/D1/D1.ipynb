{
 "cells": [
  {
   "cell_type": "markdown",
   "id": "3981cf78-b9c1-4eb2-ad12-c485afb525db",
   "metadata": {},
   "source": [
    "<h1 class=\"title\"><span>(D1)&nbsp;Ski: Find Route</span></h1>\n",
    "<p>In this question you are required to <strong>write</strong> <strong>code</strong>, implementing a solution to the problem described below.</p>\n",
    "<p>You are on a ski vacation at a mountain resort. The area contains multiple ski routes, with designated stations marking the beginning and end of routes. A shuttle service provides transport between the different stations, with a published schedule detailing the list of stations it reaches and their order. You want to select the best ski route available to you <span>— </span>the one offering the maximum length of descent.</p>\n",
    "<p>Given the shuttle's schedule, <span class=\"cg-latex\">$$Stations[s_1, s_2, \\ldots ,s_n ]$$</span> representing the heights of the different stations along the route in order, you want to find the start and end stations (<span class=\"cg-latex\">$$s_i$$</span> and <span class=\"cg-latex\">$$s_j$$</span>) with the maximum height difference between them.</p>\n",
    "<p>Return the <strong>length of the maximum descent</strong> you can obtain (<span class=\"cg-latex\">$$s_i - s_j$$</span>).</p>\n",
    "<p>Note: The starting station must come before the end station and be located higher than it (<span class=\"cg-latex\">$$i < j$$</span>; <span class=\"cg-latex\">$$s_i \\ge s_j$$</span>). If no possible routes are available, return 0.</p>\n",
    "<h2>Input format</h2>\n",
    "<div class=\"input-specification\">\n",
    "  <div>One line containing a sequence of numbers separated by space, corresponding to the stations array: <span class=\"cg-latex\">$$Stations[s_1, s_2, \\ldots ,s_n ]$$</span>, <span class=\"cg-latex\">$$1 \\le n \\le 100$$</span>, <span class=\"cg-latex\">$$1 \\le s_i \\le 1000$$</span>.</div>\n",
    "</div>\n",
    "<h2>Output format</h2>\n",
    "<div class=\"output-specification\">Print one integer <span>—</span> &nbsp;the <strong>length of the maximum descent</strong> you can obtain (<span class=\"cg-latex\">$$s_i - s_j$$</span>).</div>\n",
    "<h3>Sample 1</h3>\n",
    "<table style=\"border-collapse: collapse;\" class=\"sample-tests\">\n",
    "  <thead>\n",
    "    <tr>\n",
    "      <th style=\"border: 2px solid #fff; padding: 5px;\">Input</th>\n",
    "      <th style=\"border: 2px solid #fff; padding: 5px;\">Output</th>\n",
    "    </tr>\n",
    "  </thead>\n",
    "  <tbody>\n",
    "    <tr>\n",
    "      <td style=\"border: 2px solid #fff;\">\n",
    "        <pre>1 8 4 6 10 3 2</pre>\n",
    "      </td>\n",
    "      <td style=\"border: 2px solid #fff; text-align: center;\">\n",
    "        <pre>8 </pre>\n",
    "      </td>\n",
    "    </tr>\n",
    "  </tbody>\n",
    "</table>\n",
    "<h3>Sample 2</h3>\n",
    "<table style=\"border-collapse: collapse;\" class=\"sample-tests\">\n",
    "  <thead>\n",
    "    <tr>\n",
    "      <th style=\"border: 2px solid #fff; padding: 5px;\">Input</th>\n",
    "      <th style=\"border: 2px solid #fff; padding: 5px;\">Output</th>\n",
    "    </tr>\n",
    "  </thead>\n",
    "  <tbody>\n",
    "    <tr>\n",
    "      <td style=\"border: 2px solid #fff; text-align: center;\">\n",
    "        <pre>2 3 6 5 9 7</pre>\n",
    "      </td>\n",
    "      <td style=\"border: 2px solid #fff; text-align: center;\">\n",
    "        <pre>2 </pre>\n",
    "      </td>\n",
    "    </tr>\n",
    "  </tbody>\n",
    "</table>\n",
    "<h3>Sample 3</h3>\n",
    "<table style=\"border-collapse: collapse;\" class=\"sample-tests\">\n",
    "  <thead>\n",
    "    <tr>\n",
    "      <th style=\"border: 2px solid #fff; padding: 5px;\">Input</th>\n",
    "      <th style=\"border: 2px solid #fff; padding: 5px;\">Output</th>\n",
    "    </tr>\n",
    "  </thead>\n",
    "  <tbody>\n",
    "    <tr>\n",
    "      <td style=\"border: 2px solid #fff;\">\n",
    "        <pre>5 6 7 8 9</pre>\n",
    "      </td>\n",
    "      <td style=\"border: 2px solid #fff; text-align: center;\">\n",
    "        <pre>0</pre>\n",
    "      </td>\n",
    "    </tr>\n",
    "  </tbody>\n",
    "</table>\n",
    "<h2>Notes</h2>\n",
    "<div class=\"notes\">Maximum points for question D1:<strong> 7</strong> points.<br><br><!--l. 80-->\n",
    "  <p style=\"text-indent: 0em;\"><span style=\"font-weight: bold;\">Reminder: </span>You must select 2 out of 3 questions in programming section: Ski (D), Vehicles (E), Telecom (F), and answer both selected questions as fully as possible (for example, if you choose Ski and Telecom, you should answer questions D1, D2, D3 and F1, F2, F3).</p>\n",
    "</div>"
   ]
  },
  {
   "cell_type": "code",
   "execution_count": null,
   "id": "c28d2f52-388b-4716-a9d2-58478726e3fa",
   "metadata": {},
   "outputs": [],
   "source": [
    "### Initial candidate answer code"
   ]
  },
  {
   "cell_type": "code",
   "execution_count": null,
   "id": "58629c83-ef0d-462f-90b3-6440fb19f78d",
   "metadata": {},
   "outputs": [],
   "source": [
    "# Use print(\"Debug messages...\") to debug your solution.\n",
    "\n",
    "def solution(inp):\n",
    "    # Your code goes here\n",
    "    return 0"
   ]
  },
  {
   "cell_type": "code",
   "execution_count": null,
   "id": "808a70f2-2fbd-4be8-ae51-a1919143c75f",
   "metadata": {},
   "outputs": [],
   "source": [
    "### Initial candidate test code"
   ]
  },
  {
   "cell_type": "code",
   "execution_count": null,
   "id": "32affb6b-e85d-474c-9af7-ad60936baffb",
   "metadata": {},
   "outputs": [],
   "source": [
    "example1 = '1 8 4 6 10 3 2'\n",
    "print(example1) \n",
    "print(solution(example1), '\\n')\n",
    "\n",
    "example2 = '2 3 6 5 9 7'\n",
    "print(example2) \n",
    "print(solution(example2), '\\n')\n",
    "\n",
    "example3 = '5 6 7 8 9'\n",
    "print(example3) \n",
    "print(solution(example3), '\\n')"
   ]
  }
 ],
 "metadata": {
  "kernelspec": {
   "display_name": "Python 3 (ipykernel)",
   "language": "python",
   "name": "python3"
  },
  "language_info": {
   "codemirror_mode": {
    "name": "ipython",
    "version": 3
   },
   "file_extension": ".py",
   "mimetype": "text/x-python",
   "name": "python",
   "nbconvert_exporter": "python",
   "pygments_lexer": "ipython3",
   "version": "3.12.7"
  }
 },
 "nbformat": 4,
 "nbformat_minor": 5
}
