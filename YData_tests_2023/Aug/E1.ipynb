{
 "cells": [
  {
   "cell_type": "markdown",
   "id": "3981cf78-b9c1-4eb2-ad12-c485afb525db",
   "metadata": {},
   "source": [
    "<h1 class=\"title\"><span>(E1)&nbsp;Vehicles: Data Cleaning</span></h1>\n",
    "<div><span>To solve this question you are required to <strong>write</strong></span><span><strong>&nbsp;code</strong>, </span><span>processing an input ﬁle.</span></div>\n",
    "<p>You are provided the ﬁle<span>&nbsp;<span style=\"font-family: monospace;\">vehicles.csv</span></span>, uploaded into the working directory.</p>\n",
    "<p>You’re an analyst at Crankshaft List. Hundreds of free advertisements for vehicles are published on your site every day. You need to study the data collected over the last few years and determine which factors inﬂuence the price of a vehicle.</p>\n",
    "<p>The dataset contains the following ﬁelds:</p>\n",
    "<ul>\n",
    "  <li><code>price</code></li>\n",
    "  <li><code>model_year</code></li>\n",
    "  <li><code>model</code></li>\n",
    "  <li><code>condition</code></li>\n",
    "  <li><code>cylinders</code></li>\n",
    "  <li><code>fuel</code> – gas, diesel, etc.</li>\n",
    "  <li><code>odometer</code> – the vehicle’s mileage when the ad was published</li>\n",
    "  <li><code>transmission</code> – manual, automatic, etc.</li>\n",
    "  <li><code>type</code> – sedan, SUV, truck, etc.</li>\n",
    "  <li><code>paint_color</code></li>\n",
    "  <li><code>is_4wd</code> – whether the vehicle has 4-wheel drive (Boolean type)</li>\n",
    "  <li><code>date_posted</code> – the date the ad was published</li>\n",
    "  <li><code>days_listed</code> – from publication to removal</li>\n",
    "</ul>\n",
    "<p>Clean the data and prepare it in the following manner:</p>\n",
    "<p><strong>1:&nbsp;</strong>Calculate and<span>&nbsp;</span><span><strong>add</strong>&nbsp;</span>to the table the following columns: add in the order listed, do not remove or rearrange pre-existing columns</p>\n",
    "<ul>\n",
    "  <li><code><span>day</span></code>: Day of the month the ad was placed (1-31)</li>\n",
    "  <li><code><span>month</span></code>: Month the ad was placed (1-12)</li>\n",
    "  <li><code><span>year</span></code>: Year the ad was placed (20xx)</li>\n",
    "  <li><code><span>vehicle_age</span></code>:: The vehicle’s age (in years) when the ad was placed including current year (e.g. if<span>&nbsp;</span><span>model_year = 2018&nbsp;</span>and<span>&nbsp;</span><span>date_posted =</span><span>&nbsp;</span><span>01/05/2018</span>,<span>&nbsp;</span><span>vehicle_age = 1</span>)</li>\n",
    "  <li><code><span>avg_mileage</span></code>:: The vehicle’s average mileage per year (based on<span>&nbsp;</span><span>vehicle_age</span>, round to 2 decimal digits)</li>\n",
    "</ul>\n",
    "<p><strong>2:&nbsp;</strong>Convert the<span>&nbsp;</span><span><code>condition</code>&nbsp;</span>column to integer by replacing string values with a numeric scale</p>\n",
    "<ul>\n",
    "  <li>new = 5</li>\n",
    "  <li>like new = 4</li>\n",
    "  <li>excellent = 3</li>\n",
    "  <li>good = 2</li>\n",
    "  <li>fair = 1</li>\n",
    "  <li>salvage = 0</li>\n",
    "</ul>\n",
    "<h2>Input format</h2>\n",
    "<div class=\"input-specification\"><span>A ﬁle <span style=\"font-family: monospace;\">vehicles.csv</span></span><span>, which should be processed.</span></div>\n",
    "<h2>Output format</h2>\n",
    "<div class=\"output-specification\"><span>Write code, processing the input file</span><span>. Do not reorder columns or rows in the ﬁle. An output should contain a pandas dataframe.</span></div>\n",
    "<h2>Notes</h2>\n",
    "<div class=\"notes\">Maximum points for question E1:<strong> 7</strong> points.<!--l. 80--></div>\n",
    "<div class=\"notes\">&nbsp;</div>\n",
    "<div class=\"notes\">\n",
    "  <p style=\"text-indent: 0em;\"><span style=\"font-weight: bold;\">Reminder: </span>You must select 2 out of 3 questions in programming section: Ski (D), Vehicles (E), Telecom (F), and answer both selected questions as fully as possible (for example, if you choose Ski and Telecom, you should answer questions D1, D2, D3 and F1, F2, F3).</p>\n",
    "</div>"
   ]
  },
  {
   "cell_type": "code",
   "execution_count": null,
   "id": "c28d2f52-388b-4716-a9d2-58478726e3fa",
   "metadata": {},
   "outputs": [],
   "source": [
    "### Initial candidate answer code"
   ]
  },
  {
   "cell_type": "code",
   "execution_count": null,
   "id": "58629c83-ef0d-462f-90b3-6440fb19f78d",
   "metadata": {},
   "outputs": [],
   "source": [
    "# Use print(\"Debug messages...\") to debug your solution.\n",
    "\n",
    "def solution(df):\n",
    "    # Your code goes here\n",
    "    return 0"
   ]
  },
  {
   "cell_type": "code",
   "execution_count": null,
   "id": "808a70f2-2fbd-4be8-ae51-a1919143c75f",
   "metadata": {},
   "outputs": [],
   "source": [
    "### Initial candidate test code"
   ]
  },
  {
   "cell_type": "code",
   "execution_count": null,
   "id": "32affb6b-e85d-474c-9af7-ad60936baffb",
   "metadata": {},
   "outputs": [],
   "source": [
    "import pandas as pd\n",
    "\n",
    "vehicles = pd.read_csv('./datasets/E1/vehicles.csv', sep=\",\")\n",
    "print(vehicles.head())\n",
    "\n",
    "result = solution(vehicles)\n",
    "print(result[['day', 'month', 'year', 'vehicle_age','avg_mileage', 'condition']].head())"
   ]
  },
  {
   "cell_type": "code",
   "execution_count": null,
   "id": "24e211b5-7019-4c10-8399-564daac282e4",
   "metadata": {},
   "outputs": [],
   "source": []
  }
 ],
 "metadata": {
  "kernelspec": {
   "display_name": "Python 3 (ipykernel)",
   "language": "python",
   "name": "python3"
  },
  "language_info": {
   "codemirror_mode": {
    "name": "ipython",
    "version": 3
   },
   "file_extension": ".py",
   "mimetype": "text/x-python",
   "name": "python",
   "nbconvert_exporter": "python",
   "pygments_lexer": "ipython3",
   "version": "3.12.7"
  }
 },
 "nbformat": 4,
 "nbformat_minor": 5
}
