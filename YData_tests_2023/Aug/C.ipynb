{
 "cells": [
  {
   "cell_type": "markdown",
   "id": "6d61c2ba-40ff-4d7e-b043-6f96fa12ed45",
   "metadata": {},
   "source": [
    "<h3>(C) Airport incidents: Predict</h3>\n",
    "<div>&nbsp;</div>\n",
    "<div>This question uses the same dataset as question <strong>B</strong>.</div>\n",
    "<div>You&nbsp;are provided with the dataset <a rel=\"noopener noreferrer\" href=\"./datasets/C/incidents.csv\" target=\"_blank\"> <code>incidents.csv</code> </a>. \n",
    "<div>&nbsp;</div>\n",
    "<div>\n",
    "  <p><span style=\"font-weight: 400;\">You are provided with data from a platform tracking incidents that occur during transit in airports - lost or damaged baggage, injured passengers etc. The data represents information about past incidents reported, including information on the airport where it occurred, the nature of the incident, property involved and financial damages claimed. This data includes incidents reviewed by the committee over a certain period of time as well as the committee's decision of whether the incident merits compensation and to what amount.</span></p>\n",
    "  <h4><span style=\"font-weight: 400;\">Dataset description:</span></h4>\n",
    "  <p><span style=\"font-weight: 400;\"><img height=\"550\" width=\"679\" alt=\"\" src=\"https://d1sxk9v5q9mvr.cloudfront.net/work/servlet/fileservlet?id=58512377411810\"></span></p>\n",
    "  <div>\n",
    "    <div class=\"legend\">\n",
    "      <p>Explore and analyse the data provided, and try to understand the parameters indicating if a given incident is likely to be approved, rejected, or partially approved.<br><br>The file contains entries for which the committee decision is not listed, and in this question your task is to<strong> predict what is the most likely decision </strong>in each case and fill in the missing values in <code>Decision</code> column according to your predictions.</p>\n",
    "    </div>\n",
    "    <h2>&nbsp;</h2>\n",
    "    <h2>Output format</h2>\n",
    "    <div class=\"output-specification\"><span>Upload the file <code>incidents.csv</code></span>&nbsp;with column <span><code>Decision</code>&nbsp;</span>ﬁlled with predictions (<code>Approve</code>, <code>Reject</code> or <code>Partial</code>)</div>\n",
    "    <div class=\"output-specification\">Sample rows in output file:</div>\n",
    "    <div class=\"output-specification\"><code>200017,2014-11-12,2014-11-04,DEN, ... ,203.91,205.95,<strong>Approve</strong></code><br><code>200021,2014-08-11,2014-08-03,ORD, ... ,331.00,430.30,<strong>Partial</strong></code><br><code>200140,2014-10-24,2013-11-15,HNL, ... ,330.00,399.30,<strong>Partial</strong></code><br><code>200163,2014-02-21,2014-01-16,IAD, ... ,0.00,0.00,<strong>Reject</strong></code><br><code>200255,2014-10-08,2014-09-29,EWR, ... ,10.50,9.56,<strong>Approve</strong></code></div>\n",
    "    <div class=\"output-specification\">&nbsp;</div>\n",
    "    <h2>Notes</h2>\n",
    "    <div class=\"notes\">Maximum points for question C: <strong>30&nbsp;</strong>points.</div>\n",
    "    <div class=\"notes\">Use the sample outputs above to validate your answer before submitting.<br>\n",
    "      <p>You are not required to use any dedicated data science tools or resources to solve this question - their use is allowed, but the question can be solved in full without them.</p>\n",
    "      <p><span><strong>Hint</strong>: </span>Try to ﬁnd patterns in the provided data (<code>incidents<span>.csv</span></code>), and deﬁne common rules and heuristics to produce your solution. See if you can create new features, combining or transforming the existing ones in order to find hidden indicators and paint a clearer picture.</p>\n",
    "      <p>Do <strong>NOT</strong> upload code files as your answer - only data file (.csv) with your answer.</p>\n",
    "      <p>&nbsp;</p>\n",
    "    </div>\n",
    "  </div>\n",
    "</div>"
   ]
  }
 ],
 "metadata": {
  "kernelspec": {
   "display_name": "",
   "name": ""
  },
  "language_info": {
   "name": ""
  }
 },
 "nbformat": 4,
 "nbformat_minor": 5
}
