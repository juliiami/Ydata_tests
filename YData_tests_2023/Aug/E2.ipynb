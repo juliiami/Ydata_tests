{
 "cells": [
  {
   "cell_type": "markdown",
   "id": "3981cf78-b9c1-4eb2-ad12-c485afb525db",
   "metadata": {},
   "source": [
    "<h1 class=\"title\">(E2)&nbsp;Vehicles: Best Sellers</h1>\n",
    "<div><span>To solve this question you are required to <strong>write</strong></span><span><strong>&nbsp;code</strong>, </span><span>processing an input ﬁle.</span></div>\n",
    "<p><span>Use the dataset from the previous question (<strong>the correct result of E1</strong>) to ﬁnd how the model and type of vehicle aﬀects price. Analyze the number of ads and the average price per type and model in the following manner:&nbsp;</span></p>\n",
    "<p><strong>1:&nbsp;</strong>Calculate a new column:<span>&nbsp;</span><code><span>make</span></code>, based on<span>&nbsp;</span><span><code>model</code>&nbsp;</span>column – by separating the ﬁrst word in the model name (up to the 1st space). For example:<span>&nbsp;</span><span><code>model</code> = <em>“chevrolet silverado 1500”</em>; <code>make</code> = <em>“chevrolet”</em>.</span><br><br><strong>2:&nbsp;</strong>For each <span><code>vehicle_age</code> </span>between 1-15 find the best selling <span><code>make</code> </span>of cars of <span>&nbsp;</span><span><code>type</code> =</span><span>&nbsp;</span><em>“sedan” </em>and calculate the <strong>average price</strong> for each <span>&nbsp;</span><code><span>condition</span></code> for cars of this <code>make</code> and <code>type</code>.</p>\n",
    "<p>Use number of ads published to determine best selling status. Return 0 for any age/condition combination where there are no matches. Round prices to whole number (integer).</p>\n",
    "<h2>Input format</h2>\n",
    "<div class=\"input-specification\"><span>A dataframe with the<strong>&nbsp;</strong>correct result of the E1 problem (already located in the working directory)</span>.</div>\n",
    "<h2>Output format</h2>\n",
    "<div class=\"output-specification\">\n",
    "  <p><span>A pandas dataframe, containing 15 lines in the following format:&nbsp;</span></p>\n",
    "  <p><code><span>&lt;vehicle_age&gt; &lt;make&gt; &lt;avg price condition=5&gt; &lt;avg price condition=4&gt;</span><span>&nbsp;</span><span>&lt;avg price condition=3&gt; &lt;avg price condition=2&gt; &lt;avg price condition=1&gt;</span><span>&nbsp;</span><span>&lt;avg price condition=0&gt;</span></code></p>\n",
    "  <p><span>The lines should be in ascending age order (1, 2, …, 15). The names of the columns: ['vehicle_age', 'make', 'avg_price_5', 'avg_price_4', 'avg_price_3', 'avg_price_2', 'avg_price_1', 'avg_price_0']</span></p>\n",
    "  <h3>Example (<code>vehicle_age=20</code>):</h3>\n",
    "  <div>\n",
    "    <table cellpadding=\"0\" cellspacing=\"0\" width=\"720\" border=\"0\" style=\"border-collapse: collapse; margin-left: auto; margin-right: auto;\">\n",
    "      <tbody>\n",
    "        <tr style=\"height: 28,80pt;\">\n",
    "          <td height=\"48\" width=\"90\" style=\"text-align: center; border: 2px solid #fff;\" class=\"et2\"><strong>vehicle_age</strong></td>\n",
    "          <td width=\"90\" style=\"text-align: center; border: 2px solid #fff;\" class=\"et2\"><strong>make</strong></td>\n",
    "          <td width=\"90\" style=\"text-align: center; border: 2px solid #fff;\" class=\"et2\"><strong>avg_price_5</strong></td>\n",
    "          <td width=\"90\" style=\"text-align: center; border: 2px solid #fff;\" class=\"et2\"><strong>avg_price_4</strong></td>\n",
    "          <td width=\"90\" style=\"text-align: center; border: 2px solid #fff;\" class=\"et2\"><strong>avg_price_3</strong></td>\n",
    "          <td width=\"90\" style=\"text-align: center; border: 2px solid #fff;\" class=\"et2\"><strong>avg_price_2</strong></td>\n",
    "          <td width=\"90\" style=\"text-align: center; border: 2px solid #fff;\" class=\"et2\"><strong>avg_price_1</strong></td>\n",
    "          <td width=\"90\" style=\"text-align: center; border: 2px solid #fff;\" class=\"et2\"><strong>avg_price_0</strong></td>\n",
    "        </tr>\n",
    "        <tr style=\"text-align: center;\">\n",
    "          <td height=\"24\" width=\"90\" align=\"right\" style=\"text-align: center; border: 2px solid #fff;\" class=\"et3\">20</td>\n",
    "          <td width=\"90\" style=\"width: 54,00pt; border: 2px solid #fff;\" class=\"et3\">toyota</td>\n",
    "          <td width=\"90\" align=\"right\" style=\"text-align: center; border: 2px solid #fff;\" class=\"et3\">0</td>\n",
    "          <td width=\"90\" align=\"right\" style=\"text-align: center; border: 2px solid #fff;\" class=\"et3\">5995</td>\n",
    "          <td width=\"90\" align=\"right\" style=\"text-align: center; border: 2px solid #fff;\" class=\"et3\">3219</td>\n",
    "          <td width=\"90\" align=\"right\" style=\"text-align: center; border: 2px solid #fff;\" class=\"et3\">2402</td>\n",
    "          <td width=\"90\" align=\"right\" style=\"text-align: center; border: 2px solid #fff;\" class=\"et3\">1450</td>\n",
    "          <td width=\"90\" align=\"right\" style=\"text-align: center; border: 2px solid #fff;\" class=\"et3\">0</td>\n",
    "        </tr>\n",
    "      </tbody>\n",
    "    </table>\n",
    "  </div>\n",
    "</div>\n",
    "<h2>Notes</h2>\n",
    "<div class=\"notes\">Maximum points for question E2:<strong> 10</strong> points.<!--l. 80--></div>\n",
    "<div class=\"notes\">\n",
    "  <p style=\"text-indent: 0em;\"><span style=\"font-weight: bold;\">Reminder: </span>You must select 2 out of 3 questions in programming section: Ski (D), Vehicles (E), Telecom (F), and answer both selected questions as fully as possible (for example, if you choose Ski and Telecom, you should answer questions D1, D2, D3 and F1, F2, F3).</p>\n",
    "</div>"
   ]
  },
  {
   "cell_type": "code",
   "execution_count": null,
   "id": "c28d2f52-388b-4716-a9d2-58478726e3fa",
   "metadata": {},
   "outputs": [],
   "source": [
    "### Initial candidate answer code"
   ]
  },
  {
   "cell_type": "code",
   "execution_count": null,
   "id": "58629c83-ef0d-462f-90b3-6440fb19f78d",
   "metadata": {},
   "outputs": [],
   "source": [
    "# Use print(\"Debug messages...\") to debug your solution.\n",
    "\n",
    "def solution(df):\n",
    "    # Your code goes here\n",
    "    return 0"
   ]
  },
  {
   "cell_type": "code",
   "execution_count": null,
   "id": "808a70f2-2fbd-4be8-ae51-a1919143c75f",
   "metadata": {},
   "outputs": [],
   "source": [
    "### Initial candidate test code"
   ]
  },
  {
   "cell_type": "code",
   "execution_count": null,
   "id": "32affb6b-e85d-474c-9af7-ad60936baffb",
   "metadata": {},
   "outputs": [],
   "source": [
    "import numpy as np\n",
    "import pandas as pd\n",
    "from datetime import datetime\n",
    "\n",
    "vehicles = pd.read_csv('./datasets/E2/E1_result.csv', sep=\",\")\n",
    "\n",
    "print(vehicles.head())\n",
    "\n",
    "print(solution(vehicles)) "
   ]
  },
  {
   "cell_type": "code",
   "execution_count": null,
   "id": "cb9347d2-2646-4726-bc03-fb02554e9090",
   "metadata": {},
   "outputs": [],
   "source": []
  }
 ],
 "metadata": {
  "kernelspec": {
   "display_name": "Python 3 (ipykernel)",
   "language": "python",
   "name": "python3"
  },
  "language_info": {
   "codemirror_mode": {
    "name": "ipython",
    "version": 3
   },
   "file_extension": ".py",
   "mimetype": "text/x-python",
   "name": "python",
   "nbconvert_exporter": "python",
   "pygments_lexer": "ipython3",
   "version": "3.12.7"
  }
 },
 "nbformat": 4,
 "nbformat_minor": 5
}
