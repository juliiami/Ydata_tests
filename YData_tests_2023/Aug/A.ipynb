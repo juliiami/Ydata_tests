{
 "cells": [
  {
   "cell_type": "markdown",
   "id": "0cb62df4-89c7-4a26-a619-36c290a92ba5",
   "metadata": {},
   "source": [
    "<div>\n",
    "  <h2><strong>(A1) - Probability</strong></h2>\n",
    "  <p><span style=\"font-weight: 400;\">You’re an avid player and collector of the </span><em>MonsterSmash</em><strong> </strong><span style=\"font-weight: 400;\">collectible card game, which is just now releasing its long-expected new edition, <em>Evolving Storm</em>. Each pack of cards in the new edition includes cards in a variety of types: 180 cards are common level 1 cards, with the rest being new advanced level cards: 36 are pretty rare <em>Ice </em>cards, 20 are very rare <em>Sleet </em>cards, 13 are super rare <em>Firestorm </em>cards and 1 hyper rare <em>Plasma</em> card.</span></p>\n",
    "  <br>\n",
    "  <p><strong>A1.</strong><span style=\"font-weight: 400;\"> You bought a new <em>Evolving Storm</em> deck and open it, and immediately pull out a card at random. What is the probability its a rare card?</span></p>\n",
    "  <p>&nbsp;</p>\n",
    "  <p><span style=\"font-weight: 400;\">Round your answer to 4 decimal digits (e.g. 0.5000).</span></p>\n",
    "</div>"
   ]
  },
  {
   "cell_type": "markdown",
   "id": "b32f27ee-b5b1-48ff-b2a2-919d8cd3fecf",
   "metadata": {},
   "source": [
    "<div>\n",
    "  <h2><strong>(A2) - Probability</strong></h2>\n",
    "  <p><span style=\"font-weight: 400;\">You’re an avid player and collector of the </span><em>MonsterSmash</em><strong> </strong><span style=\"font-weight: 400;\">collectible card game, which is just now releasing its long-expected new edition, <em>Evolving Storm</em>. Each pack of cards in the new edition includes cards in a variety of types: 180 cards are common level 1 cards, with the rest being new advanced level cards: 36 are pretty rare <em>Ice </em>cards, 20 are very rare <em>Sleet </em>cards, 13 are super rare <em>Firestorm </em>cards and 1 hyper rare <em>Plasma</em> card.</span></p>\n",
    "  <br>\n",
    "  <p><strong>A2.</strong><span style=\"font-weight: 400;\"> You bought a new <em>Evolving Storm</em> deck and open it, and immediately pull out a card at random.&nbsp;</span><span style=\"font-weight: 400;\">What is the probability it is one of the “cold” cards?</span></p>\n",
    "  <p><span style=\"font-weight: 400;\">&nbsp;</span></p>\n",
    "  <p>&nbsp;</p>\n",
    "  <p><span style=\"font-weight: 400;\">Round your answer to 4 decimal digits (e.g. 0.5000).</span></p>\n",
    "</div>"
   ]
  },
  {
   "cell_type": "markdown",
   "id": "2fec4a9d-2d74-4eed-b3ce-e3d2f5139f3c",
   "metadata": {},
   "source": [
    "<div>\n",
    "  <h2><strong>(A3) - Probability</strong></h2>\n",
    "  <p><span style=\"font-weight: 400;\">You’re an avid player and collector of the </span><em>MonsterSmash</em><strong> </strong><span style=\"font-weight: 400;\">collectible card game, which is just now releasing its long-expected new edition, <em>Evolving Storm</em>. Each pack of cards in the new edition includes cards in a variety of types: 180 cards are common level 1 cards, with the rest being new advanced level cards: 36 are pretty rare <em>Ice </em>cards, 20 are very rare <em>Sleet </em>cards, 13 are super rare <em>Firestorm </em>cards and 1 hyper rare <em>Plasma</em> card.</span></p>\n",
    "  <br>\n",
    "  <p><strong>A3.</strong><span style=\"font-weight: 400;\"> You bought a new <em>Evolving Storm</em> deck and you</span><span style=\"font-weight: 400;\"> really want to check out the new rare cards. You begin grabbing cards at random from the deck in a hurry and stuffing them back in. What are the odds you’ve gone through 8 cards but all you got so far are common cards?</span><span style=\"font-weight: 400;\"></span></p>\n",
    "  <p><span style=\"font-weight: 400;\">&nbsp;</span></p>\n",
    "  <p>&nbsp;</p>\n",
    "  <p><span style=\"font-weight: 400;\">Round your answer to 4 decimal digits (e.g. 0.5000).</span></p>\n",
    "</div>"
   ]
  },
  {
   "cell_type": "markdown",
   "id": "71851f12-c0fc-4aeb-8fa0-a045b2884bf1",
   "metadata": {},
   "source": [
    "<div>\n",
    "  <h2><strong>(A4) - Probability</strong></h2>\n",
    "  <p><span style=\"font-weight: 400;\">You’re an avid player and collector of the </span><em>MonsterSmash</em><strong> </strong><span style=\"font-weight: 400;\">collectible card game, which is just now releasing its long-expected new edition, <em>Evolving Storm</em>. Each pack of cards in the new edition includes cards in a variety of types: 180 cards are common level 1 cards, with the rest being new advanced level cards: 36 are pretty rare <em>Ice </em>cards, 20 are very rare <em>Sleet </em>cards, 13 are super rare <em>Firestorm </em>cards and 1 hyper rare <em>Plasma</em> card.</span></p>\n",
    "  <br>\n",
    "  <p><strong>A4.</strong><span style=\"font-weight: 400;\"> You bought a new <em>Evolving Storm</em> deck and you</span><span style=\"font-weight: 400;\"> really want to check out the new rare cards. You begin grabbing cards at random from the deck in a hurry. </span><span style=\"font-weight: 400;\">How many cards do you need to pull until you’re </span><strong>certain </strong><span style=\"font-weight: 400;\">to have pulled a rare card?</span></p>\n",
    "  <p><span style=\"font-weight: 400;\">&nbsp;</span></p>\n",
    "  <p>&nbsp;</p>\n",
    "  <p><span style=\"font-weight: 400;\">Round your answer to 4 decimal digits (e.g. 0.5000).</span></p>\n",
    "</div>"
   ]
  },
  {
   "cell_type": "markdown",
   "id": "9689ebf9-d696-475d-a004-384a3a7c714b",
   "metadata": {},
   "source": [
    "<div>\n",
    "  <h2><strong>(A5) - Probability</strong></h2>\n",
    "  <p><span style=\"font-weight: 400;\">You’re an avid player and collector of the </span><em>MonsterSmash</em><strong> </strong><span style=\"font-weight: 400;\">collectible card game, which is just now releasing its long-expected new edition, <em>Evolving Storm</em>. Each pack of cards in the new edition includes cards in a variety of types: 180 cards are common level 1 cards, with the rest being new advanced level cards: 36 are pretty rare <em>Ice </em>cards, 20 are very rare <em>Sleet </em>cards, 13 are super rare <em>Firestorm </em>cards and 1 hyper rare <em>Plasma</em> card.</span></p>\n",
    "  <p><span style=\"font-weight: 400;\">You’re holding a card match with some friends. To start the game, you bring out a new <em>Evolving Storm</em> deck you just bought, and immediately shuffle it in with your regular playing deck of 400 cards, which are all rare, and which are divided equally between the advanced types.</span></p>\n",
    "  <br><strong>A5.</strong><span style=\"font-weight: 400;\"> In preparation to the game, you shuffle the deck and draw a card. What are the odds its one of your old cards?</span><br>\n",
    "  <p>&nbsp;</p>\n",
    "  <p><span style=\"font-weight: 400;\">Round your answer to 4 decimal digits (e.g. 0.5000).</span></p>\n",
    "</div>"
   ]
  },
  {
   "cell_type": "markdown",
   "id": "cb44794c-04e4-4a58-96a8-aada45eb5527",
   "metadata": {},
   "source": [
    "<div>\n",
    "  <h2><strong>(A6) - Probability</strong></h2>\n",
    "  <p><span style=\"font-weight: 400;\">You’re an avid player and collector of the </span><em>MonsterSmash</em><strong> </strong><span style=\"font-weight: 400;\">collectible card game, which is just now releasing its long-expected new edition, <em>Evolving Storm</em>. Each pack of cards in the new edition includes cards in a variety of types: 180 cards are common level 1 cards, with the rest being new advanced level cards: 36 are pretty rare <em>Ice </em>cards, 20 are very rare <em>Sleet </em>cards, 13 are super rare <em>Firestorm </em>cards and 1 hyper rare <em>Plasma</em> card.</span></p>\n",
    "  <p><span style=\"font-weight: 400;\">You’re holding a card match with some friends. To start the game, you bring out a new <em>Evolving Storm</em> deck you just bought, and immediately shuffle it in with your regular playing deck of 400 cards, which are all rare, and which are divided equally between the advanced types.</span></p>\n",
    "  <br><strong>A6. </strong><span style=\"font-weight: 400;\">You begin your game and draw your first card, discovering its a super rare card. What are the odds its one of the new <em>Firestorm </em>cards?</span><br>\n",
    "  <p>&nbsp;</p>\n",
    "  <p><span style=\"font-weight: 400;\">Round your answer to 4 decimal digits (e.g. 0.5000).</span></p>\n",
    "</div>"
   ]
  }
 ],
 "metadata": {
  "kernelspec": {
   "display_name": "",
   "name": ""
  },
  "language_info": {
   "name": ""
  }
 },
 "nbformat": 4,
 "nbformat_minor": 5
}
