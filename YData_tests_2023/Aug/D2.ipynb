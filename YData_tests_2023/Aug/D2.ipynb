{
 "cells": [
  {
   "cell_type": "markdown",
   "id": "3981cf78-b9c1-4eb2-ad12-c485afb525db",
   "metadata": {},
   "source": [
    "<h1 class=\"title\">(D2)&nbsp;Ski: Two routes</h1>\n",
    "<p>In this question you are required to <strong>write code</strong>, implementing a solution to the problem described below.</p>\n",
    "<p>While staying at the same resort from the previous question (D1), you decide you want to try more different routes, and still want to enjoy the biggest possible descent in total.</p>\n",
    "<p>Given the shuttle's route as in the previous question, you need to find the best combination of <strong>up to 2</strong>&nbsp;routes. You can take the shuttle to a starting station (<span class=\"cg-latex\">$$s_i$$</span>), ski down the route to a lower station (<span class=\"cg-latex\">$$s_j$$</span>) and take the shuttle again from there to another route (<span class=\"cg-latex\">$$s_k \\rightarrow s_l$$</span>).&nbsp;</p>\n",
    "<p>Given the shuttle's schedule, <span class=\"cg-latex\">$$Stations[s_1, s_2, \\ldots , s_n]$$</span> representing the heights of the different stations along the route in order, return the <strong>maximum total length of descent</strong>&nbsp;you could achieve using up to 2 different routes.</p>\n",
    "<p>Note: The second starting station must come after the first finish station (<span class=\"cg-latex\">$$i < j < k < l$$</span>). If no possible routes are available, return 0.</p>\n",
    "<h2>Input format</h2>\n",
    "<div class=\"input-specification\">\n",
    "  <div>One line containing a sequence of numbers separated by space, corresponding to the stations array: <span class=\"cg-latex\">$$Stations[s_1, s_2, \\ldots ,s_n ]$$</span>, <span class=\"cg-latex\">$$1 \\le n \\le 100$$</span>, <span class=\"cg-latex\">$$0 \\le s_i \\le 1000$$</span>.</div>\n",
    "</div>\n",
    "<h2>Output format</h2>\n",
    "<div class=\"output-specification\">Print one integer <span>—</span> &nbsp;the <strong>length of the maximum descent</strong> you can obtain from up to 2 routes combined.</div>\n",
    "<h3>Sample 1</h3>\n",
    "<table style=\"border-collapse: collapse;\" class=\"sample-tests\">\n",
    "  <thead>\n",
    "    <tr>\n",
    "      <th style=\"border: 2px solid #fff; padding: 5px;\">Input</th>\n",
    "      <th style=\"border: 2px solid #fff; padding: 5px;\">Output</th>\n",
    "    </tr>\n",
    "  </thead>\n",
    "  <tbody>\n",
    "    <tr>\n",
    "      <td style=\"border: 2px solid #fff;\">\n",
    "        <pre class=\"content\">80 25 8 10 15 30 2</pre>\n",
    "      </td>\n",
    "      <td style=\"border: 2px solid #fff; text-align: center;\">\n",
    "        <pre>100 </pre>\n",
    "      </td>\n",
    "    </tr>\n",
    "  </tbody>\n",
    "</table>\n",
    "<h3>Sample 2</h3>\n",
    "<table style=\"border-collapse: collapse;\" class=\"sample-tests\">\n",
    "  <thead>\n",
    "    <tr>\n",
    "      <th style=\"border: 2px solid #fff; padding: 5px;\">Input</th>\n",
    "      <th style=\"border: 2px solid #fff; padding: 5px;\">Output</th>\n",
    "    </tr>\n",
    "  </thead>\n",
    "  <tbody>\n",
    "    <tr>\n",
    "      <td style=\"border: 2px solid #fff; text-align: center;\">\n",
    "        <pre class=\"content\">80 25 8 10 15 30 100</pre>\n",
    "      </td>\n",
    "      <td style=\"border: 2px solid #fff; text-align: center;\">\n",
    "        <pre>72 </pre>\n",
    "      </td>\n",
    "    </tr>\n",
    "  </tbody>\n",
    "</table>\n",
    "<h3>Sample 3</h3>\n",
    "<table style=\"border-collapse: collapse;\" class=\"sample-tests\">\n",
    "  <thead>\n",
    "    <tr>\n",
    "      <th style=\"border: 2px solid #fff; padding: 5px;\">Input</th>\n",
    "      <th style=\"border: 2px solid #fff; padding: 5px;\">Output</th>\n",
    "    </tr>\n",
    "  </thead>\n",
    "  <tbody>\n",
    "    <tr>\n",
    "      <td style=\"border: 2px solid #fff;\">\n",
    "        <pre class=\"content\">50 60 70 80 90</pre>\n",
    "      </td>\n",
    "      <td style=\"border: 2px solid #fff; text-align: center;\">\n",
    "        <pre>0</pre>\n",
    "      </td>\n",
    "    </tr>\n",
    "  </tbody>\n",
    "</table>\n",
    "<h2>Notes</h2>\n",
    "<div class=\"notes\">Maximum points for question D2:<strong> 10</strong> points.<br><br><!--l. 80-->\n",
    "  <p style=\"text-indent: 0em;\"><span style=\"font-weight: bold;\">Reminder: </span>You must select 2 out of 3 questions in programming section: Ski (D), Vehicles (E), Telecom (F), and answer both selected questions as fully as possible (for example, if you choose Ski and Telecom, you should answer questions D1, D2, D3 and F1, F2, F3).</p>\n",
    "</div>"
   ]
  },
  {
   "cell_type": "code",
   "execution_count": null,
   "id": "c28d2f52-388b-4716-a9d2-58478726e3fa",
   "metadata": {},
   "outputs": [],
   "source": [
    "### Initial candidate answer code"
   ]
  },
  {
   "cell_type": "code",
   "execution_count": null,
   "id": "58629c83-ef0d-462f-90b3-6440fb19f78d",
   "metadata": {},
   "outputs": [],
   "source": [
    "# Use print(\"Debug messages...\") to debug your solution.\n",
    "\n",
    "def solution(inp):\n",
    "    # Your code goes here\n",
    "    return 0"
   ]
  },
  {
   "cell_type": "code",
   "execution_count": null,
   "id": "808a70f2-2fbd-4be8-ae51-a1919143c75f",
   "metadata": {},
   "outputs": [],
   "source": [
    "### Initial candidate test code"
   ]
  },
  {
   "cell_type": "code",
   "execution_count": null,
   "id": "32affb6b-e85d-474c-9af7-ad60936baffb",
   "metadata": {},
   "outputs": [],
   "source": [
    "example1 = '80 25 8 10 15 30 2'\n",
    "print(example1)\n",
    "print(solution(example1), '\\n')\n",
    "\n",
    "example2 = '80 25 8 10 15 30 100'\n",
    "print(example2)\n",
    "print(solution(example2), '\\n')\n",
    "\n",
    "example3 = '50 60 70 80 90'\n",
    "print(example3)\n",
    "print(solution(example3), '\\n')"
   ]
  },
  {
   "cell_type": "code",
   "execution_count": null,
   "id": "845c16f7-db6a-4408-bf64-31a2af8e94fd",
   "metadata": {},
   "outputs": [],
   "source": [
    "### Autograder part (hidden from the candidate)"
   ]
  },
  {
   "cell_type": "code",
   "execution_count": null,
   "id": "d11ff5ea-543c-4ecd-b3a0-c4cb25e6adef",
   "metadata": {},
   "outputs": [],
   "source": [
    "import numpy as np\n",
    "import os\n",
    "\n",
    "data_path = './datasets/D2/tests/'\n",
    "\n",
    "for i in range(20):\n",
    "    \n",
    "    input_file = os.path.join(data_path,'{:02}'.format(i+1))\n",
    "    output_file = os.path.join(data_path,'{:02}'.format(i+1)+'.a')\n",
    "    with open(input_file) as f:\n",
    "        data_in = f.read().splitlines()\n",
    "    f.close()\n",
    "    with open(output_file) as f:\n",
    "        data_out = f.read().splitlines()\n",
    "    f.close()\n",
    "    \n",
    "    sol = solution(data_in[0])\n",
    "    ans = int(data_out[0])\n",
    "    \n",
    "    np.testing.assert_array_equal(sol,ans)"
   ]
  }
 ],
 "metadata": {
  "kernelspec": {
   "display_name": "Python 3 (ipykernel)",
   "language": "python",
   "name": "python3"
  },
  "language_info": {
   "codemirror_mode": {
    "name": "ipython",
    "version": 3
   },
   "file_extension": ".py",
   "mimetype": "text/x-python",
   "name": "python",
   "nbconvert_exporter": "python",
   "pygments_lexer": "ipython3",
   "version": "3.12.7"
  }
 },
 "nbformat": 4,
 "nbformat_minor": 5
}
