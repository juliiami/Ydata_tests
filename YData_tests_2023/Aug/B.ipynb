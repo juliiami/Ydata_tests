{
 "cells": [
  {
   "cell_type": "markdown",
   "id": "6e79997a-8b3a-4e59-846a-fd636e8068da",
   "metadata": {},
   "source": [
    "<h2>(B1) Dataset Analysis</h2>\n",
    "<div>You&nbsp;are provided with the dataset <code>incidents.csv</code>. You will be using it to answer questions B1-B6.</div>\n",
    "<div>Download the file <a rel=\"noopener noreferrer\" href=\"https://drive.google.com/uc?export=download&amp;id=1iXWwkd13RLrEwJz7W1pGwmwXwyWVNdBd\" target=\"_blank\">here</a>.</div>\n",
    "<div>&nbsp;</div>\n",
    "<div>\n",
    "  <h4><span style=\"font-weight: 400;\">Dataset description:</span></h4>\n",
    "  <p><span style=\"font-weight: 400;\">You are provided with data from a platform tracking incidents that occur during transit in airports - lost or damaged baggage, injured passengers etc. The data represents information about past incidents reported, including information on the airport where it occurred, the nature of the incident, property involved and financial damages claimed. This data includes incidents reviewed by the committee over a certain period of time as well as the committee's decision of whether the incident merits compensation and to what amount.</span></p>\n",
    "  <p><span style=\"font-weight: 400;\"><img height=\"550\" width=\"679\" alt=\"\" src=\"https://d1sxk9v5q9mvr.cloudfront.net/work/servlet/fileservlet?id=58512377411810\"></span></p>\n",
    "  <div>\n",
    "    <div class=\"legend\">&nbsp;&nbsp;</div>\n",
    "    <div class=\"legend\">Please answer the following question:</div>\n",
    "    <div class=\"legend\">&nbsp;</div>\n",
    "    <ul>\n",
    "      <li class=\"legend\">What is the most common <code>Incident Type</code> in the dataset?</li>\n",
    "    </ul>\n",
    "  </div>\n",
    "</div>"
   ]
  },
  {
   "cell_type": "markdown",
   "id": "0e57ad78-4a09-4915-9bda-67fefc47a782",
   "metadata": {},
   "source": [
    "<h2>(B2) Dataset Analysis</h2>\n",
    "<div>You&nbsp;are provided with the dataset <code>incidents.csv</code>. You will be using it to answer questions B1-B6.</div>\n",
    "<div>Download the file <a rel=\"noopener noreferrer\" href=\"https://drive.google.com/uc?export=download&amp;id=1iXWwkd13RLrEwJz7W1pGwmwXwyWVNdBd\" target=\"_blank\">here</a>.</div>\n",
    "<div>&nbsp;</div>\n",
    "<div>\n",
    "  <h4><span style=\"font-weight: 400;\">Dataset description:</span></h4>\n",
    "  <p><span style=\"font-weight: 400;\">You are provided with data from a platform tracking incidents that occur during transit in airports - lost or damaged baggage, injured passengers etc. The data represents information about past incidents reported, including information on the airport where it occurred, the nature of the incident, property involved and financial damages claimed. This data includes incidents reviewed by the committee over a certain period of time as well as the committee's decision of whether the incident merits compensation and to what amount.</span></p>\n",
    "  <p><span style=\"font-weight: 400;\"><img height=\"550\" width=\"679\" alt=\"\" src=\"https://d1sxk9v5q9mvr.cloudfront.net/work/servlet/fileservlet?id=58512377411810\"></span></p>\n",
    "  <div>\n",
    "    <div class=\"legend\">&nbsp;&nbsp;</div>\n",
    "    <div class=\"legend\">Please answer the following question:</div>\n",
    "    <div class=\"legend\">&nbsp;</div>\n",
    "    <ul>\n",
    "      <li class=\"legend\">Approximately what percentage of incidents for which the <code>Decision </code>is known are <strong>rejected</strong>?</li>\n",
    "    </ul>\n",
    "  </div>\n",
    "</div>"
   ]
  },
  {
   "cell_type": "markdown",
   "id": "febe9512-eb59-4a00-86f5-ba3906c19271",
   "metadata": {},
   "source": [
    "<h2>(B3) Dataset Analysis</h2>\n",
    "<div>You&nbsp;are provided with the dataset <code>incidents.csv</code>. You will be using it to answer questions B1-B6.</div>\n",
    "<div>Download the file <a rel=\"noopener noreferrer\" href=\"https://drive.google.com/uc?export=download&amp;id=1iXWwkd13RLrEwJz7W1pGwmwXwyWVNdBd\" target=\"_blank\">here</a>.</div>\n",
    "<div>&nbsp;</div>\n",
    "<div>\n",
    "  <h4><span style=\"font-weight: 400;\">Dataset description:</span></h4>\n",
    "  <p><span style=\"font-weight: 400;\">You are provided with data from a platform tracking incidents that occur during transit in airports - lost or damaged baggage, injured passengers etc. The data represents information about past incidents reported, including information on the airport where it occurred, the nature of the incident, property involved and financial damages claimed. This data includes incidents reviewed by the committee over a certain period of time as well as the committee's decision of whether the incident merits compensation and to what amount.</span></p>\n",
    "  <p><span style=\"font-weight: 400;\"><img height=\"550\" width=\"679\" alt=\"\" src=\"https://d1sxk9v5q9mvr.cloudfront.net/work/servlet/fileservlet?id=58512377411810\"></span></p>\n",
    "  <div>\n",
    "    <div class=\"legend\">&nbsp;&nbsp;</div>\n",
    "    <div class=\"legend\">Please answer the following question:</div>\n",
    "    <div class=\"legend\">&nbsp;</div>\n",
    "    <ul>\n",
    "      <li class=\"legend\">What is the average <code>Claim Amount</code> in incidents that occured at the checkpoint?</li>\n",
    "    </ul>\n",
    "  </div>\n",
    "</div>"
   ]
  },
  {
   "cell_type": "markdown",
   "id": "0fef96ca-12b1-4d7a-8f73-9f86137c1648",
   "metadata": {},
   "source": [
    "<h2>(B4) Dataset Analysis</h2>\n",
    "<div>You&nbsp;are provided with the dataset <code>incidents.csv</code>. You will be using it to answer questions B1-B6.</div>\n",
    "<div>Download the file <a rel=\"noopener noreferrer\" href=\"https://drive.google.com/uc?export=download&amp;id=1iXWwkd13RLrEwJz7W1pGwmwXwyWVNdBd\" target=\"_blank\">here</a>.</div>\n",
    "<div>&nbsp;</div>\n",
    "<div>\n",
    "  <h4><span style=\"font-weight: 400;\">Dataset description:</span></h4>\n",
    "  <p><span style=\"font-weight: 400;\">You are provided with data from a platform tracking incidents that occur during transit in airports - lost or damaged baggage, injured passengers etc. The data represents information about past incidents reported, including information on the airport where it occurred, the nature of the incident, property involved and financial damages claimed. This data includes incidents reviewed by the committee over a certain period of time as well as the committee's decision of whether the incident merits compensation and to what amount.</span></p>\n",
    "  <p><span style=\"font-weight: 400;\"><img height=\"550\" width=\"679\" alt=\"\" src=\"https://d1sxk9v5q9mvr.cloudfront.net/work/servlet/fileservlet?id=58512377411810\"></span></p>\n",
    "  <div>\n",
    "    <div class=\"legend\">&nbsp;&nbsp;</div>\n",
    "    <div class=\"legend\">Please answer the following question:</div>\n",
    "    <div class=\"legend\">&nbsp;</div>\n",
    "    <ul>\n",
    "      <li class=\"legend\">What month had the largest number of logged incidents <strong>occur</strong>?</li>\n",
    "    </ul>\n",
    "  </div>\n",
    "</div>"
   ]
  },
  {
   "cell_type": "markdown",
   "id": "ac9d12dd-49e1-4026-aca9-6695e8a78ea7",
   "metadata": {},
   "source": [
    "<h2>(B5) Dataset Analysis</h2>\n",
    "<div>You&nbsp;are provided with the dataset <code>incidents.csv</code>. You will be using it to answer questions B1-B6.</div>\n",
    "<div>Download the file <a rel=\"noopener noreferrer\" href=\"https://drive.google.com/uc?export=download&amp;id=1iXWwkd13RLrEwJz7W1pGwmwXwyWVNdBd\" target=\"_blank\">here</a>.</div>\n",
    "<div>&nbsp;</div>\n",
    "<div>\n",
    "  <h4><span style=\"font-weight: 400;\">Dataset description:</span></h4>\n",
    "  <p><span style=\"font-weight: 400;\">You are provided with data from a platform tracking incidents that occur during transit in airports - lost or damaged baggage, injured passengers etc. The data represents information about past incidents reported, including information on the airport where it occurred, the nature of the incident, property involved and financial damages claimed. This data includes incidents reviewed by the committee over a certain period of time as well as the committee's decision of whether the incident merits compensation and to what amount.</span></p>\n",
    "  <p><span style=\"font-weight: 400;\"><img height=\"550\" width=\"679\" alt=\"\" src=\"https://d1sxk9v5q9mvr.cloudfront.net/work/servlet/fileservlet?id=58512377411810\"></span></p>\n",
    "  <div>\n",
    "    <div class=\"legend\">&nbsp;&nbsp;</div>\n",
    "    <div class=\"legend\">Please answer the following question:</div>\n",
    "    <div class=\"legend\">&nbsp;</div>\n",
    "    <ul>\n",
    "      <li class=\"legend\">Approximately what percent of the incidents in the database had \"<strong>Baggage</strong>\" as one of the items involved?</li>\n",
    "    </ul>\n",
    "  </div>\n",
    "</div>"
   ]
  },
  {
   "cell_type": "markdown",
   "id": "4ced59a2-2a0c-42f0-8188-a21f970036a9",
   "metadata": {},
   "source": [
    "<h2>(B6) Dataset Analysis</h2>\n",
    "<div>You&nbsp;are provided with the dataset <code>incidents.csv</code>. You will be using it to answer questions B1-B6.</div>\n",
    "<div>Download the file <a rel=\"noopener noreferrer\" href=\"https://drive.google.com/uc?export=download&amp;id=1iXWwkd13RLrEwJz7W1pGwmwXwyWVNdBd\" target=\"_blank\">here</a>.</div>\n",
    "<div>&nbsp;</div>\n",
    "<div>\n",
    "  <h4><span style=\"font-weight: 400;\">Dataset description:</span></h4>\n",
    "  <p><span style=\"font-weight: 400;\">You are provided with data from a platform tracking incidents that occur during transit in airports - lost or damaged baggage, injured passengers etc. The data represents information about past incidents reported, including information on the airport where it occurred, the nature of the incident, property involved and financial damages claimed. This data includes incidents reviewed by the committee over a certain period of time as well as the committee's decision of whether the incident merits compensation and to what amount.</span></p>\n",
    "  <p><span style=\"font-weight: 400;\"><img height=\"550\" width=\"679\" alt=\"\" src=\"https://d1sxk9v5q9mvr.cloudfront.net/work/servlet/fileservlet?id=58512377411810\"></span></p>\n",
    "  <div>\n",
    "    <div class=\"legend\">&nbsp;&nbsp;</div>\n",
    "    <div class=\"legend\">Please answer the following question:</div>\n",
    "    <div class=\"legend\">&nbsp;</div>\n",
    "    <ul>\n",
    "      <li class=\"legend\">What of the listed airports has the largest amount of incidents for which the decision is \"<strong>Partial</strong>\"?</li>\n",
    "    </ul>\n",
    "  </div>\n",
    "</div>"
   ]
  }
 ],
 "metadata": {
  "kernelspec": {
   "display_name": "",
   "name": ""
  },
  "language_info": {
   "name": ""
  }
 },
 "nbformat": 4,
 "nbformat_minor": 5
}
