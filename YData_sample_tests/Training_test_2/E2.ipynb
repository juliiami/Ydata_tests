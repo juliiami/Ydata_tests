{
 "cells": [
  {
   "cell_type": "markdown",
   "id": "a99a0dba-8263-49a5-bc07-1cc220ff1c75",
   "metadata": {},
   "source": [
    "## E2. Shopping: similarity\n",
    "\n",
    "In this question you are required to submit **a source ﬁle**, implementing a solution to the problem described below.\n",
    "\n",
    "In this question, you are asked to implement a measurement of similarity of purchasing history between two products. To do this, you must ﬁnd the common customers who bought both products using the function you wrote in the previous question, and count how many times each of them bought each of the two products (`count[memberID,productID]`).\n",
    "\n",
    "The formula for the measurement is as follows:\n",
    "\n",
    "```\n",
    "similarity (product_1, product_2):  \n",
    "    common = find_common(product_1, product_2)  \n",
    "    for member in common:  \n",
    "        sum_mult += (count[member,product_1] - productScore[product_1]) *  \n",
    "                    (count[member,product_2] - productScore[product_2])  \n",
    "        sum_sq_1 += (count[member,product_1] - productScore[product_1])^2  \n",
    "        sum_sq_2 += (count[member,product_2] - productScore[product_2])^2  \n",
    "    similarity = sum_mult / (sqrt(sum_sq_1) * sqrt(sum_sq_2)) \n",
    "```\n",
    "\n",
    "You are requested to write code implementing the measurement described above, so when given a pair of products (`product_1`, `product_2`), it will return the score resulting from the formula.\n",
    "\n",
    "**Note:** The data is the same as in question E1. In addition to columns used in E1 (`memberID`, `productID`), the formula makes use of `productScore`: a score given by the store to a speciﬁc product based on past sales performance.\n",
    "\n",
    "`productScore` is **constant** for all rows with the same `productID`.\n",
    "        \n",
    "### Input format\n",
    "\n",
    "Two integers - `product_1`, `product_2`, corresponding to product IDs in the dataﬁle (`product_1` $\\neq$ `product_2`).\n",
    "\n",
    "<a rel=\"noopener noreferrer\" href=\"./datasets/E2/purchase_data.csv\" target=\"_blank\">purchase_data.csv</a> (columns: timestamp, memberID, productID, productScore).\n",
    "\n",
    "### Output format\n",
    "\n",
    "Print one ﬂoat value, the score resulting from the running the comparison formula on the two products.\n",
    "\n",
    "Return NA if there are **<2** common members or the similarity cannot be computed.\n",
    "\n",
    "Round your output to **two decimal digits**.\n",
    "\n",
    "#### Sample 1\n",
    "\n",
    "|Input| Output|\n",
    "| :- | :-|\n",
    "|1 2 | 0.47|\n",
    "\n",
    "#### Sample 2\n",
    "\n",
    "|Input| Output|\n",
    "| :- | :-|\n",
    "|142 222 | 0.52|\n",
    "\n",
    "### Notes\n",
    "\n",
    "Maximum points for question **E2**: **10** points.\n",
    "\n",
    "**Reminder:** You must select 2 out of 3 questions in programming section: Chess (D), Users (E), Schools (F), and answer both selected questions as fully as possible (for example, if you choose Chess and Schools, you should answer questions D1, D2, D3 and F1, F2, F3)."
   ]
  },
  {
   "cell_type": "code",
   "execution_count": null,
   "id": "a11f115c-757e-466a-b676-8c098ff963f7",
   "metadata": {},
   "outputs": [],
   "source": [
    "### Initial candidate answer code"
   ]
  },
  {
   "cell_type": "code",
   "execution_count": null,
   "id": "43020294-335d-4dfd-89fc-e3470c508076",
   "metadata": {},
   "outputs": [],
   "source": [
    "# Use print(\"Debug messages...\") to debug your solution.\n",
    "\n",
    "def solution(inp):\n",
    "    # Your code goes here\n",
    "    return 0.0"
   ]
  },
  {
   "cell_type": "code",
   "execution_count": null,
   "id": "addafb78-92e0-42fc-917b-2e27c4a5c042",
   "metadata": {},
   "outputs": [],
   "source": [
    "### Initial candidate test code"
   ]
  },
  {
   "cell_type": "code",
   "execution_count": null,
   "id": "7d278300-1530-4d76-89b1-61b232ff76c0",
   "metadata": {},
   "outputs": [],
   "source": [
    "# sample input/output\n",
    "\n",
    "import pandas as pd\n",
    "df = pd.read_csv('./datasets/E2/purchase_data.csv')\n",
    "df.head()\n",
    "\n",
    "example1 = '1 2'\n",
    "print(example1) \n",
    "print(solution(example1), '\\n')\n",
    "\n",
    "example2 = '142 222'\n",
    "print(example2) \n",
    "print(solution(example2), '\\n')"
   ]
  },
  {
   "cell_type": "code",
   "execution_count": null,
   "id": "ee53537f-7f92-4ea2-a87d-c8c69679fa4e",
   "metadata": {},
   "outputs": [],
   "source": [
    "### Autograder part (hidden from the candidate)"
   ]
  },
  {
   "cell_type": "code",
   "execution_count": null,
   "id": "f87b13b1-0e67-4733-b96e-5433785e1c46",
   "metadata": {},
   "outputs": [],
   "source": [
    "import numpy as np\n",
    "import os\n",
    "\n",
    "data_path = './datasets/E2/tests/'\n",
    "\n",
    "for i in range(10):\n",
    "    \n",
    "    input_file = os.path.join(data_path,'{:02}'.format(i+1))\n",
    "    output_file = os.path.join(data_path,'{:02}'.format(i+1)+'.a')\n",
    "    with open(input_file) as f:\n",
    "        data_in = f.read().splitlines()\n",
    "    f.close()\n",
    "    with open(output_file) as f:\n",
    "        data_out = f.read().splitlines()\n",
    "    f.close()\n",
    "    \n",
    "    sol = solution(data_in[0])\n",
    "    ans = float(data_out[0])\n",
    "    \n",
    "    np.testing.assert_array_equal(sol,ans)"
   ]
  }
 ],
 "metadata": {
  "kernelspec": {
   "display_name": "Python 3 (ipykernel)",
   "language": "python",
   "name": "python3"
  },
  "language_info": {
   "codemirror_mode": {
    "name": "ipython",
    "version": 3
   },
   "file_extension": ".py",
   "mimetype": "text/x-python",
   "name": "python",
   "nbconvert_exporter": "python",
   "pygments_lexer": "ipython3",
   "version": "3.12.7"
  }
 },
 "nbformat": 4,
 "nbformat_minor": 5
}
