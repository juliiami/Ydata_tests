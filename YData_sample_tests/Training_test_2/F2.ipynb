{
 "cells": [
  {
   "cell_type": "markdown",
   "id": "85482eaf-d21d-4abb-b8f3-563312853f93",
   "metadata": {},
   "source": [
    "## F2. Schools: best year\n",
    "\n",
    "In this question, you are required to submit **a source ﬁle** solving the problem described below. Your program should use **the correct result of the previous problem (F1)** as an input.\n",
    "\n",
    "Write code solving the following problem: given a school index, ﬁnd and return the grade year with the highest ratio of students who achieved the top score out of the total tested. Exclude grade years, for which performance data is not available (i.e. years where `Year X All Students Tested` $= 0$).\n",
    "\n",
    "* Return the numeric value corresponding to the grade Year.\n",
    "* In case of a tie, return the **lowest** grade Year applicable.\n",
    "* If no applicable year groups exists, return 0.\n",
    "\n",
    "\n",
    "### Input format\n",
    "\n",
    "One integer corresponding to `School Index`.\n",
    "\n",
    "### Output format\n",
    "\n",
    "Print one integer corresponding to the grade year with maximum calculated ratio.\n",
    "\n",
    "#### Sample 1\n",
    "\n",
    "|Input| Output|\n",
    "| :- | :-|\n",
    "|310010 |6|\n",
    "\n",
    "#### Sample 2\n",
    "\n",
    "|Input| Output|\n",
    "| :- | :-|\n",
    "|310014 |4|"
   ]
  },
  {
   "cell_type": "markdown",
   "id": "8926607f-6c21-432f-b593-be12cc9c41c1",
   "metadata": {},
   "source": [
    "### Notes\n",
    "\n",
    "**Example:**\n",
    "\n",
    "<p style=\"text-align:center;\"><img src=images/image6.png width=600 height=400 />\n",
    "\n",
    "Maximum points for question **F2**: **10** points.\n",
    "\n",
    "**Reminder:** You must select 2 out of 3 questions in programming section: Chess (D), Shopping (E), Schools (F), and answer both selected questions as fully as possible (for example, if you choose Chess and Schools, you should answer questions D1, D2, D3 and F1, F2, F3)."
   ]
  },
  {
   "cell_type": "code",
   "execution_count": null,
   "id": "4932f54b-6110-4890-bdf7-c6fc5874e3a2",
   "metadata": {},
   "outputs": [],
   "source": [
    "### Initial candidate answer code"
   ]
  },
  {
   "cell_type": "code",
   "execution_count": null,
   "id": "54308735-7871-4e4d-8a2c-96fe6c6d8cc8",
   "metadata": {},
   "outputs": [],
   "source": [
    "# Use print(\"Debug messages...\") to debug your solution.\n",
    "\n",
    "def solution(inp):\n",
    "    # Your code goes here\n",
    "    return 0"
   ]
  },
  {
   "cell_type": "code",
   "execution_count": null,
   "id": "ee117940-3cbc-4393-9f70-92b2d81c647d",
   "metadata": {},
   "outputs": [],
   "source": [
    "### Initial candidate test code"
   ]
  },
  {
   "cell_type": "code",
   "execution_count": null,
   "id": "53a09e42-a438-408f-a327-897bf611b7ae",
   "metadata": {},
   "outputs": [],
   "source": [
    "import pandas as pd\n",
    "\n",
    "df = pd.read_csv('./datasets/F2/school.csv')\n",
    "print(df.head())\n",
    "\n",
    "example1 = 310010\n",
    "print(example1) \n",
    "print(solution(example1), '\\n')\n",
    "\n",
    "example2 = 310014\n",
    "print(example2) \n",
    "print(solution(example2), '\\n')"
   ]
  },
  {
   "cell_type": "code",
   "execution_count": null,
   "id": "6ced3984-2970-4d86-a47a-979565ef7677",
   "metadata": {},
   "outputs": [],
   "source": [
    "### Autograder part (hidden from the candidate)"
   ]
  },
  {
   "cell_type": "code",
   "execution_count": null,
   "id": "612882bd-23b7-4db5-9520-23a45c791ae6",
   "metadata": {},
   "outputs": [],
   "source": [
    "import numpy as np\n",
    "import pandas as pd\n",
    "import os\n",
    "\n",
    "\n",
    "data_path = './datasets/F2/tests/'\n",
    "\n",
    "for i in range(10):\n",
    "    \n",
    "    input_file = os.path.join(data_path,'{:02}'.format(i+1))\n",
    "    output_file = os.path.join(data_path,'{:02}'.format(i+1)+'.a')\n",
    "    with open(input_file) as f:\n",
    "        data_in = f.read().splitlines()\n",
    "    f.close()\n",
    "    with open(output_file) as f:\n",
    "        data_out = f.read().splitlines()\n",
    "    f.close()\n",
    "    \n",
    "    sol = solution(int(data_in[0]))\n",
    "    ans = int(data_out[0])\n",
    "    \n",
    "    np.testing.assert_array_equal(sol,ans)"
   ]
  }
 ],
 "metadata": {
  "kernelspec": {
   "display_name": "Python 3 (ipykernel)",
   "language": "python",
   "name": "python3"
  },
  "language_info": {
   "codemirror_mode": {
    "name": "ipython",
    "version": 3
   },
   "file_extension": ".py",
   "mimetype": "text/x-python",
   "name": "python",
   "nbconvert_exporter": "python",
   "pygments_lexer": "ipython3",
   "version": "3.12.7"
  }
 },
 "nbformat": 4,
 "nbformat_minor": 5
}
