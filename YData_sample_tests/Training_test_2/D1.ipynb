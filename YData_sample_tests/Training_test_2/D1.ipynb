{
 "cells": [
  {
   "cell_type": "markdown",
   "id": "bafc30eb-d99d-4939-a6b3-7efb658ec5d2",
   "metadata": {},
   "source": [
    "## D1. Chess: Find the bug\n",
    "\n",
    "In this question, you are required to ﬁnd **the line containing an error**.\n",
    "\n",
    "You are given a pseudocode of a solution for the following problem:\n",
    "\n",
    "You are given a chess board with $n$ rows and $n$ columns. There are $m$ chess rooks located on the board. Determine a number of cells that are free* and not under attack by any rook. (See illustration below – places threatened by the rook are marked with `‘x’`)\n",
    "\n",
    "*free = not occupied by a rook\n"
   ]
  },
  {
   "cell_type": "markdown",
   "id": "168bd59e-9a61-4345-93cc-8bcce1e321ff",
   "metadata": {},
   "source": [
    "<p style=\"text-align:center;\"><img src=images/image4.png width=300 height=300 />"
   ]
  },
  {
   "cell_type": "markdown",
   "id": "bc453c08-9d00-4cb8-a3d5-a493670d84e9",
   "metadata": {},
   "source": [
    "```\n",
    "# input:  \n",
    "# N - size of the chess board  \n",
    "# rooks - 2D array of integers, rooks[i][0] is a row and rooks[i][1] is a column  \n",
    " \n",
    "1.  board - empty [1..N]x[1..N] array of integers, initialized with 0  \n",
    "2.  \n",
    "3.  for id from 0 to length(rooks) - 1:  \n",
    "4.      for row from 1 to N:  \n",
    "5.          for column from 1 to N:  \n",
    "6.              if row == rooks[id][0] and column == rooks[id][1]:  \n",
    "7.                  board[row][column] = 1 // the rook  \n",
    "8.              if row == rooks[id][0] and column != rooks[id][1]:  \n",
    "9.                  board[row][column] = 2 // attacked cell  \n",
    "10.             if row != rooks[id][0] and column == rooks[id][1]:  \n",
    "11.                 board[row][column] = 2 // attacked cell  \n",
    "12.  \n",
    "13.  \n",
    "14. unattacked_cells = N  * N // number of unattacked cells  \n",
    "15. for row from 1 to N:  \n",
    "16.     for column from 1 to N:  \n",
    "17.         if board[row][column] == 2:  \n",
    "18.             unattacked_cells -= 1  \n",
    "19.  \n",
    "20. return unattacked_cells\n",
    "```\n",
    "\n",
    "**Note:** ’An error’ may refer to any situation in which in order for the program to run correctly, the pseudocode needs to be modiﬁed through changing, deleting, or adding some symbols. All such changes must be done within a single line of the pseudocode.\n",
    "\n",
    "**Hint:** The error is not in the synthax of the pseudocode\n",
    "\n",
    "### Input format\n",
    "\n",
    "One integer, the number of the line containing an error.\n",
    "\n",
    "### Notes\n",
    "\n",
    "Maximum points for question **D1**: **7** points.\n",
    "\n",
    "**Reminder:** You must select 2 out of 3 questions in programming section: Chess (D), Shopping (E), Schools (F), and answer both selected questions as fully as possible (for example, if you choose Chess and Schools, you should answer questions D1, D2, D3 and F1, F2, F3).\n",
    "\n",
    "**Note:** In this question you do not receive the outcome of your submission, only a notiﬁcation that submission was sent successfully."
   ]
  }
 ],
 "metadata": {
  "kernelspec": {
   "display_name": "Python 3",
   "language": "python",
   "name": "python3"
  },
  "language_info": {
   "codemirror_mode": {
    "name": "ipython",
    "version": 3
   },
   "file_extension": ".py",
   "mimetype": "text/x-python",
   "name": "python",
   "nbconvert_exporter": "python",
   "pygments_lexer": "ipython3",
   "version": "3.8.8"
  }
 },
 "nbformat": 4,
 "nbformat_minor": 5
}
