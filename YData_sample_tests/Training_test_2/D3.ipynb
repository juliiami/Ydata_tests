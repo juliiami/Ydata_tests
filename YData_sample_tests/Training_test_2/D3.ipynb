{
 "cells": [
  {
   "cell_type": "markdown",
   "id": "726bf679-57c5-456b-9035-effae1193b96",
   "metadata": {},
   "source": [
    "## D3. Chess: Optimize\n",
    "\n",
    "The pseudocode given in D1 has sub-optimal complexity.\n",
    "\n",
    "Optimize your solution for the previous problem (D2) if necessary, allowing it to run eﬃciently. Your solution will run on tests with larger constraints: $1≤n≤100000$,$1≤m≤100000$.\n",
    "\n",
    "### Input format\n",
    "\n",
    "The same as in D2.\n",
    "\n",
    "### Output format\n",
    "\n",
    "The same as in D2."
   ]
  },
  {
   "cell_type": "markdown",
   "id": "bbd9eab2-6537-4d00-a932-47dcec1bf57a",
   "metadata": {},
   "source": [
    "#### Sample"
   ]
  },
  {
   "cell_type": "markdown",
   "id": "3a5f268b-c54a-4eba-9563-8a0b6e5c6be4",
   "metadata": {},
   "source": [
    "|Input| Output|\n",
    "| :- | :-|\n",
    "|5 5| 0|\n",
    "|2 4||\n",
    "|5 1||\n",
    "|4 4||\n",
    "|3 3||\n",
    "|1 3|| "
   ]
  },
  {
   "cell_type": "markdown",
   "id": "f3920ea4-63f7-4d02-a05f-1d98b999021c",
   "metadata": {},
   "source": [
    "Maximum points for question **D3**: **13** points.\n",
    "\n",
    "**Reminder:** You must select 2 out of 3 questions in programming section: Chess (D), Shopping (E), Schools (F), and answer both selected questions as fully as possible (for example, if you choose Chess and Schools, you should answer questions D1, D2, D3 and F1, F2, F3)."
   ]
  },
  {
   "cell_type": "code",
   "execution_count": null,
   "id": "57f24370-af12-40b5-8e9b-5fd9f15186e4",
   "metadata": {},
   "outputs": [],
   "source": [
    "### Initial candidate answer code"
   ]
  },
  {
   "cell_type": "code",
   "execution_count": null,
   "id": "cdbd470e-d1b5-45af-8f3e-c0b4033e2755",
   "metadata": {},
   "outputs": [],
   "source": [
    "\n",
    "# Use print(\"Debug messages...\") to debug your solution.\n",
    "\n",
    "def solution(inp):\n",
    "    # Your code goes here\n",
    "    return 0"
   ]
  },
  {
   "cell_type": "code",
   "execution_count": null,
   "id": "55c7c311-1563-404c-8c31-cf9d838ac4f8",
   "metadata": {},
   "outputs": [],
   "source": [
    "### Initial candidate test code"
   ]
  },
  {
   "cell_type": "code",
   "execution_count": null,
   "id": "b8c3c181-9c43-4274-8139-64edf0a51613",
   "metadata": {},
   "outputs": [],
   "source": [
    "example1 = ['5 5', '2 4', '5 1', '4 4', '3 3', '1 3']\n",
    "print(example1) \n",
    "print(solution(example1), '\\n')"
   ]
  },
  {
   "cell_type": "code",
   "execution_count": null,
   "id": "129ec7ed-1a68-437c-80ba-315381521d0e",
   "metadata": {},
   "outputs": [],
   "source": [
    "### Autograder part (hidden from the candidate)"
   ]
  },
  {
   "cell_type": "code",
   "execution_count": null,
   "id": "fe7281af-9d4e-4be0-a9a1-0a6afaa423b3",
   "metadata": {},
   "outputs": [],
   "source": [
    "import numpy as np\n",
    "import os\n",
    "\n",
    "data_path = './datasets/D3/tests/'\n",
    "\n",
    "for i in range(65):\n",
    "    \n",
    "    input_file = os.path.join(data_path,'{:02}'.format(i+1))\n",
    "    output_file = os.path.join(data_path,'{:02}'.format(i+1)+'.a')\n",
    "    with open(input_file) as f:\n",
    "        data_in = f.read().splitlines()\n",
    "    f.close()\n",
    "    with open(output_file) as f:\n",
    "        data_out = f.read().splitlines()\n",
    "    f.close()\n",
    "    \n",
    "    sol = solution(data_in)\n",
    "    ans = int(data_out[0])\n",
    "    \n",
    "    np.testing.assert_array_equal(sol,ans)"
   ]
  }
 ],
 "metadata": {
  "kernelspec": {
   "display_name": "Python 3",
   "language": "python",
   "name": "python3"
  },
  "language_info": {
   "codemirror_mode": {
    "name": "ipython",
    "version": 3
   },
   "file_extension": ".py",
   "mimetype": "text/x-python",
   "name": "python",
   "nbconvert_exporter": "python",
   "pygments_lexer": "ipython3",
   "version": "3.8.8"
  }
 },
 "nbformat": 4,
 "nbformat_minor": 5
}
