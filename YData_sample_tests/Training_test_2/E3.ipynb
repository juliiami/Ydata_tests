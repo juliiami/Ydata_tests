{
 "cells": [
  {
   "cell_type": "markdown",
   "id": "7db0d333-4999-4ef8-aa48-44782c0f094d",
   "metadata": {},
   "source": [
    "## E3. Shopping: recommend\n",
    "\n",
    "In this question, you are required to submit **a source ﬁle**, implementing a solution to the problem described below.\n",
    "\n",
    "In this question, you are asked to use your work in the two previous questions to oﬀer relevant products to a new member who has just made their ﬁrst purchase at the store.\n",
    "\n",
    "Given a list of 3 product IDs and their counts representing the client’s current history, you should ﬁnd and return the ID of the product with the highest predicted purchase count.\n",
    "\n",
    "To do this, you should use the `similarity` function (from E2) to ﬁnd the most similar products to the ones in the new client’s purchase among all other products, predict how much of each product is the new customer likely to buy in the future using the formula below, and return the one among them with the highest predicted count.\n",
    "\n",
    "```\n",
    "predicted_count (new_member, candidate_product):  \n",
    "   for bought_product:  \n",
    "      sum_mult += similarity(candidate_product, bought_product) * count(new_member, bought_product)  \n",
    "      sum_similarities += abs(similarity(candidate_product, bought_product))  \n",
    "   predicted_count = (sum_mult / sum_similarities)  \n",
    "```\n",
    "\n",
    "* Calculate only for products whose similarity with target is not NA\n",
    "* If `predicted_count` cannot be calculated, treat it as 0\n",
    "* If several products tie for highest predicted count, return the one with lowest ID.\n",
    "\n",
    "### Input format\n",
    "\n",
    "Three lines, each containing two integers separated with space - productID and count, corresponding to Product IDs in the dataﬁle, representing products purchased by new member and the count for each product.\n",
    "\n",
    "<a rel=\"noopener noreferrer\" href=\"./datasets/E3/purchase_data.csv\" target=\"_blank\">purchase_data.csv</a> (columns: timestamp, memberID, productID, productScore).\n",
    "\n",
    "### Output format\n",
    "\n",
    "Print one integer, corresponding to the `product_ID` of the product with the highest predicted count.\n",
    "\n",
    "#### Sample 1\n",
    "\n",
    "|Input| Output|\n",
    "| :- | :-|\n",
    "|1 2 | 4 |\n",
    "|2 2 ||\n",
    "|3 2 ||\n",
    "\n",
    "#### Sample 2\n",
    "\n",
    "|Input| Output|\n",
    "| :- | :-|\n",
    "|77 87 | 296 |\n",
    "|177 1 ||\n",
    "|178 2 ||\n",
    "\n",
    "#### Sample 3\n",
    "\n",
    "|Input| Output|\n",
    "| :- | :-|\n",
    "|111 1 | 6 |\n",
    "|55 5 | |\n",
    "|121 3 | |\n",
    "\n",
    "### Notes\n",
    "\n",
    "Maximum points for question **E3**: **13** points.\n",
    "\n",
    "**Reminder:** You must select 2 out of 3 questions in programming section: Chess (D), Shopping (E), Schools (F), and answer both selected questions as fully as possible (for example, if you choose Chess and Schools, you should answer questions D1, D2, D3 and F1, F2, F3)."
   ]
  },
  {
   "cell_type": "code",
   "execution_count": null,
   "id": "f7140fbb-1b9f-4217-8ca7-eec08be943e6",
   "metadata": {},
   "outputs": [],
   "source": [
    "### Initial candidate answer code"
   ]
  },
  {
   "cell_type": "code",
   "execution_count": null,
   "id": "d14f1e4b-0e67-4e63-bc1f-3422d2b309a5",
   "metadata": {},
   "outputs": [],
   "source": [
    "# Use print(\"Debug messages...\") to debug your solution.\n",
    "\n",
    "def solution(inp):\n",
    "    # Your code goes here\n",
    "    return 0"
   ]
  },
  {
   "cell_type": "code",
   "execution_count": null,
   "id": "76052a75-64a5-4d0f-b6fb-1e1699409ae9",
   "metadata": {},
   "outputs": [],
   "source": [
    "### Initial candidate test code"
   ]
  },
  {
   "cell_type": "code",
   "execution_count": null,
   "id": "8ea37097-19e3-468f-9973-ac965ef4641a",
   "metadata": {},
   "outputs": [],
   "source": [
    "# sample input/output\n",
    "\n",
    "import pandas as pd\n",
    "df = pd.read_csv('./datasets/E3/purchase_data.csv')\n",
    "df.head()\n",
    "\n",
    "example1 = ['1 2', '2 2', '3 2']\n",
    "print(example1) \n",
    "print(solution(example1), '\\n')\n",
    "\n",
    "example2 = ['77 87', '177 1', '178 2']\n",
    "print(example2) \n",
    "print(solution(example2), '\\n')\n",
    "\n",
    "example3 = ['111 1', '55 5', '121 3']\n",
    "print(example3) \n",
    "print(solution(example3), '\\n')"
   ]
  },
  {
   "cell_type": "code",
   "execution_count": null,
   "id": "9da36855-af31-4bbd-ad45-a9301db127fe",
   "metadata": {},
   "outputs": [],
   "source": [
    "### Autograder part (hidden from the candidate)"
   ]
  },
  {
   "cell_type": "code",
   "execution_count": null,
   "id": "8b33d547-0235-43fc-b229-081f43f0e634",
   "metadata": {},
   "outputs": [],
   "source": [
    "import numpy as np\n",
    "import os\n",
    "\n",
    "data_path = './datasets/E3/tests/'\n",
    "\n",
    "for i in range(10):\n",
    "    \n",
    "    input_file = os.path.join(data_path,'{:02}'.format(i+1))\n",
    "    output_file = os.path.join(data_path,'{:02}'.format(i+1)+'.a')\n",
    "    with open(input_file) as f:\n",
    "        data_in = f.read().splitlines()\n",
    "    f.close()\n",
    "    with open(output_file) as f:\n",
    "        data_out = f.read().splitlines()\n",
    "    f.close()\n",
    "    \n",
    "    sol = solution(data_in)\n",
    "    ans = int(data_out[0])\n",
    "    \n",
    "    np.testing.assert_array_equal(sol,ans)"
   ]
  }
 ],
 "metadata": {
  "kernelspec": {
   "display_name": "Python 3 (ipykernel)",
   "language": "python",
   "name": "python3"
  },
  "language_info": {
   "codemirror_mode": {
    "name": "ipython",
    "version": 3
   },
   "file_extension": ".py",
   "mimetype": "text/x-python",
   "name": "python",
   "nbconvert_exporter": "python",
   "pygments_lexer": "ipython3",
   "version": "3.12.7"
  }
 },
 "nbformat": 4,
 "nbformat_minor": 5
}
