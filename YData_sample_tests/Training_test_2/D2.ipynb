{
 "cells": [
  {
   "cell_type": "markdown",
   "id": "726bf679-57c5-456b-9035-effae1193b96",
   "metadata": {},
   "source": [
    "## D2. Chess: Implement\n",
    "\n",
    "In this question you are required to **write code in the window below** or **submit a source ﬁle** implementing a solution to the problem presented in the previous question (D1).\n",
    "\n",
    "**Note:** Your solution should read the description of chess board from test ﬁles 01-40.\n",
    "\n",
    "### Input format\n",
    "\n",
    "The ﬁrst input line contains two integers $n$ and $m$ ($1≤n≤100$, $1≤m≤100$). Each of the $m$ following lines contains two integers $r_i$ and $c_i$ ($1≤r_i≤n$, $1≤c_i≤n$).\n",
    "\n",
    "**Note:** The input ﬁle has UNIX line endings format (Unix LF). https://en.wikipedia.org/wiki/Newline\n",
    "\n",
    "It is known that all rook positions are diﬀerent.\n",
    "\n",
    "### Output format\n",
    "\n",
    "Print one integer, the number of cells that are free* and not under attack of any rook.\n",
    "\n",
    "*free = not occupied by rook"
   ]
  },
  {
   "cell_type": "markdown",
   "id": "8cf23262-8345-45f7-9fe8-7af89c3dff5f",
   "metadata": {},
   "source": [
    "#### Sample"
   ]
  },
  {
   "cell_type": "markdown",
   "id": "a6d495f2-a064-4ef4-b8c1-31ef0f710e3b",
   "metadata": {},
   "source": [
    "|Input| Output|\n",
    "| :- | :-|\n",
    "|5 4 | 4|\n",
    "|2 2 ||\n",
    "|1 1 ||\n",
    "|4 2 ||\n",
    "|1 3 ||"
   ]
  },
  {
   "cell_type": "markdown",
   "id": "f3920ea4-63f7-4d02-a05f-1d98b999021c",
   "metadata": {},
   "source": [
    "### Notes\n",
    "\n",
    "Illustration of sample case:\n",
    "\n",
    "<p style=\"text-align:center;\"><img src=images/image5.png width=200 height=200 />\n",
    "\n",
    "Maximum points for question **D2**: **10** points.\n",
    "\n",
    "**Reminder:** You must select 2 out of 3 questions in programming section: Chess (D), Shopping (E), Schools (F), and answer both selected questions as fully as possible (for example, if you choose Chess and Schools, you should answer questions D1, D2, D3 and F1, F2, F3)."
   ]
  },
  {
   "cell_type": "code",
   "execution_count": null,
   "id": "57f24370-af12-40b5-8e9b-5fd9f15186e4",
   "metadata": {},
   "outputs": [],
   "source": [
    "### Initial candidate answer code"
   ]
  },
  {
   "cell_type": "code",
   "execution_count": null,
   "id": "cdbd470e-d1b5-45af-8f3e-c0b4033e2755",
   "metadata": {},
   "outputs": [],
   "source": [
    "\n",
    "# Use print(\"Debug messages...\") to debug your solution.\n",
    "\n",
    "def solution(inp):\n",
    "    # Your code goes here\n",
    "    return 0"
   ]
  },
  {
   "cell_type": "code",
   "execution_count": null,
   "id": "55c7c311-1563-404c-8c31-cf9d838ac4f8",
   "metadata": {},
   "outputs": [],
   "source": [
    "### Initial candidate test code"
   ]
  },
  {
   "cell_type": "code",
   "execution_count": null,
   "id": "b8c3c181-9c43-4274-8139-64edf0a51613",
   "metadata": {},
   "outputs": [],
   "source": [
    "example1 = ['5 4', '2 2', '1 1', '4 2', '1 3']\n",
    "print(example1) \n",
    "print(solution(example1), '\\n')"
   ]
  },
  {
   "cell_type": "code",
   "execution_count": null,
   "id": "129ec7ed-1a68-437c-80ba-315381521d0e",
   "metadata": {},
   "outputs": [],
   "source": [
    "### Autograder part (hidden from the candidate)"
   ]
  },
  {
   "cell_type": "code",
   "execution_count": null,
   "id": "fe7281af-9d4e-4be0-a9a1-0a6afaa423b3",
   "metadata": {},
   "outputs": [],
   "source": [
    "import numpy as np\n",
    "import os\n",
    "\n",
    "data_path = './datasets/D2/tests/'\n",
    "\n",
    "for i in range(40):\n",
    "    \n",
    "    input_file = os.path.join(data_path,'{:02}'.format(i+1))\n",
    "    output_file = os.path.join(data_path,'{:02}'.format(i+1)+'.a')\n",
    "    with open(input_file) as f:\n",
    "        data_in = f.read().splitlines()\n",
    "    f.close()\n",
    "    with open(output_file) as f:\n",
    "        data_out = f.read().splitlines()\n",
    "    f.close()\n",
    "    \n",
    "    sol = solution(data_in)\n",
    "    ans = int(data_out[0])\n",
    "    \n",
    "    np.testing.assert_array_equal(sol,ans)"
   ]
  }
 ],
 "metadata": {
  "kernelspec": {
   "display_name": "Python 3",
   "language": "python",
   "name": "python3"
  },
  "language_info": {
   "codemirror_mode": {
    "name": "ipython",
    "version": 3
   },
   "file_extension": ".py",
   "mimetype": "text/x-python",
   "name": "python",
   "nbconvert_exporter": "python",
   "pygments_lexer": "ipython3",
   "version": "3.8.8"
  }
 },
 "nbformat": 4,
 "nbformat_minor": 5
}
