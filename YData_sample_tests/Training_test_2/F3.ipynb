{
 "cells": [
  {
   "cell_type": "markdown",
   "id": "88373538-5b22-4fff-b61c-8a85cbeb70cd",
   "metadata": {},
   "source": [
    "## F3. Schools: district score\n",
    "\n",
    "In this question, you are required to submit **a source ﬁle** solving the problem described below. Your program should use **the correct result of the previous problem (F1)** as an input.\n",
    "\n",
    "Write code which calculates performance by district based on the criteria provided below. Given a district code and Average Proﬁciency Score range (min and max), ﬁnd all the schools corresponding to the criteria, and return the **average** Student Achievement Rating for the schools selected.\n",
    "\n",
    "For Average Proﬁciency Score you are given a minimum and a maximum value. Find all schools with min $\\leq$ Average Proﬁciency Score (school) $\\leq$ max. Return the average value for Student Achievement Rating.\n",
    "\n",
    "* Round your answer to **2 decimal digits**\n",
    "* If no relevant schools are available, return 0.\n",
    "\n",
    "### Input format\n",
    "\n",
    "A list of 3 numbers separated by spaces: district, minimum threshold, maximum threshold.\n",
    "\n",
    "### Output format\n",
    "\n",
    "Print out a single ﬂoat value, rounded to **2 decimal digits** corresponding to the average Student Achievement Rating among schools fulﬁlling the criteria described above.\n",
    "\n",
    "#### Sample 1\n",
    "\n",
    "|Input| Output|\n",
    "| :- | :-|\n",
    "|16 55 65| 0.77|\n",
    "\n",
    "#### Sample 2\n",
    "\n",
    "|Input| Output|\n",
    "| :- | :-|\n",
    "|3 49 49 | 0.00|"
   ]
  },
  {
   "cell_type": "markdown",
   "id": "56cb0494-9437-4647-957c-9e7ddef8cba8",
   "metadata": {},
   "source": [
    "### Notes\n",
    "\n",
    "Maximum points for question **F3**: **13** points.\n",
    "\n",
    "**Reminder:** You must select 2 out of 3 questions in programming section: Chess (D), Shopping (E), Schools (F), and answer both selected questions as fully as possible (for example, if you choose Chess and Schools, you should answer questions D1, D2, D3 and F1, F2, F3)."
   ]
  },
  {
   "cell_type": "code",
   "execution_count": null,
   "id": "2348d940-1d8c-4c38-b776-147a3e093e28",
   "metadata": {},
   "outputs": [],
   "source": [
    "### Initial candidate answer code"
   ]
  },
  {
   "cell_type": "code",
   "execution_count": null,
   "id": "d5516a0f-81c9-47c5-abdd-7e6e7a788aae",
   "metadata": {},
   "outputs": [],
   "source": [
    "# Use print(\"Debug messages...\") to debug your solution.\n",
    "\n",
    "def solution(inp):\n",
    "    # Your code goes here\n",
    "    return 0.0"
   ]
  },
  {
   "cell_type": "code",
   "execution_count": null,
   "id": "e3ae9ae8-291a-4750-b684-a3099601bd31",
   "metadata": {},
   "outputs": [],
   "source": [
    "### Initial candidate test code"
   ]
  },
  {
   "cell_type": "code",
   "execution_count": null,
   "id": "163ec8dd-22f4-4465-9456-a29b5a601c03",
   "metadata": {},
   "outputs": [],
   "source": [
    "import pandas as pd\n",
    "\n",
    "df = pd.read_csv('./datasets/F3/schools.csv')\n",
    "print(df.head())\n",
    "\n",
    "example1 = '16 55 65'\n",
    "print(example1) \n",
    "print(solution(example1), '\\n')\n",
    "\n",
    "example2 = '3 49 49'\n",
    "print(example2) \n",
    "print(solution(example2), '\\n')"
   ]
  },
  {
   "cell_type": "code",
   "execution_count": null,
   "id": "f0f90d83-5880-4bac-bc6d-1d97d2dd641c",
   "metadata": {},
   "outputs": [],
   "source": [
    "### Autograder part (hidden from the candidate)"
   ]
  },
  {
   "cell_type": "code",
   "execution_count": null,
   "id": "822e1e01-e0e1-43a5-a35d-ffc27a862b67",
   "metadata": {},
   "outputs": [],
   "source": [
    "import numpy as np\n",
    "import pandas as pd\n",
    "import os\n",
    "\n",
    "df = pd.read_csv('./datasets/F3/schools_done.csv')\n",
    "\n",
    "data_path = './datasets/F3/tests/'\n",
    "\n",
    "for i in range(10):\n",
    "    \n",
    "    input_file = os.path.join(data_path,'{:02}'.format(i+1))\n",
    "    output_file = os.path.join(data_path,'{:02}'.format(i+1)+'.a')\n",
    "    with open(input_file) as f:\n",
    "        data_in = f.read().splitlines()\n",
    "    f.close()\n",
    "    with open(output_file) as f:\n",
    "        data_out = f.read().splitlines()\n",
    "    f.close()\n",
    "    \n",
    "    sol = solution(data_in[0])\n",
    "    ans = float(data_out[0])\n",
    "    \n",
    "    np.testing.assert_array_equal(sol,ans)"
   ]
  }
 ],
 "metadata": {
  "kernelspec": {
   "display_name": "Python 3",
   "language": "python",
   "name": "python3"
  },
  "language_info": {
   "codemirror_mode": {
    "name": "ipython",
    "version": 3
   },
   "file_extension": ".py",
   "mimetype": "text/x-python",
   "name": "python",
   "nbconvert_exporter": "python",
   "pygments_lexer": "ipython3",
   "version": "3.8.8"
  }
 },
 "nbformat": 4,
 "nbformat_minor": 5
}
