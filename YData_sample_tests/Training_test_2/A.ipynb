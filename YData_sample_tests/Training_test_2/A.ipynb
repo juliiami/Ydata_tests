{
 "cells": [
  {
   "cell_type": "markdown",
   "id": "e47848b8-a845-4571-a52e-a52aa0343c9d",
   "metadata": {},
   "source": [
    "## A. Statistics & Probability\n",
    "\n",
    "All answers must be submitted as ﬂoating point number rounded to **5 decimal digits**.\n",
    "\n",
    "Cards (Questions 1-4): A deck of cards contains 54 cards, comprised of 4 suits of 13 cards, as well as **two jokers**. Each suit contains the cards 2-10, J, Q, K, A. The suits are Spades (black), Hearts (red), Diamonds (red) and Clubs (black).\n",
    "\n",
    "**Q1**. You draw a card at random, what is the probability of it being a number card of value between 2-5 (inclusive)?\n",
    "\n",
    "**Q2**. You draw two cards one after another, returning and reshuﬄing after each draw, what is the probability they are both Diamonds?\n",
    "\n",
    "**Q3**. You draw four cards one after another (without returning cards to the deck between draws). What is the probability the cards drawn included one of each of the four suits?\n",
    "\n",
    "**Q4**. You play a game where all number cards (2-10) have a value equal to their number, ace has a value of 1, face cards have a value of 10 and joker can have the same value as any card of your choice. To play the game, you draw three cards into your hand, and you win if your hand total (sum of values) meets or exceeds a stated goal. If the goal number is 4, what is your probability of winning in your ﬁrst draw?\n",
    "\n",
    "**Q5**. An unbalanced coin comes up with tails 60% of the times its tossed. It is tossed 3 times in a row. What is the probability that all three tosses came up the same?\n",
    "\n",
    "**Q6**. You have 4 coins: 3 coins are fair and one is a fake coin with heads on both sides. You pick one coin at random, and toss it. What is the probability the toss comes up heads?\n",
    "\n",
    "**Q7**. A pair of fair six-sided dice is rolled. What is the probability that the sum of the dice is 9 or more?\n",
    "\n",
    "**Q8**. You roll 4 fair four-sided dice. What is the probability of each one showing a diﬀerent number?\n",
    "\n",
    "**Q9**. Credit card PIN codes are 4-digit number that is chosen at random (all combinations allowed). What is the probability you are assigned a PIN code that is divisible by 5 and contains the number 45 (as two consecutive digits)?\n",
    "\n",
    "**Q10**. The probability of an electronics store selling at least one computer in an 8-hour working day is 0.8. Assuming a constant probability throughout the day, what’s the probability of the store selling at least one computer in any given 2-hour time window?\n",
    "\n",
    "### Output format\n",
    "\n",
    "INSTRUCTIONS: Read each question and ﬁnd the correct answer. Write the answers in the designated window, using the following format: Question number + space + correct answer (integer or ﬂoating point number). Each answer should be in a separate row.\n",
    "\n",
    "Example:  \n",
    "Q1 FP_NUMBER_WITH_EXACTLY_5_DECIMAL_DIGITS  \n",
    "Q2 FP_NUMBER_WITH_EXACTLY_5_DECIMAL_DIGITS  \n",
    "Q3 FP_NUMBER_WITH_EXACTLY_5_DECIMAL_DIGITS  \n",
    "Q4 FP_NUMBER_WITH_EXACTLY_5_DECIMAL_DIGITS  \n",
    "Q5 FP_NUMBER_WITH_EXACTLY_5_DECIMAL_DIGITS  \n",
    "Q6 FP_NUMBER_WITH_EXACTLY_5_DECIMAL_DIGITS  \n",
    "Q7 FP_NUMBER_WITH_EXACTLY_5_DECIMAL_DIGITS  \n",
    "Q8 FP_NUMBER_WITH_EXACTLY_5_DECIMAL_DIGITS  \n",
    "Q9 FP_NUMBER_WITH_EXACTLY_5_DECIMAL_DIGITS  \n",
    "Q10 FP_NUMBER_WITH_EXACTLY_5_DECIMAL_DIGITS \n",
    "\n",
    "### Notes\n",
    "\n",
    "Maximum points value for question **A**: **12** points\n",
    "\n",
    "All ﬂoating point answers must be given with **exactly 5 decimal digits**. e.g. if your solution is \"1.5\", your submitted answer should be \"1.50000\".\n",
    "\n",
    "If you do not solve some problems, you can skip the relevant questions in the submission window. Answers may be listed in any order."
   ]
  }
 ],
 "metadata": {
  "kernelspec": {
   "display_name": "Python 3",
   "language": "python",
   "name": "python3"
  },
  "language_info": {
   "codemirror_mode": {
    "name": "ipython",
    "version": 3
   },
   "file_extension": ".py",
   "mimetype": "text/x-python",
   "name": "python",
   "nbconvert_exporter": "python",
   "pygments_lexer": "ipython3",
   "version": "3.8.8"
  }
 },
 "nbformat": 4,
 "nbformat_minor": 5
}
