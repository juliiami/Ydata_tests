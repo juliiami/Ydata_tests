{
 "cells": [
  {
   "cell_type": "markdown",
   "id": "2661c8cb-df21-432d-9584-63cf332fb5e8",
   "metadata": {},
   "source": [
    "## E1. Shopping: intersection\n",
    "\n",
    "In this question you are required to submit **a source ﬁle**, implementing a solution to the problem described below.\n",
    "\n",
    "In this question (E1-E3) you are asked to assist a store in building a series of tools to understand its customers’ behavior and improve future sales.\n",
    "\n",
    "You are provided with a ﬁle, *purchase_data.csv*, containing a dataset of past purchases by customers in the store’s loyalty club. Each row in the dataset represents a single past purchase by a club member of a speciﬁc product.\n",
    "\n",
    "In this question you are asked to write a code implementing a function `find_common`, which receives as input the IDs of two products and returns the list of all members who bought **both** products.\n",
    "\n",
    "### Input format\n",
    "\n",
    "Two integers - `product_1`, `product_2`, corresponding to product IDs in the dataﬁle (`product_1` $\\neq$ `product_2`).\n",
    "\n",
    "**Data**:"
   ]
  },
  {
   "cell_type": "markdown",
   "id": "adf2c8a9-f63d-4bc9-91e5-9fcd3ff76dda",
   "metadata": {},
   "source": [
    "<a rel=\"noopener noreferrer\" href=\"./datasets/E1/purchase_data.csv\" target=\"_blank\">purchase_data.csv</a> (columns: timestamp, memberID, productID, productScore). File can be downloaded from Notes section below.\n"
   ]
  },
  {
   "cell_type": "markdown",
   "id": "6da0f275-becd-477f-9018-aa2a24e75b16",
   "metadata": {},
   "source": [
    "### Output format\n",
    "\n",
    "Print a sequence of integers corresponding to memberIDs of members who bought both products, each number in a single line. Return 0 if no members bought both products.\n",
    "\n",
    "#### Sample\n",
    "\n",
    "|Input| Output|\n",
    "| :- | :-|\n",
    "|59 72| 1|\n",
    "||36|\n",
    "||50|\n",
    "||73|\n",
    "||78|\n",
    "||80|\n",
    "||91|\n",
    "||96|\n",
    "||104|\n",
    "||119|\n",
    "||126|\n",
    "||131|\n",
    "||132|\n",
    "||156|\n",
    "||174|\n",
    "||196|\n",
    "||201|\n",
    "||205|\n",
    "||208|\n",
    "||247|\n",
    "\n",
    "### Notes\n",
    "\n",
    "Maximum points for question **E1**: **7** points.\n",
    "\n",
    "**Reminder:** You must select 2 out of 3 questions in programming section: Chess (D), Shopping (E), Schools (F), and answer both selected questions as fully as possible (for example, if you choose Chess and Schools, you should answer questions D1, D2, D3 and F1, F2, F3)."
   ]
  },
  {
   "cell_type": "code",
   "execution_count": null,
   "id": "c92365d3-26b8-4bb3-afde-63f692a99202",
   "metadata": {},
   "outputs": [],
   "source": [
    "### Initial candidate answer code"
   ]
  },
  {
   "cell_type": "code",
   "execution_count": null,
   "id": "440b9c54-4ec2-48bd-86ae-e0cd24bc5718",
   "metadata": {},
   "outputs": [],
   "source": [
    "# Use print(\"Debug messages...\") to debug your solution.\n",
    "\n",
    "def solution(inp):\n",
    "    # Your code goes here\n",
    "    return []"
   ]
  },
  {
   "cell_type": "code",
   "execution_count": null,
   "id": "2520a70d-1735-49ff-982e-1c2161a1b6c2",
   "metadata": {},
   "outputs": [],
   "source": [
    "### Initial candidate test code"
   ]
  },
  {
   "cell_type": "code",
   "execution_count": null,
   "id": "c7380fc1-3bb2-42b7-9a0c-4f8d10fc80be",
   "metadata": {},
   "outputs": [],
   "source": [
    "# sample input/output\n",
    "\n",
    "import pandas as pd\n",
    "df = pd.read_csv('./datasets/E1/purchase_data.csv')\n",
    "df.head()\n",
    "\n",
    "example1 = ['59 72']\n",
    "print(example1) \n",
    "print(solution(example1), '\\n')"
   ]
  },
  {
   "cell_type": "code",
   "execution_count": null,
   "id": "e00a19ca-be36-4de4-b9d1-7554f24e3705",
   "metadata": {},
   "outputs": [],
   "source": [
    "### Autograder part (hidden from the candidate)"
   ]
  },
  {
   "cell_type": "code",
   "execution_count": null,
   "id": "8d4e84bc-53bb-4aa6-b136-6cc74905fde0",
   "metadata": {},
   "outputs": [],
   "source": [
    "import numpy as np\n",
    "import os\n",
    "\n",
    "data_path = './datasets/E1/tests/'\n",
    "\n",
    "for i in range(10):\n",
    "    \n",
    "    input_file = os.path.join(data_path,'{:02}'.format(i+1))\n",
    "    output_file = os.path.join(data_path,'{:02}'.format(i+1)+'.a')\n",
    "    with open(input_file) as f:\n",
    "        data_in = f.read().splitlines()\n",
    "    f.close()\n",
    "    with open(output_file) as f:\n",
    "        data_out = f.read().splitlines()\n",
    "    f.close()\n",
    "    \n",
    "    sol = solution(data_in)\n",
    "    ans = data_out\n",
    "    \n",
    "    np.testing.assert_array_equal(sol,ans)"
   ]
  }
 ],
 "metadata": {
  "kernelspec": {
   "display_name": "Python 3",
   "language": "python",
   "name": "python3"
  },
  "language_info": {
   "codemirror_mode": {
    "name": "ipython",
    "version": 3
   },
   "file_extension": ".py",
   "mimetype": "text/x-python",
   "name": "python",
   "nbconvert_exporter": "python",
   "pygments_lexer": "ipython3",
   "version": "3.8.8"
  }
 },
 "nbformat": 4,
 "nbformat_minor": 5
}
