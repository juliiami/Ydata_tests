{
 "cells": [
  {
   "cell_type": "markdown",
   "id": "ee720642-6d23-4c5a-a2da-a6a299fbc38c",
   "metadata": {},
   "source": [
    "## F1. Schools: pre-process\n",
    "\n",
    "To solve this question you are required to submit **a result csv-ﬁle** after processing an input ﬁle.\n",
    "\n",
    "You are given a data ﬁle *schools.csv*.\n",
    "\n",
    "In this question you are provided with a dataset of school statistics and performance on standardised national tests. You are required to perform a series of manipulations and calculations on the dataset.\n",
    "\n",
    "Data dictionary:"
   ]
  },
  {
   "cell_type": "markdown",
   "id": "da71fb23-688c-4a09-9bf4-f2daa60fd75a",
   "metadata": {},
   "source": [
    "<style type=\"text/css\">\n",
    ".tg  {border-collapse:collapse;border-spacing:0;}\n",
    ".tg td{border-color:black;border-style:solid;border-width:1px;font-family:Arial, sans-serif;font-size:14px;\n",
    "  overflow:hidden;padding:10px 5px;word-break:normal;}\n",
    ".tg th{border-color:black;border-style:solid;border-width:1px;font-family:Arial, sans-serif;font-size:14px;\n",
    "  font-weight:normal;overflow:hidden;padding:10px 5px;word-break:normal;}\n",
    ".tg .tg-snxj{background-color:#FFF;color:rgba(0, 0, 0, 0.87);text-align:left;vertical-align:middle}\n",
    ".tg .tg-613o{background-color:#FFF;border-color:inherit;color:rgba(0, 0, 0, 0.87);text-align:left;vertical-align:middle}\n",
    ".tg .tg-lsmd{background-color:#F5F5F5;border-color:inherit;color:rgba(0, 0, 0, 0.87);text-align:left;vertical-align:middle}\n",
    ".tg .tg-aahv{background-color:#E1F5FE;color:rgba(0, 0, 0, 0.87);text-align:left;vertical-align:middle}\n",
    ".tg .tg-66kb{background-color:#FFF;border-color:inherit;color:rgba(0, 0, 0, 0.87);font-weight:bold;text-align:left;\n",
    "  vertical-align:middle}\n",
    ".tg .tg-59uy{background-color:#FFF;color:rgba(0, 0, 0, 0.87);font-weight:bold;text-align:left;vertical-align:middle}\n",
    ".tg .tg-cq2y{background-color:#F5F5F5;color:rgba(0, 0, 0, 0.87);text-align:left;vertical-align:middle}\n",
    "</style>\n",
    "<table class=\"tg\"><thead>\n",
    "  <tr>\n",
    "    <th class=\"tg-66kb\"><span style=\"font-weight:bold\">Col.num</span></th>\n",
    "    <th class=\"tg-66kb\"><span style=\"font-weight:bold\">Col.name</span></th>\n",
    "    <th class=\"tg-59uy\"><span style=\"font-weight:bold\">format</span></th>\n",
    "    <th class=\"tg-59uy\"><span style=\"font-weight:bold\">notes</span></th>\n",
    "  </tr></thead>\n",
    "<tbody>\n",
    "  <tr>\n",
    "    <td class=\"tg-613o\">1</td>\n",
    "    <td class=\"tg-613o\">School Index</td>\n",
    "    <td class=\"tg-snxj\">number</td>\n",
    "    <td class=\"tg-snxj\">Unique school ID</td>\n",
    "  </tr>\n",
    "  <tr>\n",
    "    <td class=\"tg-lsmd\">2</td>\n",
    "    <td class=\"tg-lsmd\">District</td>\n",
    "    <td class=\"tg-cq2y\">number</td>\n",
    "    <td class=\"tg-cq2y\">Zip code for the school area</td>\n",
    "  </tr>\n",
    "  <tr>\n",
    "    <td class=\"tg-613o\">3-4</td>\n",
    "    <td class=\"tg-613o\">Lowest/Highest Year</td>\n",
    "    <td class=\"tg-snxj\">text</td>\n",
    "    <td class=\"tg-snxj\">String corresponding to the value of the lowest/highest grade year in the school. Range from low to high: PK,0K,1,2,3,4,5,6,7,8,9,10,11,12</td>\n",
    "  </tr>\n",
    "  <tr>\n",
    "    <td class=\"tg-lsmd\">5</td>\n",
    "    <td class=\"tg-lsmd\">School Income Estimate</td>\n",
    "    <td class=\"tg-cq2y\">text</td>\n",
    "    <td class=\"tg-cq2y\">Estimated average income for families in the school</td>\n",
    "  </tr>\n",
    "  <tr>\n",
    "    <td class=\"tg-snxj\">6-9</td>\n",
    "    <td class=\"tg-snxj\">Average Proficiency Score,</td>\n",
    "    <td class=\"tg-snxj\">percent</td>\n",
    "    <td class=\"tg-snxj\">School performance statistics</td>\n",
    "  </tr>\n",
    "  <tr>\n",
    "    <td class=\"tg-cq2y\"></td>\n",
    "    <td class=\"tg-cq2y\">Student Attendance Rate,</td>\n",
    "    <td class=\"tg-cq2y\"></td>\n",
    "    <td class=\"tg-cq2y\"></td>\n",
    "  </tr>\n",
    "  <tr>\n",
    "    <td class=\"tg-snxj\"></td>\n",
    "    <td class=\"tg-snxj\">Students Chronically Absent,</td>\n",
    "    <td class=\"tg-snxj\"></td>\n",
    "    <td class=\"tg-snxj\"></td>\n",
    "  </tr>\n",
    "  <tr>\n",
    "    <td class=\"tg-cq2y\"></td>\n",
    "    <td class=\"tg-cq2y\">Rigorous Instruction</td>\n",
    "    <td class=\"tg-cq2y\"></td>\n",
    "    <td class=\"tg-cq2y\"></td>\n",
    "  </tr>\n",
    "  <tr>\n",
    "    <td class=\"tg-snxj\">10-13</td>\n",
    "    <td class=\"tg-snxj\">Year X - All Students Tested</td>\n",
    "    <td class=\"tg-snxj\">number</td>\n",
    "    <td class=\"tg-snxj\">Total number of students in that grade year that were tested in standardised exam</td>\n",
    "  </tr>\n",
    "  <tr>\n",
    "    <td class=\"tg-cq2y\">14-17</td>\n",
    "    <td class=\"tg-cq2y\">Year X - Top Scoring</td>\n",
    "    <td class=\"tg-cq2y\">number</td>\n",
    "    <td class=\"tg-cq2y\">Number of students in that grade year that achieved the maximum grade category in the standardised exam</td>\n",
    "  </tr>\n",
    "  <tr>\n",
    "    <td class=\"tg-aahv\">18</td>\n",
    "    <td class=\"tg-aahv\">Student Achievement Rating</td>\n",
    "    <td class=\"tg-aahv\">text</td>\n",
    "    <td class=\"tg-aahv\">Verbal estimate of school performance on standardised tests</td>\n",
    "  </tr>\n",
    "</tbody></table>"
   ]
  },
  {
   "cell_type": "markdown",
   "id": "c22d3509-9537-46f0-a918-770d017c23e1",
   "metadata": {},
   "source": [
    "Clean the dataset and correct errors in the following manner (**in the listed order**):\n",
    "\n",
    "* Remove entries (rows) with any of the following data entry errors:\n",
    "    - Student Attendance Rate $\\leq 0$\n",
    "    - Rigorous Instruction $\\leq 0$\n",
    "    - Students Chronically Absent $\\geq 100\\%$\n",
    "* Remove entries (rows) with N/A in “Student Achievement Rating” OR “Average Proﬁciency Score”\n",
    "* Convert “Student Achievement Rating” column from text into numeric values as follows:\n",
    "    - Not Meeting Target $= 0.0$\n",
    "    - Approaching Target $= 0.5$\n",
    "    - Meeting Target $= 0.8$\n",
    "    - Exceeding Target $= 1.0$\n",
    "\n",
    "### Input format\n",
    "\n",
    "<a rel=\"noopener noreferrer\" href=\"./datasets/F1/schools.csv\" target=\"_blank\">schools.csv</a> \n",
    "\n",
    "### Output format\n",
    "\n",
    "Submit the resulting csv ﬁle: *schools.csv*. Do not reorder columns or rows in the ﬁle.\n",
    "\n",
    "### Notes\n",
    "\n",
    "Maximum points for question **F1**: **7** points.\n",
    "\n",
    "**Reminder:** You must select 2 out of 3 questions in programming section: Chess (D), Shopping (E), Schools (F), and answer both selected questions as fully as possible (for example, if you choose Chess and Schools, you should answer questions D1, D2, D3 and F1, F2, F3)."
   ]
  },
  {
   "cell_type": "code",
   "execution_count": null,
   "id": "3d6d1944-e630-431f-8af6-50fcae29ab2c",
   "metadata": {},
   "outputs": [],
   "source": [
    "### Initial candidate answer code"
   ]
  },
  {
   "cell_type": "code",
   "execution_count": null,
   "id": "da2467fb-0e41-405f-bf65-d6ffd2096a6f",
   "metadata": {},
   "outputs": [],
   "source": [
    "# Use print(\"messages...\") to debug your solution.\n",
    "import pandas as pd\n",
    "import numpy as np\n",
    "\n",
    "df = pd.read_csv('./datasets/F1/schools.csv')\n",
    "\n",
    "def solution(df):\n",
    "    # Your code goes here\n",
    "    return pd.DataFrame([])"
   ]
  },
  {
   "cell_type": "code",
   "execution_count": null,
   "id": "3134f86b-6e4a-4580-8dac-2115ad933c86",
   "metadata": {},
   "outputs": [],
   "source": [
    "### Initial candidate test code"
   ]
  },
  {
   "cell_type": "code",
   "execution_count": null,
   "id": "11fac5c3-afad-44c4-83b5-399ed963ee2a",
   "metadata": {},
   "outputs": [],
   "source": [
    "df = pd.read_csv('./datasets/F1/schools.csv')\n",
    "df.head()\n",
    "\n",
    "solution(df)"
   ]
  },
  {
   "cell_type": "code",
   "execution_count": null,
   "id": "d7363252-854e-4156-8547-050589d07b21",
   "metadata": {},
   "outputs": [],
   "source": [
    "### Autograder part (hidden from the candidate)"
   ]
  },
  {
   "cell_type": "code",
   "execution_count": null,
   "id": "42ff5a34-b9a8-44f0-9728-08bc0939c1f1",
   "metadata": {},
   "outputs": [],
   "source": [
    "sol = solution(df)\n",
    "res = pd.read_csv('datasets/F1/tests/01.a')\n",
    "\n",
    "sol.reset_index(inplace=True, drop=True)\n",
    "res.reset_index(inplace=True, drop=True)\n",
    "\n",
    "pd.testing.assert_frame_equal(res, sol)"
   ]
  }
 ],
 "metadata": {
  "kernelspec": {
   "display_name": "Python 3 (ipykernel)",
   "language": "python",
   "name": "python3"
  },
  "language_info": {
   "codemirror_mode": {
    "name": "ipython",
    "version": 3
   },
   "file_extension": ".py",
   "mimetype": "text/x-python",
   "name": "python",
   "nbconvert_exporter": "python",
   "pygments_lexer": "ipython3",
   "version": "3.12.7"
  }
 },
 "nbformat": 4,
 "nbformat_minor": 5
}
