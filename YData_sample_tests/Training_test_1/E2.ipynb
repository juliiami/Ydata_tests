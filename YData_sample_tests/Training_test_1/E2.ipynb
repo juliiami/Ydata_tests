{
 "cells": [
  {
   "cell_type": "markdown",
   "id": "a99a0dba-8263-49a5-bc07-1cc220ff1c75",
   "metadata": {},
   "source": [
    "## E2. Text: N-grams\n",
    "\n",
    "To solve this problem you should submit **a source ﬁle**.\n",
    "\n",
    "Your program should use **the correct result of the previous problem (E1)** as an input.\n",
    "\n",
    "You should delete from each sentence all stop words **’a’, ’the’, ’of’, ’at’, ’in’, ’and’, ’to’** (for this problem), and ﬁnd the most frequent word, 2-gram (two consecutive words) and 3-gram (three consecutive words).\n",
    "\n",
    "**Note:** Look at https://en.wikipedia.org/wiki/N-gram for clariﬁcation.\n",
    "        \n",
    "### Input format\n",
    "\n",
    "Sentences one per line, all words are separated by single spaces and lowercased.\n",
    "The input contains:\n",
    "\n",
    "* ﬁles **sample.txt** and **sample.out**, which are small part of input and result ﬁles in the correct format provided for your convenience.\n",
    "\n",
    "### Output format\n",
    "\n",
    "Print three lines:\n",
    "\n",
    "* The most frequent word in the article.\n",
    "* The most frequent 2-gram in the article.\n",
    "* The most frequent 3-gram in the article.\n",
    "\n",
    "It is guaranteed that there is only one possible answer.\n",
    "\n",
    "### Notes\n",
    "\n",
    "Maximum points for question **E2**: **10** points.\n",
    "\n",
    "**Reminder:** You must select 2 out of 3 questions in programming section: Maze (D1-D3), Text (E1-E3), Titanic (F1-F3), and answer both selected questions as fully as possible."
   ]
  },
  {
   "cell_type": "code",
   "execution_count": null,
   "id": "a11f115c-757e-466a-b676-8c098ff963f7",
   "metadata": {},
   "outputs": [],
   "source": [
    "### Initial candidate answer code"
   ]
  },
  {
   "cell_type": "code",
   "execution_count": null,
   "id": "43020294-335d-4dfd-89fc-e3470c508076",
   "metadata": {},
   "outputs": [],
   "source": [
    "# Use print(\"Debug messages...\") to debug your solution.\n",
    "\n",
    "def solution(inp):\n",
    "    # Your code goes here\n",
    "    return []"
   ]
  },
  {
   "cell_type": "code",
   "execution_count": null,
   "id": "addafb78-92e0-42fc-917b-2e27c4a5c042",
   "metadata": {},
   "outputs": [],
   "source": [
    "### Initial candidate test code"
   ]
  },
  {
   "cell_type": "code",
   "execution_count": null,
   "id": "7d278300-1530-4d76-89b1-61b232ff76c0",
   "metadata": {},
   "outputs": [],
   "source": [
    "# sample input/output\n",
    "\n",
    "with open('datasets/E2/article.out') as f:\n",
    "    article = f.read().splitlines()\n",
    "f.close()\n",
    "\n",
    "with open('datasets/E2/sample.txt') as f:\n",
    "    sample_in = f.read().splitlines() \n",
    "f.close()\n",
    "print(sample_in)\n",
    "\n",
    "with open('datasets/E2/sample.out') as f:\n",
    "    sample_out = f.read().splitlines() \n",
    "f.close()\n",
    "print(sample_out)\n",
    "\n",
    "print(solution(sample_in))"
   ]
  },
  {
   "cell_type": "code",
   "execution_count": null,
   "id": "ee53537f-7f92-4ea2-a87d-c8c69679fa4e",
   "metadata": {},
   "outputs": [],
   "source": [
    "### Autograder part (hidden from the candidate)"
   ]
  },
  {
   "cell_type": "code",
   "execution_count": null,
   "id": "f87b13b1-0e67-4733-b96e-5433785e1c46",
   "metadata": {},
   "outputs": [],
   "source": [
    "import numpy as np\n",
    "\n",
    "with open('datasets/E2/tests/sample2.out') as f:\n",
    "    a = f.read().splitlines()\n",
    "f.close()\n",
    "\n",
    "sol = solution(article)\n",
    "\n",
    "np.testing.assert_array_equal(sol,a)"
   ]
  }
 ],
 "metadata": {
  "kernelspec": {
   "display_name": "Python 3",
   "language": "python",
   "name": "python3"
  },
  "language_info": {
   "codemirror_mode": {
    "name": "ipython",
    "version": 3
   },
   "file_extension": ".py",
   "mimetype": "text/x-python",
   "name": "python",
   "nbconvert_exporter": "python",
   "pygments_lexer": "ipython3",
   "version": "3.8.8"
  }
 },
 "nbformat": 4,
 "nbformat_minor": 5
}
