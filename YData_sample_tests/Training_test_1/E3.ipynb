{
 "cells": [
  {
   "cell_type": "markdown",
   "id": "7db0d333-4999-4ef8-aa48-44782c0f094d",
   "metadata": {},
   "source": [
    "## E3. Text: Word Statistics\n",
    "\n",
    "To solve this problem you should submit **a source ﬁle**.\n",
    "\n",
    "Your program should use **the correct result of the previous problem (E1)** as an input. You should delete from each sentence all stop words **’a’, ’the’, ’of’, ’at’, ’in’, ’and’, ’to’** (for this problem), and ﬁnd two statistics for each word $w$ that occurs at least once in the ﬁle:\n",
    "* number of sentences which contains word $w$;\n",
    "* an average length (a number of words) of sentence containing word $w$ (if some sentence contains $w$ more than once it should be counted once).\n",
    "\n",
    "### Input format\n",
    "\n",
    "Sentences one per line, all words are separeted by single spaces and lowercased.\n",
    "The input contains:\n",
    "\n",
    "* ﬁles **sample.txt** and **sample.out**, which are small part of input and result ﬁles.\n",
    "\n",
    "### Output format\n",
    "\n",
    "Print several lines (one line per word, separate items with single space):\n",
    "\n",
    "* Word from the input ﬁle.\n",
    "* Number of sentences.\n",
    "* Average length of the sentence (round the result value to **3 digits after the decimal point**.).\n",
    "\n",
    "Words can be listed in arbitrary order.\n",
    "\n",
    "### Notes\n",
    "\n",
    "Maximum points for question **E3**: **13** points.\n",
    "\n",
    "**Reminder:** You must select 2 out of 3 questions in programming section: Maze (D1-D3), Text (E1-E3), Titanic (F1-F3), and answer both selected questions as fully as possible."
   ]
  },
  {
   "cell_type": "code",
   "execution_count": null,
   "id": "f7140fbb-1b9f-4217-8ca7-eec08be943e6",
   "metadata": {},
   "outputs": [],
   "source": [
    "### Initial candidate answer code"
   ]
  },
  {
   "cell_type": "code",
   "execution_count": null,
   "id": "d14f1e4b-0e67-4e63-bc1f-3422d2b309a5",
   "metadata": {},
   "outputs": [],
   "source": [
    "# Use print(\"Debug messages...\") to debug your solution.\n",
    "\n",
    "def solution(inp):\n",
    "    # Your code goes here\n",
    "    return []"
   ]
  },
  {
   "cell_type": "code",
   "execution_count": null,
   "id": "76052a75-64a5-4d0f-b6fb-1e1699409ae9",
   "metadata": {},
   "outputs": [],
   "source": [
    "### Initial candidate test code"
   ]
  },
  {
   "cell_type": "code",
   "execution_count": null,
   "id": "8ea37097-19e3-468f-9973-ac965ef4641a",
   "metadata": {},
   "outputs": [],
   "source": [
    "# sample input/output\n",
    "\n",
    "with open('datasets/E3/article.out') as f:\n",
    "    article = f.read().splitlines()\n",
    "f.close()\n",
    "\n",
    "with open('datasets/E3/sample.txt') as f:\n",
    "    sample_in = f.read().splitlines() \n",
    "f.close()\n",
    "print(sample_in)\n",
    "\n",
    "with open('datasets/E3/sample.out') as f:\n",
    "    sample_out = f.read().splitlines() \n",
    "f.close()\n",
    "print(sample_out)\n",
    "\n",
    "print(solution(sample_in))"
   ]
  },
  {
   "cell_type": "code",
   "execution_count": null,
   "id": "9da36855-af31-4bbd-ad45-a9301db127fe",
   "metadata": {},
   "outputs": [],
   "source": [
    "### Autograder part (hidden from the candidate)"
   ]
  },
  {
   "cell_type": "code",
   "execution_count": null,
   "id": "8b33d547-0235-43fc-b229-081f43f0e634",
   "metadata": {},
   "outputs": [],
   "source": [
    "import numpy as np\n",
    "\n",
    "with open('datasets/E3/tests/answer3.out') as f:\n",
    "    a = f.read().splitlines()\n",
    "f.close()\n",
    "\n",
    "sol = solution(article)\n",
    "\n",
    "np.testing.assert_array_equal(sol,a)"
   ]
  }
 ],
 "metadata": {
  "kernelspec": {
   "display_name": "Python 3",
   "language": "python",
   "name": "python3"
  },
  "language_info": {
   "codemirror_mode": {
    "name": "ipython",
    "version": 3
   },
   "file_extension": ".py",
   "mimetype": "text/x-python",
   "name": "python",
   "nbconvert_exporter": "python",
   "pygments_lexer": "ipython3",
   "version": "3.8.8"
  }
 },
 "nbformat": 4,
 "nbformat_minor": 5
}
