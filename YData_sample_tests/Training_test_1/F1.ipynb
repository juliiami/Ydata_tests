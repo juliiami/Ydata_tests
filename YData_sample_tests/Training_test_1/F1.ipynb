{
 "cells": [
  {
   "cell_type": "markdown",
   "id": "ee720642-6d23-4c5a-a2da-a6a299fbc38c",
   "metadata": {},
   "source": [
    "<h2>F1. Titanic: Clean data</h2>\n",
    "<p>To solve this problem you should submit<span>&nbsp;</span><strong>a result csv-ﬁle</strong><span>&nbsp;</span>after processing an input ﬁle.</p>\n",
    "<p>You are given a ﬁle <a rel=\"noopener noreferrer\" href=\"./datasets/F1/titanic.csv\" target=\"_blank\"> <code>titanic.csv</code>.</p>\n",
    "<p>Data dictionary:</p>"
   ]
  },
  {
   "cell_type": "markdown",
   "id": "da71fb23-688c-4a09-9bf4-f2daa60fd75a",
   "metadata": {},
   "source": [
    "<style type=\"text/css\">\n",
    ".tg  {border-collapse:collapse;border-spacing:0;}\n",
    ".tg td{border-color:black;border-style:solid;border-width:1px;font-family:Arial, sans-serif;font-size:14px;\n",
    "  overflow:hidden;padding:10px 5px;word-break:normal;}\n",
    ".tg th{border-color:black;border-style:solid;border-width:1px;font-family:Arial, sans-serif;font-size:14px;\n",
    "  font-weight:normal;overflow:hidden;padding:10px 5px;word-break:normal;}\n",
    ".tg .tg-snxj{background-color:#FFF;color:rgba(0, 0, 0, 0.87);text-align:left;vertical-align:middle}\n",
    ".tg .tg-59uy{background-color:#FFF;color:rgba(0, 0, 0, 0.87);font-weight:bold;text-align:left;vertical-align:middle}\n",
    ".tg .tg-cq2y{background-color:#F5F5F5;color:rgba(0, 0, 0, 0.87);text-align:left;vertical-align:middle}\n",
    "</style>\n",
    "<table class=\"tg\"><thead>\n",
    "  <tr>\n",
    "    <th class=\"tg-59uy\"><span style=\"font-weight:bold\">Variable</span></th>\n",
    "    <th class=\"tg-59uy\"><span style=\"font-weight:bold\">Definition</span></th>\n",
    "    <th class=\"tg-59uy\"><span style=\"font-weight:bold\">Key</span></th>\n",
    "  </tr></thead>\n",
    "<tbody>\n",
    "  <tr>\n",
    "    <td class=\"tg-snxj\">Survival</td>\n",
    "    <td class=\"tg-snxj\">Survival</td>\n",
    "    <td class=\"tg-snxj\">0 = No, 1 = Yes</td>\n",
    "  </tr>\n",
    "  <tr>\n",
    "    <td class=\"tg-cq2y\">Pclass</td>\n",
    "    <td class=\"tg-cq2y\">Ticket class</td>\n",
    "    <td class=\"tg-cq2y\">1 = 1st, 2 = 2nd, 3 = 3rd</td>\n",
    "  </tr>\n",
    "  <tr>\n",
    "    <td class=\"tg-snxj\">Name</td>\n",
    "    <td class=\"tg-snxj\">Name</td>\n",
    "    <td class=\"tg-snxj\"></td>\n",
    "  </tr>\n",
    "  <tr>\n",
    "    <td class=\"tg-cq2y\">Sex</td>\n",
    "    <td class=\"tg-cq2y\">Sex</td>\n",
    "    <td class=\"tg-cq2y\"></td>\n",
    "  </tr>\n",
    "  <tr>\n",
    "    <td class=\"tg-snxj\">Age</td>\n",
    "    <td class=\"tg-snxj\">Age in years</td>\n",
    "    <td class=\"tg-snxj\"></td>\n",
    "  </tr>\n",
    "  <tr>\n",
    "    <td class=\"tg-cq2y\">SibSp</td>\n",
    "    <td class=\"tg-cq2y\"># of siblings / spouses aboard</td>\n",
    "    <td class=\"tg-cq2y\"></td>\n",
    "  </tr>\n",
    "  <tr>\n",
    "    <td class=\"tg-snxj\">Parch</td>\n",
    "    <td class=\"tg-snxj\"># of parents / children aboard</td>\n",
    "    <td class=\"tg-snxj\"></td>\n",
    "  </tr>\n",
    "  <tr>\n",
    "    <td class=\"tg-cq2y\">Ticket</td>\n",
    "    <td class=\"tg-cq2y\">Ticket number</td>\n",
    "    <td class=\"tg-cq2y\"></td>\n",
    "  </tr>\n",
    "  <tr>\n",
    "    <td class=\"tg-snxj\">Fare</td>\n",
    "    <td class=\"tg-snxj\">Passenger fare</td>\n",
    "    <td class=\"tg-snxj\"></td>\n",
    "  </tr>\n",
    "  <tr>\n",
    "    <td class=\"tg-cq2y\">Cabin</td>\n",
    "    <td class=\"tg-cq2y\">Cabin number</td>\n",
    "    <td class=\"tg-cq2y\"></td>\n",
    "  </tr>\n",
    "  <tr>\n",
    "    <td class=\"tg-snxj\">Embarked</td>\n",
    "    <td class=\"tg-snxj\">Port of Embarkation</td>\n",
    "    <td class=\"tg-snxj\">C = Cherbourg</td>\n",
    "  </tr>\n",
    "  <tr>\n",
    "    <td class=\"tg-cq2y\"></td>\n",
    "    <td class=\"tg-cq2y\"></td>\n",
    "    <td class=\"tg-cq2y\">Q = Queenstown</td>\n",
    "  </tr>\n",
    "  <tr>\n",
    "    <td class=\"tg-snxj\"></td>\n",
    "    <td class=\"tg-snxj\"></td>\n",
    "    <td class=\"tg-snxj\">S = Southampton</td>\n",
    "  </tr>\n",
    "</tbody></table>"
   ]
  },
  {
   "cell_type": "markdown",
   "id": "c22d3509-9537-46f0-a918-770d017c23e1",
   "metadata": {},
   "source": [
    "Update this ﬁle by next operations:\n",
    "\n",
    "* remove column `Ticket`\n",
    "* remove column `abin`\n",
    "* update rows without value of `Age` with the average age among all existing age values, round the average value to 2 decimal digits.\n",
    "\n",
    "### Output format\n",
    "\n",
    "Submit the resulting csv-ﬁle. Do not reorder columns or rows in the ﬁle.\n",
    "\n",
    "### Notes\n",
    "\n",
    "Maximum points for question **F1**: **7** points.\n",
    "\n",
    "**Reminder:** You must select 2 out of 3 questions in programming section: Maze (D1-D3), Text (E1-E3), Titanic (F1-F3), and answer both selected questions as fully as possible."
   ]
  },
  {
   "cell_type": "code",
   "execution_count": null,
   "id": "3d6d1944-e630-431f-8af6-50fcae29ab2c",
   "metadata": {},
   "outputs": [],
   "source": [
    "### Initial candidate answer code"
   ]
  },
  {
   "cell_type": "code",
   "execution_count": null,
   "id": "da2467fb-0e41-405f-bf65-d6ffd2096a6f",
   "metadata": {},
   "outputs": [],
   "source": [
    "# Use print(\"messages...\") to debug your solution.\n",
    "import pandas as pd\n",
    "import numpy as np\n",
    "\n",
    "df = pd.read_csv('./datasets/F1/titanic.csv')\n",
    "\n",
    "def solution(df):\n",
    "    # Your code goes here\n",
    "    return pd.DataFrame([])"
   ]
  },
  {
   "cell_type": "code",
   "execution_count": null,
   "id": "3134f86b-6e4a-4580-8dac-2115ad933c86",
   "metadata": {},
   "outputs": [],
   "source": [
    "### Initial candidate test code"
   ]
  },
  {
   "cell_type": "code",
   "execution_count": null,
   "id": "11fac5c3-afad-44c4-83b5-399ed963ee2a",
   "metadata": {},
   "outputs": [],
   "source": [
    "df = pd.read_csv('./datasets/F1/titanic.csv')\n",
    "df.head()\n",
    "\n",
    "solution(df)"
   ]
  },
  {
   "cell_type": "code",
   "execution_count": null,
   "id": "d7363252-854e-4156-8547-050589d07b21",
   "metadata": {},
   "outputs": [],
   "source": [
    "### Autograder part (hidden from the candidate)"
   ]
  },
  {
   "cell_type": "code",
   "execution_count": null,
   "id": "42ff5a34-b9a8-44f0-9728-08bc0939c1f1",
   "metadata": {},
   "outputs": [],
   "source": [
    "sol = solution(df)\n",
    "res = pd.read_csv('datasets/F1/tests/01.a')\n",
    "\n",
    "sol.reset_index(inplace=True, drop=True)\n",
    "res.reset_index(inplace=True, drop=True)\n",
    "\n",
    "pd.testing.assert_frame_equal(res, sol)"
   ]
  }
 ],
 "metadata": {
  "kernelspec": {
   "display_name": "Python 3",
   "language": "python",
   "name": "python3"
  },
  "language_info": {
   "codemirror_mode": {
    "name": "ipython",
    "version": 3
   },
   "file_extension": ".py",
   "mimetype": "text/x-python",
   "name": "python",
   "nbconvert_exporter": "python",
   "pygments_lexer": "ipython3",
   "version": "3.8.8"
  }
 },
 "nbformat": 4,
 "nbformat_minor": 5
}
