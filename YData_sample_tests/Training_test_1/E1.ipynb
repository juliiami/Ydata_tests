{
 "cells": [
  {
   "cell_type": "markdown",
   "id": "2661c8cb-df21-432d-9584-63cf332fb5e8",
   "metadata": {},
   "source": [
    "## E1. Text: Pre-processing\n",
    "\n",
    "To solve this problem you should submit **a result file** after processing an input file.\n",
    "\n",
    "You are given a file **article.txt**. Your task is to parse text:\n",
    "\n",
    "* split the text into sentences by the full stop symbol `'.'` (there's no need to remove the empty sentences after the splitting).\n",
    "* split the sentences into words (only latin alphabet letters), please replace all symbols other than latin alphabet letters with space.\n",
    "* change all uppercase letters to lowercase.\n",
    "\n",
    "### Input format\n",
    "\n",
    "The input contains:\n",
    "\n",
    "* file **article.txt**, which should be processed,\n",
    "* files **sample.txt** and **sample.out**, which are small part of input and result provided for your convenience and demonstrating the format of both files.\n",
    "\n",
    "### Output format\n",
    "\n",
    "The output file should contain the parsed sentences, each sentence on a separate line. The words in each sentence should be separated by single spaces. The should be no full stops at the ends of sentences.\n",
    "\n",
    "### Notes\n",
    "\n",
    "Maximum points for question **E1**: **7** points.\n",
    "\n",
    "**Reminder:** You must select 2 out of 3 questions in programming section: Maze (D1-D3), Text (E1-E3), Titanic (F1-F3), and answer both selected questions as fully as possible."
   ]
  },
  {
   "cell_type": "code",
   "execution_count": null,
   "id": "c92365d3-26b8-4bb3-afde-63f692a99202",
   "metadata": {},
   "outputs": [],
   "source": [
    "### Initial candidate answer code"
   ]
  },
  {
   "cell_type": "code",
   "execution_count": null,
   "id": "440b9c54-4ec2-48bd-86ae-e0cd24bc5718",
   "metadata": {},
   "outputs": [],
   "source": [
    "# Use print(\"Debug messages...\") to debug your solution.\n",
    "\n",
    "def solution(inp):\n",
    "    # Your code goes here\n",
    "    return []"
   ]
  },
  {
   "cell_type": "code",
   "execution_count": null,
   "id": "2520a70d-1735-49ff-982e-1c2161a1b6c2",
   "metadata": {},
   "outputs": [],
   "source": [
    "### Initial candidate test code"
   ]
  },
  {
   "cell_type": "code",
   "execution_count": null,
   "id": "c7380fc1-3bb2-42b7-9a0c-4f8d10fc80be",
   "metadata": {},
   "outputs": [],
   "source": [
    "# sample input/output\n",
    "\n",
    "with open('datasets/E1/article.txt') as f:\n",
    "    article = f.read().splitlines()\n",
    "f.close()\n",
    "\n",
    "with open('datasets/E1/sample.txt') as f:\n",
    "    sample_in = f.read().splitlines() \n",
    "f.close()\n",
    "print(sample_in)\n",
    "\n",
    "with open('datasets/E1/sample.out') as f:\n",
    "    sample_out = f.read().splitlines() \n",
    "f.close()\n",
    "print(sample_out)\n",
    "\n",
    "print(solution(sample_in))"
   ]
  },
  {
   "cell_type": "code",
   "execution_count": null,
   "id": "e00a19ca-be36-4de4-b9d1-7554f24e3705",
   "metadata": {},
   "outputs": [],
   "source": [
    "### Autograder part (hidden from the candidate)"
   ]
  },
  {
   "cell_type": "code",
   "execution_count": null,
   "id": "8d4e84bc-53bb-4aa6-b136-6cc74905fde0",
   "metadata": {},
   "outputs": [],
   "source": [
    "import numpy as np\n",
    "\n",
    "with open('datasets/E1/tests/article.out') as f:\n",
    "    a = f.read().splitlines() \n",
    "f.close()\n",
    "sol = solution(article)\n",
    "\n",
    "np.testing.assert_array_equal(sol,a)"
   ]
  }
 ],
 "metadata": {
  "kernelspec": {
   "display_name": "Python 3",
   "language": "python",
   "name": "python3"
  },
  "language_info": {
   "codemirror_mode": {
    "name": "ipython",
    "version": 3
   },
   "file_extension": ".py",
   "mimetype": "text/x-python",
   "name": "python",
   "nbconvert_exporter": "python",
   "pygments_lexer": "ipython3",
   "version": "3.8.8"
  }
 },
 "nbformat": 4,
 "nbformat_minor": 5
}
