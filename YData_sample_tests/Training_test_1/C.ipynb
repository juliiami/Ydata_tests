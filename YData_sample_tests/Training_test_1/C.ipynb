{
 "cells": [
  {
   "cell_type": "markdown",
   "id": "083dc12e-0a65-447f-b9bc-83daabe128ee",
   "metadata": {},
   "source": [
    "<div data-windowed-list-index=\"39\" aria-label=\"Markdown Cell Content\">\n",
    "  <div data-mime-type=\"text/markdown\">\n",
    "    <div data-windowed-list-index=\"39\" aria-label=\"Markdown Cell Content\">\n",
    "      <div>\n",
    "        <div>\n",
    "          <div data-mime-type=\"text/markdown\">\n",
    "            <h2>C. Fraud detection</h2>\n",
    "          </div>\n",
    "        </div>\n",
    "      </div>\n",
    "    </div>\n",
    "    <div data-windowed-list-index=\"40\" aria-label=\"Markdown Cell Content\">\n",
    "      <div>\n",
    "        <div>The attached dataset <a rel=\"noopener noreferrer\" href=\"./datasets/C/FraudData.csv\" target=\"_blank\"> <code>FraudData.csv</code> </a> contains a list of credit card transactions: Transaction ID (random), Transaction type (payment, cash withdrawal or transfer), account holder, transaction amount and area where the transaction took place.</div>\n",
    "      </div>\n",
    "      <div data-mime-type=\"text/markdown\">\n",
    "        <p>Based on patterns found in the data, ﬂag<span>&nbsp;</span><strong>UP TO 3</strong><span>&nbsp;</span>transactions that are suspicious as fraudulent.</p>\n",
    "      </div>\n",
    "    </div>\n",
    "    <div data-windowed-list-index=\"41\" aria-label=\"Markdown Cell Content\">\n",
    "      <div>\n",
    "        <div>\n",
    "          <div data-mime-type=\"text/markdown\">\n",
    "            <h3><span></span>Output format</h3>\n",
    "          </div>\n",
    "        </div>\n",
    "      </div>\n",
    "    </div>\n",
    "    <div data-windowed-list-index=\"42\" aria-label=\"Markdown Cell Content\">\n",
    "      <div>\n",
    "        <div>\n",
    "          <div data-mime-type=\"text/markdown\">\n",
    "            <p>Write between 1 and 3 transaction ID numbers, separate them with spaces.</p>\n",
    "          </div>\n",
    "        </div>\n",
    "      </div>\n",
    "    </div>\n",
    "    <div data-windowed-list-index=\"43\" aria-label=\"Markdown Cell Content\">\n",
    "      <div>\n",
    "        <div>\n",
    "          <div data-mime-type=\"text/markdown\">\n",
    "            <h3><span></span>Notes</h3>\n",
    "          </div>\n",
    "        </div>\n",
    "      </div>\n",
    "    </div>\n",
    "    <div data-windowed-list-index=\"44\" aria-label=\"Markdown Cell Content\">\n",
    "      <div>\n",
    "        <div>\n",
    "          <div data-mime-type=\"text/markdown\">\n",
    "            <p>Maximum points value for question<span>&nbsp;</span><strong>C</strong>:<span>&nbsp;</span><strong>16</strong><span>&nbsp;</span>points</p>\n",
    "            <p>You are<span>&nbsp;</span><strong>not required</strong><span>&nbsp;</span>to use any dedicated data science tools or resources to solve this question.</p>\n",
    "          </div>\n",
    "        </div>\n",
    "      </div>\n",
    "    </div>\n",
    "  </div>\n",
    "</div>"
   ]
  },
  {
   "cell_type": "code",
   "execution_count": null,
   "id": "f6b8665a-ae82-4fb7-a356-4f3d04e259b5",
   "metadata": {},
   "outputs": [],
   "source": [
    "import pandas as pd\n",
    "\n",
    "df = pd.read_csv('datasets/C/FraudData.csv')\n",
    "df.head()"
   ]
  }
 ],
 "metadata": {
  "kernelspec": {
   "display_name": "Python 3 (ipykernel)",
   "language": "python",
   "name": "python3"
  },
  "language_info": {
   "codemirror_mode": {
    "name": "ipython",
    "version": 3
   },
   "file_extension": ".py",
   "mimetype": "text/x-python",
   "name": "python",
   "nbconvert_exporter": "python",
   "pygments_lexer": "ipython3",
   "version": "3.12.7"
  }
 },
 "nbformat": 4,
 "nbformat_minor": 5
}
