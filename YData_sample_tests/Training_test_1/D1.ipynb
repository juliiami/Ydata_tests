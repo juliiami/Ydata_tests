{
 "cells": [
  {
   "cell_type": "markdown",
   "id": "bafc30eb-d99d-4939-a6b3-7efb658ec5d2",
   "metadata": {},
   "source": [
    "## D1. Maze: Find the bug\n",
    "\n",
    "To solve this problem you need to ﬁnd **the line containing an error**.\n",
    "\n",
    "You are given a pseudocode of a solution for the following problem:\n",
    "\n",
    "You are given a rectangular ﬁeld $T$ with $R$ rows and $C$ columns. Each cell of $T$ contains one of two possible characters: `’.’` or `’#’` (`’.’` marks a passable cell, and `’#’` marks an impassable cell). Determine if there a passable cell $(r,c)$, such that one can visit all passable cells starting from $(r,c)$ and moving each time only to one of the neighbouring passable cells (a neighbouring cell of $(x,y)$ is one of four cells sharing a common side with $(x,y)$).\n",
    "\n",
    "```\n",
    "1.  for r, c in [1..R]x[1..C]:  \n",
    "2.      if T[r][c] == ’#’:  \n",
    "3.          continue  \n",
    "4.      q - empty queue  \n",
    "5.      visited - empty RxC boolean 2D array, initialized with False  \n",
    "6.      visited[r][c] = True  \n",
    "7.      q.push((r,c)) // push starting cell into the queue  \n",
    "8.  \n",
    "9.      while q is not empty:  \n",
    "10.         cur_r, cur_c = q.pop() // extract the first element from the queue  \n",
    "11.         for (dr, dc) in [(+1, 0), (-1, 0), (0, +1), (0, -1)]:  \n",
    "12.             next_r = cur_r + dr  \n",
    "13.             next_c = cur_c + dc  \n",
    "14.             if (next_r, next_c) in [1..R]x[1..C] and T[next_r][next_c] == ’.’:  \n",
    "15.                 visited[next_r][next_c] = True  \n",
    "16.                 q.push((next_r, next_c))  \n",
    "17.  \n",
    "18.     all_passed = True  \n",
    "19.     for (check_r, check_c) in [1..R]x[1..C]:  \n",
    "20.         if T[check_r][check_c] == ’.’ and visited[check_r][check_c] == False:  \n",
    "21.             all_passed = False  \n",
    "22.  \n",
    "23.     if all_passed:  \n",
    "24.         return True // (r, c) is a good starting cell  \n",
    "25.  \n",
    "26. return False // there is no good starting cell\n",
    "```\n",
    "\n",
    "**Note:** ’An error’ may refer to any situation in which in order for the program to run correctly, the pseudocode needs to be modiﬁed through changing, deleting, or adding some symbols. All such changes must be done within a single line of the pseudocode.\n",
    "\n",
    "**Hint:** The error is not in the synthax of the pseudocode\n",
    "\n",
    "### Input format\n",
    "\n",
    "One integer, the number of the line containing an error.\n",
    "\n",
    "### Notes\n",
    "\n",
    "Maximum points for question **D1**: **7** points.\n",
    "\n",
    "**Reminder:** You must select 2 out of 3 questions in programming section: Maze (D), Text (E), Titanic (F), and answer both selected questions as fully as possible (for example, if you choose Maze and Titanic, you should answer questions D1, D2, D3 and F1, F2, F3).\n",
    "\n",
    "**Note:** In this question you do not receive the outcome of your submission, only a notiﬁcation that submission was sent successfully."
   ]
  }
 ],
 "metadata": {
  "kernelspec": {
   "display_name": "Python 3",
   "language": "python",
   "name": "python3"
  },
  "language_info": {
   "codemirror_mode": {
    "name": "ipython",
    "version": 3
   },
   "file_extension": ".py",
   "mimetype": "text/x-python",
   "name": "python",
   "nbconvert_exporter": "python",
   "pygments_lexer": "ipython3",
   "version": "3.8.8"
  }
 },
 "nbformat": 4,
 "nbformat_minor": 5
}
