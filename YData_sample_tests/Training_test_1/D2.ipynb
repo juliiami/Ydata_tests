{
 "cells": [
  {
   "cell_type": "markdown",
   "id": "726bf679-57c5-456b-9035-effae1193b96",
   "metadata": {},
   "source": [
    "## D2. Maze: Implement\n",
    "\n",
    "In this question you are required to **write code in the window below** implementing a solution to the problem presented in the previous question (D1).\n",
    "\n",
    "**Note:** Your solution should read the description of $T$ from test ﬁles 01-99.\n",
    "\n",
    "### Input format\n",
    "\n",
    "The ﬁrst input line contains two integers $R$ and $C$ $(1≤R≤20,1≤C≤20)$, the number of rows and columns. Each of the $R$ following lines contains exactly $C$ symbols `’.’` and `’#’`.\n",
    "\n",
    "**Note:** The input ﬁle has UNIX line endings format (Unix LF). https://en.wikipedia.org/wiki/Newline\n",
    "\n",
    "It is guaranteed that $T$ contains at least one passible cell.\n",
    "\n",
    "### Output format\n",
    "\n",
    "Print a single word `Yes` if there is an appropriate cell or `No` otherwise.\n",
    "\n",
    "Examples are provided below."
   ]
  },
  {
   "cell_type": "markdown",
   "id": "8cf23262-8345-45f7-9fe8-7af89c3dff5f",
   "metadata": {},
   "source": [
    "#### Sample 1"
   ]
  },
  {
   "cell_type": "markdown",
   "id": "a6d495f2-a064-4ef4-b8c1-31ef0f710e3b",
   "metadata": {},
   "source": [
    "\n",
    "|Input| Output|\n",
    "| :- | :-|\n",
    "|2 5 | Yes |\n",
    "|. . # . .|\n",
    "|. . . . #|"
   ]
  },
  {
   "cell_type": "markdown",
   "id": "775c4c75-9efa-48d3-a938-975507e60b00",
   "metadata": {},
   "source": [
    "#### Sample 2"
   ]
  },
  {
   "cell_type": "markdown",
   "id": "66c2efed-6f16-4e81-b5a4-564f6023e597",
   "metadata": {},
   "source": [
    "\n",
    "|Input| Output|\n",
    "| :- | :-|\n",
    "|1 3 | No |\n",
    "|. # .|"
   ]
  },
  {
   "cell_type": "markdown",
   "id": "351b614d-2fc6-448b-8db6-0719541e46e3",
   "metadata": {},
   "source": [
    "#### Sample 3"
   ]
  },
  {
   "cell_type": "markdown",
   "id": "1829c947-4f9f-442d-a97d-adb4855030c7",
   "metadata": {},
   "source": [
    "\n",
    "|Input| Output|\n",
    "| :- | :-|\n",
    "|3 3 | No |\n",
    "|. . # |\n",
    "|. # . |\n",
    "|# . . |"
   ]
  },
  {
   "cell_type": "markdown",
   "id": "f3920ea4-63f7-4d02-a05f-1d98b999021c",
   "metadata": {},
   "source": [
    "### Notes\n",
    "\n",
    "Maximum points for question **D2**: **10** points.\n",
    "\n",
    "**Reminder:** You must select 2 out of 3 questions in programming section: Maze (D1-D3), Text (E1-E3), Titanic (F1-F3), and answer both selected questions as fully as possible."
   ]
  },
  {
   "cell_type": "code",
   "execution_count": null,
   "id": "57f24370-af12-40b5-8e9b-5fd9f15186e4",
   "metadata": {},
   "outputs": [],
   "source": [
    "### Initial candidate answer code"
   ]
  },
  {
   "cell_type": "code",
   "execution_count": null,
   "id": "cdbd470e-d1b5-45af-8f3e-c0b4033e2755",
   "metadata": {},
   "outputs": [],
   "source": [
    "\n",
    "# Use print(\"Debug messages...\") to debug your solution.\n",
    "\n",
    "def solution(inp):\n",
    "    # Your code goes here\n",
    "    return 'No'"
   ]
  },
  {
   "cell_type": "code",
   "execution_count": null,
   "id": "55c7c311-1563-404c-8c31-cf9d838ac4f8",
   "metadata": {},
   "outputs": [],
   "source": [
    "### Initial candidate test code"
   ]
  },
  {
   "cell_type": "code",
   "execution_count": null,
   "id": "b8c3c181-9c43-4274-8139-64edf0a51613",
   "metadata": {},
   "outputs": [],
   "source": [
    "example1 = ['2 5', '..#..', '....#']\n",
    "print(example1) \n",
    "print(solution(example1), '\\n')\n",
    "\n",
    "example2 = ['1 3', '.#.']\n",
    "print(example2) \n",
    "print(solution(example2), '\\n')\n",
    "\n",
    "example3 = ['3 3', '..#', '.#.', '#..']\n",
    "print(example3) \n",
    "print(solution(example3), '\\n')"
   ]
  },
  {
   "cell_type": "code",
   "execution_count": null,
   "id": "129ec7ed-1a68-437c-80ba-315381521d0e",
   "metadata": {},
   "outputs": [],
   "source": [
    "### Autograder part (hidden from the candidate)"
   ]
  },
  {
   "cell_type": "code",
   "execution_count": null,
   "id": "fe7281af-9d4e-4be0-a9a1-0a6afaa423b3",
   "metadata": {},
   "outputs": [],
   "source": [
    "import numpy as np\n",
    "import os\n",
    "\n",
    "data_path = './datasets/D2/tests/'\n",
    "\n",
    "for i in range(99):\n",
    "    \n",
    "    input_file = os.path.join(data_path,'{:02}'.format(i+1))\n",
    "    output_file = os.path.join(data_path,'{:02}'.format(i+1)+'.a')\n",
    "    with open(input_file) as f:\n",
    "        data_in = f.read().splitlines()\n",
    "    f.close()\n",
    "    with open(output_file) as f:\n",
    "        data_out = f.read().splitlines()\n",
    "    f.close()\n",
    "    \n",
    "    sol = solution(data_in[0])\n",
    "    ans = data_out[0]\n",
    "    \n",
    "    np.testing.assert_array_equal(sol,ans)"
   ]
  }
 ],
 "metadata": {
  "kernelspec": {
   "display_name": "Python 3",
   "language": "python",
   "name": "python3"
  },
  "language_info": {
   "codemirror_mode": {
    "name": "ipython",
    "version": 3
   },
   "file_extension": ".py",
   "mimetype": "text/x-python",
   "name": "python",
   "nbconvert_exporter": "python",
   "pygments_lexer": "ipython3",
   "version": "3.8.8"
  }
 },
 "nbformat": 4,
 "nbformat_minor": 5
}
