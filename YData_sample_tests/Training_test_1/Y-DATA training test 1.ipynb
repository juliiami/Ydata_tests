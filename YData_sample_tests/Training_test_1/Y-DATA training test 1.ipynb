{
 "cells": [
  {
   "cell_type": "markdown",
   "id": "b3bba8e8-2f46-4965-912b-9ad8d1d5ef8e",
   "metadata": {},
   "source": [
    "# Training test 1"
   ]
  },
  {
   "cell_type": "markdown",
   "id": "26524e9d-1f30-461a-9e49-4e94cafdaafe",
   "metadata": {},
   "source": [
    "The test consists of 2 parts:\n",
    "\n",
    "* the theoretical one - which includes the tasks on the probability theory and the data analysis;\n",
    "* the programming one - which includes the practical tasks purposed to show your programming skills."
   ]
  },
  {
   "cell_type": "markdown",
   "id": "46776ed3-e5f6-48ca-a441-a585a360a0d6",
   "metadata": {},
   "source": [
    "# Probability theory and data analysis"
   ]
  },
  {
   "cell_type": "markdown",
   "id": "49c27741-03c9-471f-9929-e472b6e7278e",
   "metadata": {},
   "source": [
    "## A. Probability"
   ]
  },
  {
   "cell_type": "markdown",
   "id": "97ba5c87-01fc-410d-8472-5588d933a4df",
   "metadata": {},
   "source": [
    "**Q1**. If it rains on Saturday with probability 50%, and it rains on Sunday with probability 30%, what is the probability that it rains at some point throughout the weekend?"
   ]
  },
  {
   "cell_type": "markdown",
   "id": "23b75760-f56e-46d3-a59c-433daa8f4b39",
   "metadata": {},
   "source": [
    "**Q2**. A Class of 45 students is randomly split into 3 practice groups of the same size. A pair of friends in the class really like to work together and hope they won’t end up in diﬀerent groups. What are the chances they’re assigned to the same group?"
   ]
  },
  {
   "cell_type": "markdown",
   "id": "aa1c0e8d-38c5-4fe1-a060-b5bc5c9841b6",
   "metadata": {},
   "source": [
    "**Q3**. A fair six-sided die is rolled twice. What is the probability of getting 1 on the ﬁrst roll and not getting 6 on the second roll?\n",
    "\n",
    "A. 1/36  \n",
    "B. 1/18  \n",
    "C. 5/36  \n",
    "D. 1/6  \n",
    "E. 1/3"
   ]
  },
  {
   "cell_type": "markdown",
   "id": "3ca1bda6-571b-4952-bf2b-3067ea3ce4d7",
   "metadata": {},
   "source": [
    "**Q4**. A fair six-sided die is rolled 6 times. What is the probability that no two results are the same number?"
   ]
  },
  {
   "cell_type": "markdown",
   "id": "b124c617-6f23-4f4f-b551-22b6d235808f",
   "metadata": {},
   "source": [
    "**Q5**. In a regular deck of cards, there are 52 cards from 4 suits of 13 cards each: Spades, Hearts, Diamonds and Clubs. You draw a card from the deck, note down its suit, return it to the deck and reshuﬄe. You repeat this 5 times. What is the probability not a single Diamonds card was drawn?"
   ]
  },
  {
   "cell_type": "markdown",
   "id": "00a06a1c-5e62-4990-aea3-d42ecaf0b0c6",
   "metadata": {},
   "source": [
    "**Q6**. A bag contains 5 balls: 4 black and 1 white. A ball is drawn from the bag and returned to it, then another ball is drawn. What is the probability both were of the same colour?"
   ]
  },
  {
   "cell_type": "markdown",
   "id": "25ef28de-bc7d-42b5-b68f-5b426e2574f5",
   "metadata": {},
   "source": [
    "**Q7**. You have a deck of cards containing 26 black and 13 red cards. You pull out 2 cards, one after another, and check their colour. If both cards are the same colour, then a black card is added to the deck. However, if the cards are of diﬀerent colours, then a red card is used to replace them. Once the cards are taken out of the deck, they are not returned to the deck, and thus the number of cards keeps reducing. What is the likelihood the last card left in the deck is black?\n",
    "\n",
    "A. 1.0  \n",
    "B. 0.8  \n",
    "C. 0.6  \n",
    "D. 0.5  \n",
    "E. 0.0"
   ]
  },
  {
   "cell_type": "markdown",
   "id": "50626a96-58b1-4c00-baa5-549a851ad66e",
   "metadata": {},
   "source": [
    "### Output format"
   ]
  },
  {
   "cell_type": "markdown",
   "id": "52f56b01-7566-4295-b178-24411fa02375",
   "metadata": {},
   "source": [
    "INSTRUCTIONS: Read each question and ﬁnd the correct answer. Write the answers in the designated window, using the following format: Question number + space + correct answer (letter or ﬂoating point number). Each answer should be in a separate row.\n",
    "\n",
    "Example:  \n",
    "Q1 FP_NUMBER_WITH_EXACTLY_4_DECIMAL_DIGITS  \n",
    "Q2 FP_NUMBER_WITH_EXACTLY_4_DECIMAL_DIGITS  \n",
    "Q3 A  \n",
    "Q4 FP_NUMBER_WITH_EXACTLY_4_DECIMAL_DIGITS  \n",
    "Q5 FP_NUMBER_WITH_EXACTLY_4_DECIMAL_DIGITS  \n",
    "Q6 FP_NUMBER_WITH_EXACTLY_4_DECIMAL_DIGITS  \n",
    "Q7 B"
   ]
  },
  {
   "cell_type": "markdown",
   "id": "1b776d0f-e814-4adb-8907-875d0570a4af",
   "metadata": {},
   "source": [
    "### Notes"
   ]
  },
  {
   "cell_type": "markdown",
   "id": "2fd1a3c3-c824-46aa-9a69-7ccd9cb174ff",
   "metadata": {},
   "source": [
    "Maximum points value for question **A**: **8** points\n",
    "\n",
    "All numerical answers must be given with **exactly 4 decimal digits**. e.g. if your solution is \"1.5\", your submitted answer should be \"1.5000\".\n",
    "\n",
    "If you do not solve some problems, you can skip the relevant questions in the submission window. Answers may be listed in any order."
   ]
  },
  {
   "cell_type": "markdown",
   "id": "c88ab281-22c0-4790-8d60-7628d94a19ea",
   "metadata": {},
   "source": [
    "## B1. Data interpretation"
   ]
  },
  {
   "cell_type": "markdown",
   "id": "770abc7a-1dbf-4159-95e1-aa2905b8bd53",
   "metadata": {},
   "source": [
    "A survey was performed to study the paying habits of a restaurant’s customers. Among 2500 meal orders, 30% were made by delivery, 20% by takeaway, and the rest were sit-down at the restaurant itself.\n",
    "\n",
    "The table below shows the results in terms of the fraction of responders in each of the three categories (takeaway, delivery and sit-down)."
   ]
  },
  {
   "cell_type": "markdown",
   "id": "c01a5647-ff9f-4066-b470-119e199dbcae",
   "metadata": {},
   "source": [
    "|Order method | Paid in cash | Customer satisfied |\n",
    "| :- | -: | -: |\n",
    "| Take-away |0.25 | 0.55|\n",
    "| Delivery |X | 0.6|\n",
    "| Sit-down |0.6 | Y|\n",
    "| Total |0.45 | 0.48|"
   ]
  },
  {
   "cell_type": "markdown",
   "id": "bfea7afe-657d-4625-91cb-9535097c7155",
   "metadata": {},
   "source": [
    "**Q1**. What is the ratio of the total number of sit-down orders paid for in cash to takeaway orders paid by means other than cash?"
   ]
  },
  {
   "cell_type": "markdown",
   "id": "3e188815-6820-41c9-88f0-53d9c69f014d",
   "metadata": {},
   "source": [
    "**Q2**. If a given customer replied that they were satisﬁed with their meal, what is the probability that their meal was a delivery? (It is known that the mode of payment, customer satisfaction and order method are independent of each other)."
   ]
  },
  {
   "cell_type": "markdown",
   "id": "3e537a0b-67ae-4657-9fae-db6ac408a5a4",
   "metadata": {},
   "source": [
    "### Output format"
   ]
  },
  {
   "cell_type": "markdown",
   "id": "f7818945-23a9-4ba2-af5d-f16a6c54d93c",
   "metadata": {},
   "source": [
    "INSTRUCTIONS: Read each question and ﬁnd the correct answer. Write the answers in the designated window, using the following format: Question number + space + correct answer (an irreducible ratio or a ﬂoating point number). Each answer should be in a separate row.\n",
    "\n",
    "Example:  \n",
    "Q1 IRREDUCIBLE_RATIO  \n",
    "Q2 FP_NUMBER_WITH_EXACTLY_4_DECIMAL_DIGITS"
   ]
  },
  {
   "cell_type": "markdown",
   "id": "88a0a818-8418-4e36-9f37-a9706a1c1dcf",
   "metadata": {},
   "source": [
    "### Notes"
   ]
  },
  {
   "cell_type": "markdown",
   "id": "f5450fc8-c08c-45b5-a485-41c536a91829",
   "metadata": {},
   "source": [
    "Maximum points value for question **B1**: **6** points\n",
    "\n",
    "All numerical answers must be given with **exactly 4 decimal digits**. e.g. if your solution is \"1.5\", your submitted answer should be \"1.5000\". If you do not solve some problems, you can skip the relevant questions in the submission window. \"2:3\" is an irreducible ratio while \"5:15\" is not."
   ]
  },
  {
   "cell_type": "markdown",
   "id": "a63e29a4-1e21-472f-8060-6be9bc63f8ba",
   "metadata": {},
   "source": [
    "## B2. Data interpretation 2"
   ]
  },
  {
   "cell_type": "markdown",
   "id": "6019817d-05e4-4770-a750-4528d4eb00ef",
   "metadata": {},
   "source": [
    "A city’s municipality has multiple departments. The information below pertains to ﬁve such departments: A, B, C, D, and E. All of the workers are paid on an hourly basis, and all members of the same department are paid the same, but the hourly wage of each department changes from month to month due to demand and budget constraints. Below is employment time and salary information by department for the months May-November, as well as a table with the total hours worked each month (across all departments). Answer the following questions based on this information:\n"
   ]
  },
  {
   "cell_type": "markdown",
   "id": "4655804a-7c4f-4db9-a032-f26abf71a782",
   "metadata": {},
   "source": [
    "|MONTH | TOTAL HOURS |\n",
    "| :- | -: |\n",
    "| MAY |1600 |\n",
    "| JUN |1500 |\n",
    "| JUL |2100 |\n",
    "| AUG |2600 |\n",
    "| SEP |2200 |\n",
    "| OCT |1800 |\n",
    "| NOV |2500 |"
   ]
  },
  {
   "cell_type": "markdown",
   "id": "a1c8b13b-a62b-4d40-a835-d7057ad39b49",
   "metadata": {},
   "source": [
    "<p style=\"text-align:center;\">\n",
    "    <img src=\"images/image1.png\" width=500 height=300 />\n",
    "    <img src=\"images/image2.png\" width=500 height=300 />"
   ]
  },
  {
   "cell_type": "markdown",
   "id": "04bfd198-5c14-46c8-a559-7f871b966992",
   "metadata": {},
   "source": [
    "**Q1**. In what month have department B employees worked the most hours?\n",
    "\n",
    "A. May  \n",
    "B. June  \n",
    "C. August  \n",
    "D. October  \n",
    "E. November"
   ]
  },
  {
   "cell_type": "markdown",
   "id": "7c954363-27ed-4fa8-92d7-2803be19b356",
   "metadata": {},
   "source": [
    "**Q2**. What is the ratio between the number of department C man-hours in May and department E man-hours in Oct?"
   ]
  },
  {
   "cell_type": "markdown",
   "id": "6a48f4ef-8043-4815-b5fd-c1e9f1041b7b",
   "metadata": {},
   "source": [
    "**Q3**. Over the period from May till August, which department had the most stable work load?\n",
    "\n",
    "A. Department A  \n",
    "B. Department B  \n",
    "C. Department C  \n",
    "D. Department D  \n",
    "E. Department E"
   ]
  },
  {
   "cell_type": "markdown",
   "id": "15f9a876-64d8-4124-86c8-c29f7087bc08",
   "metadata": {},
   "source": [
    "*Which department is which?*"
   ]
  },
  {
   "cell_type": "markdown",
   "id": "290556ca-48f8-41be-b7f9-67e0f9f8febf",
   "metadata": {},
   "source": [
    "**Q4**. The employees of veterinary services department were very disgruntled after receiving September salary, and many of them quit. Which department is veterinary services?\n",
    "\n",
    "A. Department A  \n",
    "B. Department B  \n",
    "C. Department C  \n",
    "D. Department D  \n",
    "E. Department E"
   ]
  },
  {
   "cell_type": "markdown",
   "id": "566fa30b-270f-4c41-9abc-a456aa0471b4",
   "metadata": {},
   "source": [
    "**Q5**. It is commonly known that no matter how the salaries change over time, the employees of accounting department are always the best paid. Which department is accounting?\n",
    "\n",
    "A. Department A  \n",
    "B. Department B  \n",
    "C. Department C  \n",
    "D. Department D  \n",
    "E. Department E"
   ]
  },
  {
   "cell_type": "markdown",
   "id": "0b443e95-146b-47f5-b5f6-18ce14daa568",
   "metadata": {},
   "source": [
    "**Q6**. Which of the following is lifeguard services department?\n",
    "\n",
    "A. Department A  \n",
    "B. Department B  \n",
    "C. Department C  \n",
    "D. Department D  \n",
    "E. Department E"
   ]
  },
  {
   "cell_type": "markdown",
   "id": "3e734724-d483-4640-94d4-0fd2877db7ca",
   "metadata": {},
   "source": [
    "### Output format"
   ]
  },
  {
   "cell_type": "markdown",
   "id": "fe668680-dcff-4058-95d3-a3ca7374cf5e",
   "metadata": {},
   "source": [
    "INSTRUCTIONS: Read each question and ﬁnd the correct answer. Write the answers in the designated window, using the following format: Question number + space + correct answer (an irreducible ratio or a letter). Each answer should be in a separate row.\n",
    "\n",
    "Example:  \n",
    "Q1 A  \n",
    "Q2 IRREDUCIBLE_RATIO  \n",
    "Q3 A  \n",
    "Q4 A  \n",
    "Q5 A  \n",
    "Q6 A"
   ]
  },
  {
   "cell_type": "markdown",
   "id": "fbc416ed-76d3-48b1-8ca4-b4fbeb878328",
   "metadata": {},
   "source": [
    "### Notes"
   ]
  },
  {
   "cell_type": "markdown",
   "id": "f123bf0d-bc84-468f-951b-6f86e018ca85",
   "metadata": {},
   "source": [
    "Maximum points value for question **B2**: **10** points\n",
    "\n",
    "You can output any number of answers, if you do not solve some problems. Ratio \"2:3\" is irreducible while \"5:15\" is not."
   ]
  },
  {
   "cell_type": "markdown",
   "id": "4134e82c-6585-479b-9939-9a2c3530c6d5",
   "metadata": {},
   "source": [
    "## C. Fraud detection"
   ]
  },
  {
   "cell_type": "markdown",
   "id": "18fe455c-1449-4473-93ac-92ea8abb87e8",
   "metadata": {},
   "source": [
    "The attached dataset  contains a list of credit card transactions: Transaction ID (random), Transaction type (payment, cash withdrawal or transfer), account holder, transaction amount and area where the transaction took place.\n",
    "\n",
    "Based on patterns found in the data, ﬂag **UP TO 3** transactions that are suspicious as fraudulent."
   ]
  },
  {
   "cell_type": "markdown",
   "id": "fa35f5e8-2b9d-401f-af7d-8e417d73ae1e",
   "metadata": {},
   "source": [
    "### Output format"
   ]
  },
  {
   "cell_type": "markdown",
   "id": "34fb3d57-1ba9-443e-bc31-d93b61ecdaf9",
   "metadata": {},
   "source": [
    "Write between 1 and 3 transaction ID numbers, separate them with spaces."
   ]
  },
  {
   "cell_type": "markdown",
   "id": "6cdc193e-ee78-4ace-a9e0-25cdd55ec60c",
   "metadata": {},
   "source": [
    "### Notes"
   ]
  },
  {
   "cell_type": "markdown",
   "id": "4447f6ba-24f7-433d-85b5-7799385d48d5",
   "metadata": {},
   "source": [
    "Maximum points value for question **C**: **16** points\n",
    "\n",
    "You are **not required** to use any dedicated data science tools or resources to solve this question."
   ]
  },
  {
   "cell_type": "code",
   "execution_count": 1,
   "id": "9c212b0a-c96a-42c6-a41d-736597a41b1c",
   "metadata": {},
   "outputs": [
    {
     "data": {
      "text/html": [
       "<div>\n",
       "<style scoped>\n",
       "    .dataframe tbody tr th:only-of-type {\n",
       "        vertical-align: middle;\n",
       "    }\n",
       "\n",
       "    .dataframe tbody tr th {\n",
       "        vertical-align: top;\n",
       "    }\n",
       "\n",
       "    .dataframe thead th {\n",
       "        text-align: right;\n",
       "    }\n",
       "</style>\n",
       "<table border=\"1\" class=\"dataframe\">\n",
       "  <thead>\n",
       "    <tr style=\"text-align: right;\">\n",
       "      <th></th>\n",
       "      <th>Transaction ID</th>\n",
       "      <th>Type</th>\n",
       "      <th>Amount</th>\n",
       "      <th>Area Code</th>\n",
       "      <th>Client</th>\n",
       "    </tr>\n",
       "  </thead>\n",
       "  <tbody>\n",
       "    <tr>\n",
       "      <th>0</th>\n",
       "      <td>1122778</td>\n",
       "      <td>PAYMENT</td>\n",
       "      <td>230</td>\n",
       "      <td>34297</td>\n",
       "      <td>Eyal Avihud</td>\n",
       "    </tr>\n",
       "    <tr>\n",
       "      <th>1</th>\n",
       "      <td>1214288</td>\n",
       "      <td>CASH-OUT</td>\n",
       "      <td>520</td>\n",
       "      <td>39206</td>\n",
       "      <td>Natalie Ben Zakan</td>\n",
       "    </tr>\n",
       "    <tr>\n",
       "      <th>2</th>\n",
       "      <td>1232468</td>\n",
       "      <td>PAYMENT</td>\n",
       "      <td>479</td>\n",
       "      <td>55682</td>\n",
       "      <td>Lilach Kedem</td>\n",
       "    </tr>\n",
       "    <tr>\n",
       "      <th>3</th>\n",
       "      <td>1299198</td>\n",
       "      <td>CASH-OUT</td>\n",
       "      <td>450</td>\n",
       "      <td>99714</td>\n",
       "      <td>Yaron Kutler</td>\n",
       "    </tr>\n",
       "    <tr>\n",
       "      <th>4</th>\n",
       "      <td>1384021</td>\n",
       "      <td>CASH-OUT</td>\n",
       "      <td>560</td>\n",
       "      <td>43206</td>\n",
       "      <td>Ziv Mazor</td>\n",
       "    </tr>\n",
       "  </tbody>\n",
       "</table>\n",
       "</div>"
      ],
      "text/plain": [
       "   Transaction ID      Type  Amount  Area Code             Client\n",
       "0         1122778   PAYMENT     230      34297        Eyal Avihud\n",
       "1         1214288  CASH-OUT     520      39206  Natalie Ben Zakan\n",
       "2         1232468   PAYMENT     479      55682       Lilach Kedem\n",
       "3         1299198  CASH-OUT     450      99714       Yaron Kutler\n",
       "4         1384021  CASH-OUT     560      43206          Ziv Mazor"
      ]
     },
     "execution_count": 1,
     "metadata": {},
     "output_type": "execute_result"
    }
   ],
   "source": [
    "import pandas as pd\n",
    "\n",
    "df = pd.read_csv('datasets/test1/C/FraudData.csv')\n",
    "df.head()"
   ]
  },
  {
   "cell_type": "markdown",
   "id": "81802c19-0035-41b6-a06e-2a12e491bae9",
   "metadata": {},
   "source": [
    "# Programming"
   ]
  },
  {
   "cell_type": "markdown",
   "id": "d0af67be-2303-443b-8246-95754d0862bc",
   "metadata": {},
   "source": [
    "The problems below are purposed to check your programming skills. You must select 2 out of 3 questions in programming section: Maze (D), Text (E), Titanic (F), and answer both selected questions as fully as possible (for example, if you choose Maze and Titanic, you should answer questions D1, D2, D3 and F1, F2, F3).\n",
    "\n",
    "You can use the additional libraries - numpy, pandas, memory_profiler (they are needed to be pre-installed)."
   ]
  },
  {
   "cell_type": "markdown",
   "id": "2dd2abe9-c1cc-4f1a-b856-6363fe6ab535",
   "metadata": {},
   "source": [
    "## D1. Maze: Find the bug"
   ]
  },
  {
   "cell_type": "markdown",
   "id": "a7591070-018e-45bf-8849-568077ede595",
   "metadata": {},
   "source": [
    "To solve this problem you need to ﬁnd **the line containing an error**.\n",
    "\n",
    "You are given a pseudocode of a solution for the following problem:"
   ]
  },
  {
   "cell_type": "markdown",
   "id": "72ab7f10-b0f1-49ce-89c4-c935add40d7a",
   "metadata": {},
   "source": [
    "You are given a rectangular ﬁeld $T$ with $R$ rows and $C$ columns. Each cell of $T$ contains one of two possible characters: `’.’` or `’#’` (`’.’` marks a passable cell, and `’#’` marks an impassable cell). Determine if there a passable cell $(r,c)$, such that one can visit all passable cells starting from $(r,c)$ and moving each time only to one of the neighbouring passable cells (a neighbouring cell of $(x,y)$ is one of four cells sharing a common side with $(x,y)$)."
   ]
  },
  {
   "cell_type": "markdown",
   "id": "6bfa47ff-0689-4ff2-a134-74d9d22b892d",
   "metadata": {},
   "source": [
    "```\n",
    "1.  for r, c in [1..R]x[1..C]:  \n",
    "2.      if T[r][c] == ’#’:  \n",
    "3.          continue  \n",
    "4.      q - empty queue  \n",
    "5.      visited - empty RxC boolean 2D array, initialized with False  \n",
    "6.      visited[r][c] = True  \n",
    "7.      q.push((r,c)) // push starting cell into the queue  \n",
    "8.  \n",
    "9.      while q is not empty:  \n",
    "10.         cur_r, cur_c = q.pop() // extract the first element from the queue  \n",
    "11.         for (dr, dc) in [(+1, 0), (-1, 0), (0, +1), (0, -1)]:  \n",
    "12.             next_r = cur_r + dr  \n",
    "13.             next_c = cur_c + dc  \n",
    "14.             if (next_r, next_c) in [1..R]x[1..C] and T[next_r][next_c] == ’.’:  \n",
    "15.                 visited[next_r][next_c] = True  \n",
    "16.                 q.push((next_r, next_c))  \n",
    "17.  \n",
    "18.     all_passed = True  \n",
    "19.     for (check_r, check_c) in [1..R]x[1..C]:  \n",
    "20.         if T[check_r][check_c] == ’.’ and visited[check_r][check_c] == False:  \n",
    "21.             all_passed = False  \n",
    "22.  \n",
    "23.     if all_passed:  \n",
    "24.         return True // (r, c) is a good starting cell  \n",
    "25.  \n",
    "26. return False // there is no good starting cell\n",
    "```"
   ]
  },
  {
   "cell_type": "markdown",
   "id": "c3e6d64d-e3ab-4ff5-8679-e961ea6d9306",
   "metadata": {},
   "source": [
    "**Note:** ’An error’ may refer to any situation in which in order for the program to run correctly, the pseudocode needs to be modiﬁed through changing, deleting, or adding some symbols. All such changes must be done within a single line of the pseudocode."
   ]
  },
  {
   "cell_type": "markdown",
   "id": "e3545c33-0645-45f0-974c-4d63ddea8073",
   "metadata": {},
   "source": [
    "**Hint:** The error is not in the synthax of the pseudocode"
   ]
  },
  {
   "cell_type": "markdown",
   "id": "81f978e6-ed72-4094-b58d-0aa6d5972f37",
   "metadata": {},
   "source": [
    "### Input format"
   ]
  },
  {
   "cell_type": "markdown",
   "id": "909ab299-c0e6-4149-8679-9f85d3b932bc",
   "metadata": {},
   "source": [
    "One integer, the number of the line containing an error."
   ]
  },
  {
   "cell_type": "markdown",
   "id": "0a8a1238-a59e-4c07-8eec-f5444eaf96b6",
   "metadata": {},
   "source": [
    "### Notes"
   ]
  },
  {
   "cell_type": "markdown",
   "id": "6eff43b7-8da0-4aa2-9ba5-5cf690984b5c",
   "metadata": {},
   "source": [
    "Maximum points for question **D1**: **7** points.\n",
    "\n",
    "**Reminder:** You must select 2 out of 3 questions in programming section: Maze (D), Text (E), Titanic (F), and answer both selected questions as fully as possible (for example, if you choose Maze and Titanic, you should answer questions D1, D2, D3 and F1, F2, F3).\n",
    "\n",
    "**Note:** In this question you do not receive the outcome of your submission, only a notiﬁcation that submission was sent successfully."
   ]
  },
  {
   "cell_type": "markdown",
   "id": "00e4015a-9316-4f36-9576-d614d0a5357f",
   "metadata": {},
   "source": [
    "## D2. Maze: Implement"
   ]
  },
  {
   "cell_type": "markdown",
   "id": "b50ac2b2-2715-44d9-bf51-ad5ab66f7313",
   "metadata": {},
   "source": [
    "In this question you are required to **write code in the window below** implementing a solution to the problem presented in the previous question (D1).\n",
    "\n",
    "**Note:** Your solution should read the description of $T$ from test ﬁles 01-99."
   ]
  },
  {
   "cell_type": "markdown",
   "id": "6309e6e8-275f-45dd-abd5-d6484f69d01b",
   "metadata": {},
   "source": [
    "### Input format"
   ]
  },
  {
   "cell_type": "markdown",
   "id": "fa19aeba-e90e-4ff5-a4cf-d6b24fb8b47b",
   "metadata": {},
   "source": [
    "The ﬁrst input line contains two integers $R$ and $C$ $(1≤R≤20,1≤C≤20)$, the number of rows and columns. Each of the $R$ following lines contains exactly $C$ symbols `’.’` and `’#’`.\n",
    "\n",
    "**Note:** The input ﬁle has UNIX line endings format (Unix LF). https://en.wikipedia.org/wiki/Newline\n",
    "\n",
    "It is guaranteed that $T$ contains at least one passible cell."
   ]
  },
  {
   "cell_type": "markdown",
   "id": "4248f66c-44c1-47ea-8761-5d10766d3527",
   "metadata": {},
   "source": [
    "### Output format"
   ]
  },
  {
   "cell_type": "markdown",
   "id": "178c6bcb-e124-4709-95c0-b62e51c6a683",
   "metadata": {},
   "source": [
    "Print a single word `Yes` if there is an appropriate cell or `No` otherwise.\n",
    "\n",
    "Examples are provided below."
   ]
  },
  {
   "cell_type": "markdown",
   "id": "cf1ea1cc-e999-4360-b5ad-a7c927cd43e3",
   "metadata": {},
   "source": [
    "#### Sample 1"
   ]
  },
  {
   "cell_type": "markdown",
   "id": "71256233-f353-45cb-a00b-6428fac0433c",
   "metadata": {},
   "source": [
    "|Input| Output|\n",
    "| :- | :-|\n",
    "|2 5 | Yes |\n",
    "|. . # . .|\n",
    "|. . . . #|"
   ]
  },
  {
   "cell_type": "markdown",
   "id": "151f9c22-bd14-4875-a145-ec53234ee505",
   "metadata": {},
   "source": [
    "#### Sample 2"
   ]
  },
  {
   "cell_type": "markdown",
   "id": "84dc4eca-17dd-4e16-8166-37e0d73fefeb",
   "metadata": {},
   "source": [
    "|Input| Output|\n",
    "| :- | :-|\n",
    "|1 3 | No |\n",
    "|. # .|"
   ]
  },
  {
   "cell_type": "markdown",
   "id": "1e75f8e4-6486-4094-93f9-b66fee159d02",
   "metadata": {},
   "source": [
    "#### Sample 3"
   ]
  },
  {
   "cell_type": "markdown",
   "id": "3a419eca-cf4d-4d24-92a5-b0e7fe16a416",
   "metadata": {},
   "source": [
    "|Input| Output|\n",
    "| :- | :-|\n",
    "|3 3 | No |\n",
    "|. . # |\n",
    "|. # . |\n",
    "|# . . |"
   ]
  },
  {
   "cell_type": "markdown",
   "id": "9b3d3faa-ef05-42f6-92e6-b57ce69c4791",
   "metadata": {},
   "source": [
    "### Notes"
   ]
  },
  {
   "cell_type": "markdown",
   "id": "e00a0b73-e6c6-4b4c-87f6-c5821e483e8c",
   "metadata": {},
   "source": [
    "Maximum points for question **D2**: **10** points.\n",
    "\n",
    "**Reminder:** You must select 2 out of 3 questions in programming section: Maze (D1-D3), Text (E1-E3), Titanic (F1-F3), and answer both selected questions as fully as possible."
   ]
  },
  {
   "cell_type": "code",
   "execution_count": 3,
   "id": "22a36e34-7baf-4522-b557-ce46cabe27ee",
   "metadata": {},
   "outputs": [],
   "source": [
    "def solution(inp):\n",
    "    # Your code goes here\n",
    "    return 0"
   ]
  },
  {
   "cell_type": "code",
   "execution_count": 5,
   "id": "374f9acb-e644-4f90-a759-629a5e39afe4",
   "metadata": {},
   "outputs": [
    {
     "name": "stdout",
     "output_type": "stream",
     "text": [
      "['2 5', '..#..', '....#']\n",
      "0 \n",
      "\n",
      "['1 3', '.#.']\n",
      "0 \n",
      "\n",
      "['3 3', '..#', '.#.', '#..']\n",
      "0 \n",
      "\n"
     ]
    }
   ],
   "source": [
    "example1 = ['2 5', '..#..', '....#']\n",
    "print(example1) \n",
    "print(solution(example1), '\\n')\n",
    "\n",
    "example2 = ['1 3', '.#.']\n",
    "print(example2) \n",
    "print(solution(example2), '\\n')\n",
    "\n",
    "example3 = ['3 3', '..#', '.#.', '#..']\n",
    "print(example3) \n",
    "print(solution(example3), '\\n')"
   ]
  },
  {
   "cell_type": "markdown",
   "id": "0af8bc05-cfce-4a5e-b25b-7041deb45b50",
   "metadata": {},
   "source": [
    "## D3. Maze: Optimize"
   ]
  },
  {
   "cell_type": "markdown",
   "id": "b1402055-bba9-469d-a0ba-fc409b5222d5",
   "metadata": {},
   "source": [
    "The pseudocode given in D1 has sub-optimal complexity.\n",
    "\n",
    "Optimize your solution for the previous problem (D2) if necessary, allowing it to run eﬃciently. Your solution will run on grids with larger size constraints: $1≤R≤1000, 1≤C≤1000$."
   ]
  },
  {
   "cell_type": "markdown",
   "id": "40c5d969-695a-4839-885f-6b3aa7e9c269",
   "metadata": {},
   "source": [
    "### Input format"
   ]
  },
  {
   "cell_type": "markdown",
   "id": "cbdddd1b-6330-4c86-9458-be65eac10ca7",
   "metadata": {},
   "source": [
    "The same as in D2."
   ]
  },
  {
   "cell_type": "markdown",
   "id": "bab558ba-63eb-4b66-adbc-4695589973bf",
   "metadata": {},
   "source": [
    "### Output format"
   ]
  },
  {
   "cell_type": "markdown",
   "id": "fc744aae-bad0-4131-b94d-48e6e1d3edf6",
   "metadata": {},
   "source": [
    "The same as in D2."
   ]
  },
  {
   "cell_type": "markdown",
   "id": "208c4428-dc4e-4be7-a284-67720f7df1fe",
   "metadata": {},
   "source": [
    "#### Sample 1"
   ]
  },
  {
   "cell_type": "markdown",
   "id": "a9984345-edb5-4df1-87ab-3dc8eb97b503",
   "metadata": {},
   "source": [
    "|Input| Output|\n",
    "| :- | :-|\n",
    "|2 5 | Yes |\n",
    "|. . # . .|\n",
    "|. . . . #|"
   ]
  },
  {
   "cell_type": "markdown",
   "id": "e7dc71d6-2e5d-4cf8-8857-6ddebfd52a2d",
   "metadata": {},
   "source": [
    "#### Sample 2"
   ]
  },
  {
   "cell_type": "markdown",
   "id": "367127f8-d8fe-4180-a933-e00cb41e28b4",
   "metadata": {},
   "source": [
    "|Input| Output|\n",
    "| :- | :-|\n",
    "|1 3 | No |\n",
    "|. # .|"
   ]
  },
  {
   "cell_type": "markdown",
   "id": "b6aaa175-9135-4fbd-8be9-da6e6351d63c",
   "metadata": {},
   "source": [
    "#### Sample 3"
   ]
  },
  {
   "cell_type": "markdown",
   "id": "d6c2ac92-83e5-41b3-9dd1-d2a46e6b8a05",
   "metadata": {},
   "source": [
    "|Input| Output|\n",
    "| :- | :-|\n",
    "|3 3 | No |\n",
    "|. . # |\n",
    "|. # . |\n",
    "|# . . |"
   ]
  },
  {
   "cell_type": "markdown",
   "id": "e3f98c5a-e034-464e-b8c4-cbe30bc6f77e",
   "metadata": {},
   "source": [
    "### Notes"
   ]
  },
  {
   "cell_type": "markdown",
   "id": "b0af80e1-022f-482b-8018-e67095b261a7",
   "metadata": {},
   "source": [
    "Maximum points for question **D3**: **13** points.\n",
    "\n",
    "**Reminder:** You must select 2 out of 3 questions in programming section: Maze (D), Text (E), Titanic (F), and answer both selected questions as fully as possible (for example, if you choose Maze and Titanic, you should answer questions D1, D2, D3 and F1, F2, F3)."
   ]
  },
  {
   "cell_type": "code",
   "execution_count": 7,
   "id": "b1793e34-b015-41aa-b4d1-2ec72aea9e7a",
   "metadata": {},
   "outputs": [],
   "source": [
    "def solution(inp):\n",
    "    # Your code goes here\n",
    "    return 0"
   ]
  },
  {
   "cell_type": "code",
   "execution_count": 9,
   "id": "631ffa1e-144a-4288-adef-56a63ffc6c2b",
   "metadata": {},
   "outputs": [
    {
     "name": "stdout",
     "output_type": "stream",
     "text": [
      "['2 5', '..#..', '....#']\n",
      "0 \n",
      "\n",
      "['1 3', '.#.']\n",
      "0 \n",
      "\n",
      "['3 3', '..#', '.#.', '#..']\n",
      "0 \n",
      "\n"
     ]
    }
   ],
   "source": [
    "example1 = ['2 5', '..#..', '....#']\n",
    "print(example1) \n",
    "print(solution(example1), '\\n')\n",
    "\n",
    "example2 = ['1 3', '.#.']\n",
    "print(example2) \n",
    "print(solution(example2), '\\n')\n",
    "\n",
    "example3 = ['3 3', '..#', '.#.', '#..']\n",
    "print(example3) \n",
    "print(solution(example3), '\\n')"
   ]
  },
  {
   "cell_type": "markdown",
   "id": "5e5eae7b-b110-4c16-8137-fe7e108be07b",
   "metadata": {},
   "source": [
    "## E1. Text: Pre-processing"
   ]
  },
  {
   "cell_type": "markdown",
   "id": "77e89690-6814-4b70-9a04-2175fd223183",
   "metadata": {},
   "source": [
    "To solve this problem you should submit **a result file** after processing an input file.\n",
    "\n",
    "You are given a file **article.txt**. Your task is to parse text:\n",
    "\n",
    "* split the text into sentences by the full stop symbol `'.'` (there's no need to remove the empty sentences after the splitting).\n",
    "* split the sentences into words (only latin alphabet letters), please replace all symbols other than latin alphabet letters with space.\n",
    "* change all uppercase letters to lowercase."
   ]
  },
  {
   "cell_type": "markdown",
   "id": "716da334-13c4-4cb1-9e3a-3f1ad9350375",
   "metadata": {},
   "source": [
    "### Input format"
   ]
  },
  {
   "cell_type": "markdown",
   "id": "647e4a65-59e2-4c05-8c27-75f395c375ac",
   "metadata": {},
   "source": [
    "The archive **data.zip** contains:\n",
    "\n",
    "* file **article.txt**, which should be processed,\n",
    "* files **sample.txt** and **sample.out**, which are small part of input and result provided for your convenience and demonstrating the format of both files."
   ]
  },
  {
   "cell_type": "markdown",
   "id": "46561d2d-5811-49ef-bd0e-77f680338413",
   "metadata": {},
   "source": [
    "### Output format"
   ]
  },
  {
   "cell_type": "markdown",
   "id": "678eb620-b1dc-4de2-a696-9ee1ba158d1f",
   "metadata": {},
   "source": [
    "The output file should contain the parsed sentences, each sentence on a separate line. The words in each sentence should be separated by single spaces. The should be no full stops at the ends of sentences."
   ]
  },
  {
   "cell_type": "markdown",
   "id": "aa2c51d0-fb05-4063-be39-fd561aa998d3",
   "metadata": {},
   "source": [
    "### Notes"
   ]
  },
  {
   "cell_type": "markdown",
   "id": "791b260e-874f-4698-9f09-0ba9a8a42426",
   "metadata": {},
   "source": [
    "Maximum points for question **E1**: **7** points.\n",
    "\n",
    "**Reminder:** You must select 2 out of 3 questions in programming section: Maze (D1-D3), Text (E1-E3), Titanic (F1-F3), and answer both selected questions as fully as possible."
   ]
  },
  {
   "cell_type": "code",
   "execution_count": 11,
   "id": "51e38fb2-93e9-453a-a7c4-3d202d912078",
   "metadata": {},
   "outputs": [],
   "source": [
    "# upload the input file\n",
    "\n",
    "with open('datasets/test1/E1/article.txt') as f:\n",
    "    article = f.read().splitlines()\n",
    "    \n",
    "f.close()"
   ]
  },
  {
   "cell_type": "code",
   "execution_count": 13,
   "id": "6c72d509-8f86-4fdc-9f0f-81c8ced27343",
   "metadata": {},
   "outputs": [
    {
     "data": {
      "text/plain": [
       "['Nigel Reuben Rook Williams (15 July 1944 – 21 April 1992) was an English conservator and expert on the restoration of ceramics and glass. From 1961 until his death he worked at the British Museum, where he became the Chief Conservator of Ceramics and Glass in 1983. There his work included the successful restorations of the Sutton Hoo helmet and the Portland Vase.',\n",
       " '',\n",
       " 'Joining as an assistant at age 16, Williams spent his entire career, and most of his life, at the British Museum. He was one of the first people to study conservation, not yet recognised as a profession, and from an early age was given responsibility over high-profile objects. In the 1960s he assisted with the re-excavation of the Sutton Hoo ship-burial, and in his early- to mid-twenties he conserved many of the objects found therein: most notably the Sutton Hoo helmet, which occupied a year of his time. He likewise reconstructed other objects from the find, including the shield, drinking horns, and maplewood bottles.',\n",
       " '']"
      ]
     },
     "execution_count": 13,
     "metadata": {},
     "output_type": "execute_result"
    }
   ],
   "source": [
    "# sample input/output\n",
    "\n",
    "with open('datasets/test1/E1/sample.txt') as f:\n",
    "    sample_in = f.read().splitlines() \n",
    "    \n",
    "f.close()\n",
    "\n",
    "sample_in"
   ]
  },
  {
   "cell_type": "code",
   "execution_count": 15,
   "id": "cb49bc8e-a3d9-4844-a10d-eff38c7e4e20",
   "metadata": {},
   "outputs": [
    {
     "data": {
      "text/plain": [
       "['nigel reuben rook williams july april was an english conservator and expert on the restoration of ceramics and glass',\n",
       " 'from until his death he worked at the british museum where he became the chief conservator of ceramics and glass in',\n",
       " 'there his work included the successful restorations of the sutton hoo helmet and the portland vase',\n",
       " 'joining as an assistant at age williams spent his entire career and most of his life at the british museum',\n",
       " 'he was one of the first people to study conservation not yet recognised as a profession and from an early age was given responsibility over high profile objects',\n",
       " 'in the s he assisted with the re excavation of the sutton hoo ship burial and in his early to mid twenties he conserved many of the objects found therein most notably the sutton hoo helmet which occupied a year of his time',\n",
       " 'he likewise reconstructed other objects from the find including the shield drinking horns and maplewood bottles']"
      ]
     },
     "execution_count": 15,
     "metadata": {},
     "output_type": "execute_result"
    }
   ],
   "source": [
    "with open('datasets/test1/E1/sample.out') as f:\n",
    "    sample_out = f.read().splitlines() \n",
    "    \n",
    "f.close()\n",
    "\n",
    "sample_out"
   ]
  },
  {
   "cell_type": "markdown",
   "id": "63bb334d-3efc-4d9f-8da0-339a9d2a4b3b",
   "metadata": {},
   "source": [
    "## E2. Text: N-grams"
   ]
  },
  {
   "cell_type": "markdown",
   "id": "e9097c1f-a5bb-4edf-8a68-7979af5a5602",
   "metadata": {},
   "source": [
    "To solve this problem you should submit **a source ﬁle**.\n",
    "\n",
    "Your program should use **the correct result of the previous problem (E1)** as an input.\n",
    "\n",
    "You should delete from each sentence all stop words **’a’, ’the’, ’of’, ’at’, ’in’, ’and’, ’to’** (for this problem), and ﬁnd the most frequent word, 2-gram (two consecutive words) and 3-gram (three consecutive words).\n",
    "\n",
    "**Note:** Look at https://en.wikipedia.org/wiki/N-gram for clariﬁcation."
   ]
  },
  {
   "cell_type": "markdown",
   "id": "7baae969-1ead-49ab-b180-ddc416a4f4d3",
   "metadata": {},
   "source": [
    "### Input format"
   ]
  },
  {
   "cell_type": "markdown",
   "id": "6154d8d4-485e-460f-b028-ba21b5290427",
   "metadata": {},
   "source": [
    "Sentences one per line, all words are separated by single spaces and lowercased.\n",
    "The archive **data.zip** contains:\n",
    "\n",
    "* ﬁles **sample.txt** and **sample.out**, which are small part of input and result ﬁles in the correct format provided for your convenience."
   ]
  },
  {
   "cell_type": "markdown",
   "id": "20ac96f3-5903-4ae6-8fe1-3b11b80efa54",
   "metadata": {},
   "source": [
    "### Output format"
   ]
  },
  {
   "cell_type": "markdown",
   "id": "18611322-a78e-49e6-a812-22aa07987866",
   "metadata": {},
   "source": [
    "Print three lines:\n",
    "\n",
    "* The most frequent word in the article.\n",
    "* The most frequent 2-gram in the article.\n",
    "* The most frequent 3-gram in the article.\n",
    "\n",
    "It is guaranteed that there is only one possible answer."
   ]
  },
  {
   "cell_type": "markdown",
   "id": "c4f23e7a-fe72-4916-b0ed-f0c566de1819",
   "metadata": {},
   "source": [
    "### Notes"
   ]
  },
  {
   "cell_type": "markdown",
   "id": "915c26f5-e189-44a1-a99e-ec45f985ee37",
   "metadata": {},
   "source": [
    "Maximum points for question **E2**: **10** points.\n",
    "\n",
    "**Reminder:** You must select 2 out of 3 questions in programming section: Maze (D1-D3), Text (E1-E3), Titanic (F1-F3), and answer both selected questions as fully as possible."
   ]
  },
  {
   "cell_type": "code",
   "execution_count": 17,
   "id": "083cf1f9-e620-438d-94ef-b008a06ddf23",
   "metadata": {},
   "outputs": [],
   "source": [
    "# upload the input file\n",
    "\n",
    "with open('datasets/test1/E2/article.out') as f:\n",
    "    article = f.read().splitlines()\n",
    "    \n",
    "f.close()"
   ]
  },
  {
   "cell_type": "code",
   "execution_count": 19,
   "id": "e7419c54-6eb4-4552-b6dd-a50ff8681fd9",
   "metadata": {},
   "outputs": [
    {
     "data": {
      "text/plain": [
       "['nigel reuben rook williams july april was an english conservator and expert on the restoration of ceramics and glass',\n",
       " 'from until his death he worked at the british museum where he became the chief conservator of ceramics and glass in',\n",
       " 'there his work included the successful restorations of the sutton hoo helmet and the portland vase',\n",
       " 'joining as an assistant at age williams spent his entire career and most of his life at the british museum',\n",
       " 'he was one of the first people to study conservation not yet recognised as a profession and from an early age was given responsibility over high profile objects',\n",
       " 'in the s he assisted with the re excavation of the sutton hoo ship burial and in his early to mid twenties he conserved many of the objects found therein most notably the sutton hoo helmet which occupied a year of his time']"
      ]
     },
     "execution_count": 19,
     "metadata": {},
     "output_type": "execute_result"
    }
   ],
   "source": [
    "# sample input/output\n",
    "\n",
    "with open('datasets/test1/E2/sample.txt') as f:\n",
    "    sample_in = f.read().splitlines()\n",
    "    \n",
    "f.close()\n",
    "\n",
    "sample_in"
   ]
  },
  {
   "cell_type": "code",
   "execution_count": 21,
   "id": "95c5d187-9f2d-4998-af07-9cd842153670",
   "metadata": {},
   "outputs": [
    {
     "data": {
      "text/plain": [
       "['his', 'sutton hoo', 'sutton hoo helmet']"
      ]
     },
     "execution_count": 21,
     "metadata": {},
     "output_type": "execute_result"
    }
   ],
   "source": [
    "with open('datasets/test1/E2/sample.out') as f:\n",
    "    sample_out = f.read().splitlines()  \n",
    "    \n",
    "f.close()\n",
    "\n",
    "sample_out"
   ]
  },
  {
   "cell_type": "markdown",
   "id": "45a783f7-d939-4562-b078-61ce23aaaa6b",
   "metadata": {},
   "source": [
    "## E3. Text: Word Statistics"
   ]
  },
  {
   "cell_type": "markdown",
   "id": "264efa5e-b1b8-40d1-9123-7c4271bacde3",
   "metadata": {},
   "source": [
    "To solve this problem you should submit **a source ﬁle**.\n",
    "\n",
    "Your program should use **the correct result of the previous problem (E1)** as an input. You should delete from each sentence all stop words **’a’, ’the’, ’of’, ’at’, ’in’, ’and’, ’to’** (for this problem), and ﬁnd two statistics for each word $w$ that occurs at least once in the ﬁle:\n",
    "* number of sentences which contains word $w$;\n",
    "* an average length (a number of words) of sentence containing word $w$ (if some sentence contains $w$ more than once it should be counted once)."
   ]
  },
  {
   "cell_type": "markdown",
   "id": "0710fc59-a082-4074-9c1a-ea94f13e39ac",
   "metadata": {},
   "source": [
    "### Input format"
   ]
  },
  {
   "cell_type": "markdown",
   "id": "72b51ee9-0b49-4c02-a6ff-c1ff339a83d4",
   "metadata": {},
   "source": [
    "Sentences one per line, all words are separeted by single spaces and lowercased.\n",
    "The archive **data.zip** contains:\n",
    "\n",
    "* ﬁles **sample.txt** and **sample.out**, which are small part of input and result ﬁles."
   ]
  },
  {
   "cell_type": "markdown",
   "id": "5af95203-467b-42de-badc-f5f625076f2e",
   "metadata": {},
   "source": [
    "### Output format"
   ]
  },
  {
   "cell_type": "markdown",
   "id": "4c00739f-537d-4a1b-aafe-78cb81744789",
   "metadata": {},
   "source": [
    "Print several lines (one line per word, separate items with single space):\n",
    "\n",
    "* Word from the input ﬁle.\n",
    "* Number of sentences.\n",
    "* Average length of the sentence (round the result value to **3 digits after the decimal point**.).\n",
    "\n",
    "Words can be listed in arbitrary order."
   ]
  },
  {
   "cell_type": "markdown",
   "id": "b7051f11-1704-4892-b3ad-722b49925d6c",
   "metadata": {},
   "source": [
    "### Notes"
   ]
  },
  {
   "cell_type": "markdown",
   "id": "9fa30d35-b47d-4f7c-a6f8-b55e61365627",
   "metadata": {},
   "source": [
    "Maximum points for question **E3**: **13** points.\n",
    "\n",
    "**Reminder:** You must select 2 out of 3 questions in programming section: Maze (D1-D3), Text (E1-E3), Titanic (F1-F3), and answer both selected questions as fully as possible."
   ]
  },
  {
   "cell_type": "code",
   "execution_count": 23,
   "id": "7c4bae86-7c9c-46fb-a2e6-d4be1faadaa6",
   "metadata": {},
   "outputs": [],
   "source": [
    "# upload the input file\n",
    "    \n",
    "with open('datasets/test1/E3/article.out') as f:\n",
    "    article = f.read().splitlines()  \n",
    "    \n",
    "f.close()"
   ]
  },
  {
   "cell_type": "code",
   "execution_count": 25,
   "id": "047e5a7d-3814-4d85-9c06-e5a3365835f6",
   "metadata": {},
   "outputs": [
    {
     "data": {
      "text/plain": [
       "['nigel reuben rook williams july april was an english conservator and expert on the restoration of ceramics and glass',\n",
       " 'from until his death he worked at the british museum where he became the chief conservator of ceramics and glass in',\n",
       " 'there his work included the successful restorations of the sutton hoo helmet and the portland vase',\n",
       " 'joining as an assistant at age williams spent his entire career and most of his life at the british museum',\n",
       " 'he was one of the first people to study conservation not yet recognised as a profession and from an early age was given responsibility over high profile objects',\n",
       " 'in the s he assisted with the re excavation of the sutton hoo ship burial and in his early to mid twenties he conserved many of the objects found therein most notably the sutton hoo helmet which occupied a year of his time']"
      ]
     },
     "execution_count": 25,
     "metadata": {},
     "output_type": "execute_result"
    }
   ],
   "source": [
    "# sample input/output\n",
    "\n",
    "with open('datasets/test1/E3/sample.txt') as f:\n",
    "    sample_in = f.read().splitlines() \n",
    "\n",
    "f.close()\n",
    "\n",
    "sample_in"
   ]
  },
  {
   "cell_type": "code",
   "execution_count": 27,
   "id": "66248688-ad1a-42c6-8385-869ac888224f",
   "metadata": {},
   "outputs": [
    {
     "data": {
      "text/plain": [
       "['therein 1 30.0',\n",
       " 'burial 1 30.0',\n",
       " 'nigel 1 15.0',\n",
       " 'objects 2 26.5',\n",
       " 'people 1 23.0',\n",
       " 'excavation 1 30.0',\n",
       " 'over 1 23.0',\n",
       " 'profession 1 23.0',\n",
       " 'an 3 17.667',\n",
       " 'high 1 23.0',\n",
       " 'not 1 23.0',\n",
       " 'as 2 19.0',\n",
       " 'year 1 30.0',\n",
       " 'portland 1 11.0',\n",
       " 'occupied 1 30.0',\n",
       " 'worked 1 15.0',\n",
       " 'helmet 2 20.5',\n",
       " 'given 1 23.0',\n",
       " 'death 1 15.0',\n",
       " 'from 2 19.0',\n",
       " 'expert 1 15.0',\n",
       " 'entire 1 15.0',\n",
       " 'hoo 2 20.5',\n",
       " 'museum 2 15.0',\n",
       " 'there 1 11.0',\n",
       " 'reuben 1 15.0',\n",
       " 'yet 1 23.0',\n",
       " 'notably 1 30.0',\n",
       " 're 1 30.0',\n",
       " 'recognised 1 23.0',\n",
       " 'which 1 30.0',\n",
       " 'assisted 1 30.0',\n",
       " 'conservation 1 23.0',\n",
       " 'he 3 22.667',\n",
       " 'was 2 19.0',\n",
       " 'until 1 15.0',\n",
       " 'williams 2 15.0',\n",
       " 'profile 1 23.0',\n",
       " 'life 1 15.0',\n",
       " 'his 4 17.75',\n",
       " 'mid 1 30.0',\n",
       " 'sutton 2 20.5',\n",
       " 'successful 1 11.0',\n",
       " 'assistant 1 15.0',\n",
       " 'restorations 1 11.0',\n",
       " 'ship 1 30.0',\n",
       " 'vase 1 11.0',\n",
       " 'early 2 26.5',\n",
       " 'glass 2 15.0',\n",
       " 'restoration 1 15.0',\n",
       " 'conservator 2 15.0',\n",
       " 'included 1 11.0',\n",
       " 'twenties 1 30.0',\n",
       " 'july 1 15.0',\n",
       " 'one 1 23.0',\n",
       " 'with 1 30.0',\n",
       " 'conserved 1 30.0',\n",
       " 'ceramics 2 15.0',\n",
       " 'on 1 15.0',\n",
       " 'rook 1 15.0',\n",
       " 'most 2 22.5',\n",
       " 'career 1 15.0',\n",
       " 'many 1 30.0',\n",
       " 'age 2 19.0',\n",
       " 'work 1 11.0',\n",
       " 'spent 1 15.0',\n",
       " 'british 2 15.0',\n",
       " 'april 1 15.0',\n",
       " 'chief 1 15.0',\n",
       " 'became 1 15.0',\n",
       " 'responsibility 1 23.0',\n",
       " 'time 1 30.0',\n",
       " 'english 1 15.0',\n",
       " 'found 1 30.0',\n",
       " 's 1 30.0',\n",
       " 'first 1 23.0',\n",
       " 'where 1 15.0',\n",
       " 'study 1 23.0',\n",
       " 'joining 1 15.0']"
      ]
     },
     "execution_count": 27,
     "metadata": {},
     "output_type": "execute_result"
    }
   ],
   "source": [
    "with open('datasets/test1/E3/sample.out') as f:\n",
    "    sample_out = f.read().splitlines() \n",
    "    \n",
    "f.close()\n",
    "\n",
    "sample_out"
   ]
  },
  {
   "cell_type": "markdown",
   "id": "0a948750-9635-49a1-9c5e-1627c285b5a0",
   "metadata": {},
   "source": [
    "## F1. Titanic: Clean data"
   ]
  },
  {
   "cell_type": "markdown",
   "id": "dde4c344-3734-4708-9b46-ec9b897cbfd9",
   "metadata": {},
   "source": [
    "To solve this problem you should submit **a result csv-ﬁle** after processing an input ﬁle.\n",
    "\n",
    "You are given a ﬁle **titanic.csv**."
   ]
  },
  {
   "cell_type": "markdown",
   "id": "c2bff324-3c13-471f-82b1-af0b171efcaf",
   "metadata": {},
   "source": [
    "Data dictionary:"
   ]
  },
  {
   "cell_type": "markdown",
   "id": "317af7f4-ed41-4879-9490-6bfcd423d53f",
   "metadata": {},
   "source": [
    "|Variable| Definition| Key|\n",
    "| :- | -: | -: |\n",
    "|survival| Survival| 0 = No, 1 = Yes|\n",
    "|pclass|  Ticket class|  1 = 1st, 2 = 2nd, 3 = 3rd|\n",
    "|name|  Name |\n",
    "|sex| Sex  |\n",
    "|Age| Age in years|\n",
    "|sibsp| # of siblings / spouses aboard  |\n",
    "|parch|  # of parents / children aboard  |\n",
    "|ticket| Ticket number  |\n",
    "|fare | Passenger fare  |\n",
    "|cabin| Cabin number  |\n",
    "|embarked|    Port of Embarkation | C = Cherbourg|\n",
    "| | | Q = Queenstown|\n",
    "| | | S = Southampton |"
   ]
  },
  {
   "cell_type": "markdown",
   "id": "2dd49f3c-ad94-4d5d-a3af-6789be1cb8d6",
   "metadata": {},
   "source": [
    "Update this ﬁle by next operations:\n",
    "\n",
    "* remove column `ticket`\n",
    "* remove column `cabin`\n",
    "* update rows without value of `Age` with the average age among all existing age values, round the average value to 2 decimal digits."
   ]
  },
  {
   "cell_type": "markdown",
   "id": "5f3a6f3a-4a0f-4512-8d1a-4ef3736dd62a",
   "metadata": {},
   "source": [
    "### Output format"
   ]
  },
  {
   "cell_type": "markdown",
   "id": "f0e3c7b9-918c-460b-abbb-44c154353c4e",
   "metadata": {},
   "source": [
    "Submit the resulting csv-ﬁle. Do not reorder columns or rows in the ﬁle."
   ]
  },
  {
   "cell_type": "markdown",
   "id": "522067bc-44a2-4417-9b44-3fefec6d0715",
   "metadata": {},
   "source": [
    "### Notes"
   ]
  },
  {
   "cell_type": "markdown",
   "id": "01ca0ec7-e2d7-4602-80b6-33f784e7a4da",
   "metadata": {},
   "source": [
    "Maximum points for question **F1**: **7** points.\n",
    "\n",
    "**Reminder:** You must select 2 out of 3 questions in programming section: Maze (D1-D3), Text (E1-E3), Titanic (F1-F3), and answer both selected questions as fully as possible."
   ]
  },
  {
   "cell_type": "code",
   "execution_count": 29,
   "id": "1617e43e-10fa-4739-ae58-e966dfe8969a",
   "metadata": {},
   "outputs": [
    {
     "data": {
      "text/html": [
       "<div>\n",
       "<style scoped>\n",
       "    .dataframe tbody tr th:only-of-type {\n",
       "        vertical-align: middle;\n",
       "    }\n",
       "\n",
       "    .dataframe tbody tr th {\n",
       "        vertical-align: top;\n",
       "    }\n",
       "\n",
       "    .dataframe thead th {\n",
       "        text-align: right;\n",
       "    }\n",
       "</style>\n",
       "<table border=\"1\" class=\"dataframe\">\n",
       "  <thead>\n",
       "    <tr style=\"text-align: right;\">\n",
       "      <th></th>\n",
       "      <th>PassengerId</th>\n",
       "      <th>Survived</th>\n",
       "      <th>Pclass</th>\n",
       "      <th>Name</th>\n",
       "      <th>Sex</th>\n",
       "      <th>Age</th>\n",
       "      <th>SibSp</th>\n",
       "      <th>Parch</th>\n",
       "      <th>Ticket</th>\n",
       "      <th>Fare</th>\n",
       "      <th>Cabin</th>\n",
       "      <th>Embarked</th>\n",
       "    </tr>\n",
       "  </thead>\n",
       "  <tbody>\n",
       "    <tr>\n",
       "      <th>0</th>\n",
       "      <td>1</td>\n",
       "      <td>0</td>\n",
       "      <td>3</td>\n",
       "      <td>Braund, Mr. Owen Harris</td>\n",
       "      <td>male</td>\n",
       "      <td>22.0</td>\n",
       "      <td>1</td>\n",
       "      <td>0</td>\n",
       "      <td>A/5 21171</td>\n",
       "      <td>7.2500</td>\n",
       "      <td>NaN</td>\n",
       "      <td>S</td>\n",
       "    </tr>\n",
       "    <tr>\n",
       "      <th>1</th>\n",
       "      <td>2</td>\n",
       "      <td>1</td>\n",
       "      <td>1</td>\n",
       "      <td>Cumings, Mrs. John Bradley (Florence Briggs Th...</td>\n",
       "      <td>female</td>\n",
       "      <td>38.0</td>\n",
       "      <td>1</td>\n",
       "      <td>0</td>\n",
       "      <td>PC 17599</td>\n",
       "      <td>71.2833</td>\n",
       "      <td>C85</td>\n",
       "      <td>C</td>\n",
       "    </tr>\n",
       "    <tr>\n",
       "      <th>2</th>\n",
       "      <td>3</td>\n",
       "      <td>1</td>\n",
       "      <td>3</td>\n",
       "      <td>Heikkinen, Miss. Laina</td>\n",
       "      <td>female</td>\n",
       "      <td>26.0</td>\n",
       "      <td>0</td>\n",
       "      <td>0</td>\n",
       "      <td>STON/O2. 3101282</td>\n",
       "      <td>7.9250</td>\n",
       "      <td>NaN</td>\n",
       "      <td>S</td>\n",
       "    </tr>\n",
       "    <tr>\n",
       "      <th>3</th>\n",
       "      <td>4</td>\n",
       "      <td>1</td>\n",
       "      <td>1</td>\n",
       "      <td>Futrelle, Mrs. Jacques Heath (Lily May Peel)</td>\n",
       "      <td>female</td>\n",
       "      <td>35.0</td>\n",
       "      <td>1</td>\n",
       "      <td>0</td>\n",
       "      <td>113803</td>\n",
       "      <td>53.1000</td>\n",
       "      <td>C123</td>\n",
       "      <td>S</td>\n",
       "    </tr>\n",
       "    <tr>\n",
       "      <th>4</th>\n",
       "      <td>5</td>\n",
       "      <td>0</td>\n",
       "      <td>3</td>\n",
       "      <td>Allen, Mr. William Henry</td>\n",
       "      <td>male</td>\n",
       "      <td>35.0</td>\n",
       "      <td>0</td>\n",
       "      <td>0</td>\n",
       "      <td>373450</td>\n",
       "      <td>8.0500</td>\n",
       "      <td>NaN</td>\n",
       "      <td>S</td>\n",
       "    </tr>\n",
       "  </tbody>\n",
       "</table>\n",
       "</div>"
      ],
      "text/plain": [
       "   PassengerId  Survived  Pclass  \\\n",
       "0            1         0       3   \n",
       "1            2         1       1   \n",
       "2            3         1       3   \n",
       "3            4         1       1   \n",
       "4            5         0       3   \n",
       "\n",
       "                                                Name     Sex   Age  SibSp  \\\n",
       "0                            Braund, Mr. Owen Harris    male  22.0      1   \n",
       "1  Cumings, Mrs. John Bradley (Florence Briggs Th...  female  38.0      1   \n",
       "2                             Heikkinen, Miss. Laina  female  26.0      0   \n",
       "3       Futrelle, Mrs. Jacques Heath (Lily May Peel)  female  35.0      1   \n",
       "4                           Allen, Mr. William Henry    male  35.0      0   \n",
       "\n",
       "   Parch            Ticket     Fare Cabin Embarked  \n",
       "0      0         A/5 21171   7.2500   NaN        S  \n",
       "1      0          PC 17599  71.2833   C85        C  \n",
       "2      0  STON/O2. 3101282   7.9250   NaN        S  \n",
       "3      0            113803  53.1000  C123        S  \n",
       "4      0            373450   8.0500   NaN        S  "
      ]
     },
     "execution_count": 29,
     "metadata": {},
     "output_type": "execute_result"
    }
   ],
   "source": [
    "import pandas as pd\n",
    "\n",
    "data = pd.read_csv('datasets/test1/F1/titanic.csv')\n",
    "data.head()"
   ]
  },
  {
   "cell_type": "markdown",
   "id": "3c175239-48ea-451e-bb1f-4c914671424d",
   "metadata": {},
   "source": [
    "## F2. Titanic: Similarity"
   ]
  },
  {
   "cell_type": "markdown",
   "id": "3e9317eb-3b22-457b-9be7-a75f4bb90610",
   "metadata": {},
   "source": [
    "In this problem you need to upload **a source ﬁle** solving the following problem. Your program should use **the correct result of the previous problem (F1)** as an input.\n",
    "\n",
    "Implement function `similarity` from the pseudocode and print the result of this function for some passenger pairs."
   ]
  },
  {
   "cell_type": "markdown",
   "id": "d612d69f-f210-4556-9a78-4ff55e2dc3ac",
   "metadata": {},
   "source": [
    "```\n",
    "function similarity(passenger_a, passenger_b):  \n",
    "    result = 0  \n",
    "    if passenger_a.pclass = passenger_b.pclass:  \n",
    "        result += 1  \n",
    "    if passenger_a.sex = passenger_b.sex:  \n",
    "        result += 3  \n",
    "    if passenger_a.sibsp = passenger_b.sibsp:  \n",
    "        result += 1  \n",
    "    if passenger_a.parch = passenger_b.parch:  \n",
    "        result += 1  \n",
    "    result += max(0, 2 - abs(passenger_a.age - passenger_b.age) / 10.0)  \n",
    "    result += max(0, 2 - abs(passenger_a.fare - passenger_b.fare) / 5.0)  \n",
    "    return result / 10.0\n",
    "```"
   ]
  },
  {
   "cell_type": "markdown",
   "id": "caddda71-ab25-4b65-a338-7500b81ba7ba",
   "metadata": {},
   "source": [
    "### Input format"
   ]
  },
  {
   "cell_type": "markdown",
   "id": "58c9b1ad-fe1d-431b-9330-003241334161",
   "metadata": {},
   "source": [
    "The ﬁrst line of the input contains one integer $q$ ($1≤q≤100$), a number of queries. It is followed by $q$ lines containing each two integers $id_1$ and $id_2$ ($1≤id_1≤891$, $1≤id_2≤891$), corresponding to the $id$ of two passengers to be compared."
   ]
  },
  {
   "cell_type": "markdown",
   "id": "5f2ddb3c-eb39-4c17-b527-b32801d97144",
   "metadata": {},
   "source": [
    "### Output format"
   ]
  },
  {
   "cell_type": "markdown",
   "id": "5b6ae931-e79c-4beb-8000-493f985f1b11",
   "metadata": {},
   "source": [
    "Output exactly $q$  lines. In the $i$-th one print the result of $i$-th query. Round the result value to **2 digits after the decimal point**."
   ]
  },
  {
   "cell_type": "markdown",
   "id": "edd7557d-ded8-4e58-b829-988e91268580",
   "metadata": {},
   "source": [
    "#### Sample"
   ]
  },
  {
   "cell_type": "markdown",
   "id": "015eddce-5fbe-4299-8b37-f9d64f1e55e6",
   "metadata": {},
   "source": [
    "|Input| Output|\n",
    "| :- | :-|\n",
    "|2| |\n",
    "|1 1| 1.0|\n",
    "|1 2| 0.24|"
   ]
  },
  {
   "cell_type": "markdown",
   "id": "70752b6f-38c8-4bd2-ad4e-148d6cf29c71",
   "metadata": {},
   "source": [
    "### Notes"
   ]
  },
  {
   "cell_type": "markdown",
   "id": "2b41f87d-e189-456a-9d9d-e3aba59a1c11",
   "metadata": {},
   "source": [
    "Maximum points for question **F2**: **10** points.\n",
    "\n",
    "**Reminder:** You must select 2 out of 3 questions in programming section: Maze (D1-D3), Text (E1-E3), Titanic (F1-F3), and answer both selected questions as fully as possible."
   ]
  },
  {
   "cell_type": "code",
   "execution_count": 32,
   "id": "0a75e64d-061d-4a88-bd85-61ca93a3fa56",
   "metadata": {},
   "outputs": [
    {
     "data": {
      "text/plain": [
       "['2', '1 1', '1 2']"
      ]
     },
     "execution_count": 32,
     "metadata": {},
     "output_type": "execute_result"
    }
   ],
   "source": [
    "# upload the input file\n",
    "\n",
    "with open('datasets/test1/F2/01') as f:\n",
    "    data_in = f.read().splitlines() \n",
    "    \n",
    "f.close()\n",
    "\n",
    "data_in"
   ]
  },
  {
   "cell_type": "code",
   "execution_count": 34,
   "id": "21b6809d-a8c7-405b-90d2-10964353bc6f",
   "metadata": {},
   "outputs": [
    {
     "data": {
      "text/plain": [
       "['1.0', '0.24']"
      ]
     },
     "execution_count": 34,
     "metadata": {},
     "output_type": "execute_result"
    }
   ],
   "source": [
    "# upload the output file\n",
    "\n",
    "with open('datasets/test1/F2/01.a') as f:\n",
    "    data_out = f.read().splitlines() \n",
    "    \n",
    "f.close()\n",
    "\n",
    "data_out"
   ]
  },
  {
   "cell_type": "markdown",
   "id": "3fff595d-2908-48c2-8e2a-4d17ed4363fb",
   "metadata": {},
   "source": [
    "## F3. Titanic: Neighbour"
   ]
  },
  {
   "cell_type": "markdown",
   "id": "8b2b9745-f5e4-4197-9b53-94da1051cef1",
   "metadata": {},
   "source": [
    "In this problem you need to upload **a source ﬁle** solving the following problem. Your program should use **the correct result of the previous problem (F1)** as an input.\n",
    "\n",
    "Given a passenger’s ID you need to ﬁnd another passenger such that the result of similarity function described in F2 reaches maximal value.\n",
    "\n",
    "**Note!** Please round up to **2 decimal digits** before comparing results of `similarity` function."
   ]
  },
  {
   "cell_type": "markdown",
   "id": "502ee5ea-b296-4ac0-8b7e-1bf621f0242a",
   "metadata": {},
   "source": [
    "### Input format"
   ]
  },
  {
   "cell_type": "markdown",
   "id": "44e6a7ba-764c-4b3c-8fbe-309a800e99c9",
   "metadata": {},
   "source": [
    "The ﬁrst line of the input contains one integer $q$ ($1≤q≤100$), a number of queries. It is followed by $q$ lines containing each one integer $id$ ($1≤ID≤891$), corresponding to the $id$  of the target passenger."
   ]
  },
  {
   "cell_type": "markdown",
   "id": "ffcd84e7-dc22-4200-9e93-44a7adcd563e",
   "metadata": {},
   "source": [
    "### Output format"
   ]
  },
  {
   "cell_type": "markdown",
   "id": "19f20eb8-2715-4089-b1af-02196431d9bc",
   "metadata": {},
   "source": [
    "Output exactly $q$ lines. In the $i$-th one print the $id$ of the passenger most *similar* to the one from the $i$-th query.\n",
    "\n",
    "If there are several applicants of the same similarity, then choose one the minimal $ID$."
   ]
  },
  {
   "cell_type": "markdown",
   "id": "9962041e-4ea6-4d41-9c14-1e964a0a36a2",
   "metadata": {},
   "source": [
    "#### Sample"
   ]
  },
  {
   "cell_type": "markdown",
   "id": "d1d717a1-0ac7-40fa-bb8d-3e7666cccdec",
   "metadata": {},
   "source": [
    "|Input| Output|\n",
    "| :- | :-|\n",
    "|3 | |\n",
    "|1 | 665 |\n",
    "|891 | 383 |\n",
    "|500 | 295 |"
   ]
  },
  {
   "cell_type": "markdown",
   "id": "763b4ee1-b152-49ee-b9d4-15be45f16741",
   "metadata": {},
   "source": [
    "### Notes"
   ]
  },
  {
   "cell_type": "markdown",
   "id": "1145019a-1df1-4fae-ad32-b07f1e6e3171",
   "metadata": {},
   "source": [
    "Maximum points for question **F3**: **13** points.\n",
    "\n",
    "**Reminder:** You must select 2 out of 3 questions in programming section: Maze (D1-D3), Text (E1-E3), Titanic (F1-F3), and answer both selected questions as fully as possible."
   ]
  },
  {
   "cell_type": "code",
   "execution_count": 36,
   "id": "dc1a1260-376c-41d8-99a7-d627beada0ef",
   "metadata": {},
   "outputs": [
    {
     "data": {
      "text/plain": [
       "['3', '1', '891', '500']"
      ]
     },
     "execution_count": 36,
     "metadata": {},
     "output_type": "execute_result"
    }
   ],
   "source": [
    "# upload the input file\n",
    "\n",
    "with open('datasets/test1/F3/01') as f:\n",
    "    data_in = f.read().splitlines() \n",
    "    \n",
    "f.close()\n",
    "\n",
    "data_in"
   ]
  },
  {
   "cell_type": "code",
   "execution_count": 38,
   "id": "7af6c1d8-13f9-419d-b09e-3fa2ed54fc0f",
   "metadata": {},
   "outputs": [
    {
     "data": {
      "text/plain": [
       "['665', '383', '295']"
      ]
     },
     "execution_count": 38,
     "metadata": {},
     "output_type": "execute_result"
    }
   ],
   "source": [
    "# upload the output file\n",
    "\n",
    "with open('datasets/test1/F3/01.a') as f:\n",
    "    data_out = f.read().splitlines() \n",
    "    \n",
    "f.close()\n",
    "\n",
    "data_out"
   ]
  }
 ],
 "metadata": {
  "kernelspec": {
   "display_name": "Python 3 (ipykernel)",
   "language": "python",
   "name": "python3"
  },
  "language_info": {
   "codemirror_mode": {
    "name": "ipython",
    "version": 3
   },
   "file_extension": ".py",
   "mimetype": "text/x-python",
   "name": "python",
   "nbconvert_exporter": "python",
   "pygments_lexer": "ipython3",
   "version": "3.12.7"
  }
 },
 "nbformat": 4,
 "nbformat_minor": 5
}
