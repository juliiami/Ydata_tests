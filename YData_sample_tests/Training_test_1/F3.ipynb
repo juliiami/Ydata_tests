{
 "cells": [
  {
   "cell_type": "markdown",
   "id": "88373538-5b22-4fff-b61c-8a85cbeb70cd",
   "metadata": {},
   "source": [
    "## F3. Titanic: Neighbour\n",
    "\n",
    "In this problem you need to upload **a source ﬁle** solving the following problem. Your program should use **the correct result of the previous problem (F1)** as an input.\n",
    "\n",
    "Given a passenger’s ID you need to ﬁnd another passenger such that the result of similarity function described in F2 reaches maximal value.\n",
    "\n",
    "**Note!** Please round up to **2 decimal digits** before comparing results of `similarity` function.\n",
    "\n",
    "### Input format\n",
    "\n",
    "The ﬁrst line of the input contains one integer $q$ ($1≤q≤100$), a number of queries. It is followed by $q$ lines containing each one integer $id$ ($1≤ID≤891$), corresponding to the $id$  of the target passenger.\n",
    "\n",
    "### Output format\n",
    "\n",
    "Output exactly $q$ lines. In the $i$-th one print the $id$ of the passenger most *similar* to the one from the $i$-th query.\n",
    "\n",
    "If there are several applicants of the same similarity, then choose one the minimal $ID$.\n",
    "\n",
    "#### Sample"
   ]
  },
  {
   "cell_type": "markdown",
   "id": "a56a9d28-b409-468b-b11c-097e198a24d2",
   "metadata": {},
   "source": [
    "<style type=\"text/css\">\n",
    ".tg  {border-collapse:collapse;border-spacing:0;}\n",
    ".tg td{border-color:black;border-style:solid;border-width:1px;font-family:Arial, sans-serif;font-size:14px;\n",
    "  overflow:hidden;padding:10px 5px;word-break:normal;}\n",
    ".tg th{border-color:black;border-style:solid;border-width:1px;font-family:Arial, sans-serif;font-size:14px;\n",
    "  font-weight:normal;overflow:hidden;padding:10px 5px;word-break:normal;}\n",
    ".tg .tg-613o{background-color:#FFF;border-color:inherit;color:rgba(0, 0, 0, 0.87);text-align:left;vertical-align:middle}\n",
    ".tg .tg-lsmd{background-color:#F5F5F5;border-color:inherit;color:rgba(0, 0, 0, 0.87);text-align:left;vertical-align:middle}\n",
    ".tg .tg-aahv{background-color:#E1F5FE;color:rgba(0, 0, 0, 0.87);text-align:left;vertical-align:middle}\n",
    ".tg .tg-66kb{background-color:#FFF;border-color:inherit;color:rgba(0, 0, 0, 0.87);font-weight:bold;text-align:left;\n",
    "  vertical-align:middle}\n",
    "</style>\n",
    "<table class=\"tg\"><thead>\n",
    "  <tr>\n",
    "    <th class=\"tg-66kb\"><span style=\"font-weight:bold\">Input</span></th>\n",
    "    <th class=\"tg-66kb\"><span style=\"font-weight:bold\">Output</span></th>\n",
    "  </tr></thead>\n",
    "<tbody>\n",
    "  <tr>\n",
    "    <td class=\"tg-613o\">3</td>\n",
    "    <td class=\"tg-613o\"></td>\n",
    "  </tr>\n",
    "  <tr>\n",
    "    <td class=\"tg-lsmd\">1</td>\n",
    "    <td class=\"tg-lsmd\">665</td>\n",
    "  </tr>\n",
    "  <tr>\n",
    "    <td class=\"tg-613o\">891</td>\n",
    "    <td class=\"tg-613o\">383</td>\n",
    "  </tr>\n",
    "  <tr>\n",
    "    <td class=\"tg-aahv\">500</td>\n",
    "    <td class=\"tg-aahv\">295</td>\n",
    "  </tr>\n",
    "</tbody>\n",
    "</table>"
   ]
  },
  {
   "cell_type": "markdown",
   "id": "56cb0494-9437-4647-957c-9e7ddef8cba8",
   "metadata": {},
   "source": [
    "### Notes\n",
    "\n",
    "Maximum points for question **F3**: **13** points.\n",
    "\n",
    "**Reminder:** You must select 2 out of 3 questions in programming section: Maze (D1-D3), Text (E1-E3), Titanic (F1-F3), and answer both selected questions as fully as possible."
   ]
  },
  {
   "cell_type": "code",
   "execution_count": null,
   "id": "2348d940-1d8c-4c38-b776-147a3e093e28",
   "metadata": {},
   "outputs": [],
   "source": [
    "### Initial candidate answer code"
   ]
  },
  {
   "cell_type": "code",
   "execution_count": null,
   "id": "d5516a0f-81c9-47c5-abdd-7e6e7a788aae",
   "metadata": {},
   "outputs": [],
   "source": [
    "# Use print(\"Debug messages...\") to debug your solution.\n",
    "\n",
    "def solution(inp):\n",
    "    # Your code goes here\n",
    "    return []"
   ]
  },
  {
   "cell_type": "code",
   "execution_count": null,
   "id": "e3ae9ae8-291a-4750-b684-a3099601bd31",
   "metadata": {},
   "outputs": [],
   "source": [
    "### Initial candidate test code"
   ]
  },
  {
   "cell_type": "code",
   "execution_count": null,
   "id": "163ec8dd-22f4-4465-9456-a29b5a601c03",
   "metadata": {},
   "outputs": [],
   "source": [
    "import pandas as pd\n",
    "\n",
    "df = pd.read_csv('./datasets/F3/titanic.csv')\n",
    "print(df.head())\n",
    "\n",
    "example1 = ['2', '1 1', '1 2']\n",
    "print(example1) \n",
    "print(solution(example1), '\\n')"
   ]
  },
  {
   "cell_type": "code",
   "execution_count": null,
   "id": "f0f90d83-5880-4bac-bc6d-1d97d2dd641c",
   "metadata": {},
   "outputs": [],
   "source": [
    "### Autograder part (hidden from the candidate)"
   ]
  },
  {
   "cell_type": "code",
   "execution_count": null,
   "id": "822e1e01-e0e1-43a5-a35d-ffc27a862b67",
   "metadata": {},
   "outputs": [],
   "source": [
    "import numpy as np\n",
    "import pandas as pd\n",
    "import os\n",
    "\n",
    "\n",
    "df = pd.read_csv('datasets/F3/01.a')\n",
    "sol = solution(df)\n",
    "\n",
    "data_path = './datasets/F3/tests/'\n",
    "\n",
    "for i in range(3):\n",
    "    \n",
    "    input_file = os.path.join(data_path,'{:02}'.format(i+1))\n",
    "    output_file = os.path.join(data_path,'{:02}'.format(i+1)+'.a')\n",
    "    with open(input_file) as f:\n",
    "        data_in = f.read().splitlines()\n",
    "    f.close()\n",
    "    with open(output_file) as f:\n",
    "        data_out = f.read().splitlines()\n",
    "    f.close()\n",
    "    \n",
    "    sol = solution(data_in)\n",
    "    ans = data_out\n",
    "    \n",
    "    np.testing.assert_array_equal(sol,ans)"
   ]
  }
 ],
 "metadata": {
  "kernelspec": {
   "display_name": "Python 3",
   "language": "python",
   "name": "python3"
  },
  "language_info": {
   "codemirror_mode": {
    "name": "ipython",
    "version": 3
   },
   "file_extension": ".py",
   "mimetype": "text/x-python",
   "name": "python",
   "nbconvert_exporter": "python",
   "pygments_lexer": "ipython3",
   "version": "3.8.8"
  }
 },
 "nbformat": 4,
 "nbformat_minor": 5
}
