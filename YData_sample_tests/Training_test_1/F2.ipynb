{
 "cells": [
  {
   "cell_type": "markdown",
   "id": "85482eaf-d21d-4abb-b8f3-563312853f93",
   "metadata": {},
   "source": [
    "## F2. Titanic: Similarity\n",
    "\n",
    "In this problem you need to upload **a source ﬁle** solving the following problem. Your program should use **the correct result of the previous problem (F1)** as an input.\n",
    "\n",
    "Implement function `similarity` from the pseudocode and print the result of this function for some passenger pairs.\n",
    "\n",
    "```\n",
    "function similarity(passenger_a, passenger_b):  \n",
    "    result = 0  \n",
    "    if passenger_a.pclass = passenger_b.pclass:  \n",
    "        result += 1  \n",
    "    if passenger_a.sex = passenger_b.sex:  \n",
    "        result += 3  \n",
    "    if passenger_a.sibsp = passenger_b.sibsp:  \n",
    "        result += 1  \n",
    "    if passenger_a.parch = passenger_b.parch:  \n",
    "        result += 1  \n",
    "    result += max(0, 2 - abs(passenger_a.age - passenger_b.age) / 10.0)  \n",
    "    result += max(0, 2 - abs(passenger_a.fare - passenger_b.fare) / 5.0)  \n",
    "    return result / 10.0\n",
    "```\n",
    "\n",
    "### Input format\n",
    "\n",
    "The ﬁrst line of the input contains one integer $q$ ($1≤q≤100$), a number of queries. It is followed by $q$ lines containing each two integers $id_1$ and $id_2$ ($1≤id_1≤891$, $1≤id_2≤891$), corresponding to the $id$ of two passengers to be compared.\n",
    "\n",
    "### Output format\n",
    "\n",
    "Output exactly $q$  lines. In the $i$-th one print the result of $i$-th query. Round the result value to **2 digits after the decimal point**.\n",
    "\n",
    "#### Sample"
   ]
  },
  {
   "cell_type": "markdown",
   "id": "7699cf83-dece-478d-b8bb-81e23ec13ca7",
   "metadata": {},
   "source": [
    "<style type=\"text/css\">\n",
    ".tg  {border-collapse:collapse;border-spacing:0;}\n",
    ".tg td{border-color:black;border-style:solid;border-width:1px;font-family:Arial, sans-serif;font-size:14px;\n",
    "  overflow:hidden;padding:10px 5px;word-break:normal;}\n",
    ".tg th{border-color:black;border-style:solid;border-width:1px;font-family:Arial, sans-serif;font-size:14px;\n",
    "  font-weight:normal;overflow:hidden;padding:10px 5px;word-break:normal;}\n",
    ".tg .tg-613o{background-color:#FFF;border-color:inherit;color:rgba(0, 0, 0, 0.87);text-align:left;vertical-align:middle}\n",
    ".tg .tg-lsmd{background-color:#F5F5F5;border-color:inherit;color:rgba(0, 0, 0, 0.87);text-align:left;vertical-align:middle}\n",
    ".tg .tg-66kb{background-color:#FFF;border-color:inherit;color:rgba(0, 0, 0, 0.87);font-weight:bold;text-align:left;\n",
    "  vertical-align:middle}\n",
    ".tg .tg-xhig{background-color:#E1F5FE;border-color:inherit;color:rgba(0, 0, 0, 0.87);text-align:left;vertical-align:middle}\n",
    "</style>\n",
    "<table class=\"tg\"><thead>\n",
    "  <tr>\n",
    "    <th class=\"tg-66kb\"><span style=\"font-weight:bold\">Input</span></th>\n",
    "    <th class=\"tg-66kb\"><span style=\"font-weight:bold\">Output</span></th>\n",
    "  </tr></thead>\n",
    "<tbody>\n",
    "  <tr>\n",
    "    <td class=\"tg-613o\">2</td>\n",
    "    <td class=\"tg-613o\"></td>\n",
    "  </tr>\n",
    "  <tr>\n",
    "    <td class=\"tg-lsmd\">1 1</td>\n",
    "    <td class=\"tg-lsmd\">1.0</td>\n",
    "  </tr>\n",
    "  <tr>\n",
    "    <td class=\"tg-xhig\">1 2</td>\n",
    "    <td class=\"tg-xhig\">0.24</td>\n",
    "  </tr>\n",
    "</tbody>\n",
    "</table>"
   ]
  },
  {
   "cell_type": "markdown",
   "id": "8926607f-6c21-432f-b593-be12cc9c41c1",
   "metadata": {},
   "source": [
    "### Notes\n",
    "\n",
    "Maximum points for question **F2**: **10** points.\n",
    "\n",
    "**Reminder:** You must select 2 out of 3 questions in programming section: Maze (D1-D3), Text (E1-E3), Titanic (F1-F3), and answer both selected questions as fully as possible."
   ]
  },
  {
   "cell_type": "code",
   "execution_count": null,
   "id": "4932f54b-6110-4890-bdf7-c6fc5874e3a2",
   "metadata": {},
   "outputs": [],
   "source": [
    "### Initial candidate answer code"
   ]
  },
  {
   "cell_type": "code",
   "execution_count": null,
   "id": "54308735-7871-4e4d-8a2c-96fe6c6d8cc8",
   "metadata": {},
   "outputs": [],
   "source": [
    "# Use print(\"Debug messages...\") to debug your solution.\n",
    "\n",
    "def solution(inp):\n",
    "    # Your code goes here\n",
    "    return []"
   ]
  },
  {
   "cell_type": "code",
   "execution_count": null,
   "id": "ee117940-3cbc-4393-9f70-92b2d81c647d",
   "metadata": {},
   "outputs": [],
   "source": [
    "### Initial candidate test code"
   ]
  },
  {
   "cell_type": "code",
   "execution_count": null,
   "id": "53a09e42-a438-408f-a327-897bf611b7ae",
   "metadata": {},
   "outputs": [],
   "source": [
    "import pandas as pd\n",
    "\n",
    "df = pd.read_csv('./datasets/F2/titanic.csv')\n",
    "print(df.head())\n",
    "\n",
    "example1 = ['2', '1 1', '1 2']\n",
    "print(example1) \n",
    "print(solution(example1), '\\n')"
   ]
  },
  {
   "cell_type": "code",
   "execution_count": null,
   "id": "6ced3984-2970-4d86-a47a-979565ef7677",
   "metadata": {},
   "outputs": [],
   "source": [
    "### Autograder part (hidden from the candidate)"
   ]
  },
  {
   "cell_type": "code",
   "execution_count": null,
   "id": "612882bd-23b7-4db5-9520-23a45c791ae6",
   "metadata": {},
   "outputs": [],
   "source": [
    "import numpy as np\n",
    "import pandas as pd\n",
    "import os\n",
    "\n",
    "\n",
    "df = pd.read_csv('datasets/F2/01.a')\n",
    "sol = solution(df)\n",
    "\n",
    "data_path = './datasets/F2/tests/'\n",
    "\n",
    "for i in range(4):\n",
    "    \n",
    "    input_file = os.path.join(data_path,'{:02}'.format(i+1))\n",
    "    output_file = os.path.join(data_path,'{:02}'.format(i+1)+'.a')\n",
    "    with open(input_file) as f:\n",
    "        data_in = f.read().splitlines()\n",
    "    f.close()\n",
    "    with open(output_file) as f:\n",
    "        data_out = f.read().splitlines()\n",
    "    f.close()\n",
    "    \n",
    "    sol = solution(data_in)\n",
    "    ans = data_out\n",
    "    \n",
    "    np.testing.assert_array_equal(sol,ans)"
   ]
  }
 ],
 "metadata": {
  "kernelspec": {
   "display_name": "Python 3",
   "language": "python",
   "name": "python3"
  },
  "language_info": {
   "codemirror_mode": {
    "name": "ipython",
    "version": 3
   },
   "file_extension": ".py",
   "mimetype": "text/x-python",
   "name": "python",
   "nbconvert_exporter": "python",
   "pygments_lexer": "ipython3",
   "version": "3.8.8"
  }
 },
 "nbformat": 4,
 "nbformat_minor": 5
}
