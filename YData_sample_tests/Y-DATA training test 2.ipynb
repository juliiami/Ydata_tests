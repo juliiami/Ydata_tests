{
 "cells": [
  {
   "cell_type": "markdown",
   "id": "b3bba8e8-2f46-4965-912b-9ad8d1d5ef8e",
   "metadata": {},
   "source": [
    "# Training test 2"
   ]
  },
  {
   "cell_type": "markdown",
   "id": "318cf4f1-a9d1-4ca6-b711-96d104860629",
   "metadata": {},
   "source": [
    "The test consists of 2 parts:\n",
    "\n",
    "* the theoretical one - which includes the tasks on the probability theory and the data analysis;\n",
    "* the programming one - which includes the practical tasks purposed to show your programming skills."
   ]
  },
  {
   "cell_type": "markdown",
   "id": "8029e513-7b65-438e-965d-fb6b223008ca",
   "metadata": {},
   "source": [
    "# Probability theory and data analysis"
   ]
  },
  {
   "cell_type": "markdown",
   "id": "77d14ddb-84bb-41c8-8fcb-37e129026af0",
   "metadata": {},
   "source": [
    "## A. Statistics & Probability"
   ]
  },
  {
   "cell_type": "markdown",
   "id": "b8fae9c3-e001-4425-b690-991dc63f7486",
   "metadata": {},
   "source": [
    "All answers must be submitted as ﬂoating point number rounded to **5 decimal digits**.\n",
    "\n",
    "Cards (Questions 1-4): A deck of cards contains 54 cards, comprised of 4 suits of 13 cards, as well as **two jokers**. Each suit contains the cards 2-10, J, Q, K, A. The suits are Spades (black), Hearts (red), Diamonds (red) and Clubs (black)."
   ]
  },
  {
   "cell_type": "markdown",
   "id": "97ba5c87-01fc-410d-8472-5588d933a4df",
   "metadata": {},
   "source": [
    "**Q1**. You draw a card at random, what is the probability of it being a number card of value between 2-5 (inclusive)?"
   ]
  },
  {
   "cell_type": "markdown",
   "id": "23b75760-f56e-46d3-a59c-433daa8f4b39",
   "metadata": {},
   "source": [
    "**Q2**. You draw two cards one after another, returning and reshuﬄing after each draw, what is the probability they are both Diamonds?"
   ]
  },
  {
   "cell_type": "markdown",
   "id": "aa1c0e8d-38c5-4fe1-a060-b5bc5c9841b6",
   "metadata": {},
   "source": [
    "**Q3**. You draw four cards one after another (without returning cards to the deck between draws). What is the probability the cards drawn included one of each of the four suits?"
   ]
  },
  {
   "cell_type": "markdown",
   "id": "3ca1bda6-571b-4952-bf2b-3067ea3ce4d7",
   "metadata": {},
   "source": [
    "**Q4**. You play a game where all number cards (2-10) have a value equal to their number, ace has a value of 1, face cards have a value of 10 and joker can have the same value as any card of your choice. To play the game, you draw three cards into your hand, and you win if your hand total (sum of values) meets or exceeds a stated goal. If the goal number is 4, what is your probability of winning in your ﬁrst draw?"
   ]
  },
  {
   "cell_type": "markdown",
   "id": "b124c617-6f23-4f4f-b551-22b6d235808f",
   "metadata": {},
   "source": [
    "**Q5**. An unbalanced coin comes up with tails 60% of the times its tossed. It is tossed 3 times in a row. What is the probability that all three tosses came up the same?"
   ]
  },
  {
   "cell_type": "markdown",
   "id": "00a06a1c-5e62-4990-aea3-d42ecaf0b0c6",
   "metadata": {},
   "source": [
    "**Q6**. You have 4 coins: 3 coins are fair and one is a fake coin with heads on both sides. You pick one coin at random, and toss it. What is the probability the toss comes up heads?"
   ]
  },
  {
   "cell_type": "markdown",
   "id": "25ef28de-bc7d-42b5-b68f-5b426e2574f5",
   "metadata": {},
   "source": [
    "**Q7**. A pair of fair six-sided dice is rolled. What is the probability that the sum of the dice is 9 or more?"
   ]
  },
  {
   "cell_type": "markdown",
   "id": "cfd481e8-844c-4719-9ffb-7dc334613993",
   "metadata": {},
   "source": [
    "**Q8**. You roll 4 fair four-sided dice. What is the probability of each one showing a diﬀerent number?"
   ]
  },
  {
   "cell_type": "markdown",
   "id": "fbe85ec0-6319-4a66-a849-cccf9be37fc9",
   "metadata": {},
   "source": [
    "**Q9**. Credit card PIN codes are 4-digit number that is chosen at random (all combinations allowed). What is the probability you are assigned a PIN code that is divisible by 5 and contains the number 45 (as two consecutive digits)?"
   ]
  },
  {
   "cell_type": "markdown",
   "id": "92beed86-e7c3-4b88-ac0e-a25257d666e2",
   "metadata": {},
   "source": [
    "**Q10**. The probability of an electronics store selling at least one computer in an 8-hour working day is 0.8. Assuming a constant probability throughout the day, what’s the probability of the store selling at least one computer in any given 2-hour time window?"
   ]
  },
  {
   "cell_type": "markdown",
   "id": "50626a96-58b1-4c00-baa5-549a851ad66e",
   "metadata": {},
   "source": [
    "### Output format"
   ]
  },
  {
   "cell_type": "markdown",
   "id": "52f56b01-7566-4295-b178-24411fa02375",
   "metadata": {},
   "source": [
    "INSTRUCTIONS: Read each question and ﬁnd the correct answer. Write the answers in the designated window, using the following format: Question number + space + correct answer (integer or ﬂoating point number). Each answer should be in a separate row.\n",
    "\n",
    "Example:  \n",
    "Q1 FP_NUMBER_WITH_EXACTLY_5_DECIMAL_DIGITS  \n",
    "Q2 FP_NUMBER_WITH_EXACTLY_5_DECIMAL_DIGITS  \n",
    "Q3 FP_NUMBER_WITH_EXACTLY_5_DECIMAL_DIGITS  \n",
    "Q4 FP_NUMBER_WITH_EXACTLY_5_DECIMAL_DIGITS  \n",
    "Q5 FP_NUMBER_WITH_EXACTLY_5_DECIMAL_DIGITS  \n",
    "Q6 FP_NUMBER_WITH_EXACTLY_5_DECIMAL_DIGITS  \n",
    "Q7 FP_NUMBER_WITH_EXACTLY_5_DECIMAL_DIGITS  \n",
    "Q8 FP_NUMBER_WITH_EXACTLY_5_DECIMAL_DIGITS  \n",
    "Q9 FP_NUMBER_WITH_EXACTLY_5_DECIMAL_DIGITS  \n",
    "Q10 FP_NUMBER_WITH_EXACTLY_5_DECIMAL_DIGITS "
   ]
  },
  {
   "cell_type": "markdown",
   "id": "1b776d0f-e814-4adb-8907-875d0570a4af",
   "metadata": {},
   "source": [
    "### Notes"
   ]
  },
  {
   "cell_type": "markdown",
   "id": "2fd1a3c3-c824-46aa-9a69-7ccd9cb174ff",
   "metadata": {},
   "source": [
    "Maximum points value for question **A**: **12** points\n",
    "\n",
    "All ﬂoating point answers must be given with **exactly 5 decimal digits**. e.g. if your solution is \"1.5\", your submitted answer should be \"1.50000\".\n",
    "\n",
    "If you do not solve some problems, you can skip the relevant questions in the submission window. Answers may be listed in any order."
   ]
  },
  {
   "cell_type": "markdown",
   "id": "c88ab281-22c0-4790-8d60-7628d94a19ea",
   "metadata": {},
   "source": [
    "## B. Data interpretation"
   ]
  },
  {
   "cell_type": "markdown",
   "id": "770abc7a-1dbf-4159-95e1-aa2905b8bd53",
   "metadata": {},
   "source": [
    "Below is a chart representing monthly sales data across several branches of a large store, showing the number of new vs returning clients, as well as total sales value per branch."
   ]
  },
  {
   "cell_type": "markdown",
   "id": "c01a5647-ff9f-4066-b470-119e199dbcae",
   "metadata": {},
   "source": [
    "<p style=\"text-align:center;\"><img src=images/image3.png width=600 height=400 />"
   ]
  },
  {
   "cell_type": "markdown",
   "id": "0fbceadd-1a93-4385-a113-42308560b060",
   "metadata": {},
   "source": [
    "Based on information in the chart, answer the following questions:"
   ]
  },
  {
   "cell_type": "markdown",
   "id": "bfea7afe-657d-4625-91cb-9535097c7155",
   "metadata": {},
   "source": [
    "**Q1**. Which branch has the highest total number of clients?"
   ]
  },
  {
   "cell_type": "markdown",
   "id": "3e188815-6820-41c9-88f0-53d9c69f014d",
   "metadata": {},
   "source": [
    "**Q2**. What is the average sales value per client in branch 588 (in USD thousands)?"
   ]
  },
  {
   "cell_type": "markdown",
   "id": "01ce500f-c73a-42d7-9d9a-ea3b74ee85e3",
   "metadata": {},
   "source": [
    "**Q3**. Which branch has the highest ratio of return clients to new clients?"
   ]
  },
  {
   "cell_type": "markdown",
   "id": "2d6bf917-966f-41f4-b208-cd8f341cc9c5",
   "metadata": {},
   "source": [
    "**Q4**. You were recently recommended the store by a friend, who is a long time customer of one of the listed branches. What is the probability they’re a client of branch 588?"
   ]
  },
  {
   "cell_type": "markdown",
   "id": "66243edb-db3b-4087-a3d1-d27285699924",
   "metadata": {},
   "source": [
    "**Q5**. Which branch of the ones listed would you say is the most likely to have recently won an award for \"Greatest Improvement\", after struggling for a while with losing longtime customers by running a highly successful promotion for an expensive new product?"
   ]
  },
  {
   "cell_type": "markdown",
   "id": "3e537a0b-67ae-4657-9fae-db6ac408a5a4",
   "metadata": {},
   "source": [
    "### Output format"
   ]
  },
  {
   "cell_type": "markdown",
   "id": "f7818945-23a9-4ba2-af5d-f16a6c54d93c",
   "metadata": {},
   "source": [
    "INSTRUCTIONS: Read each question and ﬁnd the correct answer. Write the answers in the designated window, using the following format: Question number + space + correct answer (an integer or a ﬂoating point number). Each answer should be in a separate row.\n",
    "\n",
    "Example:  \n",
    "Q1 INTEGER_NUMBER  \n",
    "Q2 FP_NUMBER_WITH_EXACTLY_5_DECIMAL_DIGITS  \n",
    "Q3 INTEGER_NUMBER  \n",
    "Q4 FP_NUMBER_WITH_EXACTLY_5_DECIMAL_DIGITS  \n",
    "Q5 INTEGER_NUMBER"
   ]
  },
  {
   "cell_type": "markdown",
   "id": "88a0a818-8418-4e36-9f37-a9706a1c1dcf",
   "metadata": {},
   "source": [
    "### Notes"
   ]
  },
  {
   "cell_type": "markdown",
   "id": "f5450fc8-c08c-45b5-a485-41c536a91829",
   "metadata": {},
   "source": [
    "Maximum points for question **B**: **12** points\n",
    "\n",
    "All ﬂoating point answers must be given with **exactly 5 decimal digits**. e.g. if your solution is \"1.5\", your submitted answer should be \"1.50000\". If you do not solve some problems, you can skip the relevant questions in the submission window. Answers may be listed in any order."
   ]
  },
  {
   "cell_type": "markdown",
   "id": "4134e82c-6585-479b-9939-9a2c3530c6d5",
   "metadata": {},
   "source": [
    "## C. Fraud detection"
   ]
  },
  {
   "cell_type": "markdown",
   "id": "18fe455c-1449-4473-93ac-92ea8abb87e8",
   "metadata": {},
   "source": [
    "In this question, you are provided with a dataset containing a list of credit card transactions and are requested to analyse the data and detect transactions that are fraudulent. The majority of the transactions in the dataset have already been marked with the correct value (fraud/not fraud), and you’re required to label the remaining transactions using patterns found in the data and reasoning.\n",
    "\n",
    "The dataset provided contains a list of 1043 transactions done by 66 customers representing all of their credit card activity over the period of one week (21-28/11/2018), the transaction amount, and additional background information as described below:"
   ]
  },
  {
   "cell_type": "markdown",
   "id": "1bbc9a86-924f-40d4-a2a0-8dbe78491170",
   "metadata": {},
   "source": [
    "|Columns| |\n",
    "| :- | :-|\n",
    "|index             |Unique transaction ID (random)  |\n",
    "|customerID         |Unique customer ID number  |\n",
    "|transactionAmount  |Transaction sum  |\n",
    "|monthAvgAmount     |Customer’s monthly average sum of transactions (historic)  |\n",
    "|totalDeclines      |Number of times the customer’s card was declined  in the 2-hour time window around the transaction  |\n",
    "|isForeign        | (Y/N) - is the seller/vendor in the transaction  located in a foreign country?  |\n",
    "|isTrustedSeller   |(Y/N) - is the receiving party a trusted seller/vendor?|  \n",
    "|hasHistory        |(Y/N) - does the customer have a history of past transactions with seller/vendor?  |\n",
    "|isFraud          | (Y/N) - is this a fraudulent transaction. This is the target variable you must fill where it’s currently empty  |"
   ]
  },
  {
   "cell_type": "markdown",
   "id": "22a8262e-6435-437f-aebe-14bacbdcbcbd",
   "metadata": {},
   "source": [
    "### Input format"
   ]
  },
  {
   "cell_type": "markdown",
   "id": "13745611-41de-4575-99fe-d964985fc44a",
   "metadata": {},
   "source": [
    "*transactions.csv* (you should download it below)"
   ]
  },
  {
   "cell_type": "markdown",
   "id": "fa35f5e8-2b9d-401f-af7d-8e417d73ae1e",
   "metadata": {},
   "source": [
    "### Output format"
   ]
  },
  {
   "cell_type": "markdown",
   "id": "34fb3d57-1ba9-443e-bc31-d93b61ecdaf9",
   "metadata": {},
   "source": [
    "*transactions.csv* with missing values in column `isFraud` ﬁlled with Y/N predictions."
   ]
  },
  {
   "cell_type": "markdown",
   "id": "6cdc193e-ee78-4ace-a9e0-25cdd55ec60c",
   "metadata": {},
   "source": [
    "### Notes"
   ]
  },
  {
   "cell_type": "markdown",
   "id": "4447f6ba-24f7-433d-85b5-7799385d48d5",
   "metadata": {},
   "source": [
    "Maximum points for question **C**: **16** points.\n",
    "\n",
    "You are **not required** to use any dedicated data science tools or resources to solve this question.\n",
    "\n",
    "Hint: Try to ﬁnd patterns in the labelled data, and deﬁne common rules and hueristics to produce your solution. Do not try to label each transaction manually."
   ]
  },
  {
   "cell_type": "markdown",
   "id": "f0026579-9a4f-414f-b98c-2214d2f61541",
   "metadata": {},
   "source": [
    "[Download problem dataset](https://github.com/juliiami/YData_sample_tests/blob/main/datasets/test2/C/transactions.csv)"
   ]
  },
  {
   "cell_type": "markdown",
   "id": "f6a00494-e691-42c0-8998-8463344245f2",
   "metadata": {},
   "source": [
    "# Programming"
   ]
  },
  {
   "cell_type": "markdown",
   "id": "6ea4712f-69c2-43bb-a078-b346ba5d14ef",
   "metadata": {},
   "source": [
    "The problems below are purposed to check your programming skills. You must select 2 out of 3 questions in programming section: Chess (D), Shopping (E), Schools (F), and answer both selected questions as fully as possible (for example, if you choose Chess and Schools, you should answer questions D1, D2, D3 and F1, F2, F3).\n",
    "\n",
    "You can use the additional libraries - numpy, pandas, memory_profiler (they are needed to be pre-installed)."
   ]
  },
  {
   "cell_type": "markdown",
   "id": "2dd2abe9-c1cc-4f1a-b856-6363fe6ab535",
   "metadata": {},
   "source": [
    "## D1. Chess: Find the bug"
   ]
  },
  {
   "cell_type": "markdown",
   "id": "a7591070-018e-45bf-8849-568077ede595",
   "metadata": {},
   "source": [
    "In this question, you are required to ﬁnd **the line containing an error**.\n",
    "\n",
    "You are given a pseudocode of a solution for the following problem:"
   ]
  },
  {
   "cell_type": "markdown",
   "id": "72ab7f10-b0f1-49ce-89c4-c935add40d7a",
   "metadata": {},
   "source": [
    "You are given a chess board with $n$ rows and $n$ columns. There are $m$ chess rooks located on the board. Determine a number of cells that are free* and not under attack by any rook. (See illustration below – places threatened by the rook are marked with `‘x’`)"
   ]
  },
  {
   "cell_type": "markdown",
   "id": "f7790513-a8ec-4263-9326-a04bf595aba7",
   "metadata": {},
   "source": [
    "*free = not occupied by a rook"
   ]
  },
  {
   "cell_type": "markdown",
   "id": "9fa7ba6c-5f44-435d-9896-f2ef2d328df2",
   "metadata": {},
   "source": [
    "<p style=\"text-align:center;\"><img src=images/image4.png width=300 height=300 />"
   ]
  },
  {
   "cell_type": "markdown",
   "id": "6bfa47ff-0689-4ff2-a134-74d9d22b892d",
   "metadata": {},
   "source": [
    "```\n",
    "# input:  \n",
    "# N - size of the chess board  \n",
    "# rooks - 2D array of integers, rooks[i][0] is a row and rooks[i][1] is a column  \n",
    " \n",
    "1.  board - empty [1..N]x[1..N] array of integers, initialized with 0  \n",
    "2.  \n",
    "3.  for id from 0 to length(rooks) - 1:  \n",
    "4.      for row from 1 to N:  \n",
    "5.          for column from 1 to N:  \n",
    "6.              if row == rooks[id][0] and column == rooks[id][1]:  \n",
    "7.                  board[row][column] = 1 // the rook  \n",
    "8.              if row == rooks[id][0] and column != rooks[id][1]:  \n",
    "9.                  board[row][column] = 2 // attacked cell  \n",
    "10.             if row != rooks[id][0] and column == rooks[id][1]:  \n",
    "11.                 board[row][column] = 2 // attacked cell  \n",
    "12.  \n",
    "13.  \n",
    "14. unattacked_cells = N  * N // number of unattacked cells  \n",
    "15. for row from 1 to N:  \n",
    "16.     for column from 1 to N:  \n",
    "17.         if board[row][column] == 2:  \n",
    "18.             unattacked_cells -= 1  \n",
    "19.  \n",
    "20. return unattacked_cells\n",
    "```"
   ]
  },
  {
   "cell_type": "markdown",
   "id": "c3e6d64d-e3ab-4ff5-8679-e961ea6d9306",
   "metadata": {},
   "source": [
    "**Note:** ’An error’ may refer to any situation in which in order for the program to run correctly, the pseudocode needs to be modiﬁed through changing, deleting, or adding some symbols. All such changes must be done within a single line of the pseudocode."
   ]
  },
  {
   "cell_type": "markdown",
   "id": "e3545c33-0645-45f0-974c-4d63ddea8073",
   "metadata": {},
   "source": [
    "**Hint:** The error is not in the synthax of the pseudocode"
   ]
  },
  {
   "cell_type": "markdown",
   "id": "81f978e6-ed72-4094-b58d-0aa6d5972f37",
   "metadata": {},
   "source": [
    "### Input format"
   ]
  },
  {
   "cell_type": "markdown",
   "id": "909ab299-c0e6-4149-8679-9f85d3b932bc",
   "metadata": {},
   "source": [
    "One integer, the number of the line containing an error."
   ]
  },
  {
   "cell_type": "markdown",
   "id": "0a8a1238-a59e-4c07-8eec-f5444eaf96b6",
   "metadata": {},
   "source": [
    "### Notes"
   ]
  },
  {
   "cell_type": "markdown",
   "id": "6eff43b7-8da0-4aa2-9ba5-5cf690984b5c",
   "metadata": {},
   "source": [
    "Maximum points for question **D1**: **7** points.\n",
    "\n",
    "**Reminder:** You must select 2 out of 3 questions in programming section: Chess (D), Shopping (E), Schools (F), and answer both selected questions as fully as possible (for example, if you choose Chess and Schools, you should answer questions D1, D2, D3 and F1, F2, F3).\n",
    "\n",
    "**Note:** In this question you do not receive the outcome of your submission, only a notiﬁcation that submission was sent successfully."
   ]
  },
  {
   "cell_type": "markdown",
   "id": "00e4015a-9316-4f36-9576-d614d0a5357f",
   "metadata": {},
   "source": [
    "## D2. Chess: Implement"
   ]
  },
  {
   "cell_type": "markdown",
   "id": "b50ac2b2-2715-44d9-bf51-ad5ab66f7313",
   "metadata": {},
   "source": [
    "In this question you are required to **write code in the window below** or **submit a source ﬁle** implementing a solution to the problem presented in the previous question (D1).\n",
    "\n",
    "**Note:** Your solution should read the description of chess board from test ﬁles 01-40."
   ]
  },
  {
   "cell_type": "markdown",
   "id": "6309e6e8-275f-45dd-abd5-d6484f69d01b",
   "metadata": {},
   "source": [
    "### Input format"
   ]
  },
  {
   "cell_type": "markdown",
   "id": "fa19aeba-e90e-4ff5-a4cf-d6b24fb8b47b",
   "metadata": {},
   "source": [
    "The ﬁrst input line contains two integers $n$ and $m$ ($1≤n≤100$, $1≤m≤100$). Each of the $m$ following lines contains two integers $r_i$ and $c_i$ ($1≤r_i≤n$, $1≤c_i≤n$).\n",
    "\n",
    "**Note:** The input ﬁle has UNIX line endings format (Unix LF). https://en.wikipedia.org/wiki/Newline\n",
    "\n",
    "It is known that all rook positions are diﬀerent."
   ]
  },
  {
   "cell_type": "markdown",
   "id": "4248f66c-44c1-47ea-8761-5d10766d3527",
   "metadata": {},
   "source": [
    "### Output format"
   ]
  },
  {
   "cell_type": "markdown",
   "id": "178c6bcb-e124-4709-95c0-b62e51c6a683",
   "metadata": {},
   "source": [
    "Print one integer, the number of cells that are free* and not under attack of any rook.\n",
    "\n",
    "*free = not occupied by rook"
   ]
  },
  {
   "cell_type": "markdown",
   "id": "cf1ea1cc-e999-4360-b5ad-a7c927cd43e3",
   "metadata": {},
   "source": [
    "#### Sample"
   ]
  },
  {
   "cell_type": "markdown",
   "id": "71256233-f353-45cb-a00b-6428fac0433c",
   "metadata": {},
   "source": [
    "|Input| Output|\n",
    "| :- | :-|\n",
    "|5 4 | 4\n",
    "|2 2 ||\n",
    "|1 1 ||\n",
    "|4 2 ||\n",
    "|1 3 ||"
   ]
  },
  {
   "cell_type": "markdown",
   "id": "9b3d3faa-ef05-42f6-92e6-b57ce69c4791",
   "metadata": {},
   "source": [
    "### Notes"
   ]
  },
  {
   "cell_type": "markdown",
   "id": "6fdcbff0-5ba1-405c-b869-59948d5afd6b",
   "metadata": {},
   "source": [
    "Illustration of sample case:"
   ]
  },
  {
   "cell_type": "markdown",
   "id": "dfb04205-85be-4d0e-ada2-857fbc3b20ba",
   "metadata": {},
   "source": [
    "<p style=\"text-align:center;\"><img src=images/image5.png width=200 height=200 />"
   ]
  },
  {
   "cell_type": "markdown",
   "id": "e00a0b73-e6c6-4b4c-87f6-c5821e483e8c",
   "metadata": {},
   "source": [
    "Maximum points for question **D2**: **10** points.\n",
    "\n",
    "**Reminder:** You must select 2 out of 3 questions in programming section: Chess (D), Shopping (E), Schools (F), and answer both selected questions as fully as possible (for example, if you choose Chess and Schools, you should answer questions D1, D2, D3 and F1, F2, F3)."
   ]
  },
  {
   "cell_type": "code",
   "execution_count": 1,
   "id": "fe87a3c3-7bd5-4955-bf78-41ee96572d03",
   "metadata": {},
   "outputs": [
    {
     "data": {
      "text/plain": [
       "['5 4', '2 2', '1 1', '4 2', '1 3']"
      ]
     },
     "execution_count": 1,
     "metadata": {},
     "output_type": "execute_result"
    }
   ],
   "source": [
    "# upload the input file\n",
    "\n",
    "with open('datasets/test2/D2/01') as f:\n",
    "    data_in = f.read().splitlines() \n",
    "    \n",
    "f.close()\n",
    "\n",
    "data_in"
   ]
  },
  {
   "cell_type": "code",
   "execution_count": 2,
   "id": "866cdbec-14a2-4a94-9648-a71a30422da6",
   "metadata": {},
   "outputs": [
    {
     "data": {
      "text/plain": [
       "['4']"
      ]
     },
     "execution_count": 2,
     "metadata": {},
     "output_type": "execute_result"
    }
   ],
   "source": [
    "# upload the output file\n",
    "\n",
    "with open('datasets/test2/D2/01.a') as f:\n",
    "    data_out = f.read().splitlines() \n",
    "    \n",
    "f.close()\n",
    "\n",
    "data_out"
   ]
  },
  {
   "cell_type": "code",
   "execution_count": null,
   "id": "6a77124c-9b72-4450-a324-87799c12791f",
   "metadata": {},
   "outputs": [],
   "source": [
    "# calculate time and memory usage\n",
    "\n",
    "%load_ext memory_profiler\n",
    "\n",
    "def my_function():\n",
    "     # CODE\n",
    "    return result\n",
    "\n",
    "%time my_function()\n",
    "\n",
    "%memit my_function() \n",
    "# 1 Mib = 1.049 Mb"
   ]
  },
  {
   "cell_type": "markdown",
   "id": "0af8bc05-cfce-4a5e-b25b-7041deb45b50",
   "metadata": {},
   "source": [
    "## D3. Chess: Optimize"
   ]
  },
  {
   "cell_type": "markdown",
   "id": "b1402055-bba9-469d-a0ba-fc409b5222d5",
   "metadata": {},
   "source": [
    "The pseudocode given in D1 has sub-optimal complexity.\n",
    "\n",
    "Optimize your solution for the previous problem (D2) if necessary, allowing it to run eﬃciently. Your solution will run on tests with larger constraints: $1≤n≤100000$,$1≤m≤100000$."
   ]
  },
  {
   "cell_type": "markdown",
   "id": "40c5d969-695a-4839-885f-6b3aa7e9c269",
   "metadata": {},
   "source": [
    "### Input format"
   ]
  },
  {
   "cell_type": "markdown",
   "id": "cbdddd1b-6330-4c86-9458-be65eac10ca7",
   "metadata": {},
   "source": [
    "The same as in D2."
   ]
  },
  {
   "cell_type": "markdown",
   "id": "bab558ba-63eb-4b66-adbc-4695589973bf",
   "metadata": {},
   "source": [
    "### Output format"
   ]
  },
  {
   "cell_type": "markdown",
   "id": "fc744aae-bad0-4131-b94d-48e6e1d3edf6",
   "metadata": {},
   "source": [
    "The same as in D2."
   ]
  },
  {
   "cell_type": "markdown",
   "id": "208c4428-dc4e-4be7-a284-67720f7df1fe",
   "metadata": {},
   "source": [
    "#### Sample"
   ]
  },
  {
   "cell_type": "markdown",
   "id": "a9984345-edb5-4df1-87ab-3dc8eb97b503",
   "metadata": {},
   "source": [
    "|Input| Output|\n",
    "| :- | :-|\n",
    "|5 5| 0|\n",
    "|2 4||\n",
    "|5 1||\n",
    "|4 4||\n",
    "|3 3||\n",
    "|1 3|| "
   ]
  },
  {
   "cell_type": "markdown",
   "id": "e3f98c5a-e034-464e-b8c4-cbe30bc6f77e",
   "metadata": {},
   "source": [
    "### Notes"
   ]
  },
  {
   "cell_type": "markdown",
   "id": "b0af80e1-022f-482b-8018-e67095b261a7",
   "metadata": {},
   "source": [
    "Maximum points for question **D3**: **13** points.\n",
    "\n",
    "**Reminder:** You must select 2 out of 3 questions in programming section: Chess (D), Shopping (E), Schools (F), and answer both selected questions as fully as possible (for example, if you choose Chess and Schools, you should answer questions D1, D2, D3 and F1, F2, F3)."
   ]
  },
  {
   "cell_type": "code",
   "execution_count": 3,
   "id": "1f6a351e-3e39-4d8b-a9e5-7d1e60ce1516",
   "metadata": {},
   "outputs": [
    {
     "data": {
      "text/plain": [
       "['5 5', '2 4', '5 1', '4 4', '3 3', '1 3']"
      ]
     },
     "execution_count": 3,
     "metadata": {},
     "output_type": "execute_result"
    }
   ],
   "source": [
    "# upload the input file\n",
    "\n",
    "with open('datasets/test2/D3/01') as f:\n",
    "    data_in = f.read().splitlines() \n",
    "    \n",
    "f.close()\n",
    "\n",
    "data_in"
   ]
  },
  {
   "cell_type": "code",
   "execution_count": 4,
   "id": "2afb5ea0-53b8-4ba9-9e54-0c23eed5621b",
   "metadata": {},
   "outputs": [
    {
     "data": {
      "text/plain": [
       "['0']"
      ]
     },
     "execution_count": 4,
     "metadata": {},
     "output_type": "execute_result"
    }
   ],
   "source": [
    "# upload the output file\n",
    "\n",
    "with open('datasets/test2/D3/01.a') as f:\n",
    "    data_out = f.read().splitlines() \n",
    "    \n",
    "f.close()\n",
    "\n",
    "data_out"
   ]
  },
  {
   "cell_type": "code",
   "execution_count": null,
   "id": "82ef2728-9667-4d0f-8a7e-df3b67e50e69",
   "metadata": {},
   "outputs": [],
   "source": [
    "# calculate time and memory usage\n",
    "\n",
    "%load_ext memory_profiler\n",
    "\n",
    "def my_function():\n",
    "     # CODE\n",
    "    return result\n",
    "\n",
    "%time my_function()\n",
    "\n",
    "%memit my_function() \n",
    "# 1 Mib = 1.049 Mb"
   ]
  },
  {
   "cell_type": "markdown",
   "id": "5e5eae7b-b110-4c16-8137-fe7e108be07b",
   "metadata": {},
   "source": [
    "## E1. Shopping: intersection"
   ]
  },
  {
   "cell_type": "markdown",
   "id": "77e89690-6814-4b70-9a04-2175fd223183",
   "metadata": {},
   "source": [
    "In this question you are required to submit **a source ﬁle**, implementing a solution to the problem described below.\n",
    "\n",
    "In this question (E1-E3) you are asked to assist a store in building a series of tools to understand its customers’ behavior and improve future sales.\n",
    "\n",
    "You are provided with a ﬁle, *purchase_data.csv*, containing a dataset of past purchases by customers in the store’s loyalty club. Each row in the dataset represents a single past purchase by a club member of a speciﬁc product.\n",
    "\n",
    "In this question you are asked to write a code implementing a function `find_common`, which receives as input the IDs of two products and returns the list of all members who bought **both** products."
   ]
  },
  {
   "cell_type": "markdown",
   "id": "716da334-13c4-4cb1-9e3a-3f1ad9350375",
   "metadata": {},
   "source": [
    "### Input format"
   ]
  },
  {
   "cell_type": "markdown",
   "id": "647e4a65-59e2-4c05-8c27-75f395c375ac",
   "metadata": {},
   "source": [
    "Two integers - `product_1`, `product_2`, corresponding to product IDs in the dataﬁle (`product_1` $\\neq$ `product_2`)."
   ]
  },
  {
   "cell_type": "markdown",
   "id": "f7ee2459-57f9-4b01-b508-9d83058e21ce",
   "metadata": {},
   "source": [
    "**Data**:\n",
    "\n",
    "*purchase_data.csv* (columns: timestamp, memberID, productID, productScore). File can be downloaded from Notes section below."
   ]
  },
  {
   "cell_type": "markdown",
   "id": "46561d2d-5811-49ef-bd0e-77f680338413",
   "metadata": {},
   "source": [
    "### Output format"
   ]
  },
  {
   "cell_type": "markdown",
   "id": "678eb620-b1dc-4de2-a696-9ee1ba158d1f",
   "metadata": {},
   "source": [
    "Print a sequence of integers corresponding to memberIDs of members who bought both products, each number in a single line. Return 0 if no members bought both products."
   ]
  },
  {
   "cell_type": "markdown",
   "id": "8fa97f7d-0cc0-46ec-89f6-0b484e066d27",
   "metadata": {},
   "source": [
    "#### Sample"
   ]
  },
  {
   "cell_type": "markdown",
   "id": "78956a07-3a1b-4f37-b626-538dc87d5fc0",
   "metadata": {},
   "source": [
    "|Input| Output|\n",
    "| :- | :-|\n",
    "|59 72| 1|\n",
    "||36|\n",
    "||50|\n",
    "||73|\n",
    "||78|\n",
    "||80|\n",
    "||91|\n",
    "||96|\n",
    "||104|\n",
    "||119|\n",
    "||126|\n",
    "||131|\n",
    "||132|\n",
    "||156|\n",
    "||174|\n",
    "||196|\n",
    "||201|\n",
    "||205|\n",
    "||208|\n",
    "||247|"
   ]
  },
  {
   "cell_type": "markdown",
   "id": "aa2c51d0-fb05-4063-be39-fd561aa998d3",
   "metadata": {},
   "source": [
    "### Notes"
   ]
  },
  {
   "cell_type": "markdown",
   "id": "791b260e-874f-4698-9f09-0ba9a8a42426",
   "metadata": {},
   "source": [
    "Maximum points for question **E1**: **7** points.\n",
    "\n",
    "**Reminder:** You must select 2 out of 3 questions in programming section: Chess (D), Shopping (E), Schools (F), and answer both selected questions as fully as possible (for example, if you choose Chess and Schools, you should answer questions D1, D2, D3 and F1, F2, F3)."
   ]
  },
  {
   "cell_type": "markdown",
   "id": "ca05b40e-5ece-4927-ade8-729776a7027a",
   "metadata": {},
   "source": [
    "[Download problem dataset](https://github.com/juliiami/YData_sample_tests/blob/main/datasets/test2/E1/purchase_data.csv)"
   ]
  },
  {
   "cell_type": "code",
   "execution_count": 5,
   "id": "eecc2eee-6bcf-4fb4-b0b4-58406ca43f87",
   "metadata": {},
   "outputs": [],
   "source": [
    "# upload the input file\n",
    "\n",
    "with open('datasets/test2/E1/purchase_data.csv') as f:\n",
    "    data = f.read().splitlines() \n",
    "    \n",
    "f.close()\n",
    "\n",
    "## or you can use pandas\n",
    "\n",
    "# import pandas as pd\n",
    "# data = pd.read_csv('datasets/test2/E1/purchase_data.csv')"
   ]
  },
  {
   "cell_type": "code",
   "execution_count": 6,
   "id": "b046f1b9-ff06-4df1-b864-e16028cc6739",
   "metadata": {},
   "outputs": [
    {
     "data": {
      "text/plain": [
       "['59 72']"
      ]
     },
     "execution_count": 6,
     "metadata": {},
     "output_type": "execute_result"
    }
   ],
   "source": [
    "# upload the input file\n",
    "\n",
    "with open('datasets/test2/E1/01') as f:\n",
    "    data_in = f.read().splitlines() \n",
    "    \n",
    "f.close()\n",
    "\n",
    "data_in"
   ]
  },
  {
   "cell_type": "code",
   "execution_count": 7,
   "id": "7875ea85-8166-4a24-9407-7f3ecdf5123e",
   "metadata": {},
   "outputs": [
    {
     "data": {
      "text/plain": [
       "['1',\n",
       " '36',\n",
       " '50',\n",
       " '73',\n",
       " '78',\n",
       " '80',\n",
       " '91',\n",
       " '96',\n",
       " '104',\n",
       " '119',\n",
       " '126',\n",
       " '131',\n",
       " '132',\n",
       " '156',\n",
       " '174',\n",
       " '196',\n",
       " '201',\n",
       " '205',\n",
       " '208',\n",
       " '247']"
      ]
     },
     "execution_count": 7,
     "metadata": {},
     "output_type": "execute_result"
    }
   ],
   "source": [
    "# upload the output file\n",
    "\n",
    "with open('datasets/test2/E1/01.a') as f:\n",
    "    data_out = f.read().splitlines() \n",
    "    \n",
    "f.close()\n",
    "\n",
    "data_out"
   ]
  },
  {
   "cell_type": "code",
   "execution_count": null,
   "id": "2b9d703e-7cf2-4f11-bcca-fcae9b210038",
   "metadata": {},
   "outputs": [],
   "source": [
    "# calculate time and memory usage\n",
    "\n",
    "%load_ext memory_profiler\n",
    "\n",
    "def my_function():\n",
    "     # CODE\n",
    "    return result\n",
    "\n",
    "%time my_function()\n",
    "\n",
    "%memit my_function() \n",
    "# 1 Mib = 1.049 Mb"
   ]
  },
  {
   "cell_type": "markdown",
   "id": "63bb334d-3efc-4d9f-8da0-339a9d2a4b3b",
   "metadata": {},
   "source": [
    "## E2. Shopping: similarity"
   ]
  },
  {
   "cell_type": "markdown",
   "id": "e9097c1f-a5bb-4edf-8a68-7979af5a5602",
   "metadata": {},
   "source": [
    "In this question you are required to submit **a source ﬁle**, implementing a solution to the problem described below.\n",
    "\n",
    "In this question, you are asked to implement a measurement of similarity of purchasing history between two products. To do this, you must ﬁnd the common customers who bought both products using the function you wrote in the previous question, and count how many times each of them bought each of the two products (`count[memberID,productID]`).\n",
    "\n",
    "The formula for the measurement is as follows:"
   ]
  },
  {
   "cell_type": "markdown",
   "id": "0d73ca54-6de7-455d-804d-8fb619ebce3d",
   "metadata": {},
   "source": [
    "```\n",
    "similarity (product_1, product_2):  \n",
    "    common = find_common(product_1, product_2)  \n",
    "    for member in common:  \n",
    "        sum_mult += (count[member,product_1] - productScore[product_1]) *  \n",
    "                    (count[member,product_2] - productScore[product_2])  \n",
    "        sum_sq_1 += (count[member,product_1] - productScore[product_1])^2  \n",
    "        sum_sq_2 += (count[member,product_2] - productScore[product_2])^2  \n",
    "    similarity = sum_mult / (sqrt(sum_sq_1) * sqrt(sum_sq_2)) \n",
    "```"
   ]
  },
  {
   "cell_type": "markdown",
   "id": "62916811-d4f0-40f0-bad3-d404e2ca1271",
   "metadata": {},
   "source": [
    "You are requested to write code implementing the measurement described above, so when given a pair of products (`product_1`, `product_2`), it will return the score resulting from the formula.\n",
    "\n",
    "**Note:** The data is the same as in question E1. In addition to columns used in E1 (`memberID`, `productID`), the formula makes use of `productScore`: a score given by the store to a speciﬁc product based on past sales performance.\n",
    "\n",
    "`productScore` is **constant** for all rows with the same `productID`."
   ]
  },
  {
   "cell_type": "markdown",
   "id": "7baae969-1ead-49ab-b180-ddc416a4f4d3",
   "metadata": {},
   "source": [
    "### Input format"
   ]
  },
  {
   "cell_type": "markdown",
   "id": "6154d8d4-485e-460f-b028-ba21b5290427",
   "metadata": {},
   "source": [
    "Two integers - `product_1`, `product_2`, corresponding to product IDs in the dataﬁle (`product_1` $\\neq$ `product_2`)."
   ]
  },
  {
   "cell_type": "markdown",
   "id": "2d188bb4-9b3c-437b-bd70-afa2574e8e70",
   "metadata": {},
   "source": [
    "**Data**:\n",
    "\n",
    "*purchase_data.csv* (columns: timestamp, memberID, productID, productScore)"
   ]
  },
  {
   "cell_type": "markdown",
   "id": "20ac96f3-5903-4ae6-8fe1-3b11b80efa54",
   "metadata": {},
   "source": [
    "### Output format"
   ]
  },
  {
   "cell_type": "markdown",
   "id": "18611322-a78e-49e6-a812-22aa07987866",
   "metadata": {},
   "source": [
    "Print one ﬂoat value, the score resulting from the running the comparison formula on the two products.\n",
    "\n",
    "Return NA if there are **<2** common members or the similarity cannot be computed.\n",
    "\n",
    "Round your output to **two decimal digits**."
   ]
  },
  {
   "cell_type": "markdown",
   "id": "bd2eb374-e071-4f5f-832a-741af72a0e36",
   "metadata": {},
   "source": [
    "#### Sample 1"
   ]
  },
  {
   "cell_type": "markdown",
   "id": "4d3a6286-59a3-46f5-9abc-8ab10092964d",
   "metadata": {},
   "source": [
    "|Input| Output|\n",
    "| :- | :-|\n",
    "|1 2 | 0.47|"
   ]
  },
  {
   "cell_type": "markdown",
   "id": "2054e39f-ae93-4b18-9c52-6e8ea78e3d0b",
   "metadata": {},
   "source": [
    "#### Sample 2"
   ]
  },
  {
   "cell_type": "markdown",
   "id": "51a4fddf-65bf-46fa-a136-92cbe441d9f3",
   "metadata": {},
   "source": [
    "|Input| Output|\n",
    "| :- | :-|\n",
    "|142 222 | 0.52|"
   ]
  },
  {
   "cell_type": "markdown",
   "id": "c4f23e7a-fe72-4916-b0ed-f0c566de1819",
   "metadata": {},
   "source": [
    "### Notes"
   ]
  },
  {
   "cell_type": "markdown",
   "id": "915c26f5-e189-44a1-a99e-ec45f985ee37",
   "metadata": {},
   "source": [
    "Maximum points for question **E2**: **10** points.\n",
    "\n",
    "**Reminder:** You must select 2 out of 3 questions in programming section: Chess (D), Users (E), Schools (F), and answer both selected questions as fully as possible (for example, if you choose Chess and Schools, you should answer questions D1, D2, D3 and F1, F2, F3)."
   ]
  },
  {
   "cell_type": "code",
   "execution_count": 8,
   "id": "74390de0-b26f-4ad2-a352-137b0459811f",
   "metadata": {},
   "outputs": [],
   "source": [
    "# upload the input file\n",
    "\n",
    "with open('datasets/test2/E2/purchase_data.csv') as f:\n",
    "    data = f.read().splitlines() \n",
    "    \n",
    "f.close()\n",
    "\n",
    "## or you can use pandas\n",
    "\n",
    "# import pandas as pd\n",
    "# data = pd.read_csv('datasets/test2/E2/purchase_data.csv')"
   ]
  },
  {
   "cell_type": "code",
   "execution_count": 9,
   "id": "e9f5dbf0-dbbf-4678-970e-29a090233690",
   "metadata": {},
   "outputs": [
    {
     "data": {
      "text/plain": [
       "['1 2']"
      ]
     },
     "execution_count": 9,
     "metadata": {},
     "output_type": "execute_result"
    }
   ],
   "source": [
    "# upload the input file\n",
    "\n",
    "with open('datasets/test2/E2/01') as f:\n",
    "    data_in = f.read().splitlines() \n",
    "    \n",
    "f.close()\n",
    "\n",
    "data_in"
   ]
  },
  {
   "cell_type": "code",
   "execution_count": 10,
   "id": "9582e33d-8355-49cf-bd6a-8aeb5d3d75d4",
   "metadata": {},
   "outputs": [
    {
     "data": {
      "text/plain": [
       "['0.47']"
      ]
     },
     "execution_count": 10,
     "metadata": {},
     "output_type": "execute_result"
    }
   ],
   "source": [
    "# upload the output file\n",
    "\n",
    "with open('datasets/test2/E2/01.a') as f:\n",
    "    data_out = f.read().splitlines() \n",
    "    \n",
    "f.close()\n",
    "\n",
    "data_out"
   ]
  },
  {
   "cell_type": "code",
   "execution_count": null,
   "id": "0f800437-29e1-4519-b702-78b872aee4bd",
   "metadata": {},
   "outputs": [],
   "source": [
    "# calculate time and memory usage\n",
    "\n",
    "%load_ext memory_profiler\n",
    "\n",
    "def my_function():\n",
    "     # CODE\n",
    "    return result\n",
    "\n",
    "%time my_function()\n",
    "\n",
    "%memit my_function() \n",
    "# 1 Mib = 1.049 Mb"
   ]
  },
  {
   "cell_type": "markdown",
   "id": "45a783f7-d939-4562-b078-61ce23aaaa6b",
   "metadata": {},
   "source": [
    "## E3. Shopping: recommend"
   ]
  },
  {
   "cell_type": "markdown",
   "id": "264efa5e-b1b8-40d1-9123-7c4271bacde3",
   "metadata": {},
   "source": [
    "In this question, you are required to submit **a source ﬁle**, implementing a solution to the problem described below.\n",
    "\n",
    "In this question, you are asked to use your work in the two previous questions to oﬀer relevant products to a new member who has just made their ﬁrst purchase at the store.\n",
    "\n",
    "Given a list of 3 product IDs and their counts representing the client’s current history, you should ﬁnd and return the ID of the product with the highest predicted purchase count.\n",
    "\n",
    "To do this, you should use the `similarity` function (from E2) to ﬁnd the most similar products to the ones in the new client’s purchase among all other products, predict how much of each product is the new customer likely to buy in the future using the formula below, and return the one among them with the highest predicted count."
   ]
  },
  {
   "cell_type": "markdown",
   "id": "704f8011-f5b8-4d62-a6f2-4fab32055bf9",
   "metadata": {},
   "source": [
    "```\n",
    "predicted_count (new_member, candidate_product):  \n",
    "   for bought_product:  \n",
    "      sum_mult += similarity(candidate_product, bought_product) * count(new_member, bought_product)  \n",
    "      sum_similarities += abs(similarity(candidate_product, bought_product))  \n",
    "   predicted_count = (sum_mult / sum_similarities)  \n",
    "```"
   ]
  },
  {
   "cell_type": "markdown",
   "id": "87863f24-2a0d-4dcf-a8db-ebfde607a45f",
   "metadata": {},
   "source": [
    "* Calculate only for products whose similarity with target is not NA\n",
    "* If `predicted_count` cannot be calculated, treat it as 0\n",
    "* If several products tie for highest predicted count, return the one with lowest ID."
   ]
  },
  {
   "cell_type": "markdown",
   "id": "0710fc59-a082-4074-9c1a-ea94f13e39ac",
   "metadata": {},
   "source": [
    "### Input format"
   ]
  },
  {
   "cell_type": "markdown",
   "id": "72b51ee9-0b49-4c02-a6ff-c1ff339a83d4",
   "metadata": {},
   "source": [
    "Three lines, each containing two integers separated with space - productID and count, corresponding to Product IDs in the dataﬁle, representing products purchased by new member and the count for each product.\n",
    "\n",
    "**Data**:\n",
    "\n",
    "*purchase_data.csv* (columns: timestamp, memberID, productID, productScore)"
   ]
  },
  {
   "cell_type": "markdown",
   "id": "5af95203-467b-42de-badc-f5f625076f2e",
   "metadata": {},
   "source": [
    "### Output format"
   ]
  },
  {
   "cell_type": "markdown",
   "id": "4c00739f-537d-4a1b-aafe-78cb81744789",
   "metadata": {},
   "source": [
    "Print one integer, corresponding to the `product_ID` of the product with the highest predicted count."
   ]
  },
  {
   "cell_type": "markdown",
   "id": "c0559302-7289-4996-9b6b-880022e67491",
   "metadata": {},
   "source": [
    "#### Sample 1"
   ]
  },
  {
   "cell_type": "markdown",
   "id": "6a7f6a53-0285-436e-b690-a743081690ba",
   "metadata": {},
   "source": [
    "|Input| Output|\n",
    "| :- | :-|\n",
    "|1 2 | 4 |\n",
    "|2 2 ||\n",
    "|3 2 ||"
   ]
  },
  {
   "cell_type": "markdown",
   "id": "6872eace-e992-4484-8874-86cdbecaf47b",
   "metadata": {},
   "source": [
    "#### Sample 2"
   ]
  },
  {
   "cell_type": "markdown",
   "id": "b08d0c00-6ca3-4eb9-88bc-306bb273a7ee",
   "metadata": {},
   "source": [
    "|Input| Output|\n",
    "| :- | :-|\n",
    "|77 87 | 296 |\n",
    "|177 1 ||\n",
    "|178 2 ||"
   ]
  },
  {
   "cell_type": "markdown",
   "id": "b3f2e3c7-0cba-471d-bf64-fcff27bf1734",
   "metadata": {},
   "source": [
    "#### Sample 3"
   ]
  },
  {
   "cell_type": "markdown",
   "id": "b7d29fbb-ec71-4b19-8c0f-f96883d1fcfc",
   "metadata": {},
   "source": [
    "|Input| Output|\n",
    "| :- | :-|\n",
    "|111 1 | 6 |\n",
    "|55 5 |\n",
    "|121 3 |"
   ]
  },
  {
   "cell_type": "markdown",
   "id": "b7051f11-1704-4892-b3ad-722b49925d6c",
   "metadata": {},
   "source": [
    "### Notes"
   ]
  },
  {
   "cell_type": "markdown",
   "id": "9fa30d35-b47d-4f7c-a6f8-b55e61365627",
   "metadata": {},
   "source": [
    "Maximum points for question **E3**: **13** points.\n",
    "\n",
    "**Reminder:** You must select 2 out of 3 questions in programming section: Chess (D), Shopping (E), Schools (F), and answer both selected questions as fully as possible (for example, if you choose Chess and Schools, you should answer questions D1, D2, D3 and F1, F2, F3)."
   ]
  },
  {
   "cell_type": "code",
   "execution_count": 11,
   "id": "c6e58c50-a541-4b61-92b9-dbfc22048751",
   "metadata": {},
   "outputs": [],
   "source": [
    "# upload the input file\n",
    "\n",
    "with open('datasets/test2/E3/purchase_data.csv') as f:\n",
    "    data = f.read().splitlines() \n",
    "    \n",
    "f.close()\n",
    "\n",
    "## or you can use pandas\n",
    "\n",
    "# import pandas as pd\n",
    "# data = pd.read_csv('datasets/test2/E3/purchase_data.csv')"
   ]
  },
  {
   "cell_type": "code",
   "execution_count": 12,
   "id": "818701c0-7e48-4aa0-bb29-1ead8dae6d7e",
   "metadata": {},
   "outputs": [
    {
     "data": {
      "text/plain": [
       "['1 2', '2 2', '3 2']"
      ]
     },
     "execution_count": 12,
     "metadata": {},
     "output_type": "execute_result"
    }
   ],
   "source": [
    "# upload the input file\n",
    "\n",
    "with open('datasets/test2/E3/01') as f:\n",
    "    data_in = f.read().splitlines() \n",
    "    \n",
    "f.close()\n",
    "\n",
    "data_in"
   ]
  },
  {
   "cell_type": "code",
   "execution_count": 13,
   "id": "60e18650-79ea-4a07-89a8-53c9676a0ada",
   "metadata": {},
   "outputs": [
    {
     "data": {
      "text/plain": [
       "['4']"
      ]
     },
     "execution_count": 13,
     "metadata": {},
     "output_type": "execute_result"
    }
   ],
   "source": [
    "# upload the output file\n",
    "\n",
    "with open('datasets/test2/E3/01.a') as f:\n",
    "    data_out = f.read().splitlines() \n",
    "    \n",
    "f.close()\n",
    "\n",
    "data_out"
   ]
  },
  {
   "cell_type": "code",
   "execution_count": null,
   "id": "5fdc36b1-8f55-4a0e-a4c3-e742bbce1e90",
   "metadata": {},
   "outputs": [],
   "source": [
    "# calculate time and memory usage\n",
    "\n",
    "%load_ext memory_profiler\n",
    "\n",
    "def my_function():\n",
    "     # CODE\n",
    "    return result\n",
    "\n",
    "%time my_function()\n",
    "\n",
    "%memit my_function() \n",
    "# 1 Mib = 1.049 Mb"
   ]
  },
  {
   "cell_type": "markdown",
   "id": "0a948750-9635-49a1-9c5e-1627c285b5a0",
   "metadata": {},
   "source": [
    "## F1. Schools: pre-process"
   ]
  },
  {
   "cell_type": "markdown",
   "id": "dde4c344-3734-4708-9b46-ec9b897cbfd9",
   "metadata": {},
   "source": [
    "To solve this question you are required to submit **a result csv-ﬁle** after processing an input ﬁle.\n",
    "\n",
    "You are given a data ﬁle *schools.csv*.\n",
    "\n",
    "In this question you are provided with a dataset of school statistics and performance on standardised national tests. You are required to perform a series of manipulations and calculations on the dataset."
   ]
  },
  {
   "cell_type": "markdown",
   "id": "c2bff324-3c13-471f-82b1-af0b171efcaf",
   "metadata": {},
   "source": [
    "Data dictionary:"
   ]
  },
  {
   "cell_type": "markdown",
   "id": "317af7f4-ed41-4879-9490-6bfcd423d53f",
   "metadata": {},
   "source": [
    "|Col.num |  Col.name | format |  notes  |\n",
    "| :- | :- | :- | :- |\n",
    "|1   | School Index  |number   |Unique school ID  \n",
    "|2   |District    |  number |  Zip code for the school area  |\n",
    "|3-4  | Lowest/Highest Year    | text   | String corresponding to the value of the lowest/highest grade year in the school. Range from low to high: PK,0K,1,2,3,4,5,6,7,8,9,10,11,12 |\n",
    "|5    | School Income Estimate     |  text    | Estimated average income for families in the school | \n",
    "|6-9  | Average Proficiency Score, |  percent | School performance statistics  |\n",
    "|     | Student Attendance Rate,  |||\n",
    "|     | Students Chronically Absent,|||  \n",
    "|     | Rigorous Instruction  |||\n",
    "|10-13 |Year X - All Students Tested |number   |Total number of students in that grade year that were tested in standardised exam | \n",
    "|14-17| Year X - Top Scoring        | number   |Number of students in that grade year that achieved the maximum grade category in the standardised exam  |\n",
    "|18    |Student Achievement Rating   |text    | Verbal estimate of school performance on standardised tests  "
   ]
  },
  {
   "cell_type": "markdown",
   "id": "2dd49f3c-ad94-4d5d-a3af-6789be1cb8d6",
   "metadata": {},
   "source": [
    "Clean the dataset and correct errors in the following manner (**in the listed order**):\n",
    "\n",
    "* Remove entries (rows) with any of the following data entry errors:\n",
    "    - Student Attendance Rate $\\leq 0$\n",
    "    - Rigorous Instruction $\\leq 0$\n",
    "    - Students Chronically Absent $\\geq 100\\%$\n",
    "* Remove entries (rows) with N/A in “Student Achievement Rating” OR “Average Proﬁciency Score”\n",
    "* Convert “Student Achievement Rating” column from text into numeric values as follows:\n",
    "    - Not Meeting Target $= 0.0$\n",
    "    - Approaching Target $= 0.5$\n",
    "    - Meeting Target $= 0.8$\n",
    "    - Exceeding Target $= 1.0$"
   ]
  },
  {
   "cell_type": "markdown",
   "id": "86b60db0-4e62-4620-aa30-baa547215ddf",
   "metadata": {},
   "source": [
    "### Input format"
   ]
  },
  {
   "cell_type": "markdown",
   "id": "7ab13549-1105-4cdd-a79c-72a4ba2595d4",
   "metadata": {},
   "source": [
    "*schools.csv* (link to download it is located in ’Notes’ section below)"
   ]
  },
  {
   "cell_type": "markdown",
   "id": "5f3a6f3a-4a0f-4512-8d1a-4ef3736dd62a",
   "metadata": {},
   "source": [
    "### Output format"
   ]
  },
  {
   "cell_type": "markdown",
   "id": "f0e3c7b9-918c-460b-abbb-44c154353c4e",
   "metadata": {},
   "source": [
    "Submit the resulting csv ﬁle: *schools.csv*. Do not reorder columns or rows in the ﬁle."
   ]
  },
  {
   "cell_type": "markdown",
   "id": "522067bc-44a2-4417-9b44-3fefec6d0715",
   "metadata": {},
   "source": [
    "### Notes"
   ]
  },
  {
   "cell_type": "markdown",
   "id": "01ca0ec7-e2d7-4602-80b6-33f784e7a4da",
   "metadata": {},
   "source": [
    "Maximum points for question **F1**: **7** points.\n",
    "\n",
    "**Reminder:** You must select 2 out of 3 questions in programming section: Chess (D), Shopping (E), Schools (F), and answer both selected questions as fully as possible (for example, if you choose Chess and Schools, you should answer questions D1, D2, D3 and F1, F2, F3)."
   ]
  },
  {
   "cell_type": "markdown",
   "id": "1b016d98-5512-4d02-8587-070a9f92f1a3",
   "metadata": {},
   "source": [
    "[Download problem dataset](https://github.com/juliiami/YData_sample_tests/blob/main/datasets/test2/F1/schools.csv)"
   ]
  },
  {
   "cell_type": "code",
   "execution_count": 14,
   "id": "57423bc8-f8c3-4a55-afe4-9054773e4370",
   "metadata": {},
   "outputs": [
    {
     "data": {
      "text/html": [
       "<div>\n",
       "<style scoped>\n",
       "    .dataframe tbody tr th:only-of-type {\n",
       "        vertical-align: middle;\n",
       "    }\n",
       "\n",
       "    .dataframe tbody tr th {\n",
       "        vertical-align: top;\n",
       "    }\n",
       "\n",
       "    .dataframe thead th {\n",
       "        text-align: right;\n",
       "    }\n",
       "</style>\n",
       "<table border=\"1\" class=\"dataframe\">\n",
       "  <thead>\n",
       "    <tr style=\"text-align: right;\">\n",
       "      <th></th>\n",
       "      <th>School Index</th>\n",
       "      <th>District</th>\n",
       "      <th>Lowest Year</th>\n",
       "      <th>Highest Year</th>\n",
       "      <th>School Income Estimate</th>\n",
       "      <th>Average Proficiency Score</th>\n",
       "      <th>Student Attendance Rate</th>\n",
       "      <th>Students Chronically Absent</th>\n",
       "      <th>Rigorous Instruction</th>\n",
       "      <th>Year 3 - All Students Tested</th>\n",
       "      <th>Year 4 - All Students Tested</th>\n",
       "      <th>Year 5 - All Students Tested</th>\n",
       "      <th>Year 6 - All Students Tested</th>\n",
       "      <th>Year 3 - Top Scoring</th>\n",
       "      <th>Year 4 - Top Scoring</th>\n",
       "      <th>Year 5 - Top Scoring</th>\n",
       "      <th>Year 6 - Top Scoring</th>\n",
       "      <th>Student Achievement Rating</th>\n",
       "    </tr>\n",
       "  </thead>\n",
       "  <tbody>\n",
       "    <tr>\n",
       "      <th>0</th>\n",
       "      <td>310001</td>\n",
       "      <td>5</td>\n",
       "      <td>6</td>\n",
       "      <td>8</td>\n",
       "      <td>NaN</td>\n",
       "      <td>65%</td>\n",
       "      <td>94%</td>\n",
       "      <td>19%</td>\n",
       "      <td>97%</td>\n",
       "      <td>0</td>\n",
       "      <td>0</td>\n",
       "      <td>0</td>\n",
       "      <td>104</td>\n",
       "      <td>0</td>\n",
       "      <td>0</td>\n",
       "      <td>0</td>\n",
       "      <td>8</td>\n",
       "      <td>Exceeding Target</td>\n",
       "    </tr>\n",
       "    <tr>\n",
       "      <th>1</th>\n",
       "      <td>310002</td>\n",
       "      <td>2</td>\n",
       "      <td>PK</td>\n",
       "      <td>5</td>\n",
       "      <td>$26,114.78</td>\n",
       "      <td>69%</td>\n",
       "      <td>98%</td>\n",
       "      <td>6%</td>\n",
       "      <td>93%</td>\n",
       "      <td>125</td>\n",
       "      <td>106</td>\n",
       "      <td>104</td>\n",
       "      <td>0</td>\n",
       "      <td>8</td>\n",
       "      <td>13</td>\n",
       "      <td>11</td>\n",
       "      <td>0</td>\n",
       "      <td>Meeting Target</td>\n",
       "    </tr>\n",
       "    <tr>\n",
       "      <th>2</th>\n",
       "      <td>310003</td>\n",
       "      <td>2</td>\n",
       "      <td>PK</td>\n",
       "      <td>5</td>\n",
       "      <td>$103,399.19</td>\n",
       "      <td>77%</td>\n",
       "      <td>95%</td>\n",
       "      <td>13%</td>\n",
       "      <td>97%</td>\n",
       "      <td>105</td>\n",
       "      <td>142</td>\n",
       "      <td>61</td>\n",
       "      <td>0</td>\n",
       "      <td>9</td>\n",
       "      <td>44</td>\n",
       "      <td>18</td>\n",
       "      <td>0</td>\n",
       "      <td>Meeting Target</td>\n",
       "    </tr>\n",
       "    <tr>\n",
       "      <th>3</th>\n",
       "      <td>310004</td>\n",
       "      <td>6</td>\n",
       "      <td>PK</td>\n",
       "      <td>5</td>\n",
       "      <td>$34,684.21</td>\n",
       "      <td>56%</td>\n",
       "      <td>92%</td>\n",
       "      <td>33%</td>\n",
       "      <td>91%</td>\n",
       "      <td>103</td>\n",
       "      <td>100</td>\n",
       "      <td>81</td>\n",
       "      <td>0</td>\n",
       "      <td>3</td>\n",
       "      <td>7</td>\n",
       "      <td>1</td>\n",
       "      <td>0</td>\n",
       "      <td>Approaching Target</td>\n",
       "    </tr>\n",
       "    <tr>\n",
       "      <th>4</th>\n",
       "      <td>310005</td>\n",
       "      <td>6</td>\n",
       "      <td>0K</td>\n",
       "      <td>5</td>\n",
       "      <td>$29,783.60</td>\n",
       "      <td>53%</td>\n",
       "      <td>93%</td>\n",
       "      <td>26%</td>\n",
       "      <td>89%</td>\n",
       "      <td>90</td>\n",
       "      <td>90</td>\n",
       "      <td>69</td>\n",
       "      <td>0</td>\n",
       "      <td>0</td>\n",
       "      <td>7</td>\n",
       "      <td>1</td>\n",
       "      <td>0</td>\n",
       "      <td>Approaching Target</td>\n",
       "    </tr>\n",
       "  </tbody>\n",
       "</table>\n",
       "</div>"
      ],
      "text/plain": [
       "   School Index  District Lowest Year Highest Year School Income Estimate  \\\n",
       "0        310001         5           6            8                    NaN   \n",
       "1        310002         2          PK            5             $26,114.78   \n",
       "2        310003         2          PK            5            $103,399.19   \n",
       "3        310004         6          PK            5             $34,684.21   \n",
       "4        310005         6          0K            5             $29,783.60   \n",
       "\n",
       "  Average Proficiency Score Student Attendance Rate  \\\n",
       "0                       65%                     94%   \n",
       "1                       69%                     98%   \n",
       "2                       77%                     95%   \n",
       "3                       56%                     92%   \n",
       "4                       53%                     93%   \n",
       "\n",
       "  Students Chronically Absent Rigorous Instruction  \\\n",
       "0                         19%                  97%   \n",
       "1                          6%                  93%   \n",
       "2                         13%                  97%   \n",
       "3                         33%                  91%   \n",
       "4                         26%                  89%   \n",
       "\n",
       "   Year 3 - All Students Tested  Year 4 - All Students Tested  \\\n",
       "0                             0                             0   \n",
       "1                           125                           106   \n",
       "2                           105                           142   \n",
       "3                           103                           100   \n",
       "4                            90                            90   \n",
       "\n",
       "   Year 5 - All Students Tested  Year 6 - All Students Tested  \\\n",
       "0                             0                           104   \n",
       "1                           104                             0   \n",
       "2                            61                             0   \n",
       "3                            81                             0   \n",
       "4                            69                             0   \n",
       "\n",
       "   Year 3 - Top Scoring  Year 4 - Top Scoring  Year 5 - Top Scoring  \\\n",
       "0                     0                     0                     0   \n",
       "1                     8                    13                    11   \n",
       "2                     9                    44                    18   \n",
       "3                     3                     7                     1   \n",
       "4                     0                     7                     1   \n",
       "\n",
       "   Year 6 - Top Scoring Student Achievement Rating  \n",
       "0                     8           Exceeding Target  \n",
       "1                     0             Meeting Target  \n",
       "2                     0             Meeting Target  \n",
       "3                     0         Approaching Target  \n",
       "4                     0         Approaching Target  "
      ]
     },
     "execution_count": 14,
     "metadata": {},
     "output_type": "execute_result"
    }
   ],
   "source": [
    "import pandas as pd\n",
    "\n",
    "data = pd.read_csv('datasets/test2/F1/schools.csv')\n",
    "data.head()"
   ]
  },
  {
   "cell_type": "markdown",
   "id": "3c175239-48ea-451e-bb1f-4c914671424d",
   "metadata": {},
   "source": [
    "## F2. Schools: best year"
   ]
  },
  {
   "cell_type": "markdown",
   "id": "3e9317eb-3b22-457b-9be7-a75f4bb90610",
   "metadata": {},
   "source": [
    "In this question, you are required to submit **a source ﬁle** solving the problem described below. Your program should use **the correct result of the previous problem (F1)** as an input.\n",
    "\n",
    "Write code solving the following problem: given a school index, ﬁnd and return the grade year with the highest ratio of students who achieved the top score out of the total tested. Exclude grade years, for which performance data is not available (i.e. years where `Year X All Students Tested` $= 0$).\n",
    "\n",
    "* Return the numeric value corresponding to the grade Year.\n",
    "* In case of a tie, return the **lowest** grade Year applicable.\n",
    "* If no applicable year groups exists, return 0."
   ]
  },
  {
   "cell_type": "markdown",
   "id": "caddda71-ab25-4b65-a338-7500b81ba7ba",
   "metadata": {},
   "source": [
    "### Input format"
   ]
  },
  {
   "cell_type": "markdown",
   "id": "58c9b1ad-fe1d-431b-9330-003241334161",
   "metadata": {},
   "source": [
    "One integer corresponding to `School Index`."
   ]
  },
  {
   "cell_type": "markdown",
   "id": "5f2ddb3c-eb39-4c17-b527-b32801d97144",
   "metadata": {},
   "source": [
    "### Output format"
   ]
  },
  {
   "cell_type": "markdown",
   "id": "5b6ae931-e79c-4beb-8000-493f985f1b11",
   "metadata": {},
   "source": [
    "Print one integer corresponding to the grade year with maximum calculated ratio."
   ]
  },
  {
   "cell_type": "markdown",
   "id": "edd7557d-ded8-4e58-b829-988e91268580",
   "metadata": {},
   "source": [
    "#### Sample 1"
   ]
  },
  {
   "cell_type": "markdown",
   "id": "015eddce-5fbe-4299-8b37-f9d64f1e55e6",
   "metadata": {},
   "source": [
    "|Input| Output|\n",
    "| :- | :-|\n",
    "|310010 |6|"
   ]
  },
  {
   "cell_type": "markdown",
   "id": "80350b70-7652-41f6-8e45-00d4c151f283",
   "metadata": {},
   "source": [
    "#### Sample 2"
   ]
  },
  {
   "cell_type": "markdown",
   "id": "459b0c35-2713-4510-9c23-3fb5fb9af026",
   "metadata": {},
   "source": [
    "|Input| Output|\n",
    "| :- | :-|\n",
    "|310014 |4|"
   ]
  },
  {
   "cell_type": "markdown",
   "id": "70752b6f-38c8-4bd2-ad4e-148d6cf29c71",
   "metadata": {},
   "source": [
    "### Notes"
   ]
  },
  {
   "cell_type": "markdown",
   "id": "3464c98c-0b21-4d12-a9cf-aa6a79ba1449",
   "metadata": {},
   "source": [
    "**Example:**"
   ]
  },
  {
   "cell_type": "markdown",
   "id": "12030662-8fb0-4e7f-9421-6535c2340992",
   "metadata": {},
   "source": [
    "<p style=\"text-align:center;\"><img src=images/image6.png width=600 height=400 />"
   ]
  },
  {
   "cell_type": "markdown",
   "id": "2b41f87d-e189-456a-9d9d-e3aba59a1c11",
   "metadata": {},
   "source": [
    "Maximum points for question **F2**: **10** points.\n",
    "\n",
    "**Reminder:** You must select 2 out of 3 questions in programming section: Chess (D), Shopping (E), Schools (F), and answer both selected questions as fully as possible (for example, if you choose Chess and Schools, you should answer questions D1, D2, D3 and F1, F2, F3).\n",
    "\n"
   ]
  },
  {
   "cell_type": "code",
   "execution_count": 15,
   "id": "320854c5-e223-4980-a7b0-6e035cf18680",
   "metadata": {},
   "outputs": [
    {
     "data": {
      "text/plain": [
       "['310010']"
      ]
     },
     "execution_count": 15,
     "metadata": {},
     "output_type": "execute_result"
    }
   ],
   "source": [
    "# upload the input file\n",
    "\n",
    "with open('datasets/test2/F2/01') as f:\n",
    "    data_in = f.read().splitlines() \n",
    "    \n",
    "f.close()\n",
    "\n",
    "data_in"
   ]
  },
  {
   "cell_type": "code",
   "execution_count": 16,
   "id": "1a40a567-0678-4405-99fd-75e9b6440d59",
   "metadata": {},
   "outputs": [
    {
     "data": {
      "text/plain": [
       "['6']"
      ]
     },
     "execution_count": 16,
     "metadata": {},
     "output_type": "execute_result"
    }
   ],
   "source": [
    "# upload the output file\n",
    "\n",
    "with open('datasets/test2/F2/01.a') as f:\n",
    "    data_out = f.read().splitlines() \n",
    "    \n",
    "f.close()\n",
    "\n",
    "data_out"
   ]
  },
  {
   "cell_type": "code",
   "execution_count": null,
   "id": "77b95843-9082-4d15-ad45-b3b4c1b04236",
   "metadata": {},
   "outputs": [],
   "source": [
    "# calculate time and memory usage\n",
    "\n",
    "%load_ext memory_profiler\n",
    "\n",
    "def my_function():\n",
    "     # CODE\n",
    "    return result\n",
    "\n",
    "%time my_function()\n",
    "\n",
    "%memit my_function() \n",
    "# 1 Mib = 1.049 Mb"
   ]
  },
  {
   "cell_type": "markdown",
   "id": "3fff595d-2908-48c2-8e2a-4d17ed4363fb",
   "metadata": {},
   "source": [
    "## F3. Schools: district score"
   ]
  },
  {
   "cell_type": "markdown",
   "id": "8b2b9745-f5e4-4197-9b53-94da1051cef1",
   "metadata": {},
   "source": [
    "In this question, you are required to submit **a source ﬁle** solving the problem described below. Your program should use **the correct result of the previous problem (F1)** as an input.\n",
    "\n",
    "Write code which calculates performance by district based on the criteria provided below. Given a district code and Average Proﬁciency Score range (min and max), ﬁnd all the schools corresponding to the criteria, and return the **average** Student Achievement Rating for the schools selected.\n",
    "\n",
    "For Average Proﬁciency Score you are given a minimum and a maximum value. Find all schools with min $\\leq$ Average Proﬁciency Score (school) $\\leq$ max. Return the average value for Student Achievement Rating.\n",
    "\n",
    "* Round your answer to **2 decimal digits**\n",
    "* If no relevant schools are available, return 0."
   ]
  },
  {
   "cell_type": "markdown",
   "id": "502ee5ea-b296-4ac0-8b7e-1bf621f0242a",
   "metadata": {},
   "source": [
    "### Input format"
   ]
  },
  {
   "cell_type": "markdown",
   "id": "44e6a7ba-764c-4b3c-8fbe-309a800e99c9",
   "metadata": {},
   "source": [
    "A list of 3 numbers separated by spaces: district, minimum threshold, maximum threshold."
   ]
  },
  {
   "cell_type": "markdown",
   "id": "ffcd84e7-dc22-4200-9e93-44a7adcd563e",
   "metadata": {},
   "source": [
    "### Output format"
   ]
  },
  {
   "cell_type": "markdown",
   "id": "19f20eb8-2715-4089-b1af-02196431d9bc",
   "metadata": {},
   "source": [
    "Print out a single ﬂoat value, rounded to **2 decimal digits** corresponding to the average Student Achievement Rating among schools fulﬁlling the criteria described above."
   ]
  },
  {
   "cell_type": "markdown",
   "id": "9962041e-4ea6-4d41-9c14-1e964a0a36a2",
   "metadata": {},
   "source": [
    "#### Sample 1"
   ]
  },
  {
   "cell_type": "markdown",
   "id": "d1d717a1-0ac7-40fa-bb8d-3e7666cccdec",
   "metadata": {},
   "source": [
    "|Input| Output|\n",
    "| :- | :-|\n",
    "|16 55 65| 0.77|"
   ]
  },
  {
   "cell_type": "markdown",
   "id": "fa8f289d-e357-400f-b57b-4a6986c8ef65",
   "metadata": {},
   "source": [
    "#### Sample 2"
   ]
  },
  {
   "cell_type": "markdown",
   "id": "f06667a1-8654-4b6c-9492-c25e541ade95",
   "metadata": {},
   "source": [
    "|Input| Output|\n",
    "| :- | :-|\n",
    "|3 49 49 | 0.00|"
   ]
  },
  {
   "cell_type": "markdown",
   "id": "763b4ee1-b152-49ee-b9d4-15be45f16741",
   "metadata": {},
   "source": [
    "### Notes"
   ]
  },
  {
   "cell_type": "markdown",
   "id": "1145019a-1df1-4fae-ad32-b07f1e6e3171",
   "metadata": {},
   "source": [
    "Maximum points for question **F3**: **13** points.\n",
    "\n",
    "**Reminder:** You must select 2 out of 3 questions in programming section: Chess (D), Shopping (E), Schools (F), and answer both selected questions as fully as possible (for example, if you choose Chess and Schools, you should answer questions D1, D2, D3 and F1, F2, F3)."
   ]
  },
  {
   "cell_type": "code",
   "execution_count": 17,
   "id": "85e712b1-b2b2-4ca7-bec2-0b86d23ee1c8",
   "metadata": {},
   "outputs": [
    {
     "data": {
      "text/plain": [
       "['16 55 65']"
      ]
     },
     "execution_count": 17,
     "metadata": {},
     "output_type": "execute_result"
    }
   ],
   "source": [
    "# upload the input file\n",
    "\n",
    "with open('datasets/test2/F3/01') as f:\n",
    "    data_in = f.read().splitlines() \n",
    "    \n",
    "f.close()\n",
    "\n",
    "data_in"
   ]
  },
  {
   "cell_type": "code",
   "execution_count": 18,
   "id": "d34f5425-9db1-44d3-ba4b-ad98ba53d582",
   "metadata": {},
   "outputs": [
    {
     "data": {
      "text/plain": [
       "['0.77']"
      ]
     },
     "execution_count": 18,
     "metadata": {},
     "output_type": "execute_result"
    }
   ],
   "source": [
    "# upload the output file\n",
    "\n",
    "with open('datasets/test2/F3/01.a') as f:\n",
    "    data_out = f.read().splitlines() \n",
    "    \n",
    "f.close()\n",
    "\n",
    "data_out"
   ]
  },
  {
   "cell_type": "code",
   "execution_count": null,
   "id": "7b3803d4-7103-4e55-991a-0d2574fee389",
   "metadata": {},
   "outputs": [],
   "source": [
    "# calculate time and memory usage\n",
    "\n",
    "%load_ext memory_profiler\n",
    "\n",
    "def my_function():\n",
    "     # CODE\n",
    "    return result\n",
    "\n",
    "%time my_function()\n",
    "\n",
    "%memit my_function() \n",
    "# 1 Mib = 1.049 Mb"
   ]
  }
 ],
 "metadata": {
  "kernelspec": {
   "display_name": "Python 3",
   "language": "python",
   "name": "python3"
  },
  "language_info": {
   "codemirror_mode": {
    "name": "ipython",
    "version": 3
   },
   "file_extension": ".py",
   "mimetype": "text/x-python",
   "name": "python",
   "nbconvert_exporter": "python",
   "pygments_lexer": "ipython3",
   "version": "3.8.8"
  }
 },
 "nbformat": 4,
 "nbformat_minor": 5
}
